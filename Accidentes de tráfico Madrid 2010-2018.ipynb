{
  "nbformat": 4,
  "nbformat_minor": 0,
  "metadata": {
    "colab": {
      "name": "PFM UCAM.ipynb",
      "provenance": [],
      "collapsed_sections": [],
      "toc_visible": true
    },
    "kernelspec": {
      "name": "python3",
      "display_name": "Python 3"
    }
  },
  "cells": [
    {
      "cell_type": "markdown",
      "metadata": {
        "id": "4Pz-eIKidd1c"
      },
      "source": [
        "# Introducción\n",
        "\n",
        "El movimiento **Open Gov Data** defiende la publicación abierta, regular y reutilizable de los datos de las administraciones públicas de un gobierno con el objetivo de facilitar a sus ciudadanos el acceso a la información.\n",
        "\n",
        "De esta forma, se genera confianza en las instituciones porque se expone su trabajo y se muestra cómo gestionan e invierten los recursos públicos, además de ayudar al desarrollo económico, a la generación de nuevos sectores y/o servicios para la ciudadanía.\n",
        "\n",
        "Siguiendo esta iniciativa, el **Ayuntamiento de Madrid** dispone del [Portal de Datos Abiertos](https://datos.madrid.es/portal/site/egob/) donde podemos encontrar una gran cantidad de datasets de diferentes sectores: demografía, transporte, salud, empleo, comercio, ocio y cultura...\n",
        "\n",
        "Para la realización de este proyecto, hemos optado por analizar un dataset sobre los [accidentes de tráfico de la ciudad de Madrid](https://datos.madrid.es/portal/site/egob/menuitem.c05c1f754a33a9fbe4b2e4b284f1a5a0/?vgnextoid=7c2843010d9c3610VgnVCM2000001f4a900aRCRD&vgnextchannel=374512b9ace9f310VgnVCM100000171f5a0aRCRD&vgnextfmt=default) registrados por la Policía Municipal desde 2010 hasta hoy.\n",
        "\n",
        "Por cada accidente, este dataset contiene un registro muy detallado: fecha, hora, dirección, tipo de accidente, tipos de vehículos implicados, número de víctimas, etc.\n",
        "\n",
        "Analizar esta información puede resultar realmente útil para mejorar la seguridad, reducir el número de accidentes y víctimas e incluso llegar a prevenirlos. Por ejemplo, algunas preguntas que podemos plantearnos serían:\n",
        "\n",
        "* ¿Cuáles son los tipos de accidentes más frecuentes en cada barrio?\n",
        "* ¿En qué calles se producen más atropellos a peatones y ciclistas?\n",
        "* ¿En qué lugar, hora y/o día de la semana hay más accidentes?\n",
        "* ¿En qué cruces las colisiones entre vehículos son letales?\n",
        "* ¿Cuál es la tendencia del nº total de colisiones de un año a otro? ¿Qué podemos predecir para 2020?"
      ]
    },
    {
      "cell_type": "markdown",
      "metadata": {
        "id": "e8xBsVcE7wNz"
      },
      "source": [
        "# Objetivos\n",
        "\n",
        "Para tratar de responder a las preguntas anteriores, llevaremos a cabo los siguientes objetivos:\n",
        "\n",
        "1. Confeccionar un dataset específico para el estudio de los accidentes de tráfico de Madrid:\n",
        "\n",
        "  Los datos proporcionados por el Portal del Datos Abiertos requieren un preprocesamiento previo y, por otro lado, tampoco incluyen información sobre el barrio, código postal ni coordenadas geográficas del lugar del accidente.\n",
        "\n",
        "2. Realizar un análisis exploratorio para obtener una visión general de los accidentes de tráfico en Madrid.\n",
        "\n",
        "3. Crear un [mapa interactivo](https://tabsoft.co/3eL0Jzr) de la ciudad de Madrid para explorar los accidentes de tráfico:   \n",
        "\n",
        "  Visualizar los datos en un mapa nos permite identificar rápidamente qué regiones o puntos concentran un mayor número de accidentes de tráfico."
      ]
    },
    {
      "cell_type": "markdown",
      "metadata": {
        "id": "0aIi25RXw3aq"
      },
      "source": [
        "# Información del dataset"
      ]
    },
    {
      "cell_type": "markdown",
      "metadata": {
        "id": "IAQ6MEJKntof"
      },
      "source": [
        "El dataset no se encuentra en un único fichero, sino que existe uno para cada año desde 2010 hasta 2020.\n",
        "\n",
        "También se debe tener en cuenta la siguiente información que nos comunican desde el portal:\n",
        "\n",
        "* Se incluye **un registro por persona implicada** en el accidente.\n",
        "* En el año **2019 y posteriores**:\n",
        "  * La **estructura de datos varía** respecto a los años anteriores\n",
        "  * No se incluyen registros de testigos\n",
        "* Los **ficheros de 2010 a 2018** solo registran los accidentes con heridos o con daños al patrimonio municipal.\n",
        "* Los **datos publicados son provisionales hasta seis meses después del año vencido**.\n",
        "* Actualmente **no se dispone de datos por barrio**.\n",
        "* **Estructura del fichero de datos** de accidentes de tráfico (PDF):\n",
        "  *  [2019-](https://datos.madrid.es/FWProjects/egob/Catalogo/Seguridad/Ficheros/Estructura_DS_Accidentes_trafico_desde_2019.pdf)\n",
        "  * [2010-2018](https://datos.madrid.es/FWProjects/egob/Catalogo/Seguridad/Ficheros/Estructura_DS_Accidentes_trafico_2010_2018.pdf)\n",
        "\n",
        "En nuestro caso, utilizaremos los ficheros desde 2010 hasta 2018 sin incluir los de los años posteriores ya que la estructura de datos es diferente y los datos publicados son provisionales."
      ]
    },
    {
      "cell_type": "markdown",
      "metadata": {
        "id": "MWaGp7wiw8Dn"
      },
      "source": [
        "## Carga de datos"
      ]
    },
    {
      "cell_type": "markdown",
      "metadata": {
        "id": "NeXRK_ox0ji4"
      },
      "source": [
        "En el portal se muestran los ficheros separados por año, vamos a cargar todos ellos en un único dataset que incluya todos los registros desde 2010 hasta 2018:"
      ]
    },
    {
      "cell_type": "code",
      "metadata": {
        "id": "9hBcQnwXrheD"
      },
      "source": [
        "# Importamos librerías necesarias\n",
        "import pandas as pd\n",
        "import requests\n",
        "from io import StringIO\n",
        "from matplotlib import pyplot as plt\n",
        "import matplotlib.style as style\n",
        "style.use('fivethirtyeight')\n",
        "\n",
        "# Configuramos ancho de columnas de los dataframes\n",
        "pd.set_option('max_colwidth', 400)"
      ],
      "execution_count": null,
      "outputs": []
    },
    {
      "cell_type": "code",
      "metadata": {
        "id": "92quiMmjr7AP"
      },
      "source": [
        "# Creamos una función para eliminar posibles espacios en columnas de texto\n",
        "def df_strip(df):\n",
        "  df_obj = df.select_dtypes(['object'])\n",
        "  df[df_obj.columns] = df_obj.apply(lambda x: x.str.strip().str.upper())\n",
        "  return df"
      ],
      "execution_count": null,
      "outputs": []
    },
    {
      "cell_type": "markdown",
      "metadata": {
        "id": "AX9LZqAKHS25"
      },
      "source": [
        "**Aviso**: El código de la siguiente celda se ha marcado como comentario porque tarda unos minutos en descargar y unificar los 9 datasets. <br> Por esta razón, para evitar tiempo de espera, se ha almacenado el dataset unificado en la nube para utilizarse durante el resto del proyecto."
      ]
    },
    {
      "cell_type": "code",
      "metadata": {
        "id": "99HqGuGfcxZ3"
      },
      "source": [
        "# URL genérica que contiene la dirección para descargar cada dataset\n",
        "#url = 'https://datos.madrid.es/egob/catalogo/300228-{year}-accidentes-trafico-detalle.csv'\n",
        "\n",
        "# Creamos dataset inicial con los datos de 2010\n",
        "#raw_data = pd.read_csv(url.format(year=10), delimiter=';', encoding='latin-1')\n",
        "\n",
        "# Cargamos resto de datasets (2011-2018) y lo añadimos al dataset inicial\n",
        "#for year in range(11,19):\n",
        "#  df = pd.read_csv(url.format(year=year), delimiter=';', encoding='latin-1')\n",
        "#  raw_data = pd.concat([raw_data, df], ignore_index=True)\n",
        "\n",
        "# Guardamos dataset en fichero CSV para descargar en local\n",
        "#raw_data.to_csv('accidentes_2010_2018.csv', sep=';', encoding='latin-1', index=False)\n",
        "\n",
        "# Ruta temporal donde se ha guardado el fichero\n",
        "#path = '/content/accidentes_2010_2018.csv'\n",
        "\n",
        "# Cargamos dataset unificado\n",
        "#raw_data = pd.read_csv(path, delimiter=';', encoding='latin-1')"
      ],
      "execution_count": null,
      "outputs": []
    },
    {
      "cell_type": "code",
      "metadata": {
        "id": "aNn3tNxRVkH2"
      },
      "source": [
        "# Cargamos dataset unificado (almacenado en Google Drive)\n",
        "url = requests.get('https://drive.google.com/uc?export=download&id=1FP8tcko5cBSMKHJEnvNHi27MVPM5A3Ay')\n",
        "csv_raw = StringIO(url.text)\n",
        "raw_data = pd.read_csv(csv_raw, delimiter=';', encoding='latin-1')\n",
        "\n",
        "# Eliminamos espacios en columnas de texto\n",
        "accidentes = df_strip(raw_data)"
      ],
      "execution_count": null,
      "outputs": []
    },
    {
      "cell_type": "code",
      "metadata": {
        "id": "Wwdv51teAk2f",
        "outputId": "f369f579-c221-4543-a2bb-faa373718917",
        "colab": {
          "base_uri": "https://localhost:8080/",
          "height": 976
        }
      },
      "source": [
        "# Examinamos dataset\n",
        "accidentes"
      ],
      "execution_count": null,
      "outputs": [
        {
          "output_type": "execute_result",
          "data": {
            "text/html": [
              "<div>\n",
              "<style scoped>\n",
              "    .dataframe tbody tr th:only-of-type {\n",
              "        vertical-align: middle;\n",
              "    }\n",
              "\n",
              "    .dataframe tbody tr th {\n",
              "        vertical-align: top;\n",
              "    }\n",
              "\n",
              "    .dataframe thead th {\n",
              "        text-align: right;\n",
              "    }\n",
              "</style>\n",
              "<table border=\"1\" class=\"dataframe\">\n",
              "  <thead>\n",
              "    <tr style=\"text-align: right;\">\n",
              "      <th></th>\n",
              "      <th>FECHA</th>\n",
              "      <th>RANGO HORARIO</th>\n",
              "      <th>DIA SEMANA</th>\n",
              "      <th>DISTRITO</th>\n",
              "      <th>LUGAR ACCIDENTE</th>\n",
              "      <th>Nº</th>\n",
              "      <th>Nº PARTE</th>\n",
              "      <th>CPFA Granizo</th>\n",
              "      <th>CPFA Hielo</th>\n",
              "      <th>CPFA Lluvia</th>\n",
              "      <th>CPFA Niebla</th>\n",
              "      <th>CPFA Seco</th>\n",
              "      <th>CPFA Nieve</th>\n",
              "      <th>CPSV Mojada</th>\n",
              "      <th>CPSV Aceite</th>\n",
              "      <th>CPSV Barro</th>\n",
              "      <th>CPSV Grava Suelta</th>\n",
              "      <th>CPSV Hielo</th>\n",
              "      <th>CPSV Seca Y Limpia</th>\n",
              "      <th>Nº VICTIMAS *</th>\n",
              "      <th>TIPO ACCIDENTE</th>\n",
              "      <th>Tipo Vehiculo</th>\n",
              "      <th>TIPO PERSONA</th>\n",
              "      <th>SEXO</th>\n",
              "      <th>LESIVIDAD</th>\n",
              "      <th>Tramo Edad</th>\n",
              "      <th>Nº VICTIMAS *</th>\n",
              "      <th>* Nº VICTIMAS</th>\n",
              "    </tr>\n",
              "  </thead>\n",
              "  <tbody>\n",
              "    <tr>\n",
              "      <th>0</th>\n",
              "      <td>01/01/2010</td>\n",
              "      <td>DE 00:00 A 00:59</td>\n",
              "      <td>VIERNES</td>\n",
              "      <td>CHAMARTIN</td>\n",
              "      <td>CALLE DE CARTAGENA NUM</td>\n",
              "      <td>104</td>\n",
              "      <td>2010/135</td>\n",
              "      <td>NO</td>\n",
              "      <td>NO</td>\n",
              "      <td>SI</td>\n",
              "      <td>NO</td>\n",
              "      <td>NO</td>\n",
              "      <td>NO</td>\n",
              "      <td>SI</td>\n",
              "      <td>NO</td>\n",
              "      <td>NO</td>\n",
              "      <td>NO</td>\n",
              "      <td>NO</td>\n",
              "      <td>NO</td>\n",
              "      <td>1.0</td>\n",
              "      <td>COLISIÓN DOBLE</td>\n",
              "      <td>TURISMO</td>\n",
              "      <td>CONDUCTOR</td>\n",
              "      <td>HOMBRE</td>\n",
              "      <td>IL</td>\n",
              "      <td>DE 18 A 20 AÑOS</td>\n",
              "      <td>NaN</td>\n",
              "      <td>NaN</td>\n",
              "    </tr>\n",
              "    <tr>\n",
              "      <th>1</th>\n",
              "      <td>01/01/2010</td>\n",
              "      <td>DE 00:00 A 00:59</td>\n",
              "      <td>VIERNES</td>\n",
              "      <td>CHAMARTIN</td>\n",
              "      <td>CALLE DE CARTAGENA NUM</td>\n",
              "      <td>104</td>\n",
              "      <td>2010/135</td>\n",
              "      <td>NO</td>\n",
              "      <td>NO</td>\n",
              "      <td>SI</td>\n",
              "      <td>NO</td>\n",
              "      <td>NO</td>\n",
              "      <td>NO</td>\n",
              "      <td>SI</td>\n",
              "      <td>NO</td>\n",
              "      <td>NO</td>\n",
              "      <td>NO</td>\n",
              "      <td>NO</td>\n",
              "      <td>NO</td>\n",
              "      <td>1.0</td>\n",
              "      <td>COLISIÓN DOBLE</td>\n",
              "      <td>TURISMO</td>\n",
              "      <td>CONDUCTOR</td>\n",
              "      <td>HOMBRE</td>\n",
              "      <td>IL</td>\n",
              "      <td>DE 50 A 54 AÑOS</td>\n",
              "      <td>NaN</td>\n",
              "      <td>NaN</td>\n",
              "    </tr>\n",
              "    <tr>\n",
              "      <th>2</th>\n",
              "      <td>01/01/2010</td>\n",
              "      <td>DE 00:00 A 00:59</td>\n",
              "      <td>VIERNES</td>\n",
              "      <td>CHAMARTIN</td>\n",
              "      <td>CALLE DE CARTAGENA NUM</td>\n",
              "      <td>104</td>\n",
              "      <td>2010/135</td>\n",
              "      <td>NO</td>\n",
              "      <td>NO</td>\n",
              "      <td>SI</td>\n",
              "      <td>NO</td>\n",
              "      <td>NO</td>\n",
              "      <td>NO</td>\n",
              "      <td>SI</td>\n",
              "      <td>NO</td>\n",
              "      <td>NO</td>\n",
              "      <td>NO</td>\n",
              "      <td>NO</td>\n",
              "      <td>NO</td>\n",
              "      <td>1.0</td>\n",
              "      <td>COLISIÓN DOBLE</td>\n",
              "      <td>TURISMO</td>\n",
              "      <td>VIAJERO</td>\n",
              "      <td>MUJER</td>\n",
              "      <td>HL</td>\n",
              "      <td>DE 40 A 44 AÑOS</td>\n",
              "      <td>NaN</td>\n",
              "      <td>NaN</td>\n",
              "    </tr>\n",
              "    <tr>\n",
              "      <th>3</th>\n",
              "      <td>01/01/2010</td>\n",
              "      <td>DE 1:00 A 1:59</td>\n",
              "      <td>VIERNES</td>\n",
              "      <td>PUENTE DE VALLECAS</td>\n",
              "      <td>AUTOVIA  M-30 CALZADA 2 KM.</td>\n",
              "      <td>10200</td>\n",
              "      <td>2010/94</td>\n",
              "      <td>NO</td>\n",
              "      <td>NO</td>\n",
              "      <td>NO</td>\n",
              "      <td>NO</td>\n",
              "      <td>SI</td>\n",
              "      <td>NO</td>\n",
              "      <td>SI</td>\n",
              "      <td>NO</td>\n",
              "      <td>NO</td>\n",
              "      <td>NO</td>\n",
              "      <td>NO</td>\n",
              "      <td>NO</td>\n",
              "      <td>7.0</td>\n",
              "      <td>COLISIÓN MÚLTIPLE</td>\n",
              "      <td>NO ASIGNADO</td>\n",
              "      <td>VIAJERO</td>\n",
              "      <td>MUJER</td>\n",
              "      <td>HL</td>\n",
              "      <td>DE 25 A 29 AÑOS</td>\n",
              "      <td>NaN</td>\n",
              "      <td>NaN</td>\n",
              "    </tr>\n",
              "    <tr>\n",
              "      <th>4</th>\n",
              "      <td>01/01/2010</td>\n",
              "      <td>DE 1:00 A 1:59</td>\n",
              "      <td>VIERNES</td>\n",
              "      <td>PUENTE DE VALLECAS</td>\n",
              "      <td>AUTOVIA  M-30 CALZADA 2 KM.</td>\n",
              "      <td>10200</td>\n",
              "      <td>2010/94</td>\n",
              "      <td>NO</td>\n",
              "      <td>NO</td>\n",
              "      <td>NO</td>\n",
              "      <td>NO</td>\n",
              "      <td>SI</td>\n",
              "      <td>NO</td>\n",
              "      <td>SI</td>\n",
              "      <td>NO</td>\n",
              "      <td>NO</td>\n",
              "      <td>NO</td>\n",
              "      <td>NO</td>\n",
              "      <td>NO</td>\n",
              "      <td>7.0</td>\n",
              "      <td>COLISIÓN MÚLTIPLE</td>\n",
              "      <td>NO ASIGNADO</td>\n",
              "      <td>VIAJERO</td>\n",
              "      <td>MUJER</td>\n",
              "      <td>HL</td>\n",
              "      <td>DE 30 A 34 ANOS</td>\n",
              "      <td>NaN</td>\n",
              "      <td>NaN</td>\n",
              "    </tr>\n",
              "    <tr>\n",
              "      <th>...</th>\n",
              "      <td>...</td>\n",
              "      <td>...</td>\n",
              "      <td>...</td>\n",
              "      <td>...</td>\n",
              "      <td>...</td>\n",
              "      <td>...</td>\n",
              "      <td>...</td>\n",
              "      <td>...</td>\n",
              "      <td>...</td>\n",
              "      <td>...</td>\n",
              "      <td>...</td>\n",
              "      <td>...</td>\n",
              "      <td>...</td>\n",
              "      <td>...</td>\n",
              "      <td>...</td>\n",
              "      <td>...</td>\n",
              "      <td>...</td>\n",
              "      <td>...</td>\n",
              "      <td>...</td>\n",
              "      <td>...</td>\n",
              "      <td>...</td>\n",
              "      <td>...</td>\n",
              "      <td>...</td>\n",
              "      <td>...</td>\n",
              "      <td>...</td>\n",
              "      <td>...</td>\n",
              "      <td>...</td>\n",
              "      <td>...</td>\n",
              "    </tr>\n",
              "    <tr>\n",
              "      <th>252993</th>\n",
              "      <td>31/12/2018</td>\n",
              "      <td>DE 21:00 A 21:59</td>\n",
              "      <td>LUNES</td>\n",
              "      <td>SALAMANCA</td>\n",
              "      <td>CALLE DE VELAZQUEZ - CALLE DE VILLANUEVA</td>\n",
              "      <td>0</td>\n",
              "      <td>2019/18</td>\n",
              "      <td>NO</td>\n",
              "      <td>NO</td>\n",
              "      <td>NO</td>\n",
              "      <td>NO</td>\n",
              "      <td>SI</td>\n",
              "      <td>NO</td>\n",
              "      <td>NO</td>\n",
              "      <td>NO</td>\n",
              "      <td>NO</td>\n",
              "      <td>NO</td>\n",
              "      <td>NO</td>\n",
              "      <td>SI</td>\n",
              "      <td>NaN</td>\n",
              "      <td>COLISIÓN DOBLE</td>\n",
              "      <td>TURISMO</td>\n",
              "      <td>VIAJERO</td>\n",
              "      <td>HOMBRE</td>\n",
              "      <td>IL</td>\n",
              "      <td>DE 30 A 34 ANOS</td>\n",
              "      <td>NaN</td>\n",
              "      <td>1.0</td>\n",
              "    </tr>\n",
              "    <tr>\n",
              "      <th>252994</th>\n",
              "      <td>31/12/2018</td>\n",
              "      <td>DE 21:00 A 21:59</td>\n",
              "      <td>LUNES</td>\n",
              "      <td>SALAMANCA</td>\n",
              "      <td>CALLE DE VELAZQUEZ - CALLE DE VILLANUEVA</td>\n",
              "      <td>0</td>\n",
              "      <td>2019/18</td>\n",
              "      <td>NO</td>\n",
              "      <td>NO</td>\n",
              "      <td>NO</td>\n",
              "      <td>NO</td>\n",
              "      <td>SI</td>\n",
              "      <td>NO</td>\n",
              "      <td>NO</td>\n",
              "      <td>NO</td>\n",
              "      <td>NO</td>\n",
              "      <td>NO</td>\n",
              "      <td>NO</td>\n",
              "      <td>SI</td>\n",
              "      <td>NaN</td>\n",
              "      <td>COLISIÓN DOBLE</td>\n",
              "      <td>AUTO-TAXI</td>\n",
              "      <td>CONDUCTOR</td>\n",
              "      <td>HOMBRE</td>\n",
              "      <td>IL</td>\n",
              "      <td>DE 40 A 44 AÑOS</td>\n",
              "      <td>NaN</td>\n",
              "      <td>1.0</td>\n",
              "    </tr>\n",
              "    <tr>\n",
              "      <th>252995</th>\n",
              "      <td>31/12/2018</td>\n",
              "      <td>DE 23:00 A 23:59</td>\n",
              "      <td>LUNES</td>\n",
              "      <td>HORTALEZA</td>\n",
              "      <td>CALLE DE JOAQUIN FERNANDEZ LEIVA - CALLE DE SILVANO</td>\n",
              "      <td>0</td>\n",
              "      <td>2019/53</td>\n",
              "      <td>NO</td>\n",
              "      <td>NO</td>\n",
              "      <td>NO</td>\n",
              "      <td>NO</td>\n",
              "      <td>SI</td>\n",
              "      <td>NO</td>\n",
              "      <td>NO</td>\n",
              "      <td>NO</td>\n",
              "      <td>NO</td>\n",
              "      <td>NO</td>\n",
              "      <td>NO</td>\n",
              "      <td>SI</td>\n",
              "      <td>NaN</td>\n",
              "      <td>OTRAS CAUSAS</td>\n",
              "      <td>TURISMO</td>\n",
              "      <td>CONDUCTOR</td>\n",
              "      <td>MUJER</td>\n",
              "      <td>IL</td>\n",
              "      <td>DE 21 A 24 AÑOS</td>\n",
              "      <td>NaN</td>\n",
              "      <td>1.0</td>\n",
              "    </tr>\n",
              "    <tr>\n",
              "      <th>252996</th>\n",
              "      <td>31/12/2018</td>\n",
              "      <td>DE 23:00 A 23:59</td>\n",
              "      <td>LUNES</td>\n",
              "      <td>HORTALEZA</td>\n",
              "      <td>CALLE DE JOAQUIN FERNANDEZ LEIVA - CALLE DE SILVANO</td>\n",
              "      <td>0</td>\n",
              "      <td>2019/53</td>\n",
              "      <td>NO</td>\n",
              "      <td>NO</td>\n",
              "      <td>NO</td>\n",
              "      <td>NO</td>\n",
              "      <td>SI</td>\n",
              "      <td>NO</td>\n",
              "      <td>NO</td>\n",
              "      <td>NO</td>\n",
              "      <td>NO</td>\n",
              "      <td>NO</td>\n",
              "      <td>NO</td>\n",
              "      <td>SI</td>\n",
              "      <td>NaN</td>\n",
              "      <td>OTRAS CAUSAS</td>\n",
              "      <td>TURISMO</td>\n",
              "      <td>CONDUCTOR</td>\n",
              "      <td>HOMBRE</td>\n",
              "      <td>HL</td>\n",
              "      <td>DE 50 A 54 AÑOS</td>\n",
              "      <td>NaN</td>\n",
              "      <td>1.0</td>\n",
              "    </tr>\n",
              "    <tr>\n",
              "      <th>252997</th>\n",
              "      <td>31/12/2018</td>\n",
              "      <td>DE 23:00 A 23:59</td>\n",
              "      <td>LUNES</td>\n",
              "      <td>HORTALEZA</td>\n",
              "      <td>CALLE DE JOAQUIN FERNANDEZ LEIVA - CALLE DE SILVANO</td>\n",
              "      <td>0</td>\n",
              "      <td>2019/53</td>\n",
              "      <td>NO</td>\n",
              "      <td>NO</td>\n",
              "      <td>NO</td>\n",
              "      <td>NO</td>\n",
              "      <td>SI</td>\n",
              "      <td>NO</td>\n",
              "      <td>NO</td>\n",
              "      <td>NO</td>\n",
              "      <td>NO</td>\n",
              "      <td>NO</td>\n",
              "      <td>NO</td>\n",
              "      <td>SI</td>\n",
              "      <td>NaN</td>\n",
              "      <td>OTRAS CAUSAS</td>\n",
              "      <td>TURISMO</td>\n",
              "      <td>CONDUCTOR</td>\n",
              "      <td>NO ASIGNADO</td>\n",
              "      <td>NO ASIGNADA</td>\n",
              "      <td>DESCONOCIDA</td>\n",
              "      <td>NaN</td>\n",
              "      <td>1.0</td>\n",
              "    </tr>\n",
              "  </tbody>\n",
              "</table>\n",
              "<p>252998 rows × 28 columns</p>\n",
              "</div>"
            ],
            "text/plain": [
              "             FECHA     RANGO HORARIO  ... Nº VICTIMAS *  * Nº VICTIMAS\n",
              "0       01/01/2010  DE 00:00 A 00:59  ...            NaN           NaN\n",
              "1       01/01/2010  DE 00:00 A 00:59  ...            NaN           NaN\n",
              "2       01/01/2010  DE 00:00 A 00:59  ...            NaN           NaN\n",
              "3       01/01/2010    DE 1:00 A 1:59  ...            NaN           NaN\n",
              "4       01/01/2010    DE 1:00 A 1:59  ...            NaN           NaN\n",
              "...            ...               ...  ...            ...           ...\n",
              "252993  31/12/2018  DE 21:00 A 21:59  ...            NaN           1.0\n",
              "252994  31/12/2018  DE 21:00 A 21:59  ...            NaN           1.0\n",
              "252995  31/12/2018  DE 23:00 A 23:59  ...            NaN           1.0\n",
              "252996  31/12/2018  DE 23:00 A 23:59  ...            NaN           1.0\n",
              "252997  31/12/2018  DE 23:00 A 23:59  ...            NaN           1.0\n",
              "\n",
              "[252998 rows x 28 columns]"
            ]
          },
          "metadata": {
            "tags": []
          },
          "execution_count": 5
        }
      ]
    },
    {
      "cell_type": "markdown",
      "metadata": {
        "id": "jDxM4PbFklc9"
      },
      "source": [
        "Tras unificar los 9 datasets en uno único, observamos que hay 252998 registros de accidentes y 28 columnas.\n",
        "\n",
        "Sin embargo, tras echar un vistazo al dataset detectamos varios problemas:\n",
        "\n",
        "1. Existen registros donde no coincide el año de la columna `Nº PARTE` y `FECHA`.\n",
        "2. Existen valores nulos.\n",
        "3. El dataset no contiene información sobre el **barrio**, **código postal** ni las **coordenadas geográficas** del lugar donde se produjo el accidente, únicamente se añade el **distrito**.<br>\n",
        "Esta información puede ser importante tenerla en cuenta de cara a **visualizar en un mapa** los puntos donde ocurrieron los accidentes.\n",
        "\n",
        "A continuación, procederemos a limpiar y preparar el dataset para su posterior análisis:"
      ]
    },
    {
      "cell_type": "markdown",
      "metadata": {
        "id": "dlnKZKmQJF2S"
      },
      "source": [
        "# Preprocesamiento de datos"
      ]
    },
    {
      "cell_type": "markdown",
      "metadata": {
        "id": "-mb71WKEFYgb"
      },
      "source": [
        "## Limpieza del dataset"
      ]
    },
    {
      "cell_type": "markdown",
      "metadata": {
        "id": "NZPti1geA3gY"
      },
      "source": [
        "Tras consultar con el administrador del portal, nos [confirma](https://datos.madrid.es/portal/site/egob/menuitem.c05c1f754a33a9fbe4b2e4b284f1a5a0/?vgnextoid=7c2843010d9c3610VgnVCM2000001f4a900aRCRD&vgnextchannel=374512b9ace9f310VgnVCM100000171f5a0aRCRD&vgnextfmt=default#26827) que la columna `FECHA` recoge el año en que ocurrió el accidente mientras que la columna `Nº PARTE` el año en el cual se registró el accidente en la aplicación:"
      ]
    },
    {
      "cell_type": "code",
      "metadata": {
        "id": "LB_vgEXZGpgL",
        "outputId": "6eeea36f-e64b-427c-d9d2-649999da4aa2",
        "colab": {
          "base_uri": "https://localhost:8080/",
          "height": 195
        }
      },
      "source": [
        "accidentes[['FECHA', 'Nº PARTE']].tail()"
      ],
      "execution_count": null,
      "outputs": [
        {
          "output_type": "execute_result",
          "data": {
            "text/html": [
              "<div>\n",
              "<style scoped>\n",
              "    .dataframe tbody tr th:only-of-type {\n",
              "        vertical-align: middle;\n",
              "    }\n",
              "\n",
              "    .dataframe tbody tr th {\n",
              "        vertical-align: top;\n",
              "    }\n",
              "\n",
              "    .dataframe thead th {\n",
              "        text-align: right;\n",
              "    }\n",
              "</style>\n",
              "<table border=\"1\" class=\"dataframe\">\n",
              "  <thead>\n",
              "    <tr style=\"text-align: right;\">\n",
              "      <th></th>\n",
              "      <th>FECHA</th>\n",
              "      <th>Nº PARTE</th>\n",
              "    </tr>\n",
              "  </thead>\n",
              "  <tbody>\n",
              "    <tr>\n",
              "      <th>252993</th>\n",
              "      <td>31/12/2018</td>\n",
              "      <td>2019/18</td>\n",
              "    </tr>\n",
              "    <tr>\n",
              "      <th>252994</th>\n",
              "      <td>31/12/2018</td>\n",
              "      <td>2019/18</td>\n",
              "    </tr>\n",
              "    <tr>\n",
              "      <th>252995</th>\n",
              "      <td>31/12/2018</td>\n",
              "      <td>2019/53</td>\n",
              "    </tr>\n",
              "    <tr>\n",
              "      <th>252996</th>\n",
              "      <td>31/12/2018</td>\n",
              "      <td>2019/53</td>\n",
              "    </tr>\n",
              "    <tr>\n",
              "      <th>252997</th>\n",
              "      <td>31/12/2018</td>\n",
              "      <td>2019/53</td>\n",
              "    </tr>\n",
              "  </tbody>\n",
              "</table>\n",
              "</div>"
            ],
            "text/plain": [
              "             FECHA Nº PARTE\n",
              "252993  31/12/2018  2019/18\n",
              "252994  31/12/2018  2019/18\n",
              "252995  31/12/2018  2019/53\n",
              "252996  31/12/2018  2019/53\n",
              "252997  31/12/2018  2019/53"
            ]
          },
          "metadata": {
            "tags": []
          },
          "execution_count": 6
        }
      ]
    },
    {
      "cell_type": "markdown",
      "metadata": {
        "id": "Y_Yrnnl6OQNc"
      },
      "source": [
        "Para nuestro análisis, nos interesa saber el año en que ocurrió el accidente, por lo tanto, utilizaremos la columna `FECHA`.\n",
        "\n",
        "A continuación, examinamos las columnas que contienen valores nulos:"
      ]
    },
    {
      "cell_type": "code",
      "metadata": {
        "id": "cZInEoxrJzQx",
        "outputId": "f83b8374-f303-458d-b10a-2d701e516671",
        "colab": {
          "base_uri": "https://localhost:8080/",
          "height": 527
        }
      },
      "source": [
        "accidentes.isnull().sum()"
      ],
      "execution_count": null,
      "outputs": [
        {
          "output_type": "execute_result",
          "data": {
            "text/plain": [
              "FECHA                      0\n",
              "RANGO HORARIO              0\n",
              "DIA SEMANA                 0\n",
              "DISTRITO                   0\n",
              "LUGAR ACCIDENTE            0\n",
              "Nº                         0\n",
              "Nº PARTE                   0\n",
              "CPFA Granizo               0\n",
              "CPFA Hielo                 0\n",
              "CPFA Lluvia                0\n",
              "CPFA Niebla                0\n",
              "CPFA Seco                  0\n",
              "CPFA Nieve                 0\n",
              "CPSV Mojada                0\n",
              "CPSV Aceite                0\n",
              "CPSV Barro                 0\n",
              "CPSV Grava Suelta          0\n",
              "CPSV Hielo                 0\n",
              "CPSV Seca Y Limpia         0\n",
              "Nº VICTIMAS *          59323\n",
              "TIPO ACCIDENTE             0\n",
              "Tipo Vehiculo              0\n",
              "TIPO PERSONA               0\n",
              "SEXO                       0\n",
              "LESIVIDAD                  0\n",
              "Tramo Edad                 0\n",
              "Nº VICTIMAS *         223797\n",
              "* Nº VICTIMAS         222876\n",
              "dtype: int64"
            ]
          },
          "metadata": {
            "tags": []
          },
          "execution_count": 7
        }
      ]
    },
    {
      "cell_type": "markdown",
      "metadata": {
        "id": "VvXVm9a3HGom"
      },
      "source": [
        "\n",
        "Observamos que la columna que representa el **nº de víctimas** aparece 3 veces porque ha tenido 3 nombres diferentes en los datasets que utilizamos.\n",
        "\n",
        "Esto implica que aparezcan filas con valores nulos (NaN) en aquellas columnas del dataset global que no existen en el dataset que se añade al conjunto.\n",
        "\n",
        "Si sumamos el número de valores no nulos de esas 3 columnas comprobamos que coincide con el nº total de registros (252998):"
      ]
    },
    {
      "cell_type": "code",
      "metadata": {
        "id": "PXNPTyd7BMmw",
        "outputId": "a3b5c584-cf29-44fc-9084-ab46c4cbb436",
        "colab": {
          "base_uri": "https://localhost:8080/",
          "height": 34
        }
      },
      "source": [
        "accidentes[['* Nº VICTIMAS','Nº VICTIMAS * ','Nº VICTIMAS *']].notnull().sum().sum()"
      ],
      "execution_count": null,
      "outputs": [
        {
          "output_type": "execute_result",
          "data": {
            "text/plain": [
              "252998"
            ]
          },
          "metadata": {
            "tags": []
          },
          "execution_count": 8
        }
      ]
    },
    {
      "cell_type": "markdown",
      "metadata": {
        "id": "KM6y8JsWNC-j"
      },
      "source": [
        "En cada fila aparece un valor no nulo en una de las 3 columnas mientras que en las otras 2 tienen un valor nulo, por ejemplo: 1 + NaN + NaN, por tanto, podemos sumar las 3 columnas y guardar el resultado en una nueva columna llamada `Nº VICTIMAS`.\n",
        "\n",
        "Previamente, convertimos los valores nulos a 0 para poder operar con ellos:"
      ]
    },
    {
      "cell_type": "code",
      "metadata": {
        "id": "QYiSAJ-pudA9"
      },
      "source": [
        "accidentes.fillna(0, inplace=True)\n",
        "\n",
        "accidentes['Nº VICTIMAS'] = accidentes['* Nº VICTIMAS']\\\n",
        "+ accidentes['Nº VICTIMAS * '] + accidentes['Nº VICTIMAS *']"
      ],
      "execution_count": null,
      "outputs": []
    },
    {
      "cell_type": "markdown",
      "metadata": {
        "id": "1-un0XhESR5e"
      },
      "source": [
        "Por último, eliminamos las antiguas columnas y realizamos otras pequeñas modificaciones:"
      ]
    },
    {
      "cell_type": "code",
      "metadata": {
        "id": "-C26bdsFR47H"
      },
      "source": [
        "accidentes.drop(['* Nº VICTIMAS', 'Nº VICTIMAS * ', 'Nº VICTIMAS *'],\n",
        "                axis=1, inplace=True)\n",
        "\n",
        "accidentes['Nº VICTIMAS'] = accidentes['Nº VICTIMAS'].astype(int)\n",
        "\n",
        "accidentes.rename(columns={'Tipo Vehiculo':'TIPO VEHICULO',\n",
        "                           'Tramo Edad':'TRAMO EDAD'}, inplace=True)\n",
        "\n",
        "accidentes['TRAMO EDAD'] = accidentes['TRAMO EDAD'].str.replace('A[NÑ]OS','').str.strip()"
      ],
      "execution_count": null,
      "outputs": []
    },
    {
      "cell_type": "code",
      "metadata": {
        "id": "a3K-EnVR0XR3",
        "outputId": "6de11f3d-24d2-46f2-b6d4-5d4d6351713e",
        "colab": {
          "base_uri": "https://localhost:8080/",
          "height": 492
        }
      },
      "source": [
        "# Verificamos que no existen valores nulos\n",
        "accidentes.isnull().sum()"
      ],
      "execution_count": null,
      "outputs": [
        {
          "output_type": "execute_result",
          "data": {
            "text/plain": [
              "FECHA                 0\n",
              "RANGO HORARIO         0\n",
              "DIA SEMANA            0\n",
              "DISTRITO              0\n",
              "LUGAR ACCIDENTE       0\n",
              "Nº                    0\n",
              "Nº PARTE              0\n",
              "CPFA Granizo          0\n",
              "CPFA Hielo            0\n",
              "CPFA Lluvia           0\n",
              "CPFA Niebla           0\n",
              "CPFA Seco             0\n",
              "CPFA Nieve            0\n",
              "CPSV Mojada           0\n",
              "CPSV Aceite           0\n",
              "CPSV Barro            0\n",
              "CPSV Grava Suelta     0\n",
              "CPSV Hielo            0\n",
              "CPSV Seca Y Limpia    0\n",
              "TIPO ACCIDENTE        0\n",
              "TIPO VEHICULO         0\n",
              "TIPO PERSONA          0\n",
              "SEXO                  0\n",
              "LESIVIDAD             0\n",
              "TRAMO EDAD            0\n",
              "Nº VICTIMAS           0\n",
              "dtype: int64"
            ]
          },
          "metadata": {
            "tags": []
          },
          "execution_count": 11
        }
      ]
    },
    {
      "cell_type": "markdown",
      "metadata": {
        "id": "mSgb-e6u80jR"
      },
      "source": [
        "Una vez limpio el dataset, procederemos a geolocalizar los accidentes:\n"
      ]
    },
    {
      "cell_type": "code",
      "metadata": {
        "id": "uQOiK-GH0hxO",
        "outputId": "a6667616-b829-4e5d-e74f-4d759ee692f0",
        "colab": {
          "base_uri": "https://localhost:8080/",
          "height": 450
        }
      },
      "source": [
        "accidentes.head()"
      ],
      "execution_count": null,
      "outputs": [
        {
          "output_type": "execute_result",
          "data": {
            "text/html": [
              "<div>\n",
              "<style scoped>\n",
              "    .dataframe tbody tr th:only-of-type {\n",
              "        vertical-align: middle;\n",
              "    }\n",
              "\n",
              "    .dataframe tbody tr th {\n",
              "        vertical-align: top;\n",
              "    }\n",
              "\n",
              "    .dataframe thead th {\n",
              "        text-align: right;\n",
              "    }\n",
              "</style>\n",
              "<table border=\"1\" class=\"dataframe\">\n",
              "  <thead>\n",
              "    <tr style=\"text-align: right;\">\n",
              "      <th></th>\n",
              "      <th>FECHA</th>\n",
              "      <th>RANGO HORARIO</th>\n",
              "      <th>DIA SEMANA</th>\n",
              "      <th>DISTRITO</th>\n",
              "      <th>LUGAR ACCIDENTE</th>\n",
              "      <th>Nº</th>\n",
              "      <th>Nº PARTE</th>\n",
              "      <th>CPFA Granizo</th>\n",
              "      <th>CPFA Hielo</th>\n",
              "      <th>CPFA Lluvia</th>\n",
              "      <th>CPFA Niebla</th>\n",
              "      <th>CPFA Seco</th>\n",
              "      <th>CPFA Nieve</th>\n",
              "      <th>CPSV Mojada</th>\n",
              "      <th>CPSV Aceite</th>\n",
              "      <th>CPSV Barro</th>\n",
              "      <th>CPSV Grava Suelta</th>\n",
              "      <th>CPSV Hielo</th>\n",
              "      <th>CPSV Seca Y Limpia</th>\n",
              "      <th>TIPO ACCIDENTE</th>\n",
              "      <th>TIPO VEHICULO</th>\n",
              "      <th>TIPO PERSONA</th>\n",
              "      <th>SEXO</th>\n",
              "      <th>LESIVIDAD</th>\n",
              "      <th>TRAMO EDAD</th>\n",
              "      <th>Nº VICTIMAS</th>\n",
              "    </tr>\n",
              "  </thead>\n",
              "  <tbody>\n",
              "    <tr>\n",
              "      <th>0</th>\n",
              "      <td>01/01/2010</td>\n",
              "      <td>DE 00:00 A 00:59</td>\n",
              "      <td>VIERNES</td>\n",
              "      <td>CHAMARTIN</td>\n",
              "      <td>CALLE DE CARTAGENA NUM</td>\n",
              "      <td>104</td>\n",
              "      <td>2010/135</td>\n",
              "      <td>NO</td>\n",
              "      <td>NO</td>\n",
              "      <td>SI</td>\n",
              "      <td>NO</td>\n",
              "      <td>NO</td>\n",
              "      <td>NO</td>\n",
              "      <td>SI</td>\n",
              "      <td>NO</td>\n",
              "      <td>NO</td>\n",
              "      <td>NO</td>\n",
              "      <td>NO</td>\n",
              "      <td>NO</td>\n",
              "      <td>COLISIÓN DOBLE</td>\n",
              "      <td>TURISMO</td>\n",
              "      <td>CONDUCTOR</td>\n",
              "      <td>HOMBRE</td>\n",
              "      <td>IL</td>\n",
              "      <td>DE 18 A 20</td>\n",
              "      <td>1</td>\n",
              "    </tr>\n",
              "    <tr>\n",
              "      <th>1</th>\n",
              "      <td>01/01/2010</td>\n",
              "      <td>DE 00:00 A 00:59</td>\n",
              "      <td>VIERNES</td>\n",
              "      <td>CHAMARTIN</td>\n",
              "      <td>CALLE DE CARTAGENA NUM</td>\n",
              "      <td>104</td>\n",
              "      <td>2010/135</td>\n",
              "      <td>NO</td>\n",
              "      <td>NO</td>\n",
              "      <td>SI</td>\n",
              "      <td>NO</td>\n",
              "      <td>NO</td>\n",
              "      <td>NO</td>\n",
              "      <td>SI</td>\n",
              "      <td>NO</td>\n",
              "      <td>NO</td>\n",
              "      <td>NO</td>\n",
              "      <td>NO</td>\n",
              "      <td>NO</td>\n",
              "      <td>COLISIÓN DOBLE</td>\n",
              "      <td>TURISMO</td>\n",
              "      <td>CONDUCTOR</td>\n",
              "      <td>HOMBRE</td>\n",
              "      <td>IL</td>\n",
              "      <td>DE 50 A 54</td>\n",
              "      <td>1</td>\n",
              "    </tr>\n",
              "    <tr>\n",
              "      <th>2</th>\n",
              "      <td>01/01/2010</td>\n",
              "      <td>DE 00:00 A 00:59</td>\n",
              "      <td>VIERNES</td>\n",
              "      <td>CHAMARTIN</td>\n",
              "      <td>CALLE DE CARTAGENA NUM</td>\n",
              "      <td>104</td>\n",
              "      <td>2010/135</td>\n",
              "      <td>NO</td>\n",
              "      <td>NO</td>\n",
              "      <td>SI</td>\n",
              "      <td>NO</td>\n",
              "      <td>NO</td>\n",
              "      <td>NO</td>\n",
              "      <td>SI</td>\n",
              "      <td>NO</td>\n",
              "      <td>NO</td>\n",
              "      <td>NO</td>\n",
              "      <td>NO</td>\n",
              "      <td>NO</td>\n",
              "      <td>COLISIÓN DOBLE</td>\n",
              "      <td>TURISMO</td>\n",
              "      <td>VIAJERO</td>\n",
              "      <td>MUJER</td>\n",
              "      <td>HL</td>\n",
              "      <td>DE 40 A 44</td>\n",
              "      <td>1</td>\n",
              "    </tr>\n",
              "    <tr>\n",
              "      <th>3</th>\n",
              "      <td>01/01/2010</td>\n",
              "      <td>DE 1:00 A 1:59</td>\n",
              "      <td>VIERNES</td>\n",
              "      <td>PUENTE DE VALLECAS</td>\n",
              "      <td>AUTOVIA  M-30 CALZADA 2 KM.</td>\n",
              "      <td>10200</td>\n",
              "      <td>2010/94</td>\n",
              "      <td>NO</td>\n",
              "      <td>NO</td>\n",
              "      <td>NO</td>\n",
              "      <td>NO</td>\n",
              "      <td>SI</td>\n",
              "      <td>NO</td>\n",
              "      <td>SI</td>\n",
              "      <td>NO</td>\n",
              "      <td>NO</td>\n",
              "      <td>NO</td>\n",
              "      <td>NO</td>\n",
              "      <td>NO</td>\n",
              "      <td>COLISIÓN MÚLTIPLE</td>\n",
              "      <td>NO ASIGNADO</td>\n",
              "      <td>VIAJERO</td>\n",
              "      <td>MUJER</td>\n",
              "      <td>HL</td>\n",
              "      <td>DE 25 A 29</td>\n",
              "      <td>7</td>\n",
              "    </tr>\n",
              "    <tr>\n",
              "      <th>4</th>\n",
              "      <td>01/01/2010</td>\n",
              "      <td>DE 1:00 A 1:59</td>\n",
              "      <td>VIERNES</td>\n",
              "      <td>PUENTE DE VALLECAS</td>\n",
              "      <td>AUTOVIA  M-30 CALZADA 2 KM.</td>\n",
              "      <td>10200</td>\n",
              "      <td>2010/94</td>\n",
              "      <td>NO</td>\n",
              "      <td>NO</td>\n",
              "      <td>NO</td>\n",
              "      <td>NO</td>\n",
              "      <td>SI</td>\n",
              "      <td>NO</td>\n",
              "      <td>SI</td>\n",
              "      <td>NO</td>\n",
              "      <td>NO</td>\n",
              "      <td>NO</td>\n",
              "      <td>NO</td>\n",
              "      <td>NO</td>\n",
              "      <td>COLISIÓN MÚLTIPLE</td>\n",
              "      <td>NO ASIGNADO</td>\n",
              "      <td>VIAJERO</td>\n",
              "      <td>MUJER</td>\n",
              "      <td>HL</td>\n",
              "      <td>DE 30 A 34</td>\n",
              "      <td>7</td>\n",
              "    </tr>\n",
              "  </tbody>\n",
              "</table>\n",
              "</div>"
            ],
            "text/plain": [
              "        FECHA     RANGO HORARIO DIA SEMANA  ... LESIVIDAD  TRAMO EDAD Nº VICTIMAS\n",
              "0  01/01/2010  DE 00:00 A 00:59    VIERNES  ...        IL  DE 18 A 20           1\n",
              "1  01/01/2010  DE 00:00 A 00:59    VIERNES  ...        IL  DE 50 A 54           1\n",
              "2  01/01/2010  DE 00:00 A 00:59    VIERNES  ...        HL  DE 40 A 44           1\n",
              "3  01/01/2010    DE 1:00 A 1:59    VIERNES  ...        HL  DE 25 A 29           7\n",
              "4  01/01/2010    DE 1:00 A 1:59    VIERNES  ...        HL  DE 30 A 34           7\n",
              "\n",
              "[5 rows x 26 columns]"
            ]
          },
          "metadata": {
            "tags": []
          },
          "execution_count": 12
        }
      ]
    },
    {
      "cell_type": "markdown",
      "metadata": {
        "id": "UZxy6VR5nmLh"
      },
      "source": [
        "## Geolocalización de accidentes"
      ]
    },
    {
      "cell_type": "markdown",
      "metadata": {
        "id": "emRvTJpHA8eU"
      },
      "source": [
        "Para geolocalizar los accidentes utilizaremos la librería [GeoPy](https://geopy.readthedocs.io/en/stable/) que nos permite obtener las coordenadas de una dirección específica utilizando un servicio de geolocalización (*Geocoder*) como puede ser [Google Maps](https://developers.google.com/maps/documentation/geocoding) o [Bing Maps](https://www.microsoft.com/en-us/maps/create-a-bing-maps-key).\n",
        "\n",
        "Veamos un ejemplo sencillo para geolocalizar la CALLE DE ALCAÑIZ 2 utilizando el servicio [Nominatim](https://nominatim.org/) que obtiene los datos de [Open Street Maps](https://www.openstreetmap.org/) y no requiere el uso de una API:"
      ]
    },
    {
      "cell_type": "code",
      "metadata": {
        "id": "G2d8MVLJubHY",
        "outputId": "0e448107-e76e-4c55-c73f-00921e062abd",
        "colab": {
          "base_uri": "https://localhost:8080/",
          "height": 54
        }
      },
      "source": [
        "from geopy.geocoders import Nominatim\n",
        "\n",
        "geolocator_osm = Nominatim(user_agent=\"myGeocoder\")\n",
        "\n",
        "geolocator_osm.geocode('CALLE DE ALCAÑIZ 2, Madrid, Spain', addressdetails=True)"
      ],
      "execution_count": null,
      "outputs": [
        {
          "output_type": "execute_result",
          "data": {
            "text/plain": [
              "Location(Calle de Alcañiz, Barajas, Madrid, Área metropolitana de Madrid y Corredor del Henares, Comunidad de Madrid, 28001, España, (40.4718614, -3.5886972, 0.0))"
            ]
          },
          "metadata": {
            "tags": []
          },
          "execution_count": 13
        }
      ]
    },
    {
      "cell_type": "markdown",
      "metadata": {
        "id": "6f_d27tx31CH"
      },
      "source": [
        "Observamos que el Geocoder nos devuelve un objeto tipo Location con el que podremos acceder a diferentes datos:\n",
        "\n",
        "* address\n",
        "* altitude\n",
        "* latitude\n",
        "* longitude\n",
        "* point\n",
        "* raw"
      ]
    },
    {
      "cell_type": "code",
      "metadata": {
        "id": "aCioDUjG6YA3",
        "outputId": "d4a00146-0ff0-403b-bf4a-3945ca1fb870",
        "colab": {
          "base_uri": "https://localhost:8080/",
          "height": 52
        }
      },
      "source": [
        "location = geolocator_osm.geocode('CALLE DE ALCAÑIZ 2, Madrid, Spain', addressdetails=True)\n",
        "\n",
        "print('Dirección:', location.address)\n",
        "print('Coordenadas:', tuple(location.point))"
      ],
      "execution_count": null,
      "outputs": [
        {
          "output_type": "stream",
          "text": [
            "Dirección: Calle de Alcañiz, Barajas, Madrid, Área metropolitana de Madrid y Corredor del Henares, Comunidad de Madrid, 28001, España\n",
            "Coordenadas: (40.4718614, -3.5886972, 0.0)\n"
          ],
          "name": "stdout"
        }
      ]
    },
    {
      "cell_type": "markdown",
      "metadata": {
        "id": "jYHQQFmW66ci"
      },
      "source": [
        "O si queremos acceder a los datos en bruto para obtener otra información como el **barrio**, **código postal**, **distrito**..."
      ]
    },
    {
      "cell_type": "code",
      "metadata": {
        "id": "eXQwzQLU69p6",
        "outputId": "12811674-10df-45d7-9c72-55455eac6c42",
        "colab": {
          "base_uri": "https://localhost:8080/",
          "height": 386
        }
      },
      "source": [
        "location.raw"
      ],
      "execution_count": null,
      "outputs": [
        {
          "output_type": "execute_result",
          "data": {
            "text/plain": [
              "{'address': {'city': 'Madrid',\n",
              "  'city_district': 'Barajas',\n",
              "  'country': 'España',\n",
              "  'country_code': 'es',\n",
              "  'county': 'Comunidad de Madrid',\n",
              "  'municipality': 'Área metropolitana de Madrid y Corredor del Henares',\n",
              "  'postcode': '28001',\n",
              "  'road': 'Calle de Alcañiz',\n",
              "  'state': 'Comunidad de Madrid',\n",
              "  'suburb': 'Barajas'},\n",
              " 'boundingbox': ['40.4713821', '40.47226', '-3.5887022', '-3.5886921'],\n",
              " 'class': 'highway',\n",
              " 'display_name': 'Calle de Alcañiz, Barajas, Madrid, Área metropolitana de Madrid y Corredor del Henares, Comunidad de Madrid, 28001, España',\n",
              " 'importance': 0.51,\n",
              " 'lat': '40.4718614',\n",
              " 'licence': 'Data © OpenStreetMap contributors, ODbL 1.0. https://osm.org/copyright',\n",
              " 'lon': '-3.5886972',\n",
              " 'osm_id': 72146324,\n",
              " 'osm_type': 'way',\n",
              " 'place_id': 103587173,\n",
              " 'type': 'residential'}"
            ]
          },
          "metadata": {
            "tags": []
          },
          "execution_count": 15
        }
      ]
    },
    {
      "cell_type": "markdown",
      "metadata": {
        "id": "B_ui3SHV704U"
      },
      "source": [
        "Sin embargo, **los datos obtenidos con Nominatim no suelen ser muy precisos**, como hemos podido comprobar en este ejemplo, donde la dirección devuelta no tiene en cuenta el número de la calle. \n",
        "\n",
        "Por esta razón, vamos a utilizar conjuntamente los servicios de **Google Maps y Bing Maps** para asegurarnos obtener unos datos correctos:\n",
        "\n",
        "* Bing Maps devuelve el barrio.\n",
        "* Algunas direcciones son detectadas correctamente con Google Maps y otras con Bing Maps.\n",
        "* Podemos contrastar los datos en caso que el resultado obtenido no sea preciso en uno de los 2 servicios."
      ]
    },
    {
      "cell_type": "code",
      "metadata": {
        "id": "yOijLL9m9G2j"
      },
      "source": [
        "from geopy.geocoders import GoogleV3, Bing\n",
        "from geopy.extra.rate_limiter import RateLimiter\n",
        "\n",
        "# Geocoder Google Maps\n",
        "geolocator_google = GoogleV3(api_key='')\n",
        "geocode_google = RateLimiter(geolocator_google.geocode, min_delay_seconds=1)\n",
        "\n",
        "# Geocoder Bing Maps\n",
        "geolocator_bing = Bing(api_key='')\n",
        "geocode_bing = RateLimiter(geolocator_bing.geocode, min_delay_seconds=1)\n",
        "rgeocode_bing = RateLimiter(geolocator_bing.reverse, min_delay_seconds=1)"
      ],
      "execution_count": null,
      "outputs": []
    },
    {
      "cell_type": "code",
      "metadata": {
        "id": "cgFnha5p-Bt3",
        "outputId": "5cf2da4c-3a86-480d-e372-d96b457e2fe8",
        "colab": {
          "base_uri": "https://localhost:8080/",
          "height": 527
        }
      },
      "source": [
        "# Ejemplo geolocalización de calle con Google Maps\n",
        "geocode_google('CALLE DE ALCAÑIZ 2, Madrid, Spain').raw"
      ],
      "execution_count": null,
      "outputs": [
        {
          "output_type": "execute_result",
          "data": {
            "text/plain": [
              "{'address_components': [{'long_name': '2',\n",
              "   'short_name': '2',\n",
              "   'types': ['street_number']},\n",
              "  {'long_name': 'Calle Alcañiz',\n",
              "   'short_name': 'Calle Alcañiz',\n",
              "   'types': ['route']},\n",
              "  {'long_name': 'Madrid',\n",
              "   'short_name': 'Madrid',\n",
              "   'types': ['locality', 'political']},\n",
              "  {'long_name': 'Madrid',\n",
              "   'short_name': 'M',\n",
              "   'types': ['administrative_area_level_2', 'political']},\n",
              "  {'long_name': 'Comunidad de Madrid',\n",
              "   'short_name': 'Comunidad de Madrid',\n",
              "   'types': ['administrative_area_level_1', 'political']},\n",
              "  {'long_name': 'Spain',\n",
              "   'short_name': 'ES',\n",
              "   'types': ['country', 'political']},\n",
              "  {'long_name': '28042', 'short_name': '28042', 'types': ['postal_code']}],\n",
              " 'formatted_address': 'Calle Alcañiz, 2, 28042 Madrid, Spain',\n",
              " 'geometry': {'location': {'lat': 40.4702588, 'lng': -3.5886022},\n",
              "  'location_type': 'ROOFTOP',\n",
              "  'viewport': {'northeast': {'lat': 40.4716077802915,\n",
              "    'lng': -3.587253219708498},\n",
              "   'southwest': {'lat': 40.4689098197085, 'lng': -3.589951180291502}}},\n",
              " 'place_id': 'ChIJyzwpqSUuQg0RouFWcIyAez0',\n",
              " 'plus_code': {'compound_code': 'FCC6+4H Madrid, Spain',\n",
              "  'global_code': '8CGRFCC6+4H'},\n",
              " 'types': ['street_address']}"
            ]
          },
          "metadata": {
            "tags": []
          },
          "execution_count": 17
        }
      ]
    },
    {
      "cell_type": "code",
      "metadata": {
        "id": "o6FPOnw0-Lyg",
        "outputId": "e2528049-45e4-4999-ca15-427ef132cc84",
        "colab": {
          "base_uri": "https://localhost:8080/",
          "height": 474
        }
      },
      "source": [
        "# Ejemplo geolocalización de calle con Bing Maps\n",
        "geocode_bing('CALLE DE ALCAÑIZ 2, Madrid, Spain', include_neighborhood=True).raw"
      ],
      "execution_count": null,
      "outputs": [
        {
          "output_type": "execute_result",
          "data": {
            "text/plain": [
              "{'__type': 'Location:http://schemas.microsoft.com/search/local/ws/rest/v1',\n",
              " 'address': {'addressLine': 'Calle de Alcañiz 2',\n",
              "  'adminDistrict': 'Comunidad de Madrid',\n",
              "  'adminDistrict2': 'Madrid',\n",
              "  'countryRegion': 'Spain',\n",
              "  'formattedAddress': 'Calle de Alcañiz 2, 28042 Madrid Comunidad de Madrid, Spain',\n",
              "  'locality': 'Madrid',\n",
              "  'neighborhood': 'Timón',\n",
              "  'postalCode': '28042'},\n",
              " 'bbox': [40.465048582429326,\n",
              "  -3.5953506538543083,\n",
              "  40.47277401757068,\n",
              "  -3.5818115461456914],\n",
              " 'confidence': 'High',\n",
              " 'entityType': 'Address',\n",
              " 'geocodePoints': [{'calculationMethod': 'Rooftop',\n",
              "   'coordinates': [40.4689113, -3.5885811],\n",
              "   'type': 'Point',\n",
              "   'usageTypes': ['Display']},\n",
              "  {'calculationMethod': 'Rooftop',\n",
              "   'coordinates': [40.4689160134709, -3.58873302002002],\n",
              "   'type': 'Point',\n",
              "   'usageTypes': ['Route']}],\n",
              " 'matchCodes': ['Good'],\n",
              " 'name': 'Calle de Alcañiz 2, 28042 Madrid Comunidad de Madrid, Spain',\n",
              " 'point': {'coordinates': [40.4689113, -3.5885811], 'type': 'Point'}}"
            ]
          },
          "metadata": {
            "tags": []
          },
          "execution_count": 18
        }
      ]
    },
    {
      "cell_type": "markdown",
      "metadata": {
        "id": "VCLw5SIbfz9b"
      },
      "source": [
        "### Preparación dataset"
      ]
    },
    {
      "cell_type": "markdown",
      "metadata": {
        "id": "XhPqNr6UBChR"
      },
      "source": [
        "Para geolocalizar los accidentes no necesitamos todos los datos del dataset `accidentes`, por esta razón, vamos a crear un nuevo dataset llamado `direcciones`que incluya únicamente las **dirección (calle y nº)** y el **distrito** al que pertenece para trabajar con mayor comodidad:"
      ]
    },
    {
      "cell_type": "code",
      "metadata": {
        "id": "tK-XpOEBmXF7",
        "outputId": "143f8639-c562-4f01-f986-94ffc15b19ab",
        "colab": {
          "base_uri": "https://localhost:8080/",
          "height": 402
        }
      },
      "source": [
        "# Eliminamos el valor 0 del campo Nº\n",
        "accidentes.loc[accidentes['Nº']=='0', 'Nº'] = ''\n",
        "\n",
        "# Creamos nuevo dataframe sin incluir direcciones duplicadas\n",
        "direcciones = accidentes.drop_duplicates(['LUGAR ACCIDENTE', 'Nº'], ignore_index=True)[['DISTRITO','LUGAR ACCIDENTE', 'Nº']]\n",
        "\n",
        "# Examinamos dataframe\n",
        "direcciones"
      ],
      "execution_count": null,
      "outputs": [
        {
          "output_type": "execute_result",
          "data": {
            "text/html": [
              "<div>\n",
              "<style scoped>\n",
              "    .dataframe tbody tr th:only-of-type {\n",
              "        vertical-align: middle;\n",
              "    }\n",
              "\n",
              "    .dataframe tbody tr th {\n",
              "        vertical-align: top;\n",
              "    }\n",
              "\n",
              "    .dataframe thead th {\n",
              "        text-align: right;\n",
              "    }\n",
              "</style>\n",
              "<table border=\"1\" class=\"dataframe\">\n",
              "  <thead>\n",
              "    <tr style=\"text-align: right;\">\n",
              "      <th></th>\n",
              "      <th>DISTRITO</th>\n",
              "      <th>LUGAR ACCIDENTE</th>\n",
              "      <th>Nº</th>\n",
              "    </tr>\n",
              "  </thead>\n",
              "  <tbody>\n",
              "    <tr>\n",
              "      <th>0</th>\n",
              "      <td>CHAMARTIN</td>\n",
              "      <td>CALLE DE CARTAGENA NUM</td>\n",
              "      <td>104</td>\n",
              "    </tr>\n",
              "    <tr>\n",
              "      <th>1</th>\n",
              "      <td>PUENTE DE VALLECAS</td>\n",
              "      <td>AUTOVIA  M-30 CALZADA 2 KM.</td>\n",
              "      <td>10200</td>\n",
              "    </tr>\n",
              "    <tr>\n",
              "      <th>2</th>\n",
              "      <td>CHAMBERI</td>\n",
              "      <td>GLORIETA DE EMILIO CASTELAR - PASEO DE LA CASTELLANA</td>\n",
              "      <td></td>\n",
              "    </tr>\n",
              "    <tr>\n",
              "      <th>3</th>\n",
              "      <td>RETIRO</td>\n",
              "      <td>AUTOVIA  M-30 CALZADA 1 KM.</td>\n",
              "      <td>8500</td>\n",
              "    </tr>\n",
              "    <tr>\n",
              "      <th>4</th>\n",
              "      <td>SALAMANCA</td>\n",
              "      <td>CALLE DE O'DONNELL - CALLE DEL DOCTOR ESQUERDO</td>\n",
              "      <td></td>\n",
              "    </tr>\n",
              "    <tr>\n",
              "      <th>...</th>\n",
              "      <td>...</td>\n",
              "      <td>...</td>\n",
              "      <td>...</td>\n",
              "    </tr>\n",
              "    <tr>\n",
              "      <th>32251</th>\n",
              "      <td>HORTALEZA</td>\n",
              "      <td>CALLE DE TRIBALDOS NUM</td>\n",
              "      <td>54</td>\n",
              "    </tr>\n",
              "    <tr>\n",
              "      <th>32252</th>\n",
              "      <td>CENTRO</td>\n",
              "      <td>CALLE DEL LEON NUM</td>\n",
              "      <td>32</td>\n",
              "    </tr>\n",
              "    <tr>\n",
              "      <th>32253</th>\n",
              "      <td>LATINA</td>\n",
              "      <td>CAMINO DE LA FORTUNA - CALLE DEL PINAR DE SAN JOSE</td>\n",
              "      <td></td>\n",
              "    </tr>\n",
              "    <tr>\n",
              "      <th>32254</th>\n",
              "      <td>TETUAN</td>\n",
              "      <td>CALLE DE LA CASTELLANA - PLAZA DE LIMA</td>\n",
              "      <td></td>\n",
              "    </tr>\n",
              "    <tr>\n",
              "      <th>32255</th>\n",
              "      <td>HORTALEZA</td>\n",
              "      <td>CALLE DE JOAQUIN FERNANDEZ LEIVA - CALLE DE SILVANO</td>\n",
              "      <td></td>\n",
              "    </tr>\n",
              "  </tbody>\n",
              "</table>\n",
              "<p>32256 rows × 3 columns</p>\n",
              "</div>"
            ],
            "text/plain": [
              "                 DISTRITO  ...     Nº\n",
              "0               CHAMARTIN  ...    104\n",
              "1      PUENTE DE VALLECAS  ...  10200\n",
              "2                CHAMBERI  ...       \n",
              "3                  RETIRO  ...   8500\n",
              "4               SALAMANCA  ...       \n",
              "...                   ...  ...    ...\n",
              "32251           HORTALEZA  ...     54\n",
              "32252              CENTRO  ...     32\n",
              "32253              LATINA  ...       \n",
              "32254              TETUAN  ...       \n",
              "32255           HORTALEZA  ...       \n",
              "\n",
              "[32256 rows x 3 columns]"
            ]
          },
          "metadata": {
            "tags": []
          },
          "execution_count": 19
        }
      ]
    },
    {
      "cell_type": "markdown",
      "metadata": {
        "id": "x1_cpnxstHEd"
      },
      "source": [
        "Observamos que hay **32256 direcciones únicas** de los 252998 registros que tiene el dataset `accidentes`.\n",
        "\n",
        "Además, se distinguen 3 tipos de direcciones:\n",
        "\n",
        "\n",
        "1.   **En autovía**: AUTOVIA M-30 CALZADA 2 KM. 10200\n",
        "2.   **Sin cruce**:  CALLE DE CARTAGENA 104\n",
        "3.   **Con cruce**:  CALLE DE O'DONNELL - CALLE DEL DOCTOR ESQUERDO"
      ]
    },
    {
      "cell_type": "code",
      "metadata": {
        "id": "yN-2L9uXu2mb",
        "outputId": "c8d148f7-4605-424f-d117-2172e758bf54",
        "colab": {
          "base_uri": "https://localhost:8080/",
          "height": 70
        }
      },
      "source": [
        "print('Direcciones en autovía:', direcciones['LUGAR ACCIDENTE'].str.contains('KM').sum())\n",
        "print('Direcciones sin cruces:', len(direcciones[~direcciones['LUGAR ACCIDENTE'].str.contains('\\s\\-\\s|KM')]))\n",
        "print('Direcciones con cruces:', direcciones['LUGAR ACCIDENTE'].str.contains('\\s\\-\\s').sum())"
      ],
      "execution_count": null,
      "outputs": [
        {
          "output_type": "stream",
          "text": [
            "Direcciones en autovía: 1259\n",
            "Direcciones sin cruces: 18295\n",
            "Direcciones con cruces: 12702\n"
          ],
          "name": "stdout"
        }
      ]
    },
    {
      "cell_type": "markdown",
      "metadata": {
        "id": "13vT1cAGxrZX"
      },
      "source": [
        "Las **direcciones en autovía** serán excluidas porque no es posible obtener la localización exacta mediante geocodificación. Éstas se añadirán a un nuevo dataset (`dir_nogeo`) destinado a guardar direcciones no geolocalizadas.\n",
        "\n",
        "Por otro lado, en el dataset `direcciones` vamos a crear la columna `DIRECCION` que incluya la dirección completa (calle y Nº) y que será la que utilicemos para obtener las coordenadas geográficas con Geopy.\n",
        "\n",
        "La columna original `LUGAR ACCIDENTE` se mantiene en el dataset por si fuera necesario comprobar alguna dirección errónea en la columna `DIRECCION`."
      ]
    },
    {
      "cell_type": "code",
      "metadata": {
        "id": "7bb4EbBPyuVK"
      },
      "source": [
        "# Creamos nuevo dataset para guardar direcciones que no podemos geolocalizar (direcciones en autovìa)\n",
        "dir_nogeo = direcciones[direcciones['LUGAR ACCIDENTE'].str.contains('KM')]\n",
        "\n",
        "# Eliminamos direcciones en autovía\n",
        "direcciones.drop(direcciones[direcciones['LUGAR ACCIDENTE'].str.contains('KM')].index, inplace=True)\n",
        "\n",
        "# Reseteamos el índice del dataset\n",
        "direcciones.reset_index(drop=True, inplace=True)\n",
        "\n",
        "# Creamos columna DIRECCION que contiene valor dirección + nº calle\n",
        "direcciones['DIRECCION'] = direcciones['LUGAR ACCIDENTE'].str.replace('\\sNUM$', '') + ' ' + direcciones['Nº']\n",
        "\n",
        "# Cambiamos guión de direcciones con intersección por símbolo &\n",
        "direcciones['DIRECCION'] = direcciones['DIRECCION'].str.replace('\\s-\\s',' & ').str.strip()"
      ],
      "execution_count": null,
      "outputs": []
    },
    {
      "cell_type": "code",
      "metadata": {
        "id": "7oivRTNsD0de",
        "outputId": "d29dfb68-103d-4266-c451-3a91f3a8629f",
        "colab": {
          "base_uri": "https://localhost:8080/",
          "height": 402
        }
      },
      "source": [
        "# Examinamos dataset\n",
        "direcciones"
      ],
      "execution_count": null,
      "outputs": [
        {
          "output_type": "execute_result",
          "data": {
            "text/html": [
              "<div>\n",
              "<style scoped>\n",
              "    .dataframe tbody tr th:only-of-type {\n",
              "        vertical-align: middle;\n",
              "    }\n",
              "\n",
              "    .dataframe tbody tr th {\n",
              "        vertical-align: top;\n",
              "    }\n",
              "\n",
              "    .dataframe thead th {\n",
              "        text-align: right;\n",
              "    }\n",
              "</style>\n",
              "<table border=\"1\" class=\"dataframe\">\n",
              "  <thead>\n",
              "    <tr style=\"text-align: right;\">\n",
              "      <th></th>\n",
              "      <th>DISTRITO</th>\n",
              "      <th>LUGAR ACCIDENTE</th>\n",
              "      <th>Nº</th>\n",
              "      <th>DIRECCION</th>\n",
              "    </tr>\n",
              "  </thead>\n",
              "  <tbody>\n",
              "    <tr>\n",
              "      <th>0</th>\n",
              "      <td>CHAMARTIN</td>\n",
              "      <td>CALLE DE CARTAGENA NUM</td>\n",
              "      <td>104</td>\n",
              "      <td>CALLE DE CARTAGENA 104</td>\n",
              "    </tr>\n",
              "    <tr>\n",
              "      <th>1</th>\n",
              "      <td>CHAMBERI</td>\n",
              "      <td>GLORIETA DE EMILIO CASTELAR - PASEO DE LA CASTELLANA</td>\n",
              "      <td></td>\n",
              "      <td>GLORIETA DE EMILIO CASTELAR &amp; PASEO DE LA CASTELLANA</td>\n",
              "    </tr>\n",
              "    <tr>\n",
              "      <th>2</th>\n",
              "      <td>SALAMANCA</td>\n",
              "      <td>CALLE DE O'DONNELL - CALLE DEL DOCTOR ESQUERDO</td>\n",
              "      <td></td>\n",
              "      <td>CALLE DE O'DONNELL &amp; CALLE DEL DOCTOR ESQUERDO</td>\n",
              "    </tr>\n",
              "    <tr>\n",
              "      <th>3</th>\n",
              "      <td>CARABANCHEL</td>\n",
              "      <td>PASEO DE SANTA MARIA DE LA CABEZA NUM</td>\n",
              "      <td>100</td>\n",
              "      <td>PASEO DE SANTA MARIA DE LA CABEZA 100</td>\n",
              "    </tr>\n",
              "    <tr>\n",
              "      <th>4</th>\n",
              "      <td>TETUAN</td>\n",
              "      <td>CALLE DEL ARROYO - CALLE DE PINOS BAJA</td>\n",
              "      <td></td>\n",
              "      <td>CALLE DEL ARROYO &amp; CALLE DE PINOS BAJA</td>\n",
              "    </tr>\n",
              "    <tr>\n",
              "      <th>...</th>\n",
              "      <td>...</td>\n",
              "      <td>...</td>\n",
              "      <td>...</td>\n",
              "      <td>...</td>\n",
              "    </tr>\n",
              "    <tr>\n",
              "      <th>30992</th>\n",
              "      <td>HORTALEZA</td>\n",
              "      <td>CALLE DE TRIBALDOS NUM</td>\n",
              "      <td>54</td>\n",
              "      <td>CALLE DE TRIBALDOS 54</td>\n",
              "    </tr>\n",
              "    <tr>\n",
              "      <th>30993</th>\n",
              "      <td>CENTRO</td>\n",
              "      <td>CALLE DEL LEON NUM</td>\n",
              "      <td>32</td>\n",
              "      <td>CALLE DEL LEON 32</td>\n",
              "    </tr>\n",
              "    <tr>\n",
              "      <th>30994</th>\n",
              "      <td>LATINA</td>\n",
              "      <td>CAMINO DE LA FORTUNA - CALLE DEL PINAR DE SAN JOSE</td>\n",
              "      <td></td>\n",
              "      <td>CAMINO DE LA FORTUNA &amp; CALLE DEL PINAR DE SAN JOSE</td>\n",
              "    </tr>\n",
              "    <tr>\n",
              "      <th>30995</th>\n",
              "      <td>TETUAN</td>\n",
              "      <td>CALLE DE LA CASTELLANA - PLAZA DE LIMA</td>\n",
              "      <td></td>\n",
              "      <td>CALLE DE LA CASTELLANA &amp; PLAZA DE LIMA</td>\n",
              "    </tr>\n",
              "    <tr>\n",
              "      <th>30996</th>\n",
              "      <td>HORTALEZA</td>\n",
              "      <td>CALLE DE JOAQUIN FERNANDEZ LEIVA - CALLE DE SILVANO</td>\n",
              "      <td></td>\n",
              "      <td>CALLE DE JOAQUIN FERNANDEZ LEIVA &amp; CALLE DE SILVANO</td>\n",
              "    </tr>\n",
              "  </tbody>\n",
              "</table>\n",
              "<p>30997 rows × 4 columns</p>\n",
              "</div>"
            ],
            "text/plain": [
              "          DISTRITO  ...                                             DIRECCION\n",
              "0        CHAMARTIN  ...                                CALLE DE CARTAGENA 104\n",
              "1         CHAMBERI  ...  GLORIETA DE EMILIO CASTELAR & PASEO DE LA CASTELLANA\n",
              "2        SALAMANCA  ...        CALLE DE O'DONNELL & CALLE DEL DOCTOR ESQUERDO\n",
              "3      CARABANCHEL  ...                 PASEO DE SANTA MARIA DE LA CABEZA 100\n",
              "4           TETUAN  ...                CALLE DEL ARROYO & CALLE DE PINOS BAJA\n",
              "...            ...  ...                                                   ...\n",
              "30992    HORTALEZA  ...                                 CALLE DE TRIBALDOS 54\n",
              "30993       CENTRO  ...                                     CALLE DEL LEON 32\n",
              "30994       LATINA  ...    CAMINO DE LA FORTUNA & CALLE DEL PINAR DE SAN JOSE\n",
              "30995       TETUAN  ...                CALLE DE LA CASTELLANA & PLAZA DE LIMA\n",
              "30996    HORTALEZA  ...   CALLE DE JOAQUIN FERNANDEZ LEIVA & CALLE DE SILVANO\n",
              "\n",
              "[30997 rows x 4 columns]"
            ]
          },
          "metadata": {
            "tags": []
          },
          "execution_count": 22
        }
      ]
    },
    {
      "cell_type": "markdown",
      "metadata": {
        "id": "C8UEB60roQLW"
      },
      "source": [
        "Por otro lado, también vamos a necesitar utilizar 2 datasets con información sobre los distritos y barrios de Madrid. Ambos se pueden descargar en el mismo portal:"
      ]
    },
    {
      "cell_type": "code",
      "metadata": {
        "id": "jPHhmQRzqQ6T",
        "outputId": "489ab54e-4c6f-4f2b-f96d-c8b27908d9f2",
        "colab": {
          "base_uri": "https://localhost:8080/",
          "height": 195
        }
      },
      "source": [
        "# Cargamos dataset distritos\n",
        "#distritos = df_strip(pd.read_csv('https://datos.madrid.es/egob/catalogo/200078-4-distritos-barrios.csv',\n",
        "#            delimiter=';', encoding='latin-1'))\n",
        "\n",
        "url = requests.get('https://drive.google.com/uc?export=download&id=1yygrcBhHCVwIzsjgb4ITEvgWaK32Eb4i')\n",
        "csv_raw = StringIO(url.text)\n",
        "distritos = df_strip(pd.read_csv(csv_raw, delimiter=';', encoding='latin-1'))\n",
        "\n",
        "distritos.head()"
      ],
      "execution_count": null,
      "outputs": [
        {
          "output_type": "execute_result",
          "data": {
            "text/html": [
              "<div>\n",
              "<style scoped>\n",
              "    .dataframe tbody tr th:only-of-type {\n",
              "        vertical-align: middle;\n",
              "    }\n",
              "\n",
              "    .dataframe tbody tr th {\n",
              "        vertical-align: top;\n",
              "    }\n",
              "\n",
              "    .dataframe thead th {\n",
              "        text-align: right;\n",
              "    }\n",
              "</style>\n",
              "<table border=\"1\" class=\"dataframe\">\n",
              "  <thead>\n",
              "    <tr style=\"text-align: right;\">\n",
              "      <th></th>\n",
              "      <th>Perimetro (m)</th>\n",
              "      <th>Codigo de distrito</th>\n",
              "      <th>Nombre de distrito</th>\n",
              "      <th>Nombre acentuado del distrito</th>\n",
              "      <th>Numero de barrios</th>\n",
              "      <th>Superficie (m2)</th>\n",
              "    </tr>\n",
              "  </thead>\n",
              "  <tbody>\n",
              "    <tr>\n",
              "      <th>0</th>\n",
              "      <td>10304</td>\n",
              "      <td>1</td>\n",
              "      <td>CENTRO</td>\n",
              "      <td>CENTRO</td>\n",
              "      <td>6</td>\n",
              "      <td>5231264</td>\n",
              "    </tr>\n",
              "    <tr>\n",
              "      <th>1</th>\n",
              "      <td>12834</td>\n",
              "      <td>2</td>\n",
              "      <td>ARGANZUELA</td>\n",
              "      <td>ARGANZUELA</td>\n",
              "      <td>7</td>\n",
              "      <td>6466400</td>\n",
              "    </tr>\n",
              "    <tr>\n",
              "      <th>2</th>\n",
              "      <td>9523</td>\n",
              "      <td>3</td>\n",
              "      <td>RETIRO</td>\n",
              "      <td>RETIRO</td>\n",
              "      <td>6</td>\n",
              "      <td>5465307</td>\n",
              "    </tr>\n",
              "    <tr>\n",
              "      <th>3</th>\n",
              "      <td>10862</td>\n",
              "      <td>4</td>\n",
              "      <td>SALAMANCA</td>\n",
              "      <td>SALAMANCA</td>\n",
              "      <td>6</td>\n",
              "      <td>5387243</td>\n",
              "    </tr>\n",
              "    <tr>\n",
              "      <th>4</th>\n",
              "      <td>13401</td>\n",
              "      <td>5</td>\n",
              "      <td>CHAMARTIN</td>\n",
              "      <td>CHAMARTÍN</td>\n",
              "      <td>6</td>\n",
              "      <td>9170122</td>\n",
              "    </tr>\n",
              "  </tbody>\n",
              "</table>\n",
              "</div>"
            ],
            "text/plain": [
              "   Perimetro (m)  Codigo de distrito  ... Numero de barrios Superficie (m2)\n",
              "0          10304                   1  ...                 6         5231264\n",
              "1          12834                   2  ...                 7         6466400\n",
              "2           9523                   3  ...                 6         5465307\n",
              "3          10862                   4  ...                 6         5387243\n",
              "4          13401                   5  ...                 6         9170122\n",
              "\n",
              "[5 rows x 6 columns]"
            ]
          },
          "metadata": {
            "tags": []
          },
          "execution_count": 23
        }
      ]
    },
    {
      "cell_type": "markdown",
      "metadata": {
        "id": "RwGpO2QDsyqV"
      },
      "source": [
        "Con el dataset `distritos`, vamos a comprobar si aparecen los mismos nombres de distritos que en el dataset `direcciones`:"
      ]
    },
    {
      "cell_type": "code",
      "metadata": {
        "id": "S8EdSa1stKjK",
        "outputId": "0f3a343c-3f05-47e7-a321-82ed5ddccd29",
        "colab": {
          "base_uri": "https://localhost:8080/",
          "height": 34
        }
      },
      "source": [
        "# Comprobamos si coinciden los nombres de distritos en ambos datasets\n",
        "set(distritos['Nombre de distrito'].tolist()) - \\\n",
        "  set(direcciones['DISTRITO'].unique().tolist())  "
      ],
      "execution_count": null,
      "outputs": [
        {
          "output_type": "execute_result",
          "data": {
            "text/plain": [
              "{'SAN BLAS-CANILLEJAS'}"
            ]
          },
          "metadata": {
            "tags": []
          },
          "execution_count": 24
        }
      ]
    },
    {
      "cell_type": "code",
      "metadata": {
        "id": "wv6x3F7vuHbj",
        "outputId": "b490599a-00d9-4594-c930-912cacc27d7b",
        "colab": {
          "base_uri": "https://localhost:8080/",
          "height": 105
        }
      },
      "source": [
        "# Comprobamos los valores únicos en el campo Distrito del dataset direcciones\n",
        "direcciones['DISTRITO'].unique()"
      ],
      "execution_count": null,
      "outputs": [
        {
          "output_type": "execute_result",
          "data": {
            "text/plain": [
              "array(['CHAMARTIN', 'CHAMBERI', 'SALAMANCA', 'CARABANCHEL', 'TETUAN',\n",
              "       'CIUDAD LINEAL', 'VILLA DE VALLECAS', 'MORATALAZ',\n",
              "       'PUENTE DE VALLECAS', 'ARGANZUELA', 'SAN BLAS', 'VILLAVERDE',\n",
              "       'HORTALEZA', 'FUENCARRAL-EL PARDO', 'RETIRO', 'USERA', 'LATINA',\n",
              "       'BARAJAS', 'MONCLOA-ARAVACA', 'CENTRO', 'VICALVARO'], dtype=object)"
            ]
          },
          "metadata": {
            "tags": []
          },
          "execution_count": 25
        }
      ]
    },
    {
      "cell_type": "markdown",
      "metadata": {
        "id": "7Pa-NqcTvDd8"
      },
      "source": [
        "Confirmamos con [Wikipedia](https://es.wikipedia.org/wiki/San_Blas-Canillejas#:~:text=San%20Blas%2DCanillejas%20(anteriormente%20San,%2C%20Rejas%2C%20Canillejas%20y%20Salvador.) que el distrito SAN BLAS pasó a llamarse SAN BLAS-CANILLEJAS y lo renombramos en el dataset `direcciones`:"
      ]
    },
    {
      "cell_type": "code",
      "metadata": {
        "id": "LM5x_S7wyfMh",
        "outputId": "41857772-3db8-4570-e1fe-025ee066d347",
        "colab": {
          "base_uri": "https://localhost:8080/",
          "height": 34
        }
      },
      "source": [
        "# Renombramos nombre distrito San Blas a San Blas-Canillejas\n",
        "direcciones['DISTRITO'] = direcciones['DISTRITO'].str.replace('SAN BLAS','SAN BLAS-CANILLEJAS')\n",
        "\n",
        "# Volvemos a comprobar si coinciden los nombres de distritos\n",
        "set(distritos['Nombre de distrito'].tolist()) - \\\n",
        "  set(direcciones['DISTRITO'].unique().tolist())  "
      ],
      "execution_count": null,
      "outputs": [
        {
          "output_type": "execute_result",
          "data": {
            "text/plain": [
              "set()"
            ]
          },
          "metadata": {
            "tags": []
          },
          "execution_count": 26
        }
      ]
    },
    {
      "cell_type": "code",
      "metadata": {
        "id": "hnl6IJC6q88e",
        "outputId": "7e1287ed-44f8-4533-cdef-70beafb437bb",
        "colab": {
          "base_uri": "https://localhost:8080/",
          "height": 195
        }
      },
      "source": [
        "# Cargamos dataset barrios\n",
        "#barrios = df_strip(pd.read_csv('https://datos.madrid.es/egob/catalogo/200078-1-distritos-barrios.csv', \n",
        "#           delimiter=';', encoding='latin-1'))\n",
        "\n",
        "url = requests.get('https://drive.google.com/uc?export=download&id=1rc4sa02MgIHEVNJ6xVXBrTqzuuo-lJ6R')\n",
        "csv_raw = StringIO(url.text)\n",
        "barrios = df_strip(pd.read_csv(csv_raw, delimiter=';', encoding='latin-1'))\n",
        "\n",
        "barrios.head()"
      ],
      "execution_count": null,
      "outputs": [
        {
          "output_type": "execute_result",
          "data": {
            "text/html": [
              "<div>\n",
              "<style scoped>\n",
              "    .dataframe tbody tr th:only-of-type {\n",
              "        vertical-align: middle;\n",
              "    }\n",
              "\n",
              "    .dataframe tbody tr th {\n",
              "        vertical-align: top;\n",
              "    }\n",
              "\n",
              "    .dataframe thead th {\n",
              "        text-align: right;\n",
              "    }\n",
              "</style>\n",
              "<table border=\"1\" class=\"dataframe\">\n",
              "  <thead>\n",
              "    <tr style=\"text-align: right;\">\n",
              "      <th></th>\n",
              "      <th>Codigo de barrio</th>\n",
              "      <th>Codigo de distrito al que pertenece</th>\n",
              "      <th>Nombre de barrio</th>\n",
              "      <th>Nombre acentuado del barrio</th>\n",
              "      <th>Superficie (m2)</th>\n",
              "      <th>Perimetro (m)</th>\n",
              "    </tr>\n",
              "  </thead>\n",
              "  <tbody>\n",
              "    <tr>\n",
              "      <th>0</th>\n",
              "      <td>1</td>\n",
              "      <td>1</td>\n",
              "      <td>PALACIO</td>\n",
              "      <td>PALACIO</td>\n",
              "      <td>1471085</td>\n",
              "      <td>5754</td>\n",
              "    </tr>\n",
              "    <tr>\n",
              "      <th>1</th>\n",
              "      <td>1</td>\n",
              "      <td>2</td>\n",
              "      <td>IMPERIAL</td>\n",
              "      <td>IMPERIAL</td>\n",
              "      <td>967500</td>\n",
              "      <td>4557</td>\n",
              "    </tr>\n",
              "    <tr>\n",
              "      <th>2</th>\n",
              "      <td>1</td>\n",
              "      <td>3</td>\n",
              "      <td>PACIFICO</td>\n",
              "      <td>PACÍFICO</td>\n",
              "      <td>750065</td>\n",
              "      <td>4005</td>\n",
              "    </tr>\n",
              "    <tr>\n",
              "      <th>3</th>\n",
              "      <td>1</td>\n",
              "      <td>4</td>\n",
              "      <td>RECOLETOS</td>\n",
              "      <td>RECOLETOS</td>\n",
              "      <td>870857</td>\n",
              "      <td>3927</td>\n",
              "    </tr>\n",
              "    <tr>\n",
              "      <th>4</th>\n",
              "      <td>1</td>\n",
              "      <td>5</td>\n",
              "      <td>EL VISO</td>\n",
              "      <td>EL VISO</td>\n",
              "      <td>1708046</td>\n",
              "      <td>5269</td>\n",
              "    </tr>\n",
              "  </tbody>\n",
              "</table>\n",
              "</div>"
            ],
            "text/plain": [
              "   Codigo de barrio  ...  Perimetro (m)\n",
              "0                 1  ...           5754\n",
              "1                 1  ...           4557\n",
              "2                 1  ...           4005\n",
              "3                 1  ...           3927\n",
              "4                 1  ...           5269\n",
              "\n",
              "[5 rows x 6 columns]"
            ]
          },
          "metadata": {
            "tags": []
          },
          "execution_count": 27
        }
      ]
    },
    {
      "cell_type": "markdown",
      "metadata": {
        "id": "VnhFRReAzQQW"
      },
      "source": [
        "Igualmente, utilizaremos el dataset `barrios` para comprobar rápidamente si aparecen los barrios obtenidos en Bing Maps o, por el contrario, tendremos que revisar aquellas direcciones que tienen un barrio diferente y averiguar su motivo.\n",
        "\n",
        "Por último, vamos a crear un único dataset `dis_barrios` que incluya únicamente los nombres de los barrios y el distrito al que pertenecen, así como, sus respectivos códigos.\n",
        "\n",
        "Más adelante, fusionaremos este dataset con el dataset `direcciones` cuando tengamos confirmadas todas las direcciones con su respectivos barrios."
      ]
    },
    {
      "cell_type": "code",
      "metadata": {
        "id": "cVn9uZgVqVXW",
        "outputId": "9572cca1-8556-40dc-d1b8-d7ed133bede2",
        "colab": {
          "base_uri": "https://localhost:8080/",
          "height": 195
        }
      },
      "source": [
        "# Fusionamos dataset distritos y barrios\n",
        "dis_barrios = pd.merge(distritos, barrios, left_on='Codigo de distrito', right_on='Codigo de distrito al que pertenece')\\\n",
        "[['Codigo de distrito', 'Nombre de distrito', 'Codigo de barrio', 'Nombre de barrio']]\n",
        "\n",
        "dis_barrios.head()"
      ],
      "execution_count": null,
      "outputs": [
        {
          "output_type": "execute_result",
          "data": {
            "text/html": [
              "<div>\n",
              "<style scoped>\n",
              "    .dataframe tbody tr th:only-of-type {\n",
              "        vertical-align: middle;\n",
              "    }\n",
              "\n",
              "    .dataframe tbody tr th {\n",
              "        vertical-align: top;\n",
              "    }\n",
              "\n",
              "    .dataframe thead th {\n",
              "        text-align: right;\n",
              "    }\n",
              "</style>\n",
              "<table border=\"1\" class=\"dataframe\">\n",
              "  <thead>\n",
              "    <tr style=\"text-align: right;\">\n",
              "      <th></th>\n",
              "      <th>Codigo de distrito</th>\n",
              "      <th>Nombre de distrito</th>\n",
              "      <th>Codigo de barrio</th>\n",
              "      <th>Nombre de barrio</th>\n",
              "    </tr>\n",
              "  </thead>\n",
              "  <tbody>\n",
              "    <tr>\n",
              "      <th>0</th>\n",
              "      <td>1</td>\n",
              "      <td>CENTRO</td>\n",
              "      <td>1</td>\n",
              "      <td>PALACIO</td>\n",
              "    </tr>\n",
              "    <tr>\n",
              "      <th>1</th>\n",
              "      <td>1</td>\n",
              "      <td>CENTRO</td>\n",
              "      <td>2</td>\n",
              "      <td>EMBAJADORES</td>\n",
              "    </tr>\n",
              "    <tr>\n",
              "      <th>2</th>\n",
              "      <td>1</td>\n",
              "      <td>CENTRO</td>\n",
              "      <td>3</td>\n",
              "      <td>CORTES</td>\n",
              "    </tr>\n",
              "    <tr>\n",
              "      <th>3</th>\n",
              "      <td>1</td>\n",
              "      <td>CENTRO</td>\n",
              "      <td>4</td>\n",
              "      <td>JUSTICIA</td>\n",
              "    </tr>\n",
              "    <tr>\n",
              "      <th>4</th>\n",
              "      <td>1</td>\n",
              "      <td>CENTRO</td>\n",
              "      <td>5</td>\n",
              "      <td>UNIVERSIDAD</td>\n",
              "    </tr>\n",
              "  </tbody>\n",
              "</table>\n",
              "</div>"
            ],
            "text/plain": [
              "   Codigo de distrito Nombre de distrito  Codigo de barrio Nombre de barrio\n",
              "0                   1             CENTRO                 1          PALACIO\n",
              "1                   1             CENTRO                 2      EMBAJADORES\n",
              "2                   1             CENTRO                 3           CORTES\n",
              "3                   1             CENTRO                 4         JUSTICIA\n",
              "4                   1             CENTRO                 5      UNIVERSIDAD"
            ]
          },
          "metadata": {
            "tags": []
          },
          "execution_count": 28
        }
      ]
    },
    {
      "cell_type": "code",
      "metadata": {
        "id": "_vSCwuZc9sR0",
        "outputId": "88de39fc-2d45-4ae0-fff5-ea7dff36fcb9",
        "colab": {
          "base_uri": "https://localhost:8080/",
          "height": 225
        }
      },
      "source": [
        "# Ejemplo de consulta para saber barrios del distrito Hortaleza\n",
        "dis_barrios[dis_barrios['Nombre de distrito']=='HORTALEZA']"
      ],
      "execution_count": null,
      "outputs": [
        {
          "output_type": "execute_result",
          "data": {
            "text/html": [
              "<div>\n",
              "<style scoped>\n",
              "    .dataframe tbody tr th:only-of-type {\n",
              "        vertical-align: middle;\n",
              "    }\n",
              "\n",
              "    .dataframe tbody tr th {\n",
              "        vertical-align: top;\n",
              "    }\n",
              "\n",
              "    .dataframe thead th {\n",
              "        text-align: right;\n",
              "    }\n",
              "</style>\n",
              "<table border=\"1\" class=\"dataframe\">\n",
              "  <thead>\n",
              "    <tr style=\"text-align: right;\">\n",
              "      <th></th>\n",
              "      <th>Codigo de distrito</th>\n",
              "      <th>Nombre de distrito</th>\n",
              "      <th>Codigo de barrio</th>\n",
              "      <th>Nombre de barrio</th>\n",
              "    </tr>\n",
              "  </thead>\n",
              "  <tbody>\n",
              "    <tr>\n",
              "      <th>100</th>\n",
              "      <td>16</td>\n",
              "      <td>HORTALEZA</td>\n",
              "      <td>1</td>\n",
              "      <td>PALOMAS</td>\n",
              "    </tr>\n",
              "    <tr>\n",
              "      <th>101</th>\n",
              "      <td>16</td>\n",
              "      <td>HORTALEZA</td>\n",
              "      <td>2</td>\n",
              "      <td>PIOVERA</td>\n",
              "    </tr>\n",
              "    <tr>\n",
              "      <th>102</th>\n",
              "      <td>16</td>\n",
              "      <td>HORTALEZA</td>\n",
              "      <td>3</td>\n",
              "      <td>CANILLAS</td>\n",
              "    </tr>\n",
              "    <tr>\n",
              "      <th>103</th>\n",
              "      <td>16</td>\n",
              "      <td>HORTALEZA</td>\n",
              "      <td>4</td>\n",
              "      <td>PINAR DEL REY</td>\n",
              "    </tr>\n",
              "    <tr>\n",
              "      <th>104</th>\n",
              "      <td>16</td>\n",
              "      <td>HORTALEZA</td>\n",
              "      <td>5</td>\n",
              "      <td>APOSTOL SANTIAGO</td>\n",
              "    </tr>\n",
              "    <tr>\n",
              "      <th>105</th>\n",
              "      <td>16</td>\n",
              "      <td>HORTALEZA</td>\n",
              "      <td>6</td>\n",
              "      <td>VALDEFUENTES</td>\n",
              "    </tr>\n",
              "  </tbody>\n",
              "</table>\n",
              "</div>"
            ],
            "text/plain": [
              "     Codigo de distrito Nombre de distrito  Codigo de barrio  Nombre de barrio\n",
              "100                  16          HORTALEZA                 1           PALOMAS\n",
              "101                  16          HORTALEZA                 2           PIOVERA\n",
              "102                  16          HORTALEZA                 3          CANILLAS\n",
              "103                  16          HORTALEZA                 4     PINAR DEL REY\n",
              "104                  16          HORTALEZA                 5  APOSTOL SANTIAGO\n",
              "105                  16          HORTALEZA                 6      VALDEFUENTES"
            ]
          },
          "metadata": {
            "tags": []
          },
          "execution_count": 29
        }
      ]
    },
    {
      "cell_type": "markdown",
      "metadata": {
        "id": "hLDmznv7BLRR"
      },
      "source": [
        "### Obtención datos geográficos"
      ]
    },
    {
      "cell_type": "markdown",
      "metadata": {
        "id": "H7kU-G6_gJNy"
      },
      "source": [
        "Tras preparar el dataset `direcciones`, procedemos a obtener la información geográfica (barrio, código postal y coordenadas) de la columna `DIRECCION`.\n",
        "\n",
        "Para ello, vamos a crear 2 columnas nuevas `location_g`y `location_b` donde se almacenará el objeto *Location* de cada dirección obtenida con los geocoders Google y Bing respectivamente.\n",
        "\n",
        "**Aviso**: el código mostrado en esta sección ha sido marcado como comentario porque únicamente se muestra como ejemplo del procedimiento seguido para obtener la información geográfica de todas las direcciones."
      ]
    },
    {
      "cell_type": "code",
      "metadata": {
        "id": "XotauZUPiyh-"
      },
      "source": [
        "#direcciones['location_g'] = (direcciones['DIRECCION']+', Madrid, Spain')\\\n",
        "#  .progress_apply(geocode_google)\n",
        "\n",
        "#direcciones['location_b'] = (direcciones['DIRECCION']+', Madrid, Spain')\\\n",
        "#  .progress_apply(geocode_bing, include_neighborhood=True)"
      ],
      "execution_count": null,
      "outputs": []
    },
    {
      "cell_type": "markdown",
      "metadata": {
        "id": "kVW4mU4pkiia"
      },
      "source": [
        "Tras almacenar la información geográfica en las columnas `location_g` y `location_b` podremos acceder a los datos deseados y almacenarlos en nuevas columnas.\n",
        "\n",
        "Por ejemplo, en el código siguiente accedemos a los datos obtenidos del geocoder Bing Maps:"
      ]
    },
    {
      "cell_type": "code",
      "metadata": {
        "id": "VA8qyVLvl8vN"
      },
      "source": [
        "# Nombre de la calle\n",
        "#direcciones['address_b'] = direcciones['location_b']\\\n",
        "#  .apply(lambda loc: loc.address if loc else None)\n",
        "\n",
        "# Nº de calle\n",
        "#direcciones['NUM_b'] = direcciones['location_b']\\\n",
        "#  .apply(lambda loc: loc.address if loc else None).str.split(',', expand=True)[1]\n",
        "\n",
        "# Barrio\n",
        "#direcciones['BARRIO_b'] = direcciones['location_b']\\\n",
        "#    .apply(lambda loc: loc.raw['address']['neighborhood'] if 'neighborhood' in loc.raw['address'] else None)\n",
        "\n",
        "# Eliminar acentos en barrios\n",
        "#direcciones['BARRIO_b'] = direcciones['BARRIO_b'].str.normalize('NFKD')\\\n",
        "#    .str.encode('ascii', errors='ignore').str.decode('utf-8').str.upper()\n",
        "\n",
        "# Código postal\n",
        "#direcciones['CP_b'] = direcciones['location_b']\\\n",
        "#    .apply(lambda loc: loc.raw['address']['postalCode'] if 'postalCode' in loc.raw['address'] else None)\n",
        "\n",
        "# Latitud y longitud\n",
        "#direcciones['LAT_b'] = direcciones['location_b'].apply(lambda loc: loc.latitude if loc else None)\n",
        "#direcciones['LNG_b'] = direcciones['location_b'].apply(lambda loc: loc.longitude if loc else None)"
      ],
      "execution_count": null,
      "outputs": []
    },
    {
      "cell_type": "markdown",
      "metadata": {
        "id": "BvL3PmuG-b5e"
      },
      "source": [
        "Con las nuevas columnas `address_b`, `NUM_b` y `BARRIO_b` junto con las originales `DIRECCION`, `Nº` y `DISTRITO` y el dataset `dis_barrios` podremos verificar que los datos geográficos obtenidos de las direcciones sean correctos o, en otros casos, se deberán corregir o descartar aquellas direcciones que no sean posibles obtener.\n",
        "\n",
        "Obviamente, esta tarea implica muchas horas de revisión, limpieza y manipulación del dataset `direcciones` -que no es necesario documentar-, por esta razón, vamos a continuar desarrollando la sección con el dataset final obtenido que contiene geolocalizadas, aproximadamente, el 91% de las direcciones:"
      ]
    },
    {
      "cell_type": "code",
      "metadata": {
        "id": "TYYJ9lYZDm5o",
        "outputId": "11a27929-2335-4532-92e4-21e3372b1764",
        "colab": {
          "base_uri": "https://localhost:8080/",
          "height": 452
        }
      },
      "source": [
        "# Cargamos dataset con las direcciones geolocalizadas\n",
        "url = requests.get('https://drive.google.com/uc?export=download&id=1j45O59x7wLD9eF4NvZuva')\n",
        "csv_raw = StringIO(url.text)\n",
        "geolocations = pd.read_csv(csv_raw, delimiter=';', encoding='latin-1')\n",
        "\n",
        "geolocations"
      ],
      "execution_count": null,
      "outputs": [
        {
          "output_type": "execute_result",
          "data": {
            "text/html": [
              "<div>\n",
              "<style scoped>\n",
              "    .dataframe tbody tr th:only-of-type {\n",
              "        vertical-align: middle;\n",
              "    }\n",
              "\n",
              "    .dataframe tbody tr th {\n",
              "        vertical-align: top;\n",
              "    }\n",
              "\n",
              "    .dataframe thead th {\n",
              "        text-align: right;\n",
              "    }\n",
              "</style>\n",
              "<table border=\"1\" class=\"dataframe\">\n",
              "  <thead>\n",
              "    <tr style=\"text-align: right;\">\n",
              "      <th></th>\n",
              "      <th>DIRECCION</th>\n",
              "      <th>DISTRITO</th>\n",
              "      <th>BARRIO</th>\n",
              "      <th>CP</th>\n",
              "      <th>LAT</th>\n",
              "      <th>LNG</th>\n",
              "    </tr>\n",
              "  </thead>\n",
              "  <tbody>\n",
              "    <tr>\n",
              "      <th>0</th>\n",
              "      <td>CALLE DE ROBERTO DOMINGO 3</td>\n",
              "      <td>SALAMANCA</td>\n",
              "      <td>GUINDALERA</td>\n",
              "      <td>28028</td>\n",
              "      <td>40.4348176</td>\n",
              "      <td>-3.6612678999999995</td>\n",
              "    </tr>\n",
              "    <tr>\n",
              "      <th>1</th>\n",
              "      <td>CALLE DE AZCONA 15</td>\n",
              "      <td>SALAMANCA</td>\n",
              "      <td>GUINDALERA</td>\n",
              "      <td>28028</td>\n",
              "      <td>40.43372100000001</td>\n",
              "      <td>-3.6709397000000004</td>\n",
              "    </tr>\n",
              "    <tr>\n",
              "      <th>2</th>\n",
              "      <td>CALLE DE MARTINEZ IZQUIERDO 5</td>\n",
              "      <td>SALAMANCA</td>\n",
              "      <td>GUINDALERA</td>\n",
              "      <td>28028</td>\n",
              "      <td>40.4325441</td>\n",
              "      <td>-3.671704999999999</td>\n",
              "    </tr>\n",
              "    <tr>\n",
              "      <th>3</th>\n",
              "      <td>AVENIDA DE AMERICA 66</td>\n",
              "      <td>SALAMANCA</td>\n",
              "      <td>GUINDALERA</td>\n",
              "      <td>28028</td>\n",
              "      <td>40.44339739999999</td>\n",
              "      <td>-3.6623144</td>\n",
              "    </tr>\n",
              "    <tr>\n",
              "      <th>4</th>\n",
              "      <td>CALLE DE BIARRITZ 3</td>\n",
              "      <td>SALAMANCA</td>\n",
              "      <td>GUINDALERA</td>\n",
              "      <td>28028</td>\n",
              "      <td>40.435802</td>\n",
              "      <td>-3.6643262</td>\n",
              "    </tr>\n",
              "    <tr>\n",
              "      <th>...</th>\n",
              "      <td>...</td>\n",
              "      <td>...</td>\n",
              "      <td>...</td>\n",
              "      <td>...</td>\n",
              "      <td>...</td>\n",
              "      <td>...</td>\n",
              "    </tr>\n",
              "    <tr>\n",
              "      <th>29435</th>\n",
              "      <td>CALLE DE AYALA 103</td>\n",
              "      <td>SALAMANCA</td>\n",
              "      <td>GOYA</td>\n",
              "      <td>28009</td>\n",
              "      <td>40.42716</td>\n",
              "      <td>-3.6710800000000003</td>\n",
              "    </tr>\n",
              "    <tr>\n",
              "      <th>29436</th>\n",
              "      <td>CALLE DEL PUERTO DE LAS PILAS &amp; CALLE DEL PUERTO DE ALAZORES</td>\n",
              "      <td>VILLA DE VALLECAS</td>\n",
              "      <td>CASCO H.VALLECAS</td>\n",
              "      <td>28031</td>\n",
              "      <td>40.37863400000001</td>\n",
              "      <td>-3.6261959999999998</td>\n",
              "    </tr>\n",
              "    <tr>\n",
              "      <th>29437</th>\n",
              "      <td>CAÑADA  REAL DE MERINAS 80</td>\n",
              "      <td>VICALVARO</td>\n",
              "      <td>CASCO H.VICALVARO</td>\n",
              "      <td>28052</td>\n",
              "      <td>40.37673</td>\n",
              "      <td>-3.54891</td>\n",
              "    </tr>\n",
              "    <tr>\n",
              "      <th>29438</th>\n",
              "      <td>CALLE DE BRAOJOS 10</td>\n",
              "      <td>FUENCARRAL-EL PARDO</td>\n",
              "      <td>FUENTELARREINA</td>\n",
              "      <td>28035</td>\n",
              "      <td>40.4812</td>\n",
              "      <td>-3.7391699999999997</td>\n",
              "    </tr>\n",
              "    <tr>\n",
              "      <th>29439</th>\n",
              "      <td>CALLE DE TREMPS 10</td>\n",
              "      <td>MONCLOA-ARAVACA</td>\n",
              "      <td>CIUDAD UNIVERSITARIA</td>\n",
              "      <td>28040</td>\n",
              "      <td>40.45576</td>\n",
              "      <td>-3.71558</td>\n",
              "    </tr>\n",
              "  </tbody>\n",
              "</table>\n",
              "<p>29440 rows × 6 columns</p>\n",
              "</div>"
            ],
            "text/plain": [
              "                                                          DIRECCION  ...                  LNG\n",
              "0                                        CALLE DE ROBERTO DOMINGO 3  ...  -3.6612678999999995\n",
              "1                                                CALLE DE AZCONA 15  ...  -3.6709397000000004\n",
              "2                                     CALLE DE MARTINEZ IZQUIERDO 5  ...   -3.671704999999999\n",
              "3                                             AVENIDA DE AMERICA 66  ...           -3.6623144\n",
              "4                                               CALLE DE BIARRITZ 3  ...           -3.6643262\n",
              "...                                                             ...  ...                  ...\n",
              "29435                                            CALLE DE AYALA 103  ...  -3.6710800000000003\n",
              "29436  CALLE DEL PUERTO DE LAS PILAS & CALLE DEL PUERTO DE ALAZORES  ...  -3.6261959999999998\n",
              "29437                                    CAÑADA  REAL DE MERINAS 80  ...             -3.54891\n",
              "29438                                           CALLE DE BRAOJOS 10  ...  -3.7391699999999997\n",
              "29439                                            CALLE DE TREMPS 10  ...             -3.71558\n",
              "\n",
              "[29440 rows x 6 columns]"
            ]
          },
          "metadata": {
            "tags": []
          },
          "execution_count": 32
        }
      ]
    },
    {
      "cell_type": "markdown",
      "metadata": {
        "id": "b-R2XevkEvjo"
      },
      "source": [
        "Antes de continuar, vamos a guardar en un fichero CSV las direcciones que no han podido ser geolocalizadas para intentar trabajar con ellas en un futuro:"
      ]
    },
    {
      "cell_type": "code",
      "metadata": {
        "id": "ceyz1Qc4woQL",
        "outputId": "404d1bfe-a64f-498f-de1a-216cc5e781d7",
        "colab": {
          "base_uri": "https://localhost:8080/",
          "height": 193
        }
      },
      "source": [
        "# Unimos dataset geolocations a direcciones\n",
        "df_tmp = pd.merge(direcciones, geolocations, how='left', left_on='DIRECCION', right_on='DIRECCION')\n",
        "\n",
        "# Comprobamos direcciones sin geolocalizar (aquellas con valores nulos)\n",
        "df_tmp.isnull().sum()"
      ],
      "execution_count": null,
      "outputs": [
        {
          "output_type": "execute_result",
          "data": {
            "text/plain": [
              "DISTRITO_x            0\n",
              "LUGAR ACCIDENTE       0\n",
              "Nº                    0\n",
              "DIRECCION             0\n",
              "DISTRITO_y         1558\n",
              "BARRIO             1558\n",
              "CP                 1558\n",
              "LAT                1558\n",
              "LNG                1558\n",
              "dtype: int64"
            ]
          },
          "metadata": {
            "tags": []
          },
          "execution_count": 33
        }
      ]
    },
    {
      "cell_type": "code",
      "metadata": {
        "id": "YJS-XQh7RoQB",
        "outputId": "2fe50218-400e-455a-d214-d4c2dff0d084",
        "colab": {
          "base_uri": "https://localhost:8080/",
          "height": 262
        }
      },
      "source": [
        "# Ejemplo de direcciones sin geolocalizar del dataset geolocations\n",
        "df_tmp[df_tmp['BARRIO'].isnull()].head()"
      ],
      "execution_count": null,
      "outputs": [
        {
          "output_type": "execute_result",
          "data": {
            "text/html": [
              "<div>\n",
              "<style scoped>\n",
              "    .dataframe tbody tr th:only-of-type {\n",
              "        vertical-align: middle;\n",
              "    }\n",
              "\n",
              "    .dataframe tbody tr th {\n",
              "        vertical-align: top;\n",
              "    }\n",
              "\n",
              "    .dataframe thead th {\n",
              "        text-align: right;\n",
              "    }\n",
              "</style>\n",
              "<table border=\"1\" class=\"dataframe\">\n",
              "  <thead>\n",
              "    <tr style=\"text-align: right;\">\n",
              "      <th></th>\n",
              "      <th>DISTRITO_x</th>\n",
              "      <th>LUGAR ACCIDENTE</th>\n",
              "      <th>Nº</th>\n",
              "      <th>DIRECCION</th>\n",
              "      <th>DISTRITO_y</th>\n",
              "      <th>BARRIO</th>\n",
              "      <th>CP</th>\n",
              "      <th>LAT</th>\n",
              "      <th>LNG</th>\n",
              "    </tr>\n",
              "  </thead>\n",
              "  <tbody>\n",
              "    <tr>\n",
              "      <th>17</th>\n",
              "      <td>VILLAVERDE</td>\n",
              "      <td>AVENIDA DE ANDALUCIA - AUTOVIA  M-40</td>\n",
              "      <td></td>\n",
              "      <td>AVENIDA DE ANDALUCIA &amp; AUTOVIA  M-40</td>\n",
              "      <td>NaN</td>\n",
              "      <td>NaN</td>\n",
              "      <td>NaN</td>\n",
              "      <td>NaN</td>\n",
              "      <td>NaN</td>\n",
              "    </tr>\n",
              "    <tr>\n",
              "      <th>19</th>\n",
              "      <td>HORTALEZA</td>\n",
              "      <td>CARRETERA DE CANILLAS - CALLE DEL RIO DUERO</td>\n",
              "      <td></td>\n",
              "      <td>CARRETERA DE CANILLAS &amp; CALLE DEL RIO DUERO</td>\n",
              "      <td>NaN</td>\n",
              "      <td>NaN</td>\n",
              "      <td>NaN</td>\n",
              "      <td>NaN</td>\n",
              "      <td>NaN</td>\n",
              "    </tr>\n",
              "    <tr>\n",
              "      <th>38</th>\n",
              "      <td>FUENCARRAL-EL PARDO</td>\n",
              "      <td>AVENIDA DEL VENTISQUERO DE LA CONDESA NUM</td>\n",
              "      <td>20</td>\n",
              "      <td>AVENIDA DEL VENTISQUERO DE LA CONDESA 20</td>\n",
              "      <td>NaN</td>\n",
              "      <td>NaN</td>\n",
              "      <td>NaN</td>\n",
              "      <td>NaN</td>\n",
              "      <td>NaN</td>\n",
              "    </tr>\n",
              "    <tr>\n",
              "      <th>40</th>\n",
              "      <td>PUENTE DE VALLECAS</td>\n",
              "      <td>CALLE DE MENDEZ ALVARO - CARRETERA DE LA ESTACION DE CONTENEDORES</td>\n",
              "      <td></td>\n",
              "      <td>CALLE DE MENDEZ ALVARO &amp; CARRETERA DE LA ESTACION DE CONTENEDORES</td>\n",
              "      <td>NaN</td>\n",
              "      <td>NaN</td>\n",
              "      <td>NaN</td>\n",
              "      <td>NaN</td>\n",
              "      <td>NaN</td>\n",
              "    </tr>\n",
              "    <tr>\n",
              "      <th>42</th>\n",
              "      <td>LATINA</td>\n",
              "      <td>CALLE DE LA SINFONIA - CALLE DE RAFAEL FINAT</td>\n",
              "      <td></td>\n",
              "      <td>CALLE DE LA SINFONIA &amp; CALLE DE RAFAEL FINAT</td>\n",
              "      <td>NaN</td>\n",
              "      <td>NaN</td>\n",
              "      <td>NaN</td>\n",
              "      <td>NaN</td>\n",
              "      <td>NaN</td>\n",
              "    </tr>\n",
              "  </tbody>\n",
              "</table>\n",
              "</div>"
            ],
            "text/plain": [
              "             DISTRITO_x  ...  LNG\n",
              "17           VILLAVERDE  ...  NaN\n",
              "19            HORTALEZA  ...  NaN\n",
              "38  FUENCARRAL-EL PARDO  ...  NaN\n",
              "40   PUENTE DE VALLECAS  ...  NaN\n",
              "42               LATINA  ...  NaN\n",
              "\n",
              "[5 rows x 9 columns]"
            ]
          },
          "metadata": {
            "tags": []
          },
          "execution_count": 34
        }
      ]
    },
    {
      "cell_type": "code",
      "metadata": {
        "id": "c4B9_zhTl1gb"
      },
      "source": [
        "# Seleccionamos direcciones sin geolocalizar y eliminamos columnas del dataset geolocations\n",
        "df_tmp = df_tmp[df_tmp['BARRIO'].isnull()].drop(['DIRECCION','DISTRITO_y','BARRIO','CP','LAT','LNG'],\n",
        "                                                axis=1)\n",
        "# Renombramos columna Distrito\n",
        "df_tmp.rename(columns={'DISTRITO_x':'DISTRITO'}, inplace=True)\n",
        "\n",
        "# Añadimos direcciones al dataset creado inicialmente para direcciones no geolocalizadas\n",
        "dir_nogeo = pd.concat([dir_nogeo, df_tmp]).reset_index(drop=True)\n",
        "\n",
        "# Guardamos en un fichero CSV el dataset\n",
        "dir_nogeo.to_csv('dir_nogeo.csv', sep=';', encoding='latin-1', index=False)"
      ],
      "execution_count": null,
      "outputs": []
    },
    {
      "cell_type": "markdown",
      "metadata": {
        "id": "uNt5DELzUWXN"
      },
      "source": [
        "## Preparación del dataset"
      ]
    },
    {
      "cell_type": "markdown",
      "metadata": {
        "id": "AN3V3L52BYHs"
      },
      "source": [
        "Una vez limpiado el dataset y geolocalizado las direcciones de los accidentes, vamos a preparar el dataset para su posterior análisis:"
      ]
    },
    {
      "cell_type": "markdown",
      "metadata": {
        "id": "j2I2d6QFBbca"
      },
      "source": [
        "### Añadir información geográfica"
      ]
    },
    {
      "cell_type": "markdown",
      "metadata": {
        "id": "SKIl-e62r32W"
      },
      "source": [
        "El dataset `geolocations`contiene la dirección geolocalizada de cada accidente junto con su código postal y barrio, vamos a añadir esta información al dataset `accidentes`:\n",
        "\n",
        "En primer lugar, es necesario crear una nueva columna llamada `DIRECCION` que utilizaremos como identificador clave cuando unamos ambos datasets con la función [merge](https://pandas.pydata.org/pandas-docs/stable/reference/api/pandas.DataFrame.merge.html) de Pandas.\n",
        "\n",
        "Esta columna tendrá el mismo formato que utilizamos en el dataset `geolocations`, por ejemplo:\n",
        "\n",
        "* *AVENIDA DEL VENTISQUERO DE LA CONDESA NUM 20* cambiará a *AVENIDA DEL VENTISQUERO DE LA CONDESA 20*\n",
        "\n",
        "* *CALLE DE LA SINFONIA - CALLE DE RAFAEL FINAT* cambiará a *CALLE DE LA SINFONIA & CALLE DE RAFAEL FINAT*"
      ]
    },
    {
      "cell_type": "code",
      "metadata": {
        "id": "gnI9-W3qtUbg"
      },
      "source": [
        "accidentes['DIRECCION'] = accidentes['LUGAR ACCIDENTE'].str.replace('\\sNUM$', '') + ' ' + accidentes['Nº']\n",
        "accidentes['DIRECCION'] = accidentes['DIRECCION'].str.replace('\\s-\\s',' & ').str.strip()"
      ],
      "execution_count": null,
      "outputs": []
    },
    {
      "cell_type": "markdown",
      "metadata": {
        "id": "Meb6JFuGuGyI"
      },
      "source": [
        "Ahora uniremos los datasets `accidentes` y `geolocations` utilizando una unión tipo *inner* y la columna `DIRECCION` como identificador: "
      ]
    },
    {
      "cell_type": "code",
      "metadata": {
        "id": "6Xi6eCIWw81y",
        "outputId": "b594a5fc-e2fb-46fc-aef9-7428c7ccd458",
        "colab": {
          "base_uri": "https://localhost:8080/",
          "height": 976
        }
      },
      "source": [
        "accidentes = pd.merge(accidentes, geolocations, left_on='DIRECCION', right_on='DIRECCION', how='inner')\n",
        "\n",
        "accidentes"
      ],
      "execution_count": null,
      "outputs": [
        {
          "output_type": "execute_result",
          "data": {
            "text/html": [
              "<div>\n",
              "<style scoped>\n",
              "    .dataframe tbody tr th:only-of-type {\n",
              "        vertical-align: middle;\n",
              "    }\n",
              "\n",
              "    .dataframe tbody tr th {\n",
              "        vertical-align: top;\n",
              "    }\n",
              "\n",
              "    .dataframe thead th {\n",
              "        text-align: right;\n",
              "    }\n",
              "</style>\n",
              "<table border=\"1\" class=\"dataframe\">\n",
              "  <thead>\n",
              "    <tr style=\"text-align: right;\">\n",
              "      <th></th>\n",
              "      <th>FECHA</th>\n",
              "      <th>RANGO HORARIO</th>\n",
              "      <th>DIA SEMANA</th>\n",
              "      <th>DISTRITO_x</th>\n",
              "      <th>LUGAR ACCIDENTE</th>\n",
              "      <th>Nº</th>\n",
              "      <th>Nº PARTE</th>\n",
              "      <th>CPFA Granizo</th>\n",
              "      <th>CPFA Hielo</th>\n",
              "      <th>CPFA Lluvia</th>\n",
              "      <th>CPFA Niebla</th>\n",
              "      <th>CPFA Seco</th>\n",
              "      <th>CPFA Nieve</th>\n",
              "      <th>CPSV Mojada</th>\n",
              "      <th>CPSV Aceite</th>\n",
              "      <th>CPSV Barro</th>\n",
              "      <th>CPSV Grava Suelta</th>\n",
              "      <th>CPSV Hielo</th>\n",
              "      <th>CPSV Seca Y Limpia</th>\n",
              "      <th>TIPO ACCIDENTE</th>\n",
              "      <th>TIPO VEHICULO</th>\n",
              "      <th>TIPO PERSONA</th>\n",
              "      <th>SEXO</th>\n",
              "      <th>LESIVIDAD</th>\n",
              "      <th>TRAMO EDAD</th>\n",
              "      <th>Nº VICTIMAS</th>\n",
              "      <th>DIRECCION</th>\n",
              "      <th>DISTRITO_y</th>\n",
              "      <th>BARRIO</th>\n",
              "      <th>CP</th>\n",
              "      <th>LAT</th>\n",
              "      <th>LNG</th>\n",
              "    </tr>\n",
              "  </thead>\n",
              "  <tbody>\n",
              "    <tr>\n",
              "      <th>0</th>\n",
              "      <td>01/01/2010</td>\n",
              "      <td>DE 00:00 A 00:59</td>\n",
              "      <td>VIERNES</td>\n",
              "      <td>CHAMARTIN</td>\n",
              "      <td>CALLE DE CARTAGENA NUM</td>\n",
              "      <td>104</td>\n",
              "      <td>2010/135</td>\n",
              "      <td>NO</td>\n",
              "      <td>NO</td>\n",
              "      <td>SI</td>\n",
              "      <td>NO</td>\n",
              "      <td>NO</td>\n",
              "      <td>NO</td>\n",
              "      <td>SI</td>\n",
              "      <td>NO</td>\n",
              "      <td>NO</td>\n",
              "      <td>NO</td>\n",
              "      <td>NO</td>\n",
              "      <td>NO</td>\n",
              "      <td>COLISIÓN DOBLE</td>\n",
              "      <td>TURISMO</td>\n",
              "      <td>CONDUCTOR</td>\n",
              "      <td>HOMBRE</td>\n",
              "      <td>IL</td>\n",
              "      <td>DE 18 A 20</td>\n",
              "      <td>1</td>\n",
              "      <td>CALLE DE CARTAGENA 104</td>\n",
              "      <td>CHAMARTIN</td>\n",
              "      <td>PROSPERIDAD</td>\n",
              "      <td>28002</td>\n",
              "      <td>40.43944000000001</td>\n",
              "      <td>-3.67348</td>\n",
              "    </tr>\n",
              "    <tr>\n",
              "      <th>1</th>\n",
              "      <td>01/01/2010</td>\n",
              "      <td>DE 00:00 A 00:59</td>\n",
              "      <td>VIERNES</td>\n",
              "      <td>CHAMARTIN</td>\n",
              "      <td>CALLE DE CARTAGENA NUM</td>\n",
              "      <td>104</td>\n",
              "      <td>2010/135</td>\n",
              "      <td>NO</td>\n",
              "      <td>NO</td>\n",
              "      <td>SI</td>\n",
              "      <td>NO</td>\n",
              "      <td>NO</td>\n",
              "      <td>NO</td>\n",
              "      <td>SI</td>\n",
              "      <td>NO</td>\n",
              "      <td>NO</td>\n",
              "      <td>NO</td>\n",
              "      <td>NO</td>\n",
              "      <td>NO</td>\n",
              "      <td>COLISIÓN DOBLE</td>\n",
              "      <td>TURISMO</td>\n",
              "      <td>CONDUCTOR</td>\n",
              "      <td>HOMBRE</td>\n",
              "      <td>IL</td>\n",
              "      <td>DE 50 A 54</td>\n",
              "      <td>1</td>\n",
              "      <td>CALLE DE CARTAGENA 104</td>\n",
              "      <td>CHAMARTIN</td>\n",
              "      <td>PROSPERIDAD</td>\n",
              "      <td>28002</td>\n",
              "      <td>40.43944000000001</td>\n",
              "      <td>-3.67348</td>\n",
              "    </tr>\n",
              "    <tr>\n",
              "      <th>2</th>\n",
              "      <td>01/01/2010</td>\n",
              "      <td>DE 00:00 A 00:59</td>\n",
              "      <td>VIERNES</td>\n",
              "      <td>CHAMARTIN</td>\n",
              "      <td>CALLE DE CARTAGENA NUM</td>\n",
              "      <td>104</td>\n",
              "      <td>2010/135</td>\n",
              "      <td>NO</td>\n",
              "      <td>NO</td>\n",
              "      <td>SI</td>\n",
              "      <td>NO</td>\n",
              "      <td>NO</td>\n",
              "      <td>NO</td>\n",
              "      <td>SI</td>\n",
              "      <td>NO</td>\n",
              "      <td>NO</td>\n",
              "      <td>NO</td>\n",
              "      <td>NO</td>\n",
              "      <td>NO</td>\n",
              "      <td>COLISIÓN DOBLE</td>\n",
              "      <td>TURISMO</td>\n",
              "      <td>VIAJERO</td>\n",
              "      <td>MUJER</td>\n",
              "      <td>HL</td>\n",
              "      <td>DE 40 A 44</td>\n",
              "      <td>1</td>\n",
              "      <td>CALLE DE CARTAGENA 104</td>\n",
              "      <td>CHAMARTIN</td>\n",
              "      <td>PROSPERIDAD</td>\n",
              "      <td>28002</td>\n",
              "      <td>40.43944000000001</td>\n",
              "      <td>-3.67348</td>\n",
              "    </tr>\n",
              "    <tr>\n",
              "      <th>3</th>\n",
              "      <td>13/09/2011</td>\n",
              "      <td>DE 13:00 A 13:59</td>\n",
              "      <td>MARTES</td>\n",
              "      <td>CHAMARTIN</td>\n",
              "      <td>CALLE DE CARTAGENA NUM</td>\n",
              "      <td>104</td>\n",
              "      <td>2011/8233</td>\n",
              "      <td>NO</td>\n",
              "      <td>NO</td>\n",
              "      <td>NO</td>\n",
              "      <td>NO</td>\n",
              "      <td>SI</td>\n",
              "      <td>NO</td>\n",
              "      <td>NO</td>\n",
              "      <td>NO</td>\n",
              "      <td>NO</td>\n",
              "      <td>NO</td>\n",
              "      <td>NO</td>\n",
              "      <td>SI</td>\n",
              "      <td>COLISIÓN DOBLE</td>\n",
              "      <td>NO ASIGNADO</td>\n",
              "      <td>TESTIGO</td>\n",
              "      <td>HOMBRE</td>\n",
              "      <td>IL</td>\n",
              "      <td>DE 35 A 39</td>\n",
              "      <td>2</td>\n",
              "      <td>CALLE DE CARTAGENA 104</td>\n",
              "      <td>CHAMARTIN</td>\n",
              "      <td>PROSPERIDAD</td>\n",
              "      <td>28002</td>\n",
              "      <td>40.43944000000001</td>\n",
              "      <td>-3.67348</td>\n",
              "    </tr>\n",
              "    <tr>\n",
              "      <th>4</th>\n",
              "      <td>13/09/2011</td>\n",
              "      <td>DE 13:00 A 13:59</td>\n",
              "      <td>MARTES</td>\n",
              "      <td>CHAMARTIN</td>\n",
              "      <td>CALLE DE CARTAGENA NUM</td>\n",
              "      <td>104</td>\n",
              "      <td>2011/8233</td>\n",
              "      <td>NO</td>\n",
              "      <td>NO</td>\n",
              "      <td>NO</td>\n",
              "      <td>NO</td>\n",
              "      <td>SI</td>\n",
              "      <td>NO</td>\n",
              "      <td>NO</td>\n",
              "      <td>NO</td>\n",
              "      <td>NO</td>\n",
              "      <td>NO</td>\n",
              "      <td>NO</td>\n",
              "      <td>SI</td>\n",
              "      <td>COLISIÓN DOBLE</td>\n",
              "      <td>TURISMO</td>\n",
              "      <td>CONDUCTOR</td>\n",
              "      <td>HOMBRE</td>\n",
              "      <td>HL</td>\n",
              "      <td>DE 21 A 24</td>\n",
              "      <td>2</td>\n",
              "      <td>CALLE DE CARTAGENA 104</td>\n",
              "      <td>CHAMARTIN</td>\n",
              "      <td>PROSPERIDAD</td>\n",
              "      <td>28002</td>\n",
              "      <td>40.43944000000001</td>\n",
              "      <td>-3.67348</td>\n",
              "    </tr>\n",
              "    <tr>\n",
              "      <th>...</th>\n",
              "      <td>...</td>\n",
              "      <td>...</td>\n",
              "      <td>...</td>\n",
              "      <td>...</td>\n",
              "      <td>...</td>\n",
              "      <td>...</td>\n",
              "      <td>...</td>\n",
              "      <td>...</td>\n",
              "      <td>...</td>\n",
              "      <td>...</td>\n",
              "      <td>...</td>\n",
              "      <td>...</td>\n",
              "      <td>...</td>\n",
              "      <td>...</td>\n",
              "      <td>...</td>\n",
              "      <td>...</td>\n",
              "      <td>...</td>\n",
              "      <td>...</td>\n",
              "      <td>...</td>\n",
              "      <td>...</td>\n",
              "      <td>...</td>\n",
              "      <td>...</td>\n",
              "      <td>...</td>\n",
              "      <td>...</td>\n",
              "      <td>...</td>\n",
              "      <td>...</td>\n",
              "      <td>...</td>\n",
              "      <td>...</td>\n",
              "      <td>...</td>\n",
              "      <td>...</td>\n",
              "      <td>...</td>\n",
              "      <td>...</td>\n",
              "    </tr>\n",
              "    <tr>\n",
              "      <th>220292</th>\n",
              "      <td>31/12/2018</td>\n",
              "      <td>DE 13:00 A 13:59</td>\n",
              "      <td>LUNES</td>\n",
              "      <td>TETUAN</td>\n",
              "      <td>CALLE DE LA CASTELLANA - PLAZA DE LIMA</td>\n",
              "      <td></td>\n",
              "      <td>2019/38</td>\n",
              "      <td>NO</td>\n",
              "      <td>NO</td>\n",
              "      <td>NO</td>\n",
              "      <td>NO</td>\n",
              "      <td>SI</td>\n",
              "      <td>NO</td>\n",
              "      <td>NO</td>\n",
              "      <td>NO</td>\n",
              "      <td>NO</td>\n",
              "      <td>NO</td>\n",
              "      <td>NO</td>\n",
              "      <td>SI</td>\n",
              "      <td>COLISIÓN DOBLE</td>\n",
              "      <td>TURISMO</td>\n",
              "      <td>CONDUCTOR</td>\n",
              "      <td>MUJER</td>\n",
              "      <td>IL</td>\n",
              "      <td>DE 21 A 24</td>\n",
              "      <td>1</td>\n",
              "      <td>CALLE DE LA CASTELLANA &amp; PLAZA DE LIMA</td>\n",
              "      <td>TETUAN</td>\n",
              "      <td>CUATRO CAMINOS</td>\n",
              "      <td>28046</td>\n",
              "      <td>40.45257210000001</td>\n",
              "      <td>-3.6907112</td>\n",
              "    </tr>\n",
              "    <tr>\n",
              "      <th>220293</th>\n",
              "      <td>31/12/2018</td>\n",
              "      <td>DE 13:00 A 13:59</td>\n",
              "      <td>LUNES</td>\n",
              "      <td>TETUAN</td>\n",
              "      <td>CALLE DE LA CASTELLANA - PLAZA DE LIMA</td>\n",
              "      <td></td>\n",
              "      <td>2019/38</td>\n",
              "      <td>NO</td>\n",
              "      <td>NO</td>\n",
              "      <td>NO</td>\n",
              "      <td>NO</td>\n",
              "      <td>SI</td>\n",
              "      <td>NO</td>\n",
              "      <td>NO</td>\n",
              "      <td>NO</td>\n",
              "      <td>NO</td>\n",
              "      <td>NO</td>\n",
              "      <td>NO</td>\n",
              "      <td>SI</td>\n",
              "      <td>COLISIÓN DOBLE</td>\n",
              "      <td>MOTOCICLETA</td>\n",
              "      <td>CONDUCTOR</td>\n",
              "      <td>HOMBRE</td>\n",
              "      <td>HL</td>\n",
              "      <td>DE 25 A 29</td>\n",
              "      <td>1</td>\n",
              "      <td>CALLE DE LA CASTELLANA &amp; PLAZA DE LIMA</td>\n",
              "      <td>TETUAN</td>\n",
              "      <td>CUATRO CAMINOS</td>\n",
              "      <td>28046</td>\n",
              "      <td>40.45257210000001</td>\n",
              "      <td>-3.6907112</td>\n",
              "    </tr>\n",
              "    <tr>\n",
              "      <th>220294</th>\n",
              "      <td>31/12/2018</td>\n",
              "      <td>DE 23:00 A 23:59</td>\n",
              "      <td>LUNES</td>\n",
              "      <td>HORTALEZA</td>\n",
              "      <td>CALLE DE JOAQUIN FERNANDEZ LEIVA - CALLE DE SILVANO</td>\n",
              "      <td></td>\n",
              "      <td>2019/53</td>\n",
              "      <td>NO</td>\n",
              "      <td>NO</td>\n",
              "      <td>NO</td>\n",
              "      <td>NO</td>\n",
              "      <td>SI</td>\n",
              "      <td>NO</td>\n",
              "      <td>NO</td>\n",
              "      <td>NO</td>\n",
              "      <td>NO</td>\n",
              "      <td>NO</td>\n",
              "      <td>NO</td>\n",
              "      <td>SI</td>\n",
              "      <td>OTRAS CAUSAS</td>\n",
              "      <td>TURISMO</td>\n",
              "      <td>CONDUCTOR</td>\n",
              "      <td>MUJER</td>\n",
              "      <td>IL</td>\n",
              "      <td>DE 21 A 24</td>\n",
              "      <td>1</td>\n",
              "      <td>CALLE DE JOAQUIN FERNANDEZ LEIVA &amp; CALLE DE SILVANO</td>\n",
              "      <td>HORTALEZA</td>\n",
              "      <td>PIOVERA</td>\n",
              "      <td>28043</td>\n",
              "      <td>40.46263</td>\n",
              "      <td>-3.6305099999999997</td>\n",
              "    </tr>\n",
              "    <tr>\n",
              "      <th>220295</th>\n",
              "      <td>31/12/2018</td>\n",
              "      <td>DE 23:00 A 23:59</td>\n",
              "      <td>LUNES</td>\n",
              "      <td>HORTALEZA</td>\n",
              "      <td>CALLE DE JOAQUIN FERNANDEZ LEIVA - CALLE DE SILVANO</td>\n",
              "      <td></td>\n",
              "      <td>2019/53</td>\n",
              "      <td>NO</td>\n",
              "      <td>NO</td>\n",
              "      <td>NO</td>\n",
              "      <td>NO</td>\n",
              "      <td>SI</td>\n",
              "      <td>NO</td>\n",
              "      <td>NO</td>\n",
              "      <td>NO</td>\n",
              "      <td>NO</td>\n",
              "      <td>NO</td>\n",
              "      <td>NO</td>\n",
              "      <td>SI</td>\n",
              "      <td>OTRAS CAUSAS</td>\n",
              "      <td>TURISMO</td>\n",
              "      <td>CONDUCTOR</td>\n",
              "      <td>HOMBRE</td>\n",
              "      <td>HL</td>\n",
              "      <td>DE 50 A 54</td>\n",
              "      <td>1</td>\n",
              "      <td>CALLE DE JOAQUIN FERNANDEZ LEIVA &amp; CALLE DE SILVANO</td>\n",
              "      <td>HORTALEZA</td>\n",
              "      <td>PIOVERA</td>\n",
              "      <td>28043</td>\n",
              "      <td>40.46263</td>\n",
              "      <td>-3.6305099999999997</td>\n",
              "    </tr>\n",
              "    <tr>\n",
              "      <th>220296</th>\n",
              "      <td>31/12/2018</td>\n",
              "      <td>DE 23:00 A 23:59</td>\n",
              "      <td>LUNES</td>\n",
              "      <td>HORTALEZA</td>\n",
              "      <td>CALLE DE JOAQUIN FERNANDEZ LEIVA - CALLE DE SILVANO</td>\n",
              "      <td></td>\n",
              "      <td>2019/53</td>\n",
              "      <td>NO</td>\n",
              "      <td>NO</td>\n",
              "      <td>NO</td>\n",
              "      <td>NO</td>\n",
              "      <td>SI</td>\n",
              "      <td>NO</td>\n",
              "      <td>NO</td>\n",
              "      <td>NO</td>\n",
              "      <td>NO</td>\n",
              "      <td>NO</td>\n",
              "      <td>NO</td>\n",
              "      <td>SI</td>\n",
              "      <td>OTRAS CAUSAS</td>\n",
              "      <td>TURISMO</td>\n",
              "      <td>CONDUCTOR</td>\n",
              "      <td>NO ASIGNADO</td>\n",
              "      <td>NO ASIGNADA</td>\n",
              "      <td>DESCONOCIDA</td>\n",
              "      <td>1</td>\n",
              "      <td>CALLE DE JOAQUIN FERNANDEZ LEIVA &amp; CALLE DE SILVANO</td>\n",
              "      <td>HORTALEZA</td>\n",
              "      <td>PIOVERA</td>\n",
              "      <td>28043</td>\n",
              "      <td>40.46263</td>\n",
              "      <td>-3.6305099999999997</td>\n",
              "    </tr>\n",
              "  </tbody>\n",
              "</table>\n",
              "<p>220297 rows × 32 columns</p>\n",
              "</div>"
            ],
            "text/plain": [
              "             FECHA     RANGO HORARIO  ...                LAT                  LNG\n",
              "0       01/01/2010  DE 00:00 A 00:59  ...  40.43944000000001             -3.67348\n",
              "1       01/01/2010  DE 00:00 A 00:59  ...  40.43944000000001             -3.67348\n",
              "2       01/01/2010  DE 00:00 A 00:59  ...  40.43944000000001             -3.67348\n",
              "3       13/09/2011  DE 13:00 A 13:59  ...  40.43944000000001             -3.67348\n",
              "4       13/09/2011  DE 13:00 A 13:59  ...  40.43944000000001             -3.67348\n",
              "...            ...               ...  ...                ...                  ...\n",
              "220292  31/12/2018  DE 13:00 A 13:59  ...  40.45257210000001           -3.6907112\n",
              "220293  31/12/2018  DE 13:00 A 13:59  ...  40.45257210000001           -3.6907112\n",
              "220294  31/12/2018  DE 23:00 A 23:59  ...           40.46263  -3.6305099999999997\n",
              "220295  31/12/2018  DE 23:00 A 23:59  ...           40.46263  -3.6305099999999997\n",
              "220296  31/12/2018  DE 23:00 A 23:59  ...           40.46263  -3.6305099999999997\n",
              "\n",
              "[220297 rows x 32 columns]"
            ]
          },
          "metadata": {
            "tags": []
          },
          "execution_count": 37
        }
      ]
    },
    {
      "cell_type": "markdown",
      "metadata": {
        "id": "AFz-IHsA3qV9"
      },
      "source": [
        "Tras la unión, nuestro dataset conserva el 87% de los 252998 registros originales, datos suficientes para realizar un buen análisis y su visualización en un mapa.\n",
        "\n",
        "A continuación, vamos a realizar una serie de modificaciones en el dataset `accidentes`:"
      ]
    },
    {
      "cell_type": "markdown",
      "metadata": {
        "id": "NqRJxne7BePn"
      },
      "source": [
        "### Estado de la vía y meteorológico"
      ]
    },
    {
      "cell_type": "markdown",
      "metadata": {
        "id": "vb1bb2ump--7"
      },
      "source": [
        "En primer lugar, observamos que existen varias columnas referidas al estado **meteorológico** (*granizo, hielo, lluvia, niebla o seco*) y de la **vía** (*mojada, aceite, barro, grava suelta, hielo o seca y limpia*) en el momento del siniestro:"
      ]
    },
    {
      "cell_type": "code",
      "metadata": {
        "id": "S14oWS1SSvF0",
        "outputId": "45c470d0-a300-4072-d598-31af37468f1f",
        "colab": {
          "base_uri": "https://localhost:8080/",
          "height": 212
        }
      },
      "source": [
        "cols = ['CPFA Granizo', 'CPFA Hielo', 'CPFA Lluvia',\n",
        "        'CPFA Niebla', 'CPFA Seco', 'CPFA Nieve', 'CPSV Mojada', 'CPSV Aceite',\n",
        "        'CPSV Barro', 'CPSV Grava Suelta', 'CPSV Hielo', 'CPSV Seca Y Limpia']\n",
        "\n",
        "accidentes[cols].head()"
      ],
      "execution_count": null,
      "outputs": [
        {
          "output_type": "execute_result",
          "data": {
            "text/html": [
              "<div>\n",
              "<style scoped>\n",
              "    .dataframe tbody tr th:only-of-type {\n",
              "        vertical-align: middle;\n",
              "    }\n",
              "\n",
              "    .dataframe tbody tr th {\n",
              "        vertical-align: top;\n",
              "    }\n",
              "\n",
              "    .dataframe thead th {\n",
              "        text-align: right;\n",
              "    }\n",
              "</style>\n",
              "<table border=\"1\" class=\"dataframe\">\n",
              "  <thead>\n",
              "    <tr style=\"text-align: right;\">\n",
              "      <th></th>\n",
              "      <th>CPFA Granizo</th>\n",
              "      <th>CPFA Hielo</th>\n",
              "      <th>CPFA Lluvia</th>\n",
              "      <th>CPFA Niebla</th>\n",
              "      <th>CPFA Seco</th>\n",
              "      <th>CPFA Nieve</th>\n",
              "      <th>CPSV Mojada</th>\n",
              "      <th>CPSV Aceite</th>\n",
              "      <th>CPSV Barro</th>\n",
              "      <th>CPSV Grava Suelta</th>\n",
              "      <th>CPSV Hielo</th>\n",
              "      <th>CPSV Seca Y Limpia</th>\n",
              "    </tr>\n",
              "  </thead>\n",
              "  <tbody>\n",
              "    <tr>\n",
              "      <th>0</th>\n",
              "      <td>NO</td>\n",
              "      <td>NO</td>\n",
              "      <td>SI</td>\n",
              "      <td>NO</td>\n",
              "      <td>NO</td>\n",
              "      <td>NO</td>\n",
              "      <td>SI</td>\n",
              "      <td>NO</td>\n",
              "      <td>NO</td>\n",
              "      <td>NO</td>\n",
              "      <td>NO</td>\n",
              "      <td>NO</td>\n",
              "    </tr>\n",
              "    <tr>\n",
              "      <th>1</th>\n",
              "      <td>NO</td>\n",
              "      <td>NO</td>\n",
              "      <td>SI</td>\n",
              "      <td>NO</td>\n",
              "      <td>NO</td>\n",
              "      <td>NO</td>\n",
              "      <td>SI</td>\n",
              "      <td>NO</td>\n",
              "      <td>NO</td>\n",
              "      <td>NO</td>\n",
              "      <td>NO</td>\n",
              "      <td>NO</td>\n",
              "    </tr>\n",
              "    <tr>\n",
              "      <th>2</th>\n",
              "      <td>NO</td>\n",
              "      <td>NO</td>\n",
              "      <td>SI</td>\n",
              "      <td>NO</td>\n",
              "      <td>NO</td>\n",
              "      <td>NO</td>\n",
              "      <td>SI</td>\n",
              "      <td>NO</td>\n",
              "      <td>NO</td>\n",
              "      <td>NO</td>\n",
              "      <td>NO</td>\n",
              "      <td>NO</td>\n",
              "    </tr>\n",
              "    <tr>\n",
              "      <th>3</th>\n",
              "      <td>NO</td>\n",
              "      <td>NO</td>\n",
              "      <td>NO</td>\n",
              "      <td>NO</td>\n",
              "      <td>SI</td>\n",
              "      <td>NO</td>\n",
              "      <td>NO</td>\n",
              "      <td>NO</td>\n",
              "      <td>NO</td>\n",
              "      <td>NO</td>\n",
              "      <td>NO</td>\n",
              "      <td>SI</td>\n",
              "    </tr>\n",
              "    <tr>\n",
              "      <th>4</th>\n",
              "      <td>NO</td>\n",
              "      <td>NO</td>\n",
              "      <td>NO</td>\n",
              "      <td>NO</td>\n",
              "      <td>SI</td>\n",
              "      <td>NO</td>\n",
              "      <td>NO</td>\n",
              "      <td>NO</td>\n",
              "      <td>NO</td>\n",
              "      <td>NO</td>\n",
              "      <td>NO</td>\n",
              "      <td>SI</td>\n",
              "    </tr>\n",
              "  </tbody>\n",
              "</table>\n",
              "</div>"
            ],
            "text/plain": [
              "  CPFA Granizo CPFA Hielo  ... CPSV Hielo CPSV Seca Y Limpia\n",
              "0           NO         NO  ...         NO                 NO\n",
              "1           NO         NO  ...         NO                 NO\n",
              "2           NO         NO  ...         NO                 NO\n",
              "3           NO         NO  ...         NO                 SI\n",
              "4           NO         NO  ...         NO                 SI\n",
              "\n",
              "[5 rows x 12 columns]"
            ]
          },
          "metadata": {
            "tags": []
          },
          "execution_count": 38
        }
      ]
    },
    {
      "cell_type": "markdown",
      "metadata": {
        "id": "hfjWozySbQLl"
      },
      "source": [
        "Todas ellas poseen 2 únicos valores: SI o NO.<br>\n",
        "Además pueden ocurrir varias circunstancias al mismo tiempo, por ejemplo, que las condiciones medioambientales sea **lluvia y niebla** o que la vía esté **mojada y con barro**:"
      ]
    },
    {
      "cell_type": "code",
      "metadata": {
        "id": "auj2Ylnqb8OW",
        "outputId": "b89edd54-a66c-4a07-dc26-c9e7fdd04e54",
        "colab": {
          "base_uri": "https://localhost:8080/",
          "height": 181
        }
      },
      "source": [
        "# Estado meteorológico con lluvia y niebla\n",
        "accidentes[(accidentes['CPFA Lluvia']=='SI') & (accidentes['CPFA Niebla']=='SI')].head(1)"
      ],
      "execution_count": null,
      "outputs": [
        {
          "output_type": "execute_result",
          "data": {
            "text/html": [
              "<div>\n",
              "<style scoped>\n",
              "    .dataframe tbody tr th:only-of-type {\n",
              "        vertical-align: middle;\n",
              "    }\n",
              "\n",
              "    .dataframe tbody tr th {\n",
              "        vertical-align: top;\n",
              "    }\n",
              "\n",
              "    .dataframe thead th {\n",
              "        text-align: right;\n",
              "    }\n",
              "</style>\n",
              "<table border=\"1\" class=\"dataframe\">\n",
              "  <thead>\n",
              "    <tr style=\"text-align: right;\">\n",
              "      <th></th>\n",
              "      <th>FECHA</th>\n",
              "      <th>RANGO HORARIO</th>\n",
              "      <th>DIA SEMANA</th>\n",
              "      <th>DISTRITO_x</th>\n",
              "      <th>LUGAR ACCIDENTE</th>\n",
              "      <th>Nº</th>\n",
              "      <th>Nº PARTE</th>\n",
              "      <th>CPFA Granizo</th>\n",
              "      <th>CPFA Hielo</th>\n",
              "      <th>CPFA Lluvia</th>\n",
              "      <th>CPFA Niebla</th>\n",
              "      <th>CPFA Seco</th>\n",
              "      <th>CPFA Nieve</th>\n",
              "      <th>CPSV Mojada</th>\n",
              "      <th>CPSV Aceite</th>\n",
              "      <th>CPSV Barro</th>\n",
              "      <th>CPSV Grava Suelta</th>\n",
              "      <th>CPSV Hielo</th>\n",
              "      <th>CPSV Seca Y Limpia</th>\n",
              "      <th>TIPO ACCIDENTE</th>\n",
              "      <th>TIPO VEHICULO</th>\n",
              "      <th>TIPO PERSONA</th>\n",
              "      <th>SEXO</th>\n",
              "      <th>LESIVIDAD</th>\n",
              "      <th>TRAMO EDAD</th>\n",
              "      <th>Nº VICTIMAS</th>\n",
              "      <th>DIRECCION</th>\n",
              "      <th>DISTRITO_y</th>\n",
              "      <th>BARRIO</th>\n",
              "      <th>CP</th>\n",
              "      <th>LAT</th>\n",
              "      <th>LNG</th>\n",
              "    </tr>\n",
              "  </thead>\n",
              "  <tbody>\n",
              "    <tr>\n",
              "      <th>1079</th>\n",
              "      <td>04/01/2010</td>\n",
              "      <td>DE 4:00 A 4:59</td>\n",
              "      <td>LUNES</td>\n",
              "      <td>SAN BLAS</td>\n",
              "      <td>AVENIDA DE ARAGON NUM</td>\n",
              "      <td>332</td>\n",
              "      <td>2010/63</td>\n",
              "      <td>NO</td>\n",
              "      <td>NO</td>\n",
              "      <td>SI</td>\n",
              "      <td>SI</td>\n",
              "      <td>NO</td>\n",
              "      <td>NO</td>\n",
              "      <td>SI</td>\n",
              "      <td>NO</td>\n",
              "      <td>NO</td>\n",
              "      <td>NO</td>\n",
              "      <td>NO</td>\n",
              "      <td>NO</td>\n",
              "      <td>CHOQUE CON OBJETO FIJO</td>\n",
              "      <td>AUTO-TAXI</td>\n",
              "      <td>CONDUCTOR</td>\n",
              "      <td>HOMBRE</td>\n",
              "      <td>HL</td>\n",
              "      <td>DE 30 A 34</td>\n",
              "      <td>1</td>\n",
              "      <td>AVENIDA DE ARAGON 332</td>\n",
              "      <td>SAN BLAS-CANILLEJAS</td>\n",
              "      <td>REJAS</td>\n",
              "      <td>28022</td>\n",
              "      <td>40.4488866</td>\n",
              "      <td>-3.5767612</td>\n",
              "    </tr>\n",
              "  </tbody>\n",
              "</table>\n",
              "</div>"
            ],
            "text/plain": [
              "           FECHA   RANGO HORARIO DIA SEMANA  ...     CP         LAT         LNG\n",
              "1079  04/01/2010  DE 4:00 A 4:59      LUNES  ...  28022  40.4488866  -3.5767612\n",
              "\n",
              "[1 rows x 32 columns]"
            ]
          },
          "metadata": {
            "tags": []
          },
          "execution_count": 39
        }
      ]
    },
    {
      "cell_type": "code",
      "metadata": {
        "id": "vPV1kVGNYvl1",
        "outputId": "335a2315-0749-41a0-d150-9474516605f9",
        "colab": {
          "base_uri": "https://localhost:8080/",
          "height": 265
        }
      },
      "source": [
        "# Estado de la vía con barro y mojada\n",
        "accidentes[(accidentes['CPSV Barro']=='SI') & (accidentes['CPSV Mojada']=='SI')].head(1)"
      ],
      "execution_count": null,
      "outputs": [
        {
          "output_type": "execute_result",
          "data": {
            "text/html": [
              "<div>\n",
              "<style scoped>\n",
              "    .dataframe tbody tr th:only-of-type {\n",
              "        vertical-align: middle;\n",
              "    }\n",
              "\n",
              "    .dataframe tbody tr th {\n",
              "        vertical-align: top;\n",
              "    }\n",
              "\n",
              "    .dataframe thead th {\n",
              "        text-align: right;\n",
              "    }\n",
              "</style>\n",
              "<table border=\"1\" class=\"dataframe\">\n",
              "  <thead>\n",
              "    <tr style=\"text-align: right;\">\n",
              "      <th></th>\n",
              "      <th>FECHA</th>\n",
              "      <th>RANGO HORARIO</th>\n",
              "      <th>DIA SEMANA</th>\n",
              "      <th>DISTRITO_x</th>\n",
              "      <th>LUGAR ACCIDENTE</th>\n",
              "      <th>Nº</th>\n",
              "      <th>Nº PARTE</th>\n",
              "      <th>CPFA Granizo</th>\n",
              "      <th>CPFA Hielo</th>\n",
              "      <th>CPFA Lluvia</th>\n",
              "      <th>CPFA Niebla</th>\n",
              "      <th>CPFA Seco</th>\n",
              "      <th>CPFA Nieve</th>\n",
              "      <th>CPSV Mojada</th>\n",
              "      <th>CPSV Aceite</th>\n",
              "      <th>CPSV Barro</th>\n",
              "      <th>CPSV Grava Suelta</th>\n",
              "      <th>CPSV Hielo</th>\n",
              "      <th>CPSV Seca Y Limpia</th>\n",
              "      <th>TIPO ACCIDENTE</th>\n",
              "      <th>TIPO VEHICULO</th>\n",
              "      <th>TIPO PERSONA</th>\n",
              "      <th>SEXO</th>\n",
              "      <th>LESIVIDAD</th>\n",
              "      <th>TRAMO EDAD</th>\n",
              "      <th>Nº VICTIMAS</th>\n",
              "      <th>DIRECCION</th>\n",
              "      <th>DISTRITO_y</th>\n",
              "      <th>BARRIO</th>\n",
              "      <th>CP</th>\n",
              "      <th>LAT</th>\n",
              "      <th>LNG</th>\n",
              "    </tr>\n",
              "  </thead>\n",
              "  <tbody>\n",
              "    <tr>\n",
              "      <th>2503</th>\n",
              "      <td>03/04/2011</td>\n",
              "      <td>DE 21:00 A 21:59</td>\n",
              "      <td>DOMINGO</td>\n",
              "      <td>PUENTE DE VALLECAS</td>\n",
              "      <td>CALLE DE CARLOS MARTIN ALVAREZ - CALLE DE MARTINEZ DE LA RIVA</td>\n",
              "      <td></td>\n",
              "      <td>2011/3014</td>\n",
              "      <td>NO</td>\n",
              "      <td>NO</td>\n",
              "      <td>SI</td>\n",
              "      <td>NO</td>\n",
              "      <td>NO</td>\n",
              "      <td>NO</td>\n",
              "      <td>SI</td>\n",
              "      <td>NO</td>\n",
              "      <td>SI</td>\n",
              "      <td>NO</td>\n",
              "      <td>NO</td>\n",
              "      <td>NO</td>\n",
              "      <td>CAÍDA CICLOMOTOR</td>\n",
              "      <td>NO ASIGNADO</td>\n",
              "      <td>TESTIGO</td>\n",
              "      <td>HOMBRE</td>\n",
              "      <td>IL</td>\n",
              "      <td>DE 25 A 29</td>\n",
              "      <td>1</td>\n",
              "      <td>CALLE DE CARLOS MARTIN ALVAREZ &amp; CALLE DE MARTINEZ DE LA RIVA</td>\n",
              "      <td>PUENTE DE VALLECAS</td>\n",
              "      <td>SAN DIEGO</td>\n",
              "      <td>28018</td>\n",
              "      <td>40.3882115</td>\n",
              "      <td>-3.6644348</td>\n",
              "    </tr>\n",
              "  </tbody>\n",
              "</table>\n",
              "</div>"
            ],
            "text/plain": [
              "           FECHA     RANGO HORARIO DIA SEMANA  ...     CP         LAT         LNG\n",
              "2503  03/04/2011  DE 21:00 A 21:59    DOMINGO  ...  28018  40.3882115  -3.6644348\n",
              "\n",
              "[1 rows x 32 columns]"
            ]
          },
          "metadata": {
            "tags": []
          },
          "execution_count": 40
        }
      ]
    },
    {
      "cell_type": "markdown",
      "metadata": {
        "id": "CPXHeAF-S2wU"
      },
      "source": [
        "Para facilitar nuestro análisis, vamos a crear 2 columnas nuevas `ESTADO METEOROLOGICO` y `ESTADO VIA` que unifiquen en un único valor el estado meteorológico y de la vía respectivamente:"
      ]
    },
    {
      "cell_type": "code",
      "metadata": {
        "id": "hZwl2rB5s74F",
        "outputId": "56e26181-c321-4987-f56b-746d8890680f",
        "colab": {
          "base_uri": "https://localhost:8080/",
          "height": 195
        }
      },
      "source": [
        "cols = ['CPFA Granizo', 'CPFA Hielo', 'CPFA Lluvia',\n",
        "        'CPFA Niebla', 'CPFA Seco', 'CPFA Nieve', 'CPSV Mojada', 'CPSV Aceite',\n",
        "        'CPSV Barro', 'CPSV Grava Suelta', 'CPSV Hielo', 'CPSV Seca Y Limpia']\n",
        "\n",
        "df_tmp = accidentes[cols].copy()\n",
        "\n",
        "# Para cada una de las columnas cambiamos los valores SI|NO por el nombre la columna\n",
        "for c in cols:\n",
        "  df_tmp[c] = df_tmp[c].apply(lambda x: c if x=='SI' else '')\n",
        "  df_tmp[c] = df_tmp[c].str.replace('CPFA|CPSV','', regex=True)\n",
        "\n",
        "# Sumamos valores de las columnas referidas a cada tipo de estado para mostrar un único valor\n",
        "accidentes['ESTADO METEOROLOGICO'] = df_tmp[['CPFA Granizo', 'CPFA Hielo', 'CPFA Lluvia',\n",
        "        'CPFA Niebla', 'CPFA Seco', 'CPFA Nieve']].sum(axis=1).str.strip()\n",
        "\n",
        "# Sumamos valores de las columnas referidas al estado de la vía para mostrar un único valor\n",
        "accidentes['ESTADO VIA'] = df_tmp[['CPSV Mojada', 'CPSV Aceite', 'CPSV Barro', 'CPSV Grava Suelta',\n",
        "            'CPSV Hielo', 'CPSV Seca Y Limpia']].sum(axis=1).str.strip()\n",
        "\n",
        "# Examinamos columnas creadas\n",
        "accidentes[['ESTADO METEOROLOGICO', 'ESTADO VIA']].head()"
      ],
      "execution_count": null,
      "outputs": [
        {
          "output_type": "execute_result",
          "data": {
            "text/html": [
              "<div>\n",
              "<style scoped>\n",
              "    .dataframe tbody tr th:only-of-type {\n",
              "        vertical-align: middle;\n",
              "    }\n",
              "\n",
              "    .dataframe tbody tr th {\n",
              "        vertical-align: top;\n",
              "    }\n",
              "\n",
              "    .dataframe thead th {\n",
              "        text-align: right;\n",
              "    }\n",
              "</style>\n",
              "<table border=\"1\" class=\"dataframe\">\n",
              "  <thead>\n",
              "    <tr style=\"text-align: right;\">\n",
              "      <th></th>\n",
              "      <th>ESTADO METEOROLOGICO</th>\n",
              "      <th>ESTADO VIA</th>\n",
              "    </tr>\n",
              "  </thead>\n",
              "  <tbody>\n",
              "    <tr>\n",
              "      <th>0</th>\n",
              "      <td>Lluvia</td>\n",
              "      <td>Mojada</td>\n",
              "    </tr>\n",
              "    <tr>\n",
              "      <th>1</th>\n",
              "      <td>Lluvia</td>\n",
              "      <td>Mojada</td>\n",
              "    </tr>\n",
              "    <tr>\n",
              "      <th>2</th>\n",
              "      <td>Lluvia</td>\n",
              "      <td>Mojada</td>\n",
              "    </tr>\n",
              "    <tr>\n",
              "      <th>3</th>\n",
              "      <td>Seco</td>\n",
              "      <td>Seca Y Limpia</td>\n",
              "    </tr>\n",
              "    <tr>\n",
              "      <th>4</th>\n",
              "      <td>Seco</td>\n",
              "      <td>Seca Y Limpia</td>\n",
              "    </tr>\n",
              "  </tbody>\n",
              "</table>\n",
              "</div>"
            ],
            "text/plain": [
              "  ESTADO METEOROLOGICO     ESTADO VIA\n",
              "0               Lluvia         Mojada\n",
              "1               Lluvia         Mojada\n",
              "2               Lluvia         Mojada\n",
              "3                 Seco  Seca Y Limpia\n",
              "4                 Seco  Seca Y Limpia"
            ]
          },
          "metadata": {
            "tags": []
          },
          "execution_count": 41
        }
      ]
    },
    {
      "cell_type": "code",
      "metadata": {
        "id": "OFeV90RzXUeZ",
        "outputId": "42586c18-0e46-4aab-c0f2-22082c2c6bbe",
        "colab": {
          "base_uri": "https://localhost:8080/",
          "height": 334
        }
      },
      "source": [
        "# Revisamos valores de la columna ESTADO METEOROLOGICO\n",
        "accidentes['ESTADO METEOROLOGICO'].value_counts()"
      ],
      "execution_count": null,
      "outputs": [
        {
          "output_type": "execute_result",
          "data": {
            "text/plain": [
              "Seco                                 196159\n",
              "Lluvia                                23166\n",
              "Niebla                                  377\n",
              "Nieve                                   216\n",
              "Hielo                                   127\n",
              "Niebla Seco                              65\n",
              "Lluvia Nieve                             61\n",
              "Lluvia Niebla                            36\n",
              "Lluvia Seco                              34\n",
              "Hielo Nieve                              17\n",
              "Granizo                                  14\n",
              "Granizo Lluvia                            9\n",
              "Hielo Seco                                6\n",
              "Granizo Hielo Lluvia Niebla Nieve         4\n",
              "Granizo Niebla                            3\n",
              "Hielo Niebla Nieve                        2\n",
              "Hielo Niebla                              1\n",
              "Name: ESTADO METEOROLOGICO, dtype: int64"
            ]
          },
          "metadata": {
            "tags": []
          },
          "execution_count": 42
        }
      ]
    },
    {
      "cell_type": "markdown",
      "metadata": {
        "id": "Pw6OUiA2dKu-"
      },
      "source": [
        "Nos llama la atención el estado Lluvia + Seco.\n",
        "\n",
        "Puede ser una errata al registrar el accidente o podemos suponer que es llovizna. En cualquier caso, encontramos pocos datos registrados con esa combinación."
      ]
    },
    {
      "cell_type": "code",
      "metadata": {
        "id": "Z-ZN9h2wXArS",
        "outputId": "dfadacf0-73b7-4ee4-a137-e9ee788150ef",
        "colab": {
          "base_uri": "https://localhost:8080/",
          "height": 457
        }
      },
      "source": [
        "# Revisamos valores de la columna ESTADO VIA\n",
        "accidentes['ESTADO VIA'].value_counts()"
      ],
      "execution_count": null,
      "outputs": [
        {
          "output_type": "execute_result",
          "data": {
            "text/plain": [
              "Seca Y Limpia                             191396\n",
              "Mojada                                     26636\n",
              "                                             798\n",
              "Aceite                                       413\n",
              "Grava Suelta                                 409\n",
              "Hielo                                        234\n",
              "Mojada Seca Y Limpia                          65\n",
              "Mojada Barro                                  65\n",
              "Barro                                         54\n",
              "Grava Suelta Seca Y Limpia                    50\n",
              "Mojada Hielo                                  41\n",
              "Mojada Grava Suelta                           37\n",
              "Mojada Aceite                                 36\n",
              "Aceite Seca Y Limpia                          21\n",
              "Mojada Barro Grava Suelta                     12\n",
              "Barro Grava Suelta                            10\n",
              "Barro Seca Y Limpia                            8\n",
              "Mojada Aceite Barro Grava Suelta Hielo         4\n",
              "Mojada Barro Hielo                             2\n",
              "Barro Grava Suelta Seca Y Limpia               2\n",
              "Aceite Grava Suelta                            1\n",
              "Mojada Aceite Grava Suelta                     1\n",
              "Aceite Barro Grava Suelta                      1\n",
              "Aceite Grava Suelta Seca Y Limpia              1\n",
              "Name: ESTADO VIA, dtype: int64"
            ]
          },
          "metadata": {
            "tags": []
          },
          "execution_count": 43
        }
      ]
    },
    {
      "cell_type": "markdown",
      "metadata": {
        "id": "bWlIogZsfJph"
      },
      "source": [
        "Respecto al estado de la vía, encontramos en el 3º puesto un valor nulo con el caracter '' que corresponde al valor NO en todas las columnas referidas a esta circunstancia:"
      ]
    },
    {
      "cell_type": "code",
      "metadata": {
        "id": "8KeiRabjtxz1",
        "outputId": "89b9f6ac-b91d-4f4e-9745-5f30be359489",
        "colab": {
          "base_uri": "https://localhost:8080/",
          "height": 34
        }
      },
      "source": [
        "via_filter = (accidentes['CPSV Mojada']=='NO') & (accidentes['CPSV Aceite']=='NO') &\\\n",
        "  (accidentes['CPSV Hielo']=='NO') & (accidentes['CPSV Barro']=='NO') &\\\n",
        "  (accidentes['CPSV Seca Y Limpia']=='NO') &\\\n",
        "  (accidentes['CPSV Aceite']=='NO') & (accidentes['CPSV Grava Suelta']=='NO')\n",
        "\n",
        "accidentes[via_filter].shape"
      ],
      "execution_count": null,
      "outputs": [
        {
          "output_type": "execute_result",
          "data": {
            "text/plain": [
              "(798, 34)"
            ]
          },
          "metadata": {
            "tags": []
          },
          "execution_count": 44
        }
      ]
    },
    {
      "cell_type": "markdown",
      "metadata": {
        "id": "pVEvqKl0vldV"
      },
      "source": [
        "Examinando las condiciones meteorológicas podemos averiguar cuál sería el estado de la vía y asignarle un valor:"
      ]
    },
    {
      "cell_type": "code",
      "metadata": {
        "id": "pBxhBmfxlDso",
        "outputId": "99a3216d-03c5-4a47-a226-433bb5674efa",
        "colab": {
          "base_uri": "https://localhost:8080/",
          "height": 106
        }
      },
      "source": [
        "meteo_cols = ['CPFA Granizo', 'CPFA Hielo', 'CPFA Lluvia', 'CPFA Niebla', 'CPFA Seco', 'CPFA Nieve']\n",
        "\n",
        "accidentes.loc[via_filter, meteo_cols].apply(pd.Series.value_counts)"
      ],
      "execution_count": null,
      "outputs": [
        {
          "output_type": "execute_result",
          "data": {
            "text/html": [
              "<div>\n",
              "<style scoped>\n",
              "    .dataframe tbody tr th:only-of-type {\n",
              "        vertical-align: middle;\n",
              "    }\n",
              "\n",
              "    .dataframe tbody tr th {\n",
              "        vertical-align: top;\n",
              "    }\n",
              "\n",
              "    .dataframe thead th {\n",
              "        text-align: right;\n",
              "    }\n",
              "</style>\n",
              "<table border=\"1\" class=\"dataframe\">\n",
              "  <thead>\n",
              "    <tr style=\"text-align: right;\">\n",
              "      <th></th>\n",
              "      <th>CPFA Granizo</th>\n",
              "      <th>CPFA Hielo</th>\n",
              "      <th>CPFA Lluvia</th>\n",
              "      <th>CPFA Niebla</th>\n",
              "      <th>CPFA Seco</th>\n",
              "      <th>CPFA Nieve</th>\n",
              "    </tr>\n",
              "  </thead>\n",
              "  <tbody>\n",
              "    <tr>\n",
              "      <th>NO</th>\n",
              "      <td>798.0</td>\n",
              "      <td>794</td>\n",
              "      <td>774</td>\n",
              "      <td>766</td>\n",
              "      <td>65</td>\n",
              "      <td>787</td>\n",
              "    </tr>\n",
              "    <tr>\n",
              "      <th>SI</th>\n",
              "      <td>NaN</td>\n",
              "      <td>4</td>\n",
              "      <td>24</td>\n",
              "      <td>32</td>\n",
              "      <td>733</td>\n",
              "      <td>11</td>\n",
              "    </tr>\n",
              "  </tbody>\n",
              "</table>\n",
              "</div>"
            ],
            "text/plain": [
              "    CPFA Granizo  CPFA Hielo  CPFA Lluvia  CPFA Niebla  CPFA Seco  CPFA Nieve\n",
              "NO         798.0         794          774          766         65         787\n",
              "SI           NaN           4           24           32        733          11"
            ]
          },
          "metadata": {
            "tags": []
          },
          "execution_count": 45
        }
      ]
    },
    {
      "cell_type": "code",
      "metadata": {
        "id": "ORaWxvPax8Ue"
      },
      "source": [
        "accidentes.loc[(via_filter) & (accidentes['CPFA Seco']=='SI'), 'ESTADO VIA'] = 'Seca Y Limpia'\n",
        "accidentes.loc[(via_filter) & (accidentes['CPFA Lluvia']=='SI'), 'ESTADO VIA'] = 'Mojada'\n",
        "accidentes.loc[(via_filter) & (accidentes['CPFA Hielo']=='SI'), 'ESTADO VIA'] = 'Hielo'\n",
        "accidentes.loc[(via_filter) & (accidentes['CPFA Nieve']=='SI'), 'ESTADO VIA'] = 'Mojada'\n",
        "accidentes.loc[(via_filter) & (accidentes['CPFA Niebla']=='SI') & (accidentes['CPFA Lluvia']=='SI'), 'ESTADO VIA'] = 'Mojada'\n",
        "accidentes.loc[(via_filter) & (accidentes['CPFA Niebla']=='SI') & (accidentes['CPFA Seco']=='SI'), 'ESTADO VIA'] = 'Seca Y Limpia'\n",
        "accidentes.loc[(via_filter) & (accidentes['CPFA Niebla']=='SI'), 'ESTADO VIA'] = 'Mojada'"
      ],
      "execution_count": null,
      "outputs": []
    },
    {
      "cell_type": "code",
      "metadata": {
        "id": "nV0jY9gkyfIp",
        "outputId": "bd4a2e3e-5845-4275-8d89-c0cff254aa7d",
        "colab": {
          "base_uri": "https://localhost:8080/",
          "height": 439
        }
      },
      "source": [
        "# Revisamos valores de la columna ESTADO VIA\n",
        "accidentes['ESTADO VIA'].value_counts()"
      ],
      "execution_count": null,
      "outputs": [
        {
          "output_type": "execute_result",
          "data": {
            "text/plain": [
              "Seca Y Limpia                             192123\n",
              "Mojada                                     26703\n",
              "Aceite                                       413\n",
              "Grava Suelta                                 409\n",
              "Hielo                                        238\n",
              "Mojada Seca Y Limpia                          65\n",
              "Mojada Barro                                  65\n",
              "Barro                                         54\n",
              "Grava Suelta Seca Y Limpia                    50\n",
              "Mojada Hielo                                  41\n",
              "Mojada Grava Suelta                           37\n",
              "Mojada Aceite                                 36\n",
              "Aceite Seca Y Limpia                          21\n",
              "Mojada Barro Grava Suelta                     12\n",
              "Barro Grava Suelta                            10\n",
              "Barro Seca Y Limpia                            8\n",
              "Mojada Aceite Barro Grava Suelta Hielo         4\n",
              "Mojada Barro Hielo                             2\n",
              "Barro Grava Suelta Seca Y Limpia               2\n",
              "Mojada Aceite Grava Suelta                     1\n",
              "Aceite Grava Suelta                            1\n",
              "Aceite Barro Grava Suelta                      1\n",
              "Aceite Grava Suelta Seca Y Limpia              1\n",
              "Name: ESTADO VIA, dtype: int64"
            ]
          },
          "metadata": {
            "tags": []
          },
          "execution_count": 47
        }
      ]
    },
    {
      "cell_type": "code",
      "metadata": {
        "id": "HIctXrQF4l8N",
        "outputId": "10efa7de-ea47-4900-97dd-2f7959babcba",
        "colab": {
          "base_uri": "https://localhost:8080/",
          "height": 400
        }
      },
      "source": [
        "# Eliminamos columnas individuales\n",
        "accidentes.drop(cols, axis=1, inplace=True)\n",
        "\n",
        "# Revisamos dataset\n",
        "accidentes.head()"
      ],
      "execution_count": null,
      "outputs": [
        {
          "output_type": "execute_result",
          "data": {
            "text/html": [
              "<div>\n",
              "<style scoped>\n",
              "    .dataframe tbody tr th:only-of-type {\n",
              "        vertical-align: middle;\n",
              "    }\n",
              "\n",
              "    .dataframe tbody tr th {\n",
              "        vertical-align: top;\n",
              "    }\n",
              "\n",
              "    .dataframe thead th {\n",
              "        text-align: right;\n",
              "    }\n",
              "</style>\n",
              "<table border=\"1\" class=\"dataframe\">\n",
              "  <thead>\n",
              "    <tr style=\"text-align: right;\">\n",
              "      <th></th>\n",
              "      <th>FECHA</th>\n",
              "      <th>RANGO HORARIO</th>\n",
              "      <th>DIA SEMANA</th>\n",
              "      <th>DISTRITO_x</th>\n",
              "      <th>LUGAR ACCIDENTE</th>\n",
              "      <th>Nº</th>\n",
              "      <th>Nº PARTE</th>\n",
              "      <th>TIPO ACCIDENTE</th>\n",
              "      <th>TIPO VEHICULO</th>\n",
              "      <th>TIPO PERSONA</th>\n",
              "      <th>SEXO</th>\n",
              "      <th>LESIVIDAD</th>\n",
              "      <th>TRAMO EDAD</th>\n",
              "      <th>Nº VICTIMAS</th>\n",
              "      <th>DIRECCION</th>\n",
              "      <th>DISTRITO_y</th>\n",
              "      <th>BARRIO</th>\n",
              "      <th>CP</th>\n",
              "      <th>LAT</th>\n",
              "      <th>LNG</th>\n",
              "      <th>ESTADO METEOROLOGICO</th>\n",
              "      <th>ESTADO VIA</th>\n",
              "    </tr>\n",
              "  </thead>\n",
              "  <tbody>\n",
              "    <tr>\n",
              "      <th>0</th>\n",
              "      <td>01/01/2010</td>\n",
              "      <td>DE 00:00 A 00:59</td>\n",
              "      <td>VIERNES</td>\n",
              "      <td>CHAMARTIN</td>\n",
              "      <td>CALLE DE CARTAGENA NUM</td>\n",
              "      <td>104</td>\n",
              "      <td>2010/135</td>\n",
              "      <td>COLISIÓN DOBLE</td>\n",
              "      <td>TURISMO</td>\n",
              "      <td>CONDUCTOR</td>\n",
              "      <td>HOMBRE</td>\n",
              "      <td>IL</td>\n",
              "      <td>DE 18 A 20</td>\n",
              "      <td>1</td>\n",
              "      <td>CALLE DE CARTAGENA 104</td>\n",
              "      <td>CHAMARTIN</td>\n",
              "      <td>PROSPERIDAD</td>\n",
              "      <td>28002</td>\n",
              "      <td>40.43944000000001</td>\n",
              "      <td>-3.67348</td>\n",
              "      <td>Lluvia</td>\n",
              "      <td>Mojada</td>\n",
              "    </tr>\n",
              "    <tr>\n",
              "      <th>1</th>\n",
              "      <td>01/01/2010</td>\n",
              "      <td>DE 00:00 A 00:59</td>\n",
              "      <td>VIERNES</td>\n",
              "      <td>CHAMARTIN</td>\n",
              "      <td>CALLE DE CARTAGENA NUM</td>\n",
              "      <td>104</td>\n",
              "      <td>2010/135</td>\n",
              "      <td>COLISIÓN DOBLE</td>\n",
              "      <td>TURISMO</td>\n",
              "      <td>CONDUCTOR</td>\n",
              "      <td>HOMBRE</td>\n",
              "      <td>IL</td>\n",
              "      <td>DE 50 A 54</td>\n",
              "      <td>1</td>\n",
              "      <td>CALLE DE CARTAGENA 104</td>\n",
              "      <td>CHAMARTIN</td>\n",
              "      <td>PROSPERIDAD</td>\n",
              "      <td>28002</td>\n",
              "      <td>40.43944000000001</td>\n",
              "      <td>-3.67348</td>\n",
              "      <td>Lluvia</td>\n",
              "      <td>Mojada</td>\n",
              "    </tr>\n",
              "    <tr>\n",
              "      <th>2</th>\n",
              "      <td>01/01/2010</td>\n",
              "      <td>DE 00:00 A 00:59</td>\n",
              "      <td>VIERNES</td>\n",
              "      <td>CHAMARTIN</td>\n",
              "      <td>CALLE DE CARTAGENA NUM</td>\n",
              "      <td>104</td>\n",
              "      <td>2010/135</td>\n",
              "      <td>COLISIÓN DOBLE</td>\n",
              "      <td>TURISMO</td>\n",
              "      <td>VIAJERO</td>\n",
              "      <td>MUJER</td>\n",
              "      <td>HL</td>\n",
              "      <td>DE 40 A 44</td>\n",
              "      <td>1</td>\n",
              "      <td>CALLE DE CARTAGENA 104</td>\n",
              "      <td>CHAMARTIN</td>\n",
              "      <td>PROSPERIDAD</td>\n",
              "      <td>28002</td>\n",
              "      <td>40.43944000000001</td>\n",
              "      <td>-3.67348</td>\n",
              "      <td>Lluvia</td>\n",
              "      <td>Mojada</td>\n",
              "    </tr>\n",
              "    <tr>\n",
              "      <th>3</th>\n",
              "      <td>13/09/2011</td>\n",
              "      <td>DE 13:00 A 13:59</td>\n",
              "      <td>MARTES</td>\n",
              "      <td>CHAMARTIN</td>\n",
              "      <td>CALLE DE CARTAGENA NUM</td>\n",
              "      <td>104</td>\n",
              "      <td>2011/8233</td>\n",
              "      <td>COLISIÓN DOBLE</td>\n",
              "      <td>NO ASIGNADO</td>\n",
              "      <td>TESTIGO</td>\n",
              "      <td>HOMBRE</td>\n",
              "      <td>IL</td>\n",
              "      <td>DE 35 A 39</td>\n",
              "      <td>2</td>\n",
              "      <td>CALLE DE CARTAGENA 104</td>\n",
              "      <td>CHAMARTIN</td>\n",
              "      <td>PROSPERIDAD</td>\n",
              "      <td>28002</td>\n",
              "      <td>40.43944000000001</td>\n",
              "      <td>-3.67348</td>\n",
              "      <td>Seco</td>\n",
              "      <td>Seca Y Limpia</td>\n",
              "    </tr>\n",
              "    <tr>\n",
              "      <th>4</th>\n",
              "      <td>13/09/2011</td>\n",
              "      <td>DE 13:00 A 13:59</td>\n",
              "      <td>MARTES</td>\n",
              "      <td>CHAMARTIN</td>\n",
              "      <td>CALLE DE CARTAGENA NUM</td>\n",
              "      <td>104</td>\n",
              "      <td>2011/8233</td>\n",
              "      <td>COLISIÓN DOBLE</td>\n",
              "      <td>TURISMO</td>\n",
              "      <td>CONDUCTOR</td>\n",
              "      <td>HOMBRE</td>\n",
              "      <td>HL</td>\n",
              "      <td>DE 21 A 24</td>\n",
              "      <td>2</td>\n",
              "      <td>CALLE DE CARTAGENA 104</td>\n",
              "      <td>CHAMARTIN</td>\n",
              "      <td>PROSPERIDAD</td>\n",
              "      <td>28002</td>\n",
              "      <td>40.43944000000001</td>\n",
              "      <td>-3.67348</td>\n",
              "      <td>Seco</td>\n",
              "      <td>Seca Y Limpia</td>\n",
              "    </tr>\n",
              "  </tbody>\n",
              "</table>\n",
              "</div>"
            ],
            "text/plain": [
              "        FECHA     RANGO HORARIO  ... ESTADO METEOROLOGICO     ESTADO VIA\n",
              "0  01/01/2010  DE 00:00 A 00:59  ...               Lluvia         Mojada\n",
              "1  01/01/2010  DE 00:00 A 00:59  ...               Lluvia         Mojada\n",
              "2  01/01/2010  DE 00:00 A 00:59  ...               Lluvia         Mojada\n",
              "3  13/09/2011  DE 13:00 A 13:59  ...                 Seco  Seca Y Limpia\n",
              "4  13/09/2011  DE 13:00 A 13:59  ...                 Seco  Seca Y Limpia\n",
              "\n",
              "[5 rows x 22 columns]"
            ]
          },
          "metadata": {
            "tags": []
          },
          "execution_count": 48
        }
      ]
    },
    {
      "cell_type": "markdown",
      "metadata": {
        "id": "Mr5bRJAeBl3N"
      },
      "source": [
        "### Tipos de personas"
      ]
    },
    {
      "cell_type": "markdown",
      "metadata": {
        "id": "MBlEQSNXojoE"
      },
      "source": [
        "En el dataset se distinguen 4 tipos de personas:\n",
        "\n",
        "1. Conductor\n",
        "2. Viajero\n",
        "3. Testigo\n",
        "4. Peaton\n",
        "\n",
        "Vamos a excluir los registros de los testigos que presenciaron el accidente porque no aporta información de interés para nuestro análisis:\n"
      ]
    },
    {
      "cell_type": "code",
      "metadata": {
        "id": "GCnN1lcdosfs",
        "outputId": "9284993e-76b7-4110-cf97-45024d41a35b",
        "colab": {
          "base_uri": "https://localhost:8080/",
          "height": 34
        }
      },
      "source": [
        "accidentes['TIPO PERSONA'].unique()"
      ],
      "execution_count": null,
      "outputs": [
        {
          "output_type": "execute_result",
          "data": {
            "text/plain": [
              "array(['CONDUCTOR', 'VIAJERO', 'TESTIGO', 'PEATON'], dtype=object)"
            ]
          },
          "metadata": {
            "tags": []
          },
          "execution_count": 49
        }
      ]
    },
    {
      "cell_type": "code",
      "metadata": {
        "id": "7e96F7ioayWf",
        "outputId": "5ba1dc4b-b82e-4b93-d454-c2311847d320",
        "colab": {
          "base_uri": "https://localhost:8080/",
          "height": 34
        }
      },
      "source": [
        "# Filtramos por testigos y obtenemos su índice dentro del dataset\n",
        "testigos_index = accidentes[accidentes['TIPO PERSONA']=='TESTIGO'].index\n",
        "\n",
        "# Eliminamos registros de testigos del dataset\n",
        "accidentes.drop(testigos_index, inplace=True)\n",
        "\n",
        "# Reseteamos índice del dataset\n",
        "accidentes.reset_index(drop=True, inplace=True)\n",
        "\n",
        "# Revisamos tipos de personas\n",
        "accidentes['TIPO PERSONA'].unique()"
      ],
      "execution_count": null,
      "outputs": [
        {
          "output_type": "execute_result",
          "data": {
            "text/plain": [
              "array(['CONDUCTOR', 'VIAJERO', 'PEATON'], dtype=object)"
            ]
          },
          "metadata": {
            "tags": []
          },
          "execution_count": 50
        }
      ]
    },
    {
      "cell_type": "markdown",
      "metadata": {
        "id": "CuuD64rUZcgG"
      },
      "source": [
        "Por otro lado, nos interesaría analizar accidentes con implicación de **ciclistas** y **motoristas**, sin embargo, el dataset no distingue entre tipos de conductores según el vehículo utilizado:"
      ]
    },
    {
      "cell_type": "code",
      "metadata": {
        "id": "OOpgqnSHrRkF",
        "outputId": "f01cb690-b97b-4b43-897f-79cb00794665",
        "colab": {
          "base_uri": "https://localhost:8080/",
          "height": 70
        }
      },
      "source": [
        "accidentes['TIPO VEHICULO'].unique()"
      ],
      "execution_count": null,
      "outputs": [
        {
          "output_type": "execute_result",
          "data": {
            "text/plain": [
              "array(['TURISMO', 'MOTOCICLETA', 'AUTO-TAXI', 'FURGONETA', 'BICICLETA',\n",
              "       'CICLOMOTOR', 'NO ASIGNADO', 'AUTOBUS-AUTOCAR', 'CAMION',\n",
              "       'AMBULANCIA', 'VARIOS', 'VEH.3 RUEDAS'], dtype=object)"
            ]
          },
          "metadata": {
            "tags": []
          },
          "execution_count": 51
        }
      ]
    },
    {
      "cell_type": "markdown",
      "metadata": {
        "id": "M6a4lZodsISu"
      },
      "source": [
        "Por esta razón, vamos a crear 2 nuevos tipos de persona bajo el siguiente criterio:\n",
        "* **Ciclista**: persona que conduce una bicicleta.\n",
        "* **Motorista**: persona que conduce una motocicleta.\n",
        "* **Ciclomotorista**: persona que conduce un ciclomotor."
      ]
    },
    {
      "cell_type": "code",
      "metadata": {
        "id": "h1CDz2UrwC6s"
      },
      "source": [
        "tmp_filter = (accidentes['TIPO PERSONA']=='CONDUCTOR') & (accidentes['TIPO VEHICULO']=='BICICLETA')\n",
        "accidentes.loc[tmp_filter, 'TIPO PERSONA'] = 'CICLISTA'\n",
        "\n",
        "tmp_filter = (accidentes['TIPO PERSONA']=='CONDUCTOR') & (accidentes['TIPO VEHICULO']=='MOTOCICLETA')\n",
        "accidentes.loc[tmp_filter, 'TIPO PERSONA'] = 'MOTORISTA'\n",
        "\n",
        "tmp_filter = (accidentes['TIPO PERSONA']=='CONDUCTOR') & (accidentes['TIPO VEHICULO']=='CICLOMOTOR')\n",
        "accidentes.loc[tmp_filter, 'TIPO PERSONA'] = 'CICLOMOTORISTA'"
      ],
      "execution_count": null,
      "outputs": []
    },
    {
      "cell_type": "markdown",
      "metadata": {
        "id": "QbeXqp5ss_Zp"
      },
      "source": [
        "### Tipos de accidentes"
      ]
    },
    {
      "cell_type": "markdown",
      "metadata": {
        "id": "aqWyKam6ZKNK"
      },
      "source": [
        "#### Colisión doble"
      ]
    },
    {
      "cell_type": "markdown",
      "metadata": {
        "id": "NoljbjuEtNWs"
      },
      "source": [
        "Entre los diferentes tipos de accidentes de tráfico, la **colisión doble** se define como aquel ocurrido entre 2 vehículos en movimiento."
      ]
    },
    {
      "cell_type": "code",
      "metadata": {
        "id": "-TWdgiyUJ7P5",
        "outputId": "41cc9c34-a870-4104-ea42-2a3be3c620fc",
        "colab": {
          "base_uri": "https://localhost:8080/",
          "height": 87
        }
      },
      "source": [
        "# Tipos de accidentes de tráfico\n",
        "accidentes['TIPO ACCIDENTE'].unique()"
      ],
      "execution_count": null,
      "outputs": [
        {
          "output_type": "execute_result",
          "data": {
            "text/plain": [
              "array(['COLISIÓN DOBLE', 'CAÍDA MOTOCICLETA', 'COLISIÓN MÚLTIPLE',\n",
              "       'CAÍDA BICICLETA', 'ATROPELLO', 'CHOQUE CON OBJETO FIJO',\n",
              "       'CAÍDA VIAJERO BUS', 'CAÍDA CICLOMOTOR', 'VUELCO', 'OTRAS CAUSAS',\n",
              "       'CAÍDA VEHÍCULO 3 RUEDAS'], dtype=object)"
            ]
          },
          "metadata": {
            "tags": []
          },
          "execution_count": 53
        }
      ]
    },
    {
      "cell_type": "markdown",
      "metadata": {
        "id": "HaFS11d0LkCy"
      },
      "source": [
        "Basándonos en esta definición, **en el dataset deberían existir 2 registros como mínimo por cada accidente**, pudiendo haber más si hay viajeros en los vehículos e incluso peatones implicados.\n",
        "\n",
        "Sin embargo, si excluimos los viajeros y peatones y agrupamos por el campo `Nº PARTE`, comprobamos que existen algunas colisiones dobles con un nº de parte superior a 2 o inferior:"
      ]
    },
    {
      "cell_type": "code",
      "metadata": {
        "id": "L8hJ9H1Fvdbr",
        "outputId": "ba523968-db45-4e67-8e7b-67364160c936",
        "colab": {
          "base_uri": "https://localhost:8080/",
          "height": 228
        }
      },
      "source": [
        "tmp_filter = (accidentes['TIPO ACCIDENTE']=='COLISIÓN DOBLE') \\\n",
        "  & (accidentes['TIPO PERSONA']!='VIAJERO') & (accidentes['TIPO PERSONA']!='PEATON')\n",
        "\n",
        "accidentes[tmp_filter]['Nº PARTE'].value_counts()"
      ],
      "execution_count": null,
      "outputs": [
        {
          "output_type": "execute_result",
          "data": {
            "text/plain": [
              "2013/4853    14\n",
              "2017/6256    11\n",
              "2017/5771     9\n",
              "2012/8000     8\n",
              "2013/9927     8\n",
              "             ..\n",
              "2018/1259     1\n",
              "2015/6309     1\n",
              "2017/9534     1\n",
              "2011/6506     1\n",
              "2011/6062     1\n",
              "Name: Nº PARTE, Length: 42525, dtype: int64"
            ]
          },
          "metadata": {
            "tags": []
          },
          "execution_count": 54
        }
      ]
    },
    {
      "cell_type": "code",
      "metadata": {
        "id": "PrXU1I68xhYZ",
        "outputId": "653ba250-5e07-4816-99a4-0135998021ec",
        "colab": {
          "base_uri": "https://localhost:8080/",
          "height": 1000
        }
      },
      "source": [
        "# Examinamos registros de una colisión doble con Nº de parte superior a 2\n",
        "accidentes[accidentes['Nº PARTE']=='2013/4853']"
      ],
      "execution_count": null,
      "outputs": [
        {
          "output_type": "execute_result",
          "data": {
            "text/html": [
              "<div>\n",
              "<style scoped>\n",
              "    .dataframe tbody tr th:only-of-type {\n",
              "        vertical-align: middle;\n",
              "    }\n",
              "\n",
              "    .dataframe tbody tr th {\n",
              "        vertical-align: top;\n",
              "    }\n",
              "\n",
              "    .dataframe thead th {\n",
              "        text-align: right;\n",
              "    }\n",
              "</style>\n",
              "<table border=\"1\" class=\"dataframe\">\n",
              "  <thead>\n",
              "    <tr style=\"text-align: right;\">\n",
              "      <th></th>\n",
              "      <th>FECHA</th>\n",
              "      <th>RANGO HORARIO</th>\n",
              "      <th>DIA SEMANA</th>\n",
              "      <th>DISTRITO_x</th>\n",
              "      <th>LUGAR ACCIDENTE</th>\n",
              "      <th>Nº</th>\n",
              "      <th>Nº PARTE</th>\n",
              "      <th>TIPO ACCIDENTE</th>\n",
              "      <th>TIPO VEHICULO</th>\n",
              "      <th>TIPO PERSONA</th>\n",
              "      <th>SEXO</th>\n",
              "      <th>LESIVIDAD</th>\n",
              "      <th>TRAMO EDAD</th>\n",
              "      <th>Nº VICTIMAS</th>\n",
              "      <th>DIRECCION</th>\n",
              "      <th>DISTRITO_y</th>\n",
              "      <th>BARRIO</th>\n",
              "      <th>CP</th>\n",
              "      <th>LAT</th>\n",
              "      <th>LNG</th>\n",
              "      <th>ESTADO METEOROLOGICO</th>\n",
              "      <th>ESTADO VIA</th>\n",
              "    </tr>\n",
              "  </thead>\n",
              "  <tbody>\n",
              "    <tr>\n",
              "      <th>137835</th>\n",
              "      <td>28/05/2013</td>\n",
              "      <td>DE 11:00 A 11:59</td>\n",
              "      <td>MARTES</td>\n",
              "      <td>HORTALEZA</td>\n",
              "      <td>CALLE DE MILAN - CALLE DE LAURIN</td>\n",
              "      <td></td>\n",
              "      <td>2013/4853</td>\n",
              "      <td>COLISIÓN DOBLE</td>\n",
              "      <td>TURISMO</td>\n",
              "      <td>CONDUCTOR</td>\n",
              "      <td>HOMBRE</td>\n",
              "      <td>HL</td>\n",
              "      <td>DE 21 A 24</td>\n",
              "      <td>1</td>\n",
              "      <td>CALLE DE MILAN &amp; CALLE DE LAURIN</td>\n",
              "      <td>HORTALEZA</td>\n",
              "      <td>CANILLAS</td>\n",
              "      <td>28043</td>\n",
              "      <td>40.457690299999996</td>\n",
              "      <td>-3.6478718999999997</td>\n",
              "      <td>Seco</td>\n",
              "      <td>Seca Y Limpia</td>\n",
              "    </tr>\n",
              "    <tr>\n",
              "      <th>137836</th>\n",
              "      <td>28/05/2013</td>\n",
              "      <td>DE 11:00 A 11:59</td>\n",
              "      <td>MARTES</td>\n",
              "      <td>HORTALEZA</td>\n",
              "      <td>CALLE DE MILAN - CALLE DE LAURIN</td>\n",
              "      <td></td>\n",
              "      <td>2013/4853</td>\n",
              "      <td>COLISIÓN DOBLE</td>\n",
              "      <td>TURISMO</td>\n",
              "      <td>CONDUCTOR</td>\n",
              "      <td>NO ASIGNADO</td>\n",
              "      <td>NO ASIGNADA</td>\n",
              "      <td>DESCONOCIDA</td>\n",
              "      <td>1</td>\n",
              "      <td>CALLE DE MILAN &amp; CALLE DE LAURIN</td>\n",
              "      <td>HORTALEZA</td>\n",
              "      <td>CANILLAS</td>\n",
              "      <td>28043</td>\n",
              "      <td>40.457690299999996</td>\n",
              "      <td>-3.6478718999999997</td>\n",
              "      <td>Seco</td>\n",
              "      <td>Seca Y Limpia</td>\n",
              "    </tr>\n",
              "    <tr>\n",
              "      <th>137837</th>\n",
              "      <td>28/05/2013</td>\n",
              "      <td>DE 11:00 A 11:59</td>\n",
              "      <td>MARTES</td>\n",
              "      <td>HORTALEZA</td>\n",
              "      <td>CALLE DE MILAN - CALLE DE LAURIN</td>\n",
              "      <td></td>\n",
              "      <td>2013/4853</td>\n",
              "      <td>COLISIÓN DOBLE</td>\n",
              "      <td>TURISMO</td>\n",
              "      <td>CONDUCTOR</td>\n",
              "      <td>NO ASIGNADO</td>\n",
              "      <td>NO ASIGNADA</td>\n",
              "      <td>DESCONOCIDA</td>\n",
              "      <td>1</td>\n",
              "      <td>CALLE DE MILAN &amp; CALLE DE LAURIN</td>\n",
              "      <td>HORTALEZA</td>\n",
              "      <td>CANILLAS</td>\n",
              "      <td>28043</td>\n",
              "      <td>40.457690299999996</td>\n",
              "      <td>-3.6478718999999997</td>\n",
              "      <td>Seco</td>\n",
              "      <td>Seca Y Limpia</td>\n",
              "    </tr>\n",
              "    <tr>\n",
              "      <th>137838</th>\n",
              "      <td>28/05/2013</td>\n",
              "      <td>DE 11:00 A 11:59</td>\n",
              "      <td>MARTES</td>\n",
              "      <td>HORTALEZA</td>\n",
              "      <td>CALLE DE MILAN - CALLE DE LAURIN</td>\n",
              "      <td></td>\n",
              "      <td>2013/4853</td>\n",
              "      <td>COLISIÓN DOBLE</td>\n",
              "      <td>TURISMO</td>\n",
              "      <td>CONDUCTOR</td>\n",
              "      <td>NO ASIGNADO</td>\n",
              "      <td>NO ASIGNADA</td>\n",
              "      <td>DESCONOCIDA</td>\n",
              "      <td>1</td>\n",
              "      <td>CALLE DE MILAN &amp; CALLE DE LAURIN</td>\n",
              "      <td>HORTALEZA</td>\n",
              "      <td>CANILLAS</td>\n",
              "      <td>28043</td>\n",
              "      <td>40.457690299999996</td>\n",
              "      <td>-3.6478718999999997</td>\n",
              "      <td>Seco</td>\n",
              "      <td>Seca Y Limpia</td>\n",
              "    </tr>\n",
              "    <tr>\n",
              "      <th>137839</th>\n",
              "      <td>28/05/2013</td>\n",
              "      <td>DE 11:00 A 11:59</td>\n",
              "      <td>MARTES</td>\n",
              "      <td>HORTALEZA</td>\n",
              "      <td>CALLE DE MILAN - CALLE DE LAURIN</td>\n",
              "      <td></td>\n",
              "      <td>2013/4853</td>\n",
              "      <td>COLISIÓN DOBLE</td>\n",
              "      <td>TURISMO</td>\n",
              "      <td>CONDUCTOR</td>\n",
              "      <td>NO ASIGNADO</td>\n",
              "      <td>NO ASIGNADA</td>\n",
              "      <td>DESCONOCIDA</td>\n",
              "      <td>1</td>\n",
              "      <td>CALLE DE MILAN &amp; CALLE DE LAURIN</td>\n",
              "      <td>HORTALEZA</td>\n",
              "      <td>CANILLAS</td>\n",
              "      <td>28043</td>\n",
              "      <td>40.457690299999996</td>\n",
              "      <td>-3.6478718999999997</td>\n",
              "      <td>Seco</td>\n",
              "      <td>Seca Y Limpia</td>\n",
              "    </tr>\n",
              "    <tr>\n",
              "      <th>137840</th>\n",
              "      <td>28/05/2013</td>\n",
              "      <td>DE 11:00 A 11:59</td>\n",
              "      <td>MARTES</td>\n",
              "      <td>HORTALEZA</td>\n",
              "      <td>CALLE DE MILAN - CALLE DE LAURIN</td>\n",
              "      <td></td>\n",
              "      <td>2013/4853</td>\n",
              "      <td>COLISIÓN DOBLE</td>\n",
              "      <td>TURISMO</td>\n",
              "      <td>CONDUCTOR</td>\n",
              "      <td>NO ASIGNADO</td>\n",
              "      <td>NO ASIGNADA</td>\n",
              "      <td>DESCONOCIDA</td>\n",
              "      <td>1</td>\n",
              "      <td>CALLE DE MILAN &amp; CALLE DE LAURIN</td>\n",
              "      <td>HORTALEZA</td>\n",
              "      <td>CANILLAS</td>\n",
              "      <td>28043</td>\n",
              "      <td>40.457690299999996</td>\n",
              "      <td>-3.6478718999999997</td>\n",
              "      <td>Seco</td>\n",
              "      <td>Seca Y Limpia</td>\n",
              "    </tr>\n",
              "    <tr>\n",
              "      <th>137841</th>\n",
              "      <td>28/05/2013</td>\n",
              "      <td>DE 11:00 A 11:59</td>\n",
              "      <td>MARTES</td>\n",
              "      <td>HORTALEZA</td>\n",
              "      <td>CALLE DE MILAN - CALLE DE LAURIN</td>\n",
              "      <td></td>\n",
              "      <td>2013/4853</td>\n",
              "      <td>COLISIÓN DOBLE</td>\n",
              "      <td>TURISMO</td>\n",
              "      <td>CONDUCTOR</td>\n",
              "      <td>NO ASIGNADO</td>\n",
              "      <td>NO ASIGNADA</td>\n",
              "      <td>DESCONOCIDA</td>\n",
              "      <td>1</td>\n",
              "      <td>CALLE DE MILAN &amp; CALLE DE LAURIN</td>\n",
              "      <td>HORTALEZA</td>\n",
              "      <td>CANILLAS</td>\n",
              "      <td>28043</td>\n",
              "      <td>40.457690299999996</td>\n",
              "      <td>-3.6478718999999997</td>\n",
              "      <td>Seco</td>\n",
              "      <td>Seca Y Limpia</td>\n",
              "    </tr>\n",
              "    <tr>\n",
              "      <th>137842</th>\n",
              "      <td>28/05/2013</td>\n",
              "      <td>DE 11:00 A 11:59</td>\n",
              "      <td>MARTES</td>\n",
              "      <td>HORTALEZA</td>\n",
              "      <td>CALLE DE MILAN - CALLE DE LAURIN</td>\n",
              "      <td></td>\n",
              "      <td>2013/4853</td>\n",
              "      <td>COLISIÓN DOBLE</td>\n",
              "      <td>MOTOCICLETA</td>\n",
              "      <td>MOTORISTA</td>\n",
              "      <td>NO ASIGNADO</td>\n",
              "      <td>NO ASIGNADA</td>\n",
              "      <td>DESCONOCIDA</td>\n",
              "      <td>1</td>\n",
              "      <td>CALLE DE MILAN &amp; CALLE DE LAURIN</td>\n",
              "      <td>HORTALEZA</td>\n",
              "      <td>CANILLAS</td>\n",
              "      <td>28043</td>\n",
              "      <td>40.457690299999996</td>\n",
              "      <td>-3.6478718999999997</td>\n",
              "      <td>Seco</td>\n",
              "      <td>Seca Y Limpia</td>\n",
              "    </tr>\n",
              "    <tr>\n",
              "      <th>137843</th>\n",
              "      <td>28/05/2013</td>\n",
              "      <td>DE 11:00 A 11:59</td>\n",
              "      <td>MARTES</td>\n",
              "      <td>HORTALEZA</td>\n",
              "      <td>CALLE DE MILAN - CALLE DE LAURIN</td>\n",
              "      <td></td>\n",
              "      <td>2013/4853</td>\n",
              "      <td>COLISIÓN DOBLE</td>\n",
              "      <td>MOTOCICLETA</td>\n",
              "      <td>MOTORISTA</td>\n",
              "      <td>NO ASIGNADO</td>\n",
              "      <td>NO ASIGNADA</td>\n",
              "      <td>DESCONOCIDA</td>\n",
              "      <td>1</td>\n",
              "      <td>CALLE DE MILAN &amp; CALLE DE LAURIN</td>\n",
              "      <td>HORTALEZA</td>\n",
              "      <td>CANILLAS</td>\n",
              "      <td>28043</td>\n",
              "      <td>40.457690299999996</td>\n",
              "      <td>-3.6478718999999997</td>\n",
              "      <td>Seco</td>\n",
              "      <td>Seca Y Limpia</td>\n",
              "    </tr>\n",
              "    <tr>\n",
              "      <th>137844</th>\n",
              "      <td>28/05/2013</td>\n",
              "      <td>DE 11:00 A 11:59</td>\n",
              "      <td>MARTES</td>\n",
              "      <td>HORTALEZA</td>\n",
              "      <td>CALLE DE MILAN - CALLE DE LAURIN</td>\n",
              "      <td></td>\n",
              "      <td>2013/4853</td>\n",
              "      <td>COLISIÓN DOBLE</td>\n",
              "      <td>MOTOCICLETA</td>\n",
              "      <td>MOTORISTA</td>\n",
              "      <td>NO ASIGNADO</td>\n",
              "      <td>NO ASIGNADA</td>\n",
              "      <td>DESCONOCIDA</td>\n",
              "      <td>1</td>\n",
              "      <td>CALLE DE MILAN &amp; CALLE DE LAURIN</td>\n",
              "      <td>HORTALEZA</td>\n",
              "      <td>CANILLAS</td>\n",
              "      <td>28043</td>\n",
              "      <td>40.457690299999996</td>\n",
              "      <td>-3.6478718999999997</td>\n",
              "      <td>Seco</td>\n",
              "      <td>Seca Y Limpia</td>\n",
              "    </tr>\n",
              "    <tr>\n",
              "      <th>137845</th>\n",
              "      <td>28/05/2013</td>\n",
              "      <td>DE 11:00 A 11:59</td>\n",
              "      <td>MARTES</td>\n",
              "      <td>HORTALEZA</td>\n",
              "      <td>CALLE DE MILAN - CALLE DE LAURIN</td>\n",
              "      <td></td>\n",
              "      <td>2013/4853</td>\n",
              "      <td>COLISIÓN DOBLE</td>\n",
              "      <td>MOTOCICLETA</td>\n",
              "      <td>MOTORISTA</td>\n",
              "      <td>NO ASIGNADO</td>\n",
              "      <td>NO ASIGNADA</td>\n",
              "      <td>DESCONOCIDA</td>\n",
              "      <td>1</td>\n",
              "      <td>CALLE DE MILAN &amp; CALLE DE LAURIN</td>\n",
              "      <td>HORTALEZA</td>\n",
              "      <td>CANILLAS</td>\n",
              "      <td>28043</td>\n",
              "      <td>40.457690299999996</td>\n",
              "      <td>-3.6478718999999997</td>\n",
              "      <td>Seco</td>\n",
              "      <td>Seca Y Limpia</td>\n",
              "    </tr>\n",
              "    <tr>\n",
              "      <th>137846</th>\n",
              "      <td>28/05/2013</td>\n",
              "      <td>DE 11:00 A 11:59</td>\n",
              "      <td>MARTES</td>\n",
              "      <td>HORTALEZA</td>\n",
              "      <td>CALLE DE MILAN - CALLE DE LAURIN</td>\n",
              "      <td></td>\n",
              "      <td>2013/4853</td>\n",
              "      <td>COLISIÓN DOBLE</td>\n",
              "      <td>MOTOCICLETA</td>\n",
              "      <td>MOTORISTA</td>\n",
              "      <td>NO ASIGNADO</td>\n",
              "      <td>NO ASIGNADA</td>\n",
              "      <td>DESCONOCIDA</td>\n",
              "      <td>1</td>\n",
              "      <td>CALLE DE MILAN &amp; CALLE DE LAURIN</td>\n",
              "      <td>HORTALEZA</td>\n",
              "      <td>CANILLAS</td>\n",
              "      <td>28043</td>\n",
              "      <td>40.457690299999996</td>\n",
              "      <td>-3.6478718999999997</td>\n",
              "      <td>Seco</td>\n",
              "      <td>Seca Y Limpia</td>\n",
              "    </tr>\n",
              "    <tr>\n",
              "      <th>137847</th>\n",
              "      <td>28/05/2013</td>\n",
              "      <td>DE 11:00 A 11:59</td>\n",
              "      <td>MARTES</td>\n",
              "      <td>HORTALEZA</td>\n",
              "      <td>CALLE DE MILAN - CALLE DE LAURIN</td>\n",
              "      <td></td>\n",
              "      <td>2013/4853</td>\n",
              "      <td>COLISIÓN DOBLE</td>\n",
              "      <td>MOTOCICLETA</td>\n",
              "      <td>MOTORISTA</td>\n",
              "      <td>NO ASIGNADO</td>\n",
              "      <td>NO ASIGNADA</td>\n",
              "      <td>DESCONOCIDA</td>\n",
              "      <td>1</td>\n",
              "      <td>CALLE DE MILAN &amp; CALLE DE LAURIN</td>\n",
              "      <td>HORTALEZA</td>\n",
              "      <td>CANILLAS</td>\n",
              "      <td>28043</td>\n",
              "      <td>40.457690299999996</td>\n",
              "      <td>-3.6478718999999997</td>\n",
              "      <td>Seco</td>\n",
              "      <td>Seca Y Limpia</td>\n",
              "    </tr>\n",
              "    <tr>\n",
              "      <th>137848</th>\n",
              "      <td>28/05/2013</td>\n",
              "      <td>DE 11:00 A 11:59</td>\n",
              "      <td>MARTES</td>\n",
              "      <td>HORTALEZA</td>\n",
              "      <td>CALLE DE MILAN - CALLE DE LAURIN</td>\n",
              "      <td></td>\n",
              "      <td>2013/4853</td>\n",
              "      <td>COLISIÓN DOBLE</td>\n",
              "      <td>FURGONETA</td>\n",
              "      <td>CONDUCTOR</td>\n",
              "      <td>HOMBRE</td>\n",
              "      <td>IL</td>\n",
              "      <td>DE 35 A 39</td>\n",
              "      <td>1</td>\n",
              "      <td>CALLE DE MILAN &amp; CALLE DE LAURIN</td>\n",
              "      <td>HORTALEZA</td>\n",
              "      <td>CANILLAS</td>\n",
              "      <td>28043</td>\n",
              "      <td>40.457690299999996</td>\n",
              "      <td>-3.6478718999999997</td>\n",
              "      <td>Seco</td>\n",
              "      <td>Seca Y Limpia</td>\n",
              "    </tr>\n",
              "  </tbody>\n",
              "</table>\n",
              "</div>"
            ],
            "text/plain": [
              "             FECHA     RANGO HORARIO  ... ESTADO METEOROLOGICO     ESTADO VIA\n",
              "137835  28/05/2013  DE 11:00 A 11:59  ...                 Seco  Seca Y Limpia\n",
              "137836  28/05/2013  DE 11:00 A 11:59  ...                 Seco  Seca Y Limpia\n",
              "137837  28/05/2013  DE 11:00 A 11:59  ...                 Seco  Seca Y Limpia\n",
              "137838  28/05/2013  DE 11:00 A 11:59  ...                 Seco  Seca Y Limpia\n",
              "137839  28/05/2013  DE 11:00 A 11:59  ...                 Seco  Seca Y Limpia\n",
              "137840  28/05/2013  DE 11:00 A 11:59  ...                 Seco  Seca Y Limpia\n",
              "137841  28/05/2013  DE 11:00 A 11:59  ...                 Seco  Seca Y Limpia\n",
              "137842  28/05/2013  DE 11:00 A 11:59  ...                 Seco  Seca Y Limpia\n",
              "137843  28/05/2013  DE 11:00 A 11:59  ...                 Seco  Seca Y Limpia\n",
              "137844  28/05/2013  DE 11:00 A 11:59  ...                 Seco  Seca Y Limpia\n",
              "137845  28/05/2013  DE 11:00 A 11:59  ...                 Seco  Seca Y Limpia\n",
              "137846  28/05/2013  DE 11:00 A 11:59  ...                 Seco  Seca Y Limpia\n",
              "137847  28/05/2013  DE 11:00 A 11:59  ...                 Seco  Seca Y Limpia\n",
              "137848  28/05/2013  DE 11:00 A 11:59  ...                 Seco  Seca Y Limpia\n",
              "\n",
              "[14 rows x 22 columns]"
            ]
          },
          "metadata": {
            "tags": []
          },
          "execution_count": 55
        }
      ]
    },
    {
      "cell_type": "code",
      "metadata": {
        "id": "43Eysx_v1sVt",
        "outputId": "a25b674f-b537-4243-ca42-2b78e058d6d8",
        "colab": {
          "base_uri": "https://localhost:8080/",
          "height": 147
        }
      },
      "source": [
        "# Examinamos registros de una colisión doble con un Nº de parte inferior a 2\n",
        "accidentes[accidentes['Nº PARTE']=='2015/2920']"
      ],
      "execution_count": null,
      "outputs": [
        {
          "output_type": "execute_result",
          "data": {
            "text/html": [
              "<div>\n",
              "<style scoped>\n",
              "    .dataframe tbody tr th:only-of-type {\n",
              "        vertical-align: middle;\n",
              "    }\n",
              "\n",
              "    .dataframe tbody tr th {\n",
              "        vertical-align: top;\n",
              "    }\n",
              "\n",
              "    .dataframe thead th {\n",
              "        text-align: right;\n",
              "    }\n",
              "</style>\n",
              "<table border=\"1\" class=\"dataframe\">\n",
              "  <thead>\n",
              "    <tr style=\"text-align: right;\">\n",
              "      <th></th>\n",
              "      <th>FECHA</th>\n",
              "      <th>RANGO HORARIO</th>\n",
              "      <th>DIA SEMANA</th>\n",
              "      <th>DISTRITO_x</th>\n",
              "      <th>LUGAR ACCIDENTE</th>\n",
              "      <th>Nº</th>\n",
              "      <th>Nº PARTE</th>\n",
              "      <th>TIPO ACCIDENTE</th>\n",
              "      <th>TIPO VEHICULO</th>\n",
              "      <th>TIPO PERSONA</th>\n",
              "      <th>SEXO</th>\n",
              "      <th>LESIVIDAD</th>\n",
              "      <th>TRAMO EDAD</th>\n",
              "      <th>Nº VICTIMAS</th>\n",
              "      <th>DIRECCION</th>\n",
              "      <th>DISTRITO_y</th>\n",
              "      <th>BARRIO</th>\n",
              "      <th>CP</th>\n",
              "      <th>LAT</th>\n",
              "      <th>LNG</th>\n",
              "      <th>ESTADO METEOROLOGICO</th>\n",
              "      <th>ESTADO VIA</th>\n",
              "    </tr>\n",
              "  </thead>\n",
              "  <tbody>\n",
              "    <tr>\n",
              "      <th>164500</th>\n",
              "      <td>26/03/2015</td>\n",
              "      <td>DE 22:00 A 22:59</td>\n",
              "      <td>JUEVES</td>\n",
              "      <td>CENTRO</td>\n",
              "      <td>CALLE DE CARRETAS NUM</td>\n",
              "      <td>14</td>\n",
              "      <td>2015/2920</td>\n",
              "      <td>COLISIÓN DOBLE</td>\n",
              "      <td>BICICLETA</td>\n",
              "      <td>CICLISTA</td>\n",
              "      <td>HOMBRE</td>\n",
              "      <td>HL</td>\n",
              "      <td>DE 35 A 39</td>\n",
              "      <td>1</td>\n",
              "      <td>CALLE DE CARRETAS 14</td>\n",
              "      <td>CENTRO</td>\n",
              "      <td>SOL</td>\n",
              "      <td>28012</td>\n",
              "      <td>40.4148114</td>\n",
              "      <td>-3.7036534</td>\n",
              "      <td>Seco</td>\n",
              "      <td>Seca Y Limpia</td>\n",
              "    </tr>\n",
              "  </tbody>\n",
              "</table>\n",
              "</div>"
            ],
            "text/plain": [
              "             FECHA     RANGO HORARIO  ... ESTADO METEOROLOGICO     ESTADO VIA\n",
              "164500  26/03/2015  DE 22:00 A 22:59  ...                 Seco  Seca Y Limpia\n",
              "\n",
              "[1 rows x 22 columns]"
            ]
          },
          "metadata": {
            "tags": []
          },
          "execution_count": 56
        }
      ]
    },
    {
      "cell_type": "markdown",
      "metadata": {
        "id": "OMimGIwo2rFL"
      },
      "source": [
        "Si examinamos registros de colisiones dobles con Nº de parte superior a 2 (sin incluir a viajeros), observamos que, en la mayoría de casos, en los campos `SEXO`, `TRAMO EDAD` y `LESIVIDAD` aparece el valor *NO ASIGNADO y DESCONOCIDA* respectivamente.\n",
        "\n",
        "Desconocemos si es un error al registrar los datos o si se trata de una **colisión múltiple**, en cualquier caso, **optaremos por descartar aquellos Nº de parte en los que alguno de sus registros tenga esos 3 campos sin información.**"
      ]
    },
    {
      "cell_type": "code",
      "metadata": {
        "id": "8RBtsQsfAcaH"
      },
      "source": [
        "tmp_filter = (accidentes['SEXO']=='NO ASIGNADO') & (accidentes['LESIVIDAD']=='NO ASIGNADA') \\\n",
        "  & (accidentes['TRAMO EDAD']=='DESCONOCIDA') & (accidentes['TIPO ACCIDENTE']=='COLISIÓN DOBLE')\n",
        "\n",
        "accidentes.drop(accidentes[tmp_filter]['Nº PARTE'].index, inplace=True)"
      ],
      "execution_count": null,
      "outputs": []
    },
    {
      "cell_type": "code",
      "metadata": {
        "id": "aSmhKJL8GbPS",
        "outputId": "dd796cea-9c9e-43e4-8000-e732ea371ca4",
        "colab": {
          "base_uri": "https://localhost:8080/",
          "height": 228
        }
      },
      "source": [
        "tmp_filter = (accidentes['TIPO ACCIDENTE']=='COLISIÓN DOBLE') \\\n",
        "  & (accidentes['TIPO PERSONA']!='VIAJERO') & (accidentes['TIPO PERSONA']!='PEATON')\n",
        "\n",
        "accidentes[tmp_filter]['Nº PARTE'].value_counts()"
      ],
      "execution_count": null,
      "outputs": [
        {
          "output_type": "execute_result",
          "data": {
            "text/plain": [
              "2017/7918     3\n",
              "2011/8265     3\n",
              "2015/5071     2\n",
              "2011/7476     2\n",
              "2014/4646     2\n",
              "             ..\n",
              "2016/8117     1\n",
              "2013/11178    1\n",
              "2010/2813     1\n",
              "2013/10323    1\n",
              "2013/1818     1\n",
              "Name: Nº PARTE, Length: 42525, dtype: int64"
            ]
          },
          "metadata": {
            "tags": []
          },
          "execution_count": 58
        }
      ]
    },
    {
      "cell_type": "code",
      "metadata": {
        "id": "wrL098CwG3-u",
        "outputId": "814fb9c9-e426-4d7b-9d81-59860acedc42",
        "colab": {
          "base_uri": "https://localhost:8080/",
          "height": 538
        }
      },
      "source": [
        "# Examinamos registros de una colisión doble con Nº de parte superior a 2\n",
        "accidentes[accidentes['Nº PARTE']=='2011/8265']"
      ],
      "execution_count": null,
      "outputs": [
        {
          "output_type": "execute_result",
          "data": {
            "text/html": [
              "<div>\n",
              "<style scoped>\n",
              "    .dataframe tbody tr th:only-of-type {\n",
              "        vertical-align: middle;\n",
              "    }\n",
              "\n",
              "    .dataframe tbody tr th {\n",
              "        vertical-align: top;\n",
              "    }\n",
              "\n",
              "    .dataframe thead th {\n",
              "        text-align: right;\n",
              "    }\n",
              "</style>\n",
              "<table border=\"1\" class=\"dataframe\">\n",
              "  <thead>\n",
              "    <tr style=\"text-align: right;\">\n",
              "      <th></th>\n",
              "      <th>FECHA</th>\n",
              "      <th>RANGO HORARIO</th>\n",
              "      <th>DIA SEMANA</th>\n",
              "      <th>DISTRITO_x</th>\n",
              "      <th>LUGAR ACCIDENTE</th>\n",
              "      <th>Nº</th>\n",
              "      <th>Nº PARTE</th>\n",
              "      <th>TIPO ACCIDENTE</th>\n",
              "      <th>TIPO VEHICULO</th>\n",
              "      <th>TIPO PERSONA</th>\n",
              "      <th>SEXO</th>\n",
              "      <th>LESIVIDAD</th>\n",
              "      <th>TRAMO EDAD</th>\n",
              "      <th>Nº VICTIMAS</th>\n",
              "      <th>DIRECCION</th>\n",
              "      <th>DISTRITO_y</th>\n",
              "      <th>BARRIO</th>\n",
              "      <th>CP</th>\n",
              "      <th>LAT</th>\n",
              "      <th>LNG</th>\n",
              "      <th>ESTADO METEOROLOGICO</th>\n",
              "      <th>ESTADO VIA</th>\n",
              "    </tr>\n",
              "  </thead>\n",
              "  <tbody>\n",
              "    <tr>\n",
              "      <th>54148</th>\n",
              "      <td>13/09/2011</td>\n",
              "      <td>DE 10:00 A 10:59</td>\n",
              "      <td>MARTES</td>\n",
              "      <td>CHAMARTIN</td>\n",
              "      <td>PLAZA DE LA REPUBLICA DOMINICANA - CALLE DEL PRINCIPE DE VERGARA</td>\n",
              "      <td></td>\n",
              "      <td>2011/8265</td>\n",
              "      <td>COLISIÓN DOBLE</td>\n",
              "      <td>TURISMO</td>\n",
              "      <td>CONDUCTOR</td>\n",
              "      <td>MUJER</td>\n",
              "      <td>IL</td>\n",
              "      <td>DE 30 A 34</td>\n",
              "      <td>2</td>\n",
              "      <td>PLAZA DE LA REPUBLICA DOMINICANA &amp; CALLE DEL PRINCIPE DE VERGARA</td>\n",
              "      <td>CHAMARTIN</td>\n",
              "      <td>HISPANOAMERICA</td>\n",
              "      <td>28006</td>\n",
              "      <td>40.458858899999996</td>\n",
              "      <td>-3.6767025</td>\n",
              "      <td>Seco</td>\n",
              "      <td>Seca Y Limpia</td>\n",
              "    </tr>\n",
              "    <tr>\n",
              "      <th>54149</th>\n",
              "      <td>13/09/2011</td>\n",
              "      <td>DE 10:00 A 10:59</td>\n",
              "      <td>MARTES</td>\n",
              "      <td>CHAMARTIN</td>\n",
              "      <td>PLAZA DE LA REPUBLICA DOMINICANA - CALLE DEL PRINCIPE DE VERGARA</td>\n",
              "      <td></td>\n",
              "      <td>2011/8265</td>\n",
              "      <td>COLISIÓN DOBLE</td>\n",
              "      <td>TURISMO</td>\n",
              "      <td>CONDUCTOR</td>\n",
              "      <td>HOMBRE</td>\n",
              "      <td>HL</td>\n",
              "      <td>DE 60 A 64</td>\n",
              "      <td>2</td>\n",
              "      <td>PLAZA DE LA REPUBLICA DOMINICANA &amp; CALLE DEL PRINCIPE DE VERGARA</td>\n",
              "      <td>CHAMARTIN</td>\n",
              "      <td>HISPANOAMERICA</td>\n",
              "      <td>28006</td>\n",
              "      <td>40.458858899999996</td>\n",
              "      <td>-3.6767025</td>\n",
              "      <td>Seco</td>\n",
              "      <td>Seca Y Limpia</td>\n",
              "    </tr>\n",
              "    <tr>\n",
              "      <th>54150</th>\n",
              "      <td>13/09/2011</td>\n",
              "      <td>DE 10:00 A 10:59</td>\n",
              "      <td>MARTES</td>\n",
              "      <td>CHAMARTIN</td>\n",
              "      <td>PLAZA DE LA REPUBLICA DOMINICANA - CALLE DEL PRINCIPE DE VERGARA</td>\n",
              "      <td></td>\n",
              "      <td>2011/8265</td>\n",
              "      <td>COLISIÓN DOBLE</td>\n",
              "      <td>TURISMO</td>\n",
              "      <td>CONDUCTOR</td>\n",
              "      <td>MUJER</td>\n",
              "      <td>IL</td>\n",
              "      <td>DE 30 A 34</td>\n",
              "      <td>2</td>\n",
              "      <td>PLAZA DE LA REPUBLICA DOMINICANA &amp; CALLE DEL PRINCIPE DE VERGARA</td>\n",
              "      <td>CHAMARTIN</td>\n",
              "      <td>HISPANOAMERICA</td>\n",
              "      <td>28006</td>\n",
              "      <td>40.458858899999996</td>\n",
              "      <td>-3.6767025</td>\n",
              "      <td>Seco</td>\n",
              "      <td>Seca Y Limpia</td>\n",
              "    </tr>\n",
              "    <tr>\n",
              "      <th>54151</th>\n",
              "      <td>13/09/2011</td>\n",
              "      <td>DE 10:00 A 10:59</td>\n",
              "      <td>MARTES</td>\n",
              "      <td>CHAMARTIN</td>\n",
              "      <td>PLAZA DE LA REPUBLICA DOMINICANA - CALLE DEL PRINCIPE DE VERGARA</td>\n",
              "      <td></td>\n",
              "      <td>2011/8265</td>\n",
              "      <td>COLISIÓN DOBLE</td>\n",
              "      <td>TURISMO</td>\n",
              "      <td>VIAJERO</td>\n",
              "      <td>MUJER</td>\n",
              "      <td>HL</td>\n",
              "      <td>DE 60 A 64</td>\n",
              "      <td>2</td>\n",
              "      <td>PLAZA DE LA REPUBLICA DOMINICANA &amp; CALLE DEL PRINCIPE DE VERGARA</td>\n",
              "      <td>CHAMARTIN</td>\n",
              "      <td>HISPANOAMERICA</td>\n",
              "      <td>28006</td>\n",
              "      <td>40.458858899999996</td>\n",
              "      <td>-3.6767025</td>\n",
              "      <td>Seco</td>\n",
              "      <td>Seca Y Limpia</td>\n",
              "    </tr>\n",
              "  </tbody>\n",
              "</table>\n",
              "</div>"
            ],
            "text/plain": [
              "            FECHA     RANGO HORARIO  ... ESTADO METEOROLOGICO     ESTADO VIA\n",
              "54148  13/09/2011  DE 10:00 A 10:59  ...                 Seco  Seca Y Limpia\n",
              "54149  13/09/2011  DE 10:00 A 10:59  ...                 Seco  Seca Y Limpia\n",
              "54150  13/09/2011  DE 10:00 A 10:59  ...                 Seco  Seca Y Limpia\n",
              "54151  13/09/2011  DE 10:00 A 10:59  ...                 Seco  Seca Y Limpia\n",
              "\n",
              "[4 rows x 22 columns]"
            ]
          },
          "metadata": {
            "tags": []
          },
          "execution_count": 59
        }
      ]
    },
    {
      "cell_type": "code",
      "metadata": {
        "id": "3lBshss6IhGj"
      },
      "source": [
        "# Corregimos tipo de accidente para los nº de parte superior a 3\n",
        "accidentes.loc[accidentes['Nº PARTE']=='2017/7918', 'TIPO ACCIDENTE'] = 'COLISIÓN MÚLTIPLE'\n",
        "accidentes.loc[accidentes['Nº PARTE']=='2011/8265', 'TIPO ACCIDENTE'] = 'COLISIÓN MÚLTIPLE'"
      ],
      "execution_count": null,
      "outputs": []
    },
    {
      "cell_type": "markdown",
      "metadata": {
        "id": "yle6_H4bJWpf"
      },
      "source": [
        "Respecto a los registros de colisiones dobles con un único nº de parte también serán excluidos del dataset:"
      ]
    },
    {
      "cell_type": "code",
      "metadata": {
        "id": "Zvtd1jNfJXbs"
      },
      "source": [
        "tmp_filter = (accidentes['TIPO ACCIDENTE']=='COLISIÓN DOBLE')\n",
        "\n",
        "mask = accidentes[tmp_filter]['Nº PARTE'].value_counts()<2\n",
        "\n",
        "drop_index = accidentes[accidentes['Nº PARTE'].isin(mask[mask].index)].index\n",
        "\n",
        "accidentes.drop(drop_index, inplace=True)\n",
        "\n",
        "# Reseteamos el índice del dataset\n",
        "direcciones.reset_index(drop=True, inplace=True)"
      ],
      "execution_count": null,
      "outputs": []
    },
    {
      "cell_type": "markdown",
      "metadata": {
        "id": "X87Y-4GmS2AW"
      },
      "source": [
        "Finalmente vamos a comprobar aquellas colisiones donde únicamente hay 2 implicados porque en el caso que uno de los 2 sea un peatón habría que reasignar el tipo de accidente como atropello:"
      ]
    },
    {
      "cell_type": "code",
      "metadata": {
        "id": "Lc1edVf-QlTc",
        "outputId": "558aa5c5-7d98-4424-8c4f-b586b62d5f94",
        "colab": {
          "base_uri": "https://localhost:8080/",
          "height": 140
        }
      },
      "source": [
        "# Agrupamos registros por nº de parte y filtramos aquellos que aparezcan 2 veces por accidente\n",
        "mask = accidentes[(accidentes['TIPO ACCIDENTE']=='COLISIÓN DOBLE')]['Nº PARTE'].value_counts()==2\n",
        "\n",
        "# Creamos un datatrame temporal con registros que cumplan la condición anterior\n",
        "tmp_df = accidentes[accidentes['Nº PARTE'].isin(mask[mask].index)]\n",
        "\n",
        "# Filtramos dataframe por registros de peatones y comprobamos nº de parte\n",
        "tmp_df[tmp_df['TIPO PERSONA']=='PEATON']['Nº PARTE'].value_counts()"
      ],
      "execution_count": null,
      "outputs": [
        {
          "output_type": "execute_result",
          "data": {
            "text/plain": [
              "2010/6790     1\n",
              "2012/2566     1\n",
              "2018/16600    1\n",
              "2016/4550     1\n",
              "2014/12123    1\n",
              "2018/4158     1\n",
              "Name: Nº PARTE, dtype: int64"
            ]
          },
          "metadata": {
            "tags": []
          },
          "execution_count": 62
        }
      ]
    },
    {
      "cell_type": "code",
      "metadata": {
        "id": "iOKR__M9SCtL",
        "outputId": "ce342f56-d847-4832-9472-91a86ffd4c77",
        "colab": {
          "base_uri": "https://localhost:8080/",
          "height": 244
        }
      },
      "source": [
        "# Revisamos nº de parte\n",
        "accidentes[accidentes['Nº PARTE']=='2014/12123']"
      ],
      "execution_count": null,
      "outputs": [
        {
          "output_type": "execute_result",
          "data": {
            "text/html": [
              "<div>\n",
              "<style scoped>\n",
              "    .dataframe tbody tr th:only-of-type {\n",
              "        vertical-align: middle;\n",
              "    }\n",
              "\n",
              "    .dataframe tbody tr th {\n",
              "        vertical-align: top;\n",
              "    }\n",
              "\n",
              "    .dataframe thead th {\n",
              "        text-align: right;\n",
              "    }\n",
              "</style>\n",
              "<table border=\"1\" class=\"dataframe\">\n",
              "  <thead>\n",
              "    <tr style=\"text-align: right;\">\n",
              "      <th></th>\n",
              "      <th>FECHA</th>\n",
              "      <th>RANGO HORARIO</th>\n",
              "      <th>DIA SEMANA</th>\n",
              "      <th>DISTRITO_x</th>\n",
              "      <th>LUGAR ACCIDENTE</th>\n",
              "      <th>Nº</th>\n",
              "      <th>Nº PARTE</th>\n",
              "      <th>TIPO ACCIDENTE</th>\n",
              "      <th>TIPO VEHICULO</th>\n",
              "      <th>TIPO PERSONA</th>\n",
              "      <th>SEXO</th>\n",
              "      <th>LESIVIDAD</th>\n",
              "      <th>TRAMO EDAD</th>\n",
              "      <th>Nº VICTIMAS</th>\n",
              "      <th>DIRECCION</th>\n",
              "      <th>DISTRITO_y</th>\n",
              "      <th>BARRIO</th>\n",
              "      <th>CP</th>\n",
              "      <th>LAT</th>\n",
              "      <th>LNG</th>\n",
              "      <th>ESTADO METEOROLOGICO</th>\n",
              "      <th>ESTADO VIA</th>\n",
              "    </tr>\n",
              "  </thead>\n",
              "  <tbody>\n",
              "    <tr>\n",
              "      <th>161539</th>\n",
              "      <td>24/12/2014</td>\n",
              "      <td>DE 20:00 A 20:59</td>\n",
              "      <td>MIERCOLES</td>\n",
              "      <td>PUENTE DE VALLECAS</td>\n",
              "      <td>CALLE DE PEDRO LABORDE NUM</td>\n",
              "      <td>45</td>\n",
              "      <td>2014/12123</td>\n",
              "      <td>COLISIÓN DOBLE</td>\n",
              "      <td>NO ASIGNADO</td>\n",
              "      <td>PEATON</td>\n",
              "      <td>HOMBRE</td>\n",
              "      <td>HL</td>\n",
              "      <td>DE 35 A 39</td>\n",
              "      <td>1</td>\n",
              "      <td>CALLE DE PEDRO LABORDE 45</td>\n",
              "      <td>PUENTE DE VALLECAS</td>\n",
              "      <td>PORTAZGO</td>\n",
              "      <td>28018</td>\n",
              "      <td>40.386788</td>\n",
              "      <td>-3.6492941</td>\n",
              "      <td>Seco</td>\n",
              "      <td>Seca Y Limpia</td>\n",
              "    </tr>\n",
              "    <tr>\n",
              "      <th>161541</th>\n",
              "      <td>24/12/2014</td>\n",
              "      <td>DE 20:00 A 20:59</td>\n",
              "      <td>MIERCOLES</td>\n",
              "      <td>PUENTE DE VALLECAS</td>\n",
              "      <td>CALLE DE PEDRO LABORDE NUM</td>\n",
              "      <td>45</td>\n",
              "      <td>2014/12123</td>\n",
              "      <td>COLISIÓN DOBLE</td>\n",
              "      <td>TURISMO</td>\n",
              "      <td>CONDUCTOR</td>\n",
              "      <td>MUJER</td>\n",
              "      <td>IL</td>\n",
              "      <td>DE 25 A 29</td>\n",
              "      <td>1</td>\n",
              "      <td>CALLE DE PEDRO LABORDE 45</td>\n",
              "      <td>PUENTE DE VALLECAS</td>\n",
              "      <td>PORTAZGO</td>\n",
              "      <td>28018</td>\n",
              "      <td>40.386788</td>\n",
              "      <td>-3.6492941</td>\n",
              "      <td>Seco</td>\n",
              "      <td>Seca Y Limpia</td>\n",
              "    </tr>\n",
              "  </tbody>\n",
              "</table>\n",
              "</div>"
            ],
            "text/plain": [
              "             FECHA     RANGO HORARIO  ... ESTADO METEOROLOGICO     ESTADO VIA\n",
              "161539  24/12/2014  DE 20:00 A 20:59  ...                 Seco  Seca Y Limpia\n",
              "161541  24/12/2014  DE 20:00 A 20:59  ...                 Seco  Seca Y Limpia\n",
              "\n",
              "[2 rows x 22 columns]"
            ]
          },
          "metadata": {
            "tags": []
          },
          "execution_count": 63
        }
      ]
    },
    {
      "cell_type": "markdown",
      "metadata": {
        "id": "CacL75H6XK7n"
      },
      "source": [
        "Hemos visto que existen 6 nº de partes que corresponden a un atropello entre un vehículo y un peatón, actualizamos el campo `TIPO ACCIDENTE`:"
      ]
    },
    {
      "cell_type": "code",
      "metadata": {
        "id": "TqDDTK-oWgAp",
        "outputId": "73c4a694-0fe6-4bca-8a75-90ae0d0fd077",
        "colab": {
          "base_uri": "https://localhost:8080/",
          "height": 244
        }
      },
      "source": [
        "num_parte_atro = tmp_df[tmp_df['TIPO PERSONA']=='PEATON']['Nº PARTE']\n",
        "\n",
        "accidentes.loc[accidentes['Nº PARTE'].isin(num_parte_atro), 'TIPO ACCIDENTE'] = 'ATROPELLO'\n",
        "\n",
        "# Revisamos nº de parte de atropello\n",
        "accidentes[accidentes['Nº PARTE']=='2014/12123']"
      ],
      "execution_count": null,
      "outputs": [
        {
          "output_type": "execute_result",
          "data": {
            "text/html": [
              "<div>\n",
              "<style scoped>\n",
              "    .dataframe tbody tr th:only-of-type {\n",
              "        vertical-align: middle;\n",
              "    }\n",
              "\n",
              "    .dataframe tbody tr th {\n",
              "        vertical-align: top;\n",
              "    }\n",
              "\n",
              "    .dataframe thead th {\n",
              "        text-align: right;\n",
              "    }\n",
              "</style>\n",
              "<table border=\"1\" class=\"dataframe\">\n",
              "  <thead>\n",
              "    <tr style=\"text-align: right;\">\n",
              "      <th></th>\n",
              "      <th>FECHA</th>\n",
              "      <th>RANGO HORARIO</th>\n",
              "      <th>DIA SEMANA</th>\n",
              "      <th>DISTRITO_x</th>\n",
              "      <th>LUGAR ACCIDENTE</th>\n",
              "      <th>Nº</th>\n",
              "      <th>Nº PARTE</th>\n",
              "      <th>TIPO ACCIDENTE</th>\n",
              "      <th>TIPO VEHICULO</th>\n",
              "      <th>TIPO PERSONA</th>\n",
              "      <th>SEXO</th>\n",
              "      <th>LESIVIDAD</th>\n",
              "      <th>TRAMO EDAD</th>\n",
              "      <th>Nº VICTIMAS</th>\n",
              "      <th>DIRECCION</th>\n",
              "      <th>DISTRITO_y</th>\n",
              "      <th>BARRIO</th>\n",
              "      <th>CP</th>\n",
              "      <th>LAT</th>\n",
              "      <th>LNG</th>\n",
              "      <th>ESTADO METEOROLOGICO</th>\n",
              "      <th>ESTADO VIA</th>\n",
              "    </tr>\n",
              "  </thead>\n",
              "  <tbody>\n",
              "    <tr>\n",
              "      <th>161539</th>\n",
              "      <td>24/12/2014</td>\n",
              "      <td>DE 20:00 A 20:59</td>\n",
              "      <td>MIERCOLES</td>\n",
              "      <td>PUENTE DE VALLECAS</td>\n",
              "      <td>CALLE DE PEDRO LABORDE NUM</td>\n",
              "      <td>45</td>\n",
              "      <td>2014/12123</td>\n",
              "      <td>ATROPELLO</td>\n",
              "      <td>NO ASIGNADO</td>\n",
              "      <td>PEATON</td>\n",
              "      <td>HOMBRE</td>\n",
              "      <td>HL</td>\n",
              "      <td>DE 35 A 39</td>\n",
              "      <td>1</td>\n",
              "      <td>CALLE DE PEDRO LABORDE 45</td>\n",
              "      <td>PUENTE DE VALLECAS</td>\n",
              "      <td>PORTAZGO</td>\n",
              "      <td>28018</td>\n",
              "      <td>40.386788</td>\n",
              "      <td>-3.6492941</td>\n",
              "      <td>Seco</td>\n",
              "      <td>Seca Y Limpia</td>\n",
              "    </tr>\n",
              "    <tr>\n",
              "      <th>161541</th>\n",
              "      <td>24/12/2014</td>\n",
              "      <td>DE 20:00 A 20:59</td>\n",
              "      <td>MIERCOLES</td>\n",
              "      <td>PUENTE DE VALLECAS</td>\n",
              "      <td>CALLE DE PEDRO LABORDE NUM</td>\n",
              "      <td>45</td>\n",
              "      <td>2014/12123</td>\n",
              "      <td>ATROPELLO</td>\n",
              "      <td>TURISMO</td>\n",
              "      <td>CONDUCTOR</td>\n",
              "      <td>MUJER</td>\n",
              "      <td>IL</td>\n",
              "      <td>DE 25 A 29</td>\n",
              "      <td>1</td>\n",
              "      <td>CALLE DE PEDRO LABORDE 45</td>\n",
              "      <td>PUENTE DE VALLECAS</td>\n",
              "      <td>PORTAZGO</td>\n",
              "      <td>28018</td>\n",
              "      <td>40.386788</td>\n",
              "      <td>-3.6492941</td>\n",
              "      <td>Seco</td>\n",
              "      <td>Seca Y Limpia</td>\n",
              "    </tr>\n",
              "  </tbody>\n",
              "</table>\n",
              "</div>"
            ],
            "text/plain": [
              "             FECHA     RANGO HORARIO  ... ESTADO METEOROLOGICO     ESTADO VIA\n",
              "161539  24/12/2014  DE 20:00 A 20:59  ...                 Seco  Seca Y Limpia\n",
              "161541  24/12/2014  DE 20:00 A 20:59  ...                 Seco  Seca Y Limpia\n",
              "\n",
              "[2 rows x 22 columns]"
            ]
          },
          "metadata": {
            "tags": []
          },
          "execution_count": 64
        }
      ]
    },
    {
      "cell_type": "markdown",
      "metadata": {
        "id": "SLch_ucVZUKI"
      },
      "source": [
        "#### Atropello"
      ]
    },
    {
      "cell_type": "markdown",
      "metadata": {
        "id": "7tCvjPkKfTKO"
      },
      "source": [
        "Siguiendo el procedimiento realizado en la sección anterior, vamos a excluir del dataset aquellos nº de partes cuyos registros tengan los campos de `SEXO`, `LESIVIDAD` y `TRAMO EDAD` no identificados así como aquellos nº de partes donde únicamente haya una persona implicada:"
      ]
    },
    {
      "cell_type": "code",
      "metadata": {
        "id": "oBsv6IFUPFA5",
        "outputId": "13a616b3-0b96-452a-b7d7-fa5a96c74f62",
        "colab": {
          "base_uri": "https://localhost:8080/",
          "height": 228
        }
      },
      "source": [
        "tmp_filter = (accidentes['TIPO ACCIDENTE']=='ATROPELLO') \\\n",
        "  & (accidentes['TIPO PERSONA']!='VIAJERO') #& (accidentes['TIPO PERSONA']!='PEATON')\n",
        "\n",
        "accidentes[tmp_filter]['Nº PARTE'].value_counts()"
      ],
      "execution_count": null,
      "outputs": [
        {
          "output_type": "execute_result",
          "data": {
            "text/plain": [
              "2016/8589     10\n",
              "2011/8545      8\n",
              "2013/5042      7\n",
              "2018/15799     7\n",
              "2012/5636      6\n",
              "              ..\n",
              "2013/4644      1\n",
              "2010/6585      1\n",
              "2012/4118      1\n",
              "2011/11882     1\n",
              "2010/658       1\n",
              "Name: Nº PARTE, Length: 13303, dtype: int64"
            ]
          },
          "metadata": {
            "tags": []
          },
          "execution_count": 65
        }
      ]
    },
    {
      "cell_type": "code",
      "metadata": {
        "id": "o5Xtr-PAeUWQ",
        "outputId": "273a9f9d-b7ee-4037-9d6d-bba0e7fd8dfb",
        "colab": {
          "base_uri": "https://localhost:8080/",
          "height": 1000
        }
      },
      "source": [
        "# Revisamos atropellos con nº de parte superior a 2\n",
        "accidentes[accidentes['Nº PARTE']=='2016/8589']"
      ],
      "execution_count": null,
      "outputs": [
        {
          "output_type": "execute_result",
          "data": {
            "text/html": [
              "<div>\n",
              "<style scoped>\n",
              "    .dataframe tbody tr th:only-of-type {\n",
              "        vertical-align: middle;\n",
              "    }\n",
              "\n",
              "    .dataframe tbody tr th {\n",
              "        vertical-align: top;\n",
              "    }\n",
              "\n",
              "    .dataframe thead th {\n",
              "        text-align: right;\n",
              "    }\n",
              "</style>\n",
              "<table border=\"1\" class=\"dataframe\">\n",
              "  <thead>\n",
              "    <tr style=\"text-align: right;\">\n",
              "      <th></th>\n",
              "      <th>FECHA</th>\n",
              "      <th>RANGO HORARIO</th>\n",
              "      <th>DIA SEMANA</th>\n",
              "      <th>DISTRITO_x</th>\n",
              "      <th>LUGAR ACCIDENTE</th>\n",
              "      <th>Nº</th>\n",
              "      <th>Nº PARTE</th>\n",
              "      <th>TIPO ACCIDENTE</th>\n",
              "      <th>TIPO VEHICULO</th>\n",
              "      <th>TIPO PERSONA</th>\n",
              "      <th>SEXO</th>\n",
              "      <th>LESIVIDAD</th>\n",
              "      <th>TRAMO EDAD</th>\n",
              "      <th>Nº VICTIMAS</th>\n",
              "      <th>DIRECCION</th>\n",
              "      <th>DISTRITO_y</th>\n",
              "      <th>BARRIO</th>\n",
              "      <th>CP</th>\n",
              "      <th>LAT</th>\n",
              "      <th>LNG</th>\n",
              "      <th>ESTADO METEOROLOGICO</th>\n",
              "      <th>ESTADO VIA</th>\n",
              "    </tr>\n",
              "  </thead>\n",
              "  <tbody>\n",
              "    <tr>\n",
              "      <th>177043</th>\n",
              "      <td>16/09/2016</td>\n",
              "      <td>DE 10:00 A 10:59</td>\n",
              "      <td>VIERNES</td>\n",
              "      <td>CHAMBERI</td>\n",
              "      <td>PASEO DE SAN FRANCISCO DE SALES NUM</td>\n",
              "      <td>12</td>\n",
              "      <td>2016/8589</td>\n",
              "      <td>ATROPELLO</td>\n",
              "      <td>NO ASIGNADO</td>\n",
              "      <td>PEATON</td>\n",
              "      <td>HOMBRE</td>\n",
              "      <td>HG</td>\n",
              "      <td>DE 60 A 64</td>\n",
              "      <td>1</td>\n",
              "      <td>PASEO DE SAN FRANCISCO DE SALES 12</td>\n",
              "      <td>CHAMBERI</td>\n",
              "      <td>VALLEHERMOSO</td>\n",
              "      <td>28003</td>\n",
              "      <td>40.4401984</td>\n",
              "      <td>-3.7157232000000002</td>\n",
              "      <td>Seco</td>\n",
              "      <td>Seca Y Limpia</td>\n",
              "    </tr>\n",
              "    <tr>\n",
              "      <th>177044</th>\n",
              "      <td>16/09/2016</td>\n",
              "      <td>DE 10:00 A 10:59</td>\n",
              "      <td>VIERNES</td>\n",
              "      <td>CHAMBERI</td>\n",
              "      <td>PASEO DE SAN FRANCISCO DE SALES NUM</td>\n",
              "      <td>12</td>\n",
              "      <td>2016/8589</td>\n",
              "      <td>ATROPELLO</td>\n",
              "      <td>TURISMO</td>\n",
              "      <td>CONDUCTOR</td>\n",
              "      <td>NO ASIGNADO</td>\n",
              "      <td>NO ASIGNADA</td>\n",
              "      <td>DESCONOCIDA</td>\n",
              "      <td>1</td>\n",
              "      <td>PASEO DE SAN FRANCISCO DE SALES 12</td>\n",
              "      <td>CHAMBERI</td>\n",
              "      <td>VALLEHERMOSO</td>\n",
              "      <td>28003</td>\n",
              "      <td>40.4401984</td>\n",
              "      <td>-3.7157232000000002</td>\n",
              "      <td>Seco</td>\n",
              "      <td>Seca Y Limpia</td>\n",
              "    </tr>\n",
              "    <tr>\n",
              "      <th>177045</th>\n",
              "      <td>16/09/2016</td>\n",
              "      <td>DE 10:00 A 10:59</td>\n",
              "      <td>VIERNES</td>\n",
              "      <td>CHAMBERI</td>\n",
              "      <td>PASEO DE SAN FRANCISCO DE SALES NUM</td>\n",
              "      <td>12</td>\n",
              "      <td>2016/8589</td>\n",
              "      <td>ATROPELLO</td>\n",
              "      <td>TURISMO</td>\n",
              "      <td>CONDUCTOR</td>\n",
              "      <td>NO ASIGNADO</td>\n",
              "      <td>NO ASIGNADA</td>\n",
              "      <td>DESCONOCIDA</td>\n",
              "      <td>1</td>\n",
              "      <td>PASEO DE SAN FRANCISCO DE SALES 12</td>\n",
              "      <td>CHAMBERI</td>\n",
              "      <td>VALLEHERMOSO</td>\n",
              "      <td>28003</td>\n",
              "      <td>40.4401984</td>\n",
              "      <td>-3.7157232000000002</td>\n",
              "      <td>Seco</td>\n",
              "      <td>Seca Y Limpia</td>\n",
              "    </tr>\n",
              "    <tr>\n",
              "      <th>177046</th>\n",
              "      <td>16/09/2016</td>\n",
              "      <td>DE 10:00 A 10:59</td>\n",
              "      <td>VIERNES</td>\n",
              "      <td>CHAMBERI</td>\n",
              "      <td>PASEO DE SAN FRANCISCO DE SALES NUM</td>\n",
              "      <td>12</td>\n",
              "      <td>2016/8589</td>\n",
              "      <td>ATROPELLO</td>\n",
              "      <td>TURISMO</td>\n",
              "      <td>CONDUCTOR</td>\n",
              "      <td>NO ASIGNADO</td>\n",
              "      <td>NO ASIGNADA</td>\n",
              "      <td>DESCONOCIDA</td>\n",
              "      <td>1</td>\n",
              "      <td>PASEO DE SAN FRANCISCO DE SALES 12</td>\n",
              "      <td>CHAMBERI</td>\n",
              "      <td>VALLEHERMOSO</td>\n",
              "      <td>28003</td>\n",
              "      <td>40.4401984</td>\n",
              "      <td>-3.7157232000000002</td>\n",
              "      <td>Seco</td>\n",
              "      <td>Seca Y Limpia</td>\n",
              "    </tr>\n",
              "    <tr>\n",
              "      <th>177047</th>\n",
              "      <td>16/09/2016</td>\n",
              "      <td>DE 10:00 A 10:59</td>\n",
              "      <td>VIERNES</td>\n",
              "      <td>CHAMBERI</td>\n",
              "      <td>PASEO DE SAN FRANCISCO DE SALES NUM</td>\n",
              "      <td>12</td>\n",
              "      <td>2016/8589</td>\n",
              "      <td>ATROPELLO</td>\n",
              "      <td>TURISMO</td>\n",
              "      <td>CONDUCTOR</td>\n",
              "      <td>NO ASIGNADO</td>\n",
              "      <td>NO ASIGNADA</td>\n",
              "      <td>DESCONOCIDA</td>\n",
              "      <td>1</td>\n",
              "      <td>PASEO DE SAN FRANCISCO DE SALES 12</td>\n",
              "      <td>CHAMBERI</td>\n",
              "      <td>VALLEHERMOSO</td>\n",
              "      <td>28003</td>\n",
              "      <td>40.4401984</td>\n",
              "      <td>-3.7157232000000002</td>\n",
              "      <td>Seco</td>\n",
              "      <td>Seca Y Limpia</td>\n",
              "    </tr>\n",
              "    <tr>\n",
              "      <th>177048</th>\n",
              "      <td>16/09/2016</td>\n",
              "      <td>DE 10:00 A 10:59</td>\n",
              "      <td>VIERNES</td>\n",
              "      <td>CHAMBERI</td>\n",
              "      <td>PASEO DE SAN FRANCISCO DE SALES NUM</td>\n",
              "      <td>12</td>\n",
              "      <td>2016/8589</td>\n",
              "      <td>ATROPELLO</td>\n",
              "      <td>TURISMO</td>\n",
              "      <td>CONDUCTOR</td>\n",
              "      <td>NO ASIGNADO</td>\n",
              "      <td>NO ASIGNADA</td>\n",
              "      <td>DESCONOCIDA</td>\n",
              "      <td>1</td>\n",
              "      <td>PASEO DE SAN FRANCISCO DE SALES 12</td>\n",
              "      <td>CHAMBERI</td>\n",
              "      <td>VALLEHERMOSO</td>\n",
              "      <td>28003</td>\n",
              "      <td>40.4401984</td>\n",
              "      <td>-3.7157232000000002</td>\n",
              "      <td>Seco</td>\n",
              "      <td>Seca Y Limpia</td>\n",
              "    </tr>\n",
              "    <tr>\n",
              "      <th>177049</th>\n",
              "      <td>16/09/2016</td>\n",
              "      <td>DE 10:00 A 10:59</td>\n",
              "      <td>VIERNES</td>\n",
              "      <td>CHAMBERI</td>\n",
              "      <td>PASEO DE SAN FRANCISCO DE SALES NUM</td>\n",
              "      <td>12</td>\n",
              "      <td>2016/8589</td>\n",
              "      <td>ATROPELLO</td>\n",
              "      <td>MOTOCICLETA</td>\n",
              "      <td>MOTORISTA</td>\n",
              "      <td>NO ASIGNADO</td>\n",
              "      <td>NO ASIGNADA</td>\n",
              "      <td>DESCONOCIDA</td>\n",
              "      <td>1</td>\n",
              "      <td>PASEO DE SAN FRANCISCO DE SALES 12</td>\n",
              "      <td>CHAMBERI</td>\n",
              "      <td>VALLEHERMOSO</td>\n",
              "      <td>28003</td>\n",
              "      <td>40.4401984</td>\n",
              "      <td>-3.7157232000000002</td>\n",
              "      <td>Seco</td>\n",
              "      <td>Seca Y Limpia</td>\n",
              "    </tr>\n",
              "    <tr>\n",
              "      <th>177050</th>\n",
              "      <td>16/09/2016</td>\n",
              "      <td>DE 10:00 A 10:59</td>\n",
              "      <td>VIERNES</td>\n",
              "      <td>CHAMBERI</td>\n",
              "      <td>PASEO DE SAN FRANCISCO DE SALES NUM</td>\n",
              "      <td>12</td>\n",
              "      <td>2016/8589</td>\n",
              "      <td>ATROPELLO</td>\n",
              "      <td>MOTOCICLETA</td>\n",
              "      <td>MOTORISTA</td>\n",
              "      <td>NO ASIGNADO</td>\n",
              "      <td>NO ASIGNADA</td>\n",
              "      <td>DESCONOCIDA</td>\n",
              "      <td>1</td>\n",
              "      <td>PASEO DE SAN FRANCISCO DE SALES 12</td>\n",
              "      <td>CHAMBERI</td>\n",
              "      <td>VALLEHERMOSO</td>\n",
              "      <td>28003</td>\n",
              "      <td>40.4401984</td>\n",
              "      <td>-3.7157232000000002</td>\n",
              "      <td>Seco</td>\n",
              "      <td>Seca Y Limpia</td>\n",
              "    </tr>\n",
              "    <tr>\n",
              "      <th>177051</th>\n",
              "      <td>16/09/2016</td>\n",
              "      <td>DE 10:00 A 10:59</td>\n",
              "      <td>VIERNES</td>\n",
              "      <td>CHAMBERI</td>\n",
              "      <td>PASEO DE SAN FRANCISCO DE SALES NUM</td>\n",
              "      <td>12</td>\n",
              "      <td>2016/8589</td>\n",
              "      <td>ATROPELLO</td>\n",
              "      <td>CAMION</td>\n",
              "      <td>CONDUCTOR</td>\n",
              "      <td>HOMBRE</td>\n",
              "      <td>IL</td>\n",
              "      <td>DE 25 A 29</td>\n",
              "      <td>1</td>\n",
              "      <td>PASEO DE SAN FRANCISCO DE SALES 12</td>\n",
              "      <td>CHAMBERI</td>\n",
              "      <td>VALLEHERMOSO</td>\n",
              "      <td>28003</td>\n",
              "      <td>40.4401984</td>\n",
              "      <td>-3.7157232000000002</td>\n",
              "      <td>Seco</td>\n",
              "      <td>Seca Y Limpia</td>\n",
              "    </tr>\n",
              "    <tr>\n",
              "      <th>177052</th>\n",
              "      <td>16/09/2016</td>\n",
              "      <td>DE 10:00 A 10:59</td>\n",
              "      <td>VIERNES</td>\n",
              "      <td>CHAMBERI</td>\n",
              "      <td>PASEO DE SAN FRANCISCO DE SALES NUM</td>\n",
              "      <td>12</td>\n",
              "      <td>2016/8589</td>\n",
              "      <td>ATROPELLO</td>\n",
              "      <td>CICLOMOTOR</td>\n",
              "      <td>CICLOMOTORISTA</td>\n",
              "      <td>NO ASIGNADO</td>\n",
              "      <td>NO ASIGNADA</td>\n",
              "      <td>DESCONOCIDA</td>\n",
              "      <td>1</td>\n",
              "      <td>PASEO DE SAN FRANCISCO DE SALES 12</td>\n",
              "      <td>CHAMBERI</td>\n",
              "      <td>VALLEHERMOSO</td>\n",
              "      <td>28003</td>\n",
              "      <td>40.4401984</td>\n",
              "      <td>-3.7157232000000002</td>\n",
              "      <td>Seco</td>\n",
              "      <td>Seca Y Limpia</td>\n",
              "    </tr>\n",
              "  </tbody>\n",
              "</table>\n",
              "</div>"
            ],
            "text/plain": [
              "             FECHA     RANGO HORARIO  ... ESTADO METEOROLOGICO     ESTADO VIA\n",
              "177043  16/09/2016  DE 10:00 A 10:59  ...                 Seco  Seca Y Limpia\n",
              "177044  16/09/2016  DE 10:00 A 10:59  ...                 Seco  Seca Y Limpia\n",
              "177045  16/09/2016  DE 10:00 A 10:59  ...                 Seco  Seca Y Limpia\n",
              "177046  16/09/2016  DE 10:00 A 10:59  ...                 Seco  Seca Y Limpia\n",
              "177047  16/09/2016  DE 10:00 A 10:59  ...                 Seco  Seca Y Limpia\n",
              "177048  16/09/2016  DE 10:00 A 10:59  ...                 Seco  Seca Y Limpia\n",
              "177049  16/09/2016  DE 10:00 A 10:59  ...                 Seco  Seca Y Limpia\n",
              "177050  16/09/2016  DE 10:00 A 10:59  ...                 Seco  Seca Y Limpia\n",
              "177051  16/09/2016  DE 10:00 A 10:59  ...                 Seco  Seca Y Limpia\n",
              "177052  16/09/2016  DE 10:00 A 10:59  ...                 Seco  Seca Y Limpia\n",
              "\n",
              "[10 rows x 22 columns]"
            ]
          },
          "metadata": {
            "tags": []
          },
          "execution_count": 66
        }
      ]
    },
    {
      "cell_type": "code",
      "metadata": {
        "id": "8cvrgxvVhKtL"
      },
      "source": [
        "tmp_filter = (accidentes['SEXO']=='NO ASIGNADO') & (accidentes['LESIVIDAD']=='NO ASIGNADA') \\\n",
        "  & (accidentes['TRAMO EDAD']=='DESCONOCIDA') & (accidentes['TIPO ACCIDENTE']=='ATROPELLO')\n",
        "\n",
        "accidentes.drop(accidentes[tmp_filter]['Nº PARTE'].index, inplace=True)"
      ],
      "execution_count": null,
      "outputs": []
    },
    {
      "cell_type": "code",
      "metadata": {
        "id": "TppbVk-mhaC-",
        "outputId": "caafb939-25a4-412a-a450-e54e246402e0",
        "colab": {
          "base_uri": "https://localhost:8080/",
          "height": 228
        }
      },
      "source": [
        "tmp_filter = (accidentes['TIPO ACCIDENTE']=='ATROPELLO') \\\n",
        "  & (accidentes['TIPO PERSONA']!='VIAJERO') & (accidentes['TIPO PERSONA']!='PEATON')\n",
        "\n",
        "accidentes[tmp_filter]['Nº PARTE'].value_counts()"
      ],
      "execution_count": null,
      "outputs": [
        {
          "output_type": "execute_result",
          "data": {
            "text/plain": [
              "2011/2163     3\n",
              "2011/2337     3\n",
              "2017/1511     3\n",
              "2015/3635     3\n",
              "2013/10881    3\n",
              "             ..\n",
              "2012/11207    1\n",
              "2017/7975     1\n",
              "2018/10942    1\n",
              "2017/735      1\n",
              "2011/383      1\n",
              "Name: Nº PARTE, Length: 12502, dtype: int64"
            ]
          },
          "metadata": {
            "tags": []
          },
          "execution_count": 68
        }
      ]
    },
    {
      "cell_type": "code",
      "metadata": {
        "id": "KtMx7mn7hmqh",
        "outputId": "cd7571cc-15d7-45a8-ee4c-eb60a28d456e",
        "colab": {
          "base_uri": "https://localhost:8080/",
          "height": 484
        }
      },
      "source": [
        "# Revisamos atropellos con nº de parte superior a 2\n",
        "accidentes[accidentes['Nº PARTE']=='2011/2337']"
      ],
      "execution_count": null,
      "outputs": [
        {
          "output_type": "execute_result",
          "data": {
            "text/html": [
              "<div>\n",
              "<style scoped>\n",
              "    .dataframe tbody tr th:only-of-type {\n",
              "        vertical-align: middle;\n",
              "    }\n",
              "\n",
              "    .dataframe tbody tr th {\n",
              "        vertical-align: top;\n",
              "    }\n",
              "\n",
              "    .dataframe thead th {\n",
              "        text-align: right;\n",
              "    }\n",
              "</style>\n",
              "<table border=\"1\" class=\"dataframe\">\n",
              "  <thead>\n",
              "    <tr style=\"text-align: right;\">\n",
              "      <th></th>\n",
              "      <th>FECHA</th>\n",
              "      <th>RANGO HORARIO</th>\n",
              "      <th>DIA SEMANA</th>\n",
              "      <th>DISTRITO_x</th>\n",
              "      <th>LUGAR ACCIDENTE</th>\n",
              "      <th>Nº</th>\n",
              "      <th>Nº PARTE</th>\n",
              "      <th>TIPO ACCIDENTE</th>\n",
              "      <th>TIPO VEHICULO</th>\n",
              "      <th>TIPO PERSONA</th>\n",
              "      <th>SEXO</th>\n",
              "      <th>LESIVIDAD</th>\n",
              "      <th>TRAMO EDAD</th>\n",
              "      <th>Nº VICTIMAS</th>\n",
              "      <th>DIRECCION</th>\n",
              "      <th>DISTRITO_y</th>\n",
              "      <th>BARRIO</th>\n",
              "      <th>CP</th>\n",
              "      <th>LAT</th>\n",
              "      <th>LNG</th>\n",
              "      <th>ESTADO METEOROLOGICO</th>\n",
              "      <th>ESTADO VIA</th>\n",
              "    </tr>\n",
              "  </thead>\n",
              "  <tbody>\n",
              "    <tr>\n",
              "      <th>87337</th>\n",
              "      <td>13/03/2011</td>\n",
              "      <td>DE 20:00 A 20:59</td>\n",
              "      <td>DOMINGO</td>\n",
              "      <td>CARABANCHEL</td>\n",
              "      <td>CALLE DEL GENERAL RICARDOS NUM</td>\n",
              "      <td>39</td>\n",
              "      <td>2011/2337</td>\n",
              "      <td>ATROPELLO</td>\n",
              "      <td>NO ASIGNADO</td>\n",
              "      <td>PEATON</td>\n",
              "      <td>HOMBRE</td>\n",
              "      <td>HG</td>\n",
              "      <td>DE 35 A 39</td>\n",
              "      <td>1</td>\n",
              "      <td>CALLE DEL GENERAL RICARDOS 39</td>\n",
              "      <td>CARABANCHEL</td>\n",
              "      <td>OPAÑEL</td>\n",
              "      <td>28019</td>\n",
              "      <td>40.395300899999995</td>\n",
              "      <td>-3.719353899999999</td>\n",
              "      <td>Lluvia</td>\n",
              "      <td>Mojada</td>\n",
              "    </tr>\n",
              "    <tr>\n",
              "      <th>87338</th>\n",
              "      <td>13/03/2011</td>\n",
              "      <td>DE 20:00 A 20:59</td>\n",
              "      <td>DOMINGO</td>\n",
              "      <td>CARABANCHEL</td>\n",
              "      <td>CALLE DEL GENERAL RICARDOS NUM</td>\n",
              "      <td>39</td>\n",
              "      <td>2011/2337</td>\n",
              "      <td>ATROPELLO</td>\n",
              "      <td>TURISMO</td>\n",
              "      <td>CONDUCTOR</td>\n",
              "      <td>HOMBRE</td>\n",
              "      <td>IL</td>\n",
              "      <td>DE 45 A 49</td>\n",
              "      <td>1</td>\n",
              "      <td>CALLE DEL GENERAL RICARDOS 39</td>\n",
              "      <td>CARABANCHEL</td>\n",
              "      <td>OPAÑEL</td>\n",
              "      <td>28019</td>\n",
              "      <td>40.395300899999995</td>\n",
              "      <td>-3.719353899999999</td>\n",
              "      <td>Lluvia</td>\n",
              "      <td>Mojada</td>\n",
              "    </tr>\n",
              "    <tr>\n",
              "      <th>87339</th>\n",
              "      <td>13/03/2011</td>\n",
              "      <td>DE 20:00 A 20:59</td>\n",
              "      <td>DOMINGO</td>\n",
              "      <td>CARABANCHEL</td>\n",
              "      <td>CALLE DEL GENERAL RICARDOS NUM</td>\n",
              "      <td>39</td>\n",
              "      <td>2011/2337</td>\n",
              "      <td>ATROPELLO</td>\n",
              "      <td>TURISMO</td>\n",
              "      <td>CONDUCTOR</td>\n",
              "      <td>HOMBRE</td>\n",
              "      <td>IL</td>\n",
              "      <td>DE 35 A 39</td>\n",
              "      <td>1</td>\n",
              "      <td>CALLE DEL GENERAL RICARDOS 39</td>\n",
              "      <td>CARABANCHEL</td>\n",
              "      <td>OPAÑEL</td>\n",
              "      <td>28019</td>\n",
              "      <td>40.395300899999995</td>\n",
              "      <td>-3.719353899999999</td>\n",
              "      <td>Lluvia</td>\n",
              "      <td>Mojada</td>\n",
              "    </tr>\n",
              "    <tr>\n",
              "      <th>87340</th>\n",
              "      <td>13/03/2011</td>\n",
              "      <td>DE 20:00 A 20:59</td>\n",
              "      <td>DOMINGO</td>\n",
              "      <td>CARABANCHEL</td>\n",
              "      <td>CALLE DEL GENERAL RICARDOS NUM</td>\n",
              "      <td>39</td>\n",
              "      <td>2011/2337</td>\n",
              "      <td>ATROPELLO</td>\n",
              "      <td>TURISMO</td>\n",
              "      <td>CONDUCTOR</td>\n",
              "      <td>MUJER</td>\n",
              "      <td>IL</td>\n",
              "      <td>DE 30 A 34</td>\n",
              "      <td>1</td>\n",
              "      <td>CALLE DEL GENERAL RICARDOS 39</td>\n",
              "      <td>CARABANCHEL</td>\n",
              "      <td>OPAÑEL</td>\n",
              "      <td>28019</td>\n",
              "      <td>40.395300899999995</td>\n",
              "      <td>-3.719353899999999</td>\n",
              "      <td>Lluvia</td>\n",
              "      <td>Mojada</td>\n",
              "    </tr>\n",
              "    <tr>\n",
              "      <th>87341</th>\n",
              "      <td>13/03/2011</td>\n",
              "      <td>DE 20:00 A 20:59</td>\n",
              "      <td>DOMINGO</td>\n",
              "      <td>CARABANCHEL</td>\n",
              "      <td>CALLE DEL GENERAL RICARDOS NUM</td>\n",
              "      <td>39</td>\n",
              "      <td>2011/2337</td>\n",
              "      <td>ATROPELLO</td>\n",
              "      <td>TURISMO</td>\n",
              "      <td>VIAJERO</td>\n",
              "      <td>MUJER</td>\n",
              "      <td>IL</td>\n",
              "      <td>DE 21 A 24</td>\n",
              "      <td>1</td>\n",
              "      <td>CALLE DEL GENERAL RICARDOS 39</td>\n",
              "      <td>CARABANCHEL</td>\n",
              "      <td>OPAÑEL</td>\n",
              "      <td>28019</td>\n",
              "      <td>40.395300899999995</td>\n",
              "      <td>-3.719353899999999</td>\n",
              "      <td>Lluvia</td>\n",
              "      <td>Mojada</td>\n",
              "    </tr>\n",
              "  </tbody>\n",
              "</table>\n",
              "</div>"
            ],
            "text/plain": [
              "            FECHA     RANGO HORARIO  ... ESTADO METEOROLOGICO ESTADO VIA\n",
              "87337  13/03/2011  DE 20:00 A 20:59  ...               Lluvia     Mojada\n",
              "87338  13/03/2011  DE 20:00 A 20:59  ...               Lluvia     Mojada\n",
              "87339  13/03/2011  DE 20:00 A 20:59  ...               Lluvia     Mojada\n",
              "87340  13/03/2011  DE 20:00 A 20:59  ...               Lluvia     Mojada\n",
              "87341  13/03/2011  DE 20:00 A 20:59  ...               Lluvia     Mojada\n",
              "\n",
              "[5 rows x 22 columns]"
            ]
          },
          "metadata": {
            "tags": []
          },
          "execution_count": 69
        }
      ]
    },
    {
      "cell_type": "markdown",
      "metadata": {
        "id": "0zAOQGbh5HlT"
      },
      "source": [
        "### Otras modificaciones"
      ]
    },
    {
      "cell_type": "markdown",
      "metadata": {
        "id": "EpjnNS3yQMus"
      },
      "source": [
        "Finalizamos esta sección, realizando otras pequeñas modificaciones en el dataset, revisando si existen valores nulos y reorganizando las columnas:"
      ]
    },
    {
      "cell_type": "code",
      "metadata": {
        "id": "-NT9GFjyKGFY"
      },
      "source": [
        "# Convertimos columna FECHA a formato datetime\n",
        "accidentes['FECHA'] = pd.to_datetime(accidentes['FECHA'], format='%d/%m/%Y')\n",
        "\n",
        "# Creamos nuevas columnas de año, mes y día a partir de la columna fecha\n",
        "accidentes['AÑO'] = accidentes['FECHA'].dt.year\n",
        "accidentes['MES'] = accidentes['FECHA'].dt.month\n",
        "accidentes['DIA'] = accidentes['FECHA'].dt.day"
      ],
      "execution_count": null,
      "outputs": []
    },
    {
      "cell_type": "code",
      "metadata": {
        "id": "FKe2sKIpxxVO",
        "outputId": "6faa92a9-7848-4879-c7df-edcfc8f295cf",
        "colab": {
          "base_uri": "https://localhost:8080/",
          "height": 580
        }
      },
      "source": [
        "# Revisamos valores nulos y tipos de datos\n",
        "accidentes.info()"
      ],
      "execution_count": null,
      "outputs": [
        {
          "output_type": "stream",
          "text": [
            "<class 'pandas.core.frame.DataFrame'>\n",
            "Int64Index: 184710 entries, 0 to 190870\n",
            "Data columns (total 25 columns):\n",
            " #   Column                Non-Null Count   Dtype         \n",
            "---  ------                --------------   -----         \n",
            " 0   FECHA                 184710 non-null  datetime64[ns]\n",
            " 1   RANGO HORARIO         184710 non-null  object        \n",
            " 2   DIA SEMANA            184710 non-null  object        \n",
            " 3   DISTRITO_x            184710 non-null  object        \n",
            " 4   LUGAR ACCIDENTE       184710 non-null  object        \n",
            " 5   Nº                    184710 non-null  object        \n",
            " 6   Nº PARTE              184710 non-null  object        \n",
            " 7   TIPO ACCIDENTE        184710 non-null  object        \n",
            " 8   TIPO VEHICULO         184710 non-null  object        \n",
            " 9   TIPO PERSONA          184710 non-null  object        \n",
            " 10  SEXO                  184710 non-null  object        \n",
            " 11  LESIVIDAD             184710 non-null  object        \n",
            " 12  TRAMO EDAD            184710 non-null  object        \n",
            " 13  Nº VICTIMAS           184710 non-null  int64         \n",
            " 14  DIRECCION             184710 non-null  object        \n",
            " 15  DISTRITO_y            184710 non-null  object        \n",
            " 16  BARRIO                184710 non-null  object        \n",
            " 17  CP                    184710 non-null  object        \n",
            " 18  LAT                   184710 non-null  object        \n",
            " 19  LNG                   184710 non-null  object        \n",
            " 20  ESTADO METEOROLOGICO  184710 non-null  object        \n",
            " 21  ESTADO VIA            184710 non-null  object        \n",
            " 22  AÑO                   184710 non-null  int64         \n",
            " 23  MES                   184710 non-null  int64         \n",
            " 24  DIA                   184710 non-null  int64         \n",
            "dtypes: datetime64[ns](1), int64(4), object(20)\n",
            "memory usage: 36.6+ MB\n"
          ],
          "name": "stdout"
        }
      ]
    },
    {
      "cell_type": "code",
      "metadata": {
        "id": "30h-FKquzWvV",
        "outputId": "fb5fecb3-af3a-4d16-9d24-320d9dd29c92",
        "colab": {
          "base_uri": "https://localhost:8080/",
          "height": 400
        }
      },
      "source": [
        "# Reorganizamos columnas\n",
        "cols = ['Nº PARTE', 'FECHA', 'RANGO HORARIO', 'DIA SEMANA', 'DISTRITO_y',\n",
        "        'BARRIO', 'TIPO ACCIDENTE', 'TIPO VEHICULO', 'TIPO PERSONA', 'SEXO',\n",
        "        'LESIVIDAD', 'TRAMO EDAD', 'Nº VICTIMAS','ESTADO METEOROLOGICO',\n",
        "        'ESTADO VIA', 'DIRECCION', 'CP','LAT', 'LNG', 'AÑO', 'MES','DIA']\n",
        "\n",
        "accidentes = accidentes[cols].copy()\n",
        "\n",
        "# Renombramos columna distrito\n",
        "accidentes.rename(columns={'DISTRITO_y': 'DISTRITO'}, inplace=True)\n",
        "\n",
        "# Examinamos dataset\n",
        "accidentes.head()"
      ],
      "execution_count": null,
      "outputs": [
        {
          "output_type": "execute_result",
          "data": {
            "text/html": [
              "<div>\n",
              "<style scoped>\n",
              "    .dataframe tbody tr th:only-of-type {\n",
              "        vertical-align: middle;\n",
              "    }\n",
              "\n",
              "    .dataframe tbody tr th {\n",
              "        vertical-align: top;\n",
              "    }\n",
              "\n",
              "    .dataframe thead th {\n",
              "        text-align: right;\n",
              "    }\n",
              "</style>\n",
              "<table border=\"1\" class=\"dataframe\">\n",
              "  <thead>\n",
              "    <tr style=\"text-align: right;\">\n",
              "      <th></th>\n",
              "      <th>Nº PARTE</th>\n",
              "      <th>FECHA</th>\n",
              "      <th>RANGO HORARIO</th>\n",
              "      <th>DIA SEMANA</th>\n",
              "      <th>DISTRITO</th>\n",
              "      <th>BARRIO</th>\n",
              "      <th>TIPO ACCIDENTE</th>\n",
              "      <th>TIPO VEHICULO</th>\n",
              "      <th>TIPO PERSONA</th>\n",
              "      <th>SEXO</th>\n",
              "      <th>LESIVIDAD</th>\n",
              "      <th>TRAMO EDAD</th>\n",
              "      <th>Nº VICTIMAS</th>\n",
              "      <th>ESTADO METEOROLOGICO</th>\n",
              "      <th>ESTADO VIA</th>\n",
              "      <th>DIRECCION</th>\n",
              "      <th>CP</th>\n",
              "      <th>LAT</th>\n",
              "      <th>LNG</th>\n",
              "      <th>AÑO</th>\n",
              "      <th>MES</th>\n",
              "      <th>DIA</th>\n",
              "    </tr>\n",
              "  </thead>\n",
              "  <tbody>\n",
              "    <tr>\n",
              "      <th>0</th>\n",
              "      <td>2010/135</td>\n",
              "      <td>2010-01-01</td>\n",
              "      <td>DE 00:00 A 00:59</td>\n",
              "      <td>VIERNES</td>\n",
              "      <td>CHAMARTIN</td>\n",
              "      <td>PROSPERIDAD</td>\n",
              "      <td>COLISIÓN DOBLE</td>\n",
              "      <td>TURISMO</td>\n",
              "      <td>CONDUCTOR</td>\n",
              "      <td>HOMBRE</td>\n",
              "      <td>IL</td>\n",
              "      <td>DE 18 A 20</td>\n",
              "      <td>1</td>\n",
              "      <td>Lluvia</td>\n",
              "      <td>Mojada</td>\n",
              "      <td>CALLE DE CARTAGENA 104</td>\n",
              "      <td>28002</td>\n",
              "      <td>40.43944000000001</td>\n",
              "      <td>-3.67348</td>\n",
              "      <td>2010</td>\n",
              "      <td>1</td>\n",
              "      <td>1</td>\n",
              "    </tr>\n",
              "    <tr>\n",
              "      <th>1</th>\n",
              "      <td>2010/135</td>\n",
              "      <td>2010-01-01</td>\n",
              "      <td>DE 00:00 A 00:59</td>\n",
              "      <td>VIERNES</td>\n",
              "      <td>CHAMARTIN</td>\n",
              "      <td>PROSPERIDAD</td>\n",
              "      <td>COLISIÓN DOBLE</td>\n",
              "      <td>TURISMO</td>\n",
              "      <td>CONDUCTOR</td>\n",
              "      <td>HOMBRE</td>\n",
              "      <td>IL</td>\n",
              "      <td>DE 50 A 54</td>\n",
              "      <td>1</td>\n",
              "      <td>Lluvia</td>\n",
              "      <td>Mojada</td>\n",
              "      <td>CALLE DE CARTAGENA 104</td>\n",
              "      <td>28002</td>\n",
              "      <td>40.43944000000001</td>\n",
              "      <td>-3.67348</td>\n",
              "      <td>2010</td>\n",
              "      <td>1</td>\n",
              "      <td>1</td>\n",
              "    </tr>\n",
              "    <tr>\n",
              "      <th>2</th>\n",
              "      <td>2010/135</td>\n",
              "      <td>2010-01-01</td>\n",
              "      <td>DE 00:00 A 00:59</td>\n",
              "      <td>VIERNES</td>\n",
              "      <td>CHAMARTIN</td>\n",
              "      <td>PROSPERIDAD</td>\n",
              "      <td>COLISIÓN DOBLE</td>\n",
              "      <td>TURISMO</td>\n",
              "      <td>VIAJERO</td>\n",
              "      <td>MUJER</td>\n",
              "      <td>HL</td>\n",
              "      <td>DE 40 A 44</td>\n",
              "      <td>1</td>\n",
              "      <td>Lluvia</td>\n",
              "      <td>Mojada</td>\n",
              "      <td>CALLE DE CARTAGENA 104</td>\n",
              "      <td>28002</td>\n",
              "      <td>40.43944000000001</td>\n",
              "      <td>-3.67348</td>\n",
              "      <td>2010</td>\n",
              "      <td>1</td>\n",
              "      <td>1</td>\n",
              "    </tr>\n",
              "    <tr>\n",
              "      <th>3</th>\n",
              "      <td>2011/8233</td>\n",
              "      <td>2011-09-13</td>\n",
              "      <td>DE 13:00 A 13:59</td>\n",
              "      <td>MARTES</td>\n",
              "      <td>CHAMARTIN</td>\n",
              "      <td>PROSPERIDAD</td>\n",
              "      <td>COLISIÓN DOBLE</td>\n",
              "      <td>TURISMO</td>\n",
              "      <td>CONDUCTOR</td>\n",
              "      <td>HOMBRE</td>\n",
              "      <td>HL</td>\n",
              "      <td>DE 21 A 24</td>\n",
              "      <td>2</td>\n",
              "      <td>Seco</td>\n",
              "      <td>Seca Y Limpia</td>\n",
              "      <td>CALLE DE CARTAGENA 104</td>\n",
              "      <td>28002</td>\n",
              "      <td>40.43944000000001</td>\n",
              "      <td>-3.67348</td>\n",
              "      <td>2011</td>\n",
              "      <td>9</td>\n",
              "      <td>13</td>\n",
              "    </tr>\n",
              "    <tr>\n",
              "      <th>4</th>\n",
              "      <td>2011/8233</td>\n",
              "      <td>2011-09-13</td>\n",
              "      <td>DE 13:00 A 13:59</td>\n",
              "      <td>MARTES</td>\n",
              "      <td>CHAMARTIN</td>\n",
              "      <td>PROSPERIDAD</td>\n",
              "      <td>COLISIÓN DOBLE</td>\n",
              "      <td>MOTOCICLETA</td>\n",
              "      <td>MOTORISTA</td>\n",
              "      <td>HOMBRE</td>\n",
              "      <td>HL</td>\n",
              "      <td>DE 40 A 44</td>\n",
              "      <td>2</td>\n",
              "      <td>Seco</td>\n",
              "      <td>Seca Y Limpia</td>\n",
              "      <td>CALLE DE CARTAGENA 104</td>\n",
              "      <td>28002</td>\n",
              "      <td>40.43944000000001</td>\n",
              "      <td>-3.67348</td>\n",
              "      <td>2011</td>\n",
              "      <td>9</td>\n",
              "      <td>13</td>\n",
              "    </tr>\n",
              "  </tbody>\n",
              "</table>\n",
              "</div>"
            ],
            "text/plain": [
              "    Nº PARTE      FECHA     RANGO HORARIO DIA SEMANA  ...       LNG   AÑO MES DIA\n",
              "0   2010/135 2010-01-01  DE 00:00 A 00:59    VIERNES  ...  -3.67348  2010   1   1\n",
              "1   2010/135 2010-01-01  DE 00:00 A 00:59    VIERNES  ...  -3.67348  2010   1   1\n",
              "2   2010/135 2010-01-01  DE 00:00 A 00:59    VIERNES  ...  -3.67348  2010   1   1\n",
              "3  2011/8233 2011-09-13  DE 13:00 A 13:59     MARTES  ...  -3.67348  2011   9  13\n",
              "4  2011/8233 2011-09-13  DE 13:00 A 13:59     MARTES  ...  -3.67348  2011   9  13\n",
              "\n",
              "[5 rows x 22 columns]"
            ]
          },
          "metadata": {
            "tags": []
          },
          "execution_count": 72
        }
      ]
    },
    {
      "cell_type": "markdown",
      "metadata": {
        "id": "3bMisAo57p57"
      },
      "source": [
        "### Tableau"
      ]
    },
    {
      "cell_type": "markdown",
      "metadata": {
        "id": "zsqVk4XTFedB"
      },
      "source": [
        "Para representar en Tableau un mapa de los distritos y barrios de Madrid vamos a utilizar dos ficheros gráficos (SHP) con la relación y trazado de los distritos y barrios vigentes, códigos y nombres de cada uno, superficie, perímetro e información geográfica.\n",
        "\n",
        "Estos ficheros se encuentran disponibles para descargar en [esta sección](https://datos.madrid.es/portal/site/egob/menuitem.c05c1f754a33a9fbe4b2e4b284f1a5a0/?vgnextoid=46b55cde99be2410VgnVCM1000000b205a0aRCRD&) del portal de datos abiertos del Ayuntamiento de Madrid.\n",
        "\n",
        "En Tableau uniremos el dataset `accidentes` con el fichero `barrios.shp` a través del código de cada barrio y éste a su vez con el fichero `distritos.shp` a través del código de cada distrito.\n",
        "\n",
        "Por esta razón, vamos a añadir los códigos de barrio y distrito al dataset `accidentes` que se encuentran en el dataframe `dis_barrios`que creamos anteriormente:"
      ]
    },
    {
      "cell_type": "code",
      "metadata": {
        "id": "v95TMt6FI4og",
        "outputId": "331d6d6a-7660-486a-8fa3-78f1a85907b0",
        "colab": {
          "base_uri": "https://localhost:8080/",
          "height": 195
        }
      },
      "source": [
        "dis_barrios.head()"
      ],
      "execution_count": null,
      "outputs": [
        {
          "output_type": "execute_result",
          "data": {
            "text/html": [
              "<div>\n",
              "<style scoped>\n",
              "    .dataframe tbody tr th:only-of-type {\n",
              "        vertical-align: middle;\n",
              "    }\n",
              "\n",
              "    .dataframe tbody tr th {\n",
              "        vertical-align: top;\n",
              "    }\n",
              "\n",
              "    .dataframe thead th {\n",
              "        text-align: right;\n",
              "    }\n",
              "</style>\n",
              "<table border=\"1\" class=\"dataframe\">\n",
              "  <thead>\n",
              "    <tr style=\"text-align: right;\">\n",
              "      <th></th>\n",
              "      <th>Codigo de distrito</th>\n",
              "      <th>Nombre de distrito</th>\n",
              "      <th>Codigo de barrio</th>\n",
              "      <th>Nombre de barrio</th>\n",
              "    </tr>\n",
              "  </thead>\n",
              "  <tbody>\n",
              "    <tr>\n",
              "      <th>0</th>\n",
              "      <td>1</td>\n",
              "      <td>CENTRO</td>\n",
              "      <td>1</td>\n",
              "      <td>PALACIO</td>\n",
              "    </tr>\n",
              "    <tr>\n",
              "      <th>1</th>\n",
              "      <td>1</td>\n",
              "      <td>CENTRO</td>\n",
              "      <td>2</td>\n",
              "      <td>EMBAJADORES</td>\n",
              "    </tr>\n",
              "    <tr>\n",
              "      <th>2</th>\n",
              "      <td>1</td>\n",
              "      <td>CENTRO</td>\n",
              "      <td>3</td>\n",
              "      <td>CORTES</td>\n",
              "    </tr>\n",
              "    <tr>\n",
              "      <th>3</th>\n",
              "      <td>1</td>\n",
              "      <td>CENTRO</td>\n",
              "      <td>4</td>\n",
              "      <td>JUSTICIA</td>\n",
              "    </tr>\n",
              "    <tr>\n",
              "      <th>4</th>\n",
              "      <td>1</td>\n",
              "      <td>CENTRO</td>\n",
              "      <td>5</td>\n",
              "      <td>UNIVERSIDAD</td>\n",
              "    </tr>\n",
              "  </tbody>\n",
              "</table>\n",
              "</div>"
            ],
            "text/plain": [
              "   Codigo de distrito Nombre de distrito  Codigo de barrio Nombre de barrio\n",
              "0                   1             CENTRO                 1          PALACIO\n",
              "1                   1             CENTRO                 2      EMBAJADORES\n",
              "2                   1             CENTRO                 3           CORTES\n",
              "3                   1             CENTRO                 4         JUSTICIA\n",
              "4                   1             CENTRO                 5      UNIVERSIDAD"
            ]
          },
          "metadata": {
            "tags": []
          },
          "execution_count": 73
        }
      ]
    },
    {
      "cell_type": "code",
      "metadata": {
        "id": "u91K_n9wO0yg"
      },
      "source": [
        "# Unimos dataframe accidentes y dis_barrios\n",
        "tableau = pd.merge(accidentes, dis_barrios, left_on=['DISTRITO', 'BARRIO'],\n",
        "         right_on=['Nombre de distrito','Nombre de barrio'],\n",
        "         how='inner').drop(['Nombre de distrito', 'Nombre de barrio'], axis=1)\\\n",
        "        .rename(columns={'Codigo de barrio':'COD_BAR',\n",
        "                          'Codigo de distrito':'COD_DIS'})\n",
        "\n",
        "# Convertimos a formato string las columnas de código distrito y barrio \n",
        "tableau[['COD_DIS','COD_BAR']] = tableau[['COD_DIS','COD_BAR']].astype(str)\n",
        "\n",
        "tableau['COD_BAR'] = tableau['COD_DIS'].str.zfill(2) + tableau['COD_BAR']\n",
        "\n",
        "# Guardamos dataset en fichero CSV\n",
        "tableau.to_csv('accidentes_2010_2018.csv', sep=';', encoding='latin-1',\n",
        "               index=False)"
      ],
      "execution_count": null,
      "outputs": []
    },
    {
      "cell_type": "markdown",
      "metadata": {
        "id": "Dy0wZEG-73EV"
      },
      "source": [
        "# Análisis exploratorio"
      ]
    },
    {
      "cell_type": "code",
      "metadata": {
        "id": "PLle8xgD8bkI",
        "outputId": "d6ad71fa-05d9-4498-eff8-ed4615f8e116",
        "colab": {
          "base_uri": "https://localhost:8080/",
          "height": 400
        }
      },
      "source": [
        "# Examinamos primeras filas del dataset accidentes\n",
        "accidentes.head()"
      ],
      "execution_count": null,
      "outputs": [
        {
          "output_type": "execute_result",
          "data": {
            "text/html": [
              "<div>\n",
              "<style scoped>\n",
              "    .dataframe tbody tr th:only-of-type {\n",
              "        vertical-align: middle;\n",
              "    }\n",
              "\n",
              "    .dataframe tbody tr th {\n",
              "        vertical-align: top;\n",
              "    }\n",
              "\n",
              "    .dataframe thead th {\n",
              "        text-align: right;\n",
              "    }\n",
              "</style>\n",
              "<table border=\"1\" class=\"dataframe\">\n",
              "  <thead>\n",
              "    <tr style=\"text-align: right;\">\n",
              "      <th></th>\n",
              "      <th>Nº PARTE</th>\n",
              "      <th>FECHA</th>\n",
              "      <th>RANGO HORARIO</th>\n",
              "      <th>DIA SEMANA</th>\n",
              "      <th>DISTRITO</th>\n",
              "      <th>BARRIO</th>\n",
              "      <th>TIPO ACCIDENTE</th>\n",
              "      <th>TIPO VEHICULO</th>\n",
              "      <th>TIPO PERSONA</th>\n",
              "      <th>SEXO</th>\n",
              "      <th>LESIVIDAD</th>\n",
              "      <th>TRAMO EDAD</th>\n",
              "      <th>Nº VICTIMAS</th>\n",
              "      <th>ESTADO METEOROLOGICO</th>\n",
              "      <th>ESTADO VIA</th>\n",
              "      <th>DIRECCION</th>\n",
              "      <th>CP</th>\n",
              "      <th>LAT</th>\n",
              "      <th>LNG</th>\n",
              "      <th>AÑO</th>\n",
              "      <th>MES</th>\n",
              "      <th>DIA</th>\n",
              "    </tr>\n",
              "  </thead>\n",
              "  <tbody>\n",
              "    <tr>\n",
              "      <th>0</th>\n",
              "      <td>2010/135</td>\n",
              "      <td>2010-01-01</td>\n",
              "      <td>DE 00:00 A 00:59</td>\n",
              "      <td>VIERNES</td>\n",
              "      <td>CHAMARTIN</td>\n",
              "      <td>PROSPERIDAD</td>\n",
              "      <td>COLISIÓN DOBLE</td>\n",
              "      <td>TURISMO</td>\n",
              "      <td>CONDUCTOR</td>\n",
              "      <td>HOMBRE</td>\n",
              "      <td>IL</td>\n",
              "      <td>DE 18 A 20</td>\n",
              "      <td>1</td>\n",
              "      <td>Lluvia</td>\n",
              "      <td>Mojada</td>\n",
              "      <td>CALLE DE CARTAGENA 104</td>\n",
              "      <td>28002</td>\n",
              "      <td>40.43944000000001</td>\n",
              "      <td>-3.67348</td>\n",
              "      <td>2010</td>\n",
              "      <td>1</td>\n",
              "      <td>1</td>\n",
              "    </tr>\n",
              "    <tr>\n",
              "      <th>1</th>\n",
              "      <td>2010/135</td>\n",
              "      <td>2010-01-01</td>\n",
              "      <td>DE 00:00 A 00:59</td>\n",
              "      <td>VIERNES</td>\n",
              "      <td>CHAMARTIN</td>\n",
              "      <td>PROSPERIDAD</td>\n",
              "      <td>COLISIÓN DOBLE</td>\n",
              "      <td>TURISMO</td>\n",
              "      <td>CONDUCTOR</td>\n",
              "      <td>HOMBRE</td>\n",
              "      <td>IL</td>\n",
              "      <td>DE 50 A 54</td>\n",
              "      <td>1</td>\n",
              "      <td>Lluvia</td>\n",
              "      <td>Mojada</td>\n",
              "      <td>CALLE DE CARTAGENA 104</td>\n",
              "      <td>28002</td>\n",
              "      <td>40.43944000000001</td>\n",
              "      <td>-3.67348</td>\n",
              "      <td>2010</td>\n",
              "      <td>1</td>\n",
              "      <td>1</td>\n",
              "    </tr>\n",
              "    <tr>\n",
              "      <th>2</th>\n",
              "      <td>2010/135</td>\n",
              "      <td>2010-01-01</td>\n",
              "      <td>DE 00:00 A 00:59</td>\n",
              "      <td>VIERNES</td>\n",
              "      <td>CHAMARTIN</td>\n",
              "      <td>PROSPERIDAD</td>\n",
              "      <td>COLISIÓN DOBLE</td>\n",
              "      <td>TURISMO</td>\n",
              "      <td>VIAJERO</td>\n",
              "      <td>MUJER</td>\n",
              "      <td>HL</td>\n",
              "      <td>DE 40 A 44</td>\n",
              "      <td>1</td>\n",
              "      <td>Lluvia</td>\n",
              "      <td>Mojada</td>\n",
              "      <td>CALLE DE CARTAGENA 104</td>\n",
              "      <td>28002</td>\n",
              "      <td>40.43944000000001</td>\n",
              "      <td>-3.67348</td>\n",
              "      <td>2010</td>\n",
              "      <td>1</td>\n",
              "      <td>1</td>\n",
              "    </tr>\n",
              "    <tr>\n",
              "      <th>3</th>\n",
              "      <td>2011/8233</td>\n",
              "      <td>2011-09-13</td>\n",
              "      <td>DE 13:00 A 13:59</td>\n",
              "      <td>MARTES</td>\n",
              "      <td>CHAMARTIN</td>\n",
              "      <td>PROSPERIDAD</td>\n",
              "      <td>COLISIÓN DOBLE</td>\n",
              "      <td>TURISMO</td>\n",
              "      <td>CONDUCTOR</td>\n",
              "      <td>HOMBRE</td>\n",
              "      <td>HL</td>\n",
              "      <td>DE 21 A 24</td>\n",
              "      <td>2</td>\n",
              "      <td>Seco</td>\n",
              "      <td>Seca Y Limpia</td>\n",
              "      <td>CALLE DE CARTAGENA 104</td>\n",
              "      <td>28002</td>\n",
              "      <td>40.43944000000001</td>\n",
              "      <td>-3.67348</td>\n",
              "      <td>2011</td>\n",
              "      <td>9</td>\n",
              "      <td>13</td>\n",
              "    </tr>\n",
              "    <tr>\n",
              "      <th>4</th>\n",
              "      <td>2011/8233</td>\n",
              "      <td>2011-09-13</td>\n",
              "      <td>DE 13:00 A 13:59</td>\n",
              "      <td>MARTES</td>\n",
              "      <td>CHAMARTIN</td>\n",
              "      <td>PROSPERIDAD</td>\n",
              "      <td>COLISIÓN DOBLE</td>\n",
              "      <td>MOTOCICLETA</td>\n",
              "      <td>MOTORISTA</td>\n",
              "      <td>HOMBRE</td>\n",
              "      <td>HL</td>\n",
              "      <td>DE 40 A 44</td>\n",
              "      <td>2</td>\n",
              "      <td>Seco</td>\n",
              "      <td>Seca Y Limpia</td>\n",
              "      <td>CALLE DE CARTAGENA 104</td>\n",
              "      <td>28002</td>\n",
              "      <td>40.43944000000001</td>\n",
              "      <td>-3.67348</td>\n",
              "      <td>2011</td>\n",
              "      <td>9</td>\n",
              "      <td>13</td>\n",
              "    </tr>\n",
              "  </tbody>\n",
              "</table>\n",
              "</div>"
            ],
            "text/plain": [
              "    Nº PARTE      FECHA     RANGO HORARIO DIA SEMANA  ...       LNG   AÑO MES DIA\n",
              "0   2010/135 2010-01-01  DE 00:00 A 00:59    VIERNES  ...  -3.67348  2010   1   1\n",
              "1   2010/135 2010-01-01  DE 00:00 A 00:59    VIERNES  ...  -3.67348  2010   1   1\n",
              "2   2010/135 2010-01-01  DE 00:00 A 00:59    VIERNES  ...  -3.67348  2010   1   1\n",
              "3  2011/8233 2011-09-13  DE 13:00 A 13:59     MARTES  ...  -3.67348  2011   9  13\n",
              "4  2011/8233 2011-09-13  DE 13:00 A 13:59     MARTES  ...  -3.67348  2011   9  13\n",
              "\n",
              "[5 rows x 22 columns]"
            ]
          },
          "metadata": {
            "tags": []
          },
          "execution_count": 75
        }
      ]
    },
    {
      "cell_type": "markdown",
      "metadata": {
        "id": "mlhOmXm76s7J"
      },
      "source": [
        "En primer lugar, tal y como indica el diccionario de datos, se deben tener en cuenta 2 aspectos importantes en este dataset:\n",
        "\n",
        "1. **Únicamente se registran accidentes con víctimas** (heridos leves, graves o fallecidos). Por esta razón, el nº de víctimas en cada accidente siempre será como mínimo de 1 persona.\n",
        "\n",
        "2. **Se añade un registro por cada persona implicada en el accidente utilizando el mismo Nº de parte.**<br>Por lo tanto, el número de registros será mayor que el número de accidentes ocurridos.\n",
        "\n",
        "Conociendo esta información, podemos averiguar el nº de accidentes y víctimas de tráfico que hubo durante los años 2010 a 2018:"
      ]
    },
    {
      "cell_type": "code",
      "metadata": {
        "id": "BPFRwF6I8UJn",
        "outputId": "a43dd09a-4a86-4b70-9b4e-de77b5c0c39e",
        "colab": {
          "base_uri": "https://localhost:8080/",
          "height": 70
        }
      },
      "source": [
        "print('Total de registros:', len(accidentes))\n",
        "\n",
        "print('Total de accidentes únicos registrados:', \n",
        "      len(accidentes['Nº PARTE'].unique()))\n",
        "\n",
        "print('Total de víctimas:',\n",
        "      accidentes.loc[~accidentes['Nº PARTE'].duplicated(), 'Nº VICTIMAS'].sum())"
      ],
      "execution_count": null,
      "outputs": [
        {
          "output_type": "stream",
          "text": [
            "Total de registros: 184710\n",
            "Total de accidentes únicos registrados: 74587\n",
            "Total de víctimas: 95001\n"
          ],
          "name": "stdout"
        }
      ]
    },
    {
      "cell_type": "markdown",
      "metadata": {
        "id": "A2C6gxZKIUTw"
      },
      "source": [
        "Por lo tanto, durante el período 2010-2018 se produjeron 74587 accidentes de tráfico en la ciudad de Madrid con 184710 personas implicadas, de las cuales, aproximadamente el 51% fueron víctimas.\n",
        "\n",
        "Según la gravedad del accidente, en el dataset se clasifican las víctimas en 3 tipos:\n",
        "\n",
        "* **Herido leve (HL)**: Herido con asistencia sanitaria igual o inferior a 24 horas.\n",
        "* **Herido grave (HG)**: Herido con hospitalización superior a 24 horas.\n",
        "* **Muerto (MT)**: Fallecido en el acto o dentro de las siguientes 24 horas.\n",
        "\n",
        "Esta información la encontraremos en el campo `LESIVIDAD` junto con los valores **ILESO** (IL) o **NO ASIGNADA**."
      ]
    },
    {
      "cell_type": "code",
      "metadata": {
        "id": "prGFg377GS17",
        "outputId": "842726ef-f7df-4474-9c7d-34942e530947",
        "colab": {
          "base_uri": "https://localhost:8080/",
          "height": 357
        }
      },
      "source": [
        "# Excluimos registros con lesividad ilesa o no asignada\n",
        "tmp_filter = ~(accidentes['LESIVIDAD'].str.contains('NO ASIGNADA|IL'))\n",
        "\n",
        "# Contamos nº de registros según lesividad\n",
        "accidentes[tmp_filter]['LESIVIDAD'].value_counts()\\\n",
        "  .plot.pie(autopct='%1.1f%%', labels=None,\n",
        "            legend=True, colors=['c','orange','red'],\n",
        "            figsize=(10,6))\n",
        "  \n",
        "plt.show()"
      ],
      "execution_count": null,
      "outputs": [
        {
          "output_type": "display_data",
          "data": {
            "image/png": "[encoded data removed]",
            "text/plain": [
              "<Figure size 720x432 with 1 Axes>"
            ]
          },
          "metadata": {
            "tags": []
          }
        }
      ]
    },
    {
      "cell_type": "markdown",
      "metadata": {
        "id": "mOJjCFzl0sD4"
      },
      "source": [
        "Como podemos ver en la gráfica, del 51% total de las víctimas, la gran mayoría (91,5%) fueron heridos leves mientras que el 8,3% terminaron gravemente heridas y un 0,2% fallecieron.\n",
        "\n"
      ]
    },
    {
      "cell_type": "code",
      "metadata": {
        "id": "YsUxdV7mmUh9",
        "outputId": "01ea3f26-5c7b-4089-b0f3-281a5ca78ebe",
        "colab": {
          "base_uri": "https://localhost:8080/",
          "height": 246
        }
      },
      "source": [
        "# Seleccionamos un único parte por accidente\n",
        "tmp_filter = ~accidentes['Nº PARTE'].duplicated()\n",
        "\n",
        "# Calculamos total de víctimas\n",
        "total_victimas = accidentes[tmp_filter]['Nº VICTIMAS'].sum()\n",
        "\n",
        "# Agrupamos registros por tipo de accidente y calculamos su nº de víctimas\n",
        "(accidentes[tmp_filter].groupby('TIPO ACCIDENTE')['Nº VICTIMAS']\\\n",
        "   .sum().sort_values(ascending=False)/total_victimas)*100"
      ],
      "execution_count": null,
      "outputs": [
        {
          "output_type": "execute_result",
          "data": {
            "text/plain": [
              "TIPO ACCIDENTE\n",
              "COLISIÓN DOBLE             57.910969\n",
              "ATROPELLO                  15.715624\n",
              "CAÍDA MOTOCICLETA           7.967285\n",
              "COLISIÓN MÚLTIPLE           7.883075\n",
              "CHOQUE CON OBJETO FIJO      5.089420\n",
              "CAÍDA CICLOMOTOR            1.723140\n",
              "CAÍDA BICICLETA             1.721035\n",
              "CAÍDA VIAJERO BUS           1.202093\n",
              "VUELCO                      0.396838\n",
              "OTRAS CAUSAS                0.382101\n",
              "CAÍDA VEHÍCULO 3 RUEDAS     0.008421\n",
              "Name: Nº VICTIMAS, dtype: float64"
            ]
          },
          "metadata": {
            "tags": []
          },
          "execution_count": 78
        }
      ]
    },
    {
      "cell_type": "markdown",
      "metadata": {
        "id": "_ZuyR7dwzun3"
      },
      "source": [
        "Analizando el número de víctimas ocasionadas por cada tipo de accidente de tráfico observamos que más de la mitad de las víctimas, aproximadamente un 57% del total, estuvieron involucradas en accidentes en los que se produjeron una **colisión doble entre vehículos**. \n",
        "\n",
        "El segundo tipo de accidente más común, bastante alejado del primero (aproximadamente un 15% de los casos) fue el **atropello a peatones**.\n",
        "\n",
        "A este tipo de accidente le siguen otros menos comunes como la **caída de motocicleta** o la **colisión múltiple** que es aquella en la que participan más de dos vehículos.\n",
        "\n",
        "Vamos a comprobar la lesividad de las víctimas para cada tipo de accidente:"
      ]
    },
    {
      "cell_type": "code",
      "metadata": {
        "id": "xdBqmTLYpUXE",
        "outputId": "3028a2af-0bff-43f6-a907-f04390a8c4fd",
        "colab": {
          "base_uri": "https://localhost:8080/",
          "height": 402
        }
      },
      "source": [
        "# Filtramos por lesividad de la víctima: leve, grave o muerto\n",
        "tmp_filter = accidentes['LESIVIDAD'].str.contains('HL|HG|MT')\n",
        "\n",
        "# Calculamos nº de víctimas por tipo de accidente y lesividad\n",
        "accidentes[tmp_filter].groupby(['TIPO ACCIDENTE','LESIVIDAD'])\\\n",
        "  .size().unstack().fillna(0).astype(int).sort_values('MT', ascending=False)"
      ],
      "execution_count": null,
      "outputs": [
        {
          "output_type": "execute_result",
          "data": {
            "text/html": [
              "<div>\n",
              "<style scoped>\n",
              "    .dataframe tbody tr th:only-of-type {\n",
              "        vertical-align: middle;\n",
              "    }\n",
              "\n",
              "    .dataframe tbody tr th {\n",
              "        vertical-align: top;\n",
              "    }\n",
              "\n",
              "    .dataframe thead th {\n",
              "        text-align: right;\n",
              "    }\n",
              "</style>\n",
              "<table border=\"1\" class=\"dataframe\">\n",
              "  <thead>\n",
              "    <tr style=\"text-align: right;\">\n",
              "      <th>LESIVIDAD</th>\n",
              "      <th>HG</th>\n",
              "      <th>HL</th>\n",
              "      <th>MT</th>\n",
              "    </tr>\n",
              "    <tr>\n",
              "      <th>TIPO ACCIDENTE</th>\n",
              "      <th></th>\n",
              "      <th></th>\n",
              "      <th></th>\n",
              "    </tr>\n",
              "  </thead>\n",
              "  <tbody>\n",
              "    <tr>\n",
              "      <th>ATROPELLO</th>\n",
              "      <td>2871</td>\n",
              "      <td>11930</td>\n",
              "      <td>129</td>\n",
              "    </tr>\n",
              "    <tr>\n",
              "      <th>COLISIÓN DOBLE</th>\n",
              "      <td>3318</td>\n",
              "      <td>51651</td>\n",
              "      <td>47</td>\n",
              "    </tr>\n",
              "    <tr>\n",
              "      <th>CHOQUE CON OBJETO FIJO</th>\n",
              "      <td>475</td>\n",
              "      <td>4341</td>\n",
              "      <td>19</td>\n",
              "    </tr>\n",
              "    <tr>\n",
              "      <th>CAÍDA MOTOCICLETA</th>\n",
              "      <td>552</td>\n",
              "      <td>7001</td>\n",
              "      <td>16</td>\n",
              "    </tr>\n",
              "    <tr>\n",
              "      <th>COLISIÓN MÚLTIPLE</th>\n",
              "      <td>282</td>\n",
              "      <td>7197</td>\n",
              "      <td>10</td>\n",
              "    </tr>\n",
              "    <tr>\n",
              "      <th>CAÍDA CICLOMOTOR</th>\n",
              "      <td>95</td>\n",
              "      <td>1541</td>\n",
              "      <td>1</td>\n",
              "    </tr>\n",
              "    <tr>\n",
              "      <th>CAÍDA VIAJERO BUS</th>\n",
              "      <td>48</td>\n",
              "      <td>1093</td>\n",
              "      <td>1</td>\n",
              "    </tr>\n",
              "    <tr>\n",
              "      <th>CAÍDA BICICLETA</th>\n",
              "      <td>144</td>\n",
              "      <td>1491</td>\n",
              "      <td>0</td>\n",
              "    </tr>\n",
              "    <tr>\n",
              "      <th>CAÍDA VEHÍCULO 3 RUEDAS</th>\n",
              "      <td>0</td>\n",
              "      <td>8</td>\n",
              "      <td>0</td>\n",
              "    </tr>\n",
              "    <tr>\n",
              "      <th>OTRAS CAUSAS</th>\n",
              "      <td>22</td>\n",
              "      <td>341</td>\n",
              "      <td>0</td>\n",
              "    </tr>\n",
              "    <tr>\n",
              "      <th>VUELCO</th>\n",
              "      <td>39</td>\n",
              "      <td>338</td>\n",
              "      <td>0</td>\n",
              "    </tr>\n",
              "  </tbody>\n",
              "</table>\n",
              "</div>"
            ],
            "text/plain": [
              "LESIVIDAD                  HG     HL   MT\n",
              "TIPO ACCIDENTE                           \n",
              "ATROPELLO                2871  11930  129\n",
              "COLISIÓN DOBLE           3318  51651   47\n",
              "CHOQUE CON OBJETO FIJO    475   4341   19\n",
              "CAÍDA MOTOCICLETA         552   7001   16\n",
              "COLISIÓN MÚLTIPLE         282   7197   10\n",
              "CAÍDA CICLOMOTOR           95   1541    1\n",
              "CAÍDA VIAJERO BUS          48   1093    1\n",
              "CAÍDA BICICLETA           144   1491    0\n",
              "CAÍDA VEHÍCULO 3 RUEDAS     0      8    0\n",
              "OTRAS CAUSAS               22    341    0\n",
              "VUELCO                     39    338    0"
            ]
          },
          "metadata": {
            "tags": []
          },
          "execution_count": 79
        }
      ]
    },
    {
      "cell_type": "markdown",
      "metadata": {
        "id": "zSdCLPFy3aQ5"
      },
      "source": [
        "La **colisión doble** es el accidente que más heridos leves y graves ocasiona mientras que los **atropellos a peatones** son la principal causa de muerte en Madrid.\n",
        "\n",
        "Ambos tipos de accidentes son los que provocan el mayor número de víctimas, por esta razón, centraremos nuestra atención en analizar cada uno más a fondo:"
      ]
    },
    {
      "cell_type": "code",
      "metadata": {
        "id": "drTmFuomBUqE"
      },
      "source": [
        "# Creamos dataframe específico para cada tipo de accidente\n",
        "colisiones = accidentes[accidentes['TIPO ACCIDENTE']=='COLISIÓN DOBLE'].copy()\n",
        "atropellos = accidentes[accidentes['TIPO ACCIDENTE']=='ATROPELLO'].copy()"
      ],
      "execution_count": null,
      "outputs": []
    },
    {
      "cell_type": "markdown",
      "metadata": {
        "id": "OhjM0T2PXDEw"
      },
      "source": [
        "## Atropellos a peatones"
      ]
    },
    {
      "cell_type": "markdown",
      "metadata": {
        "id": "WrwnZ0auYagG"
      },
      "source": [
        "Se considera atropello al **accidente ocurrido entre un vehículo y un peatón** que ocupa la calzada o que transita por aceras, refugios,\n",
        "paseos o zonas de la vía pública no destinada a la circulación de vehículos.\n",
        "\n",
        "A lo largo de esta sección, responderemos a las siguientes preguntas:\n",
        "\n",
        "* ¿Cuál es la evolución de las víctimas por atropello a lo largo del tiempo?\n",
        "* ¿Cuál es la edad de los peatones heridos o muertos?\n",
        "* ¿Qué vehículos han ocasionado más víctimas por atropello?\n",
        "* ¿En qué barrios y/o calles se producen más atropellos? ¿a qué hora?\n",
        "* ¿En qué barrio, día de la semana u hora es superior la tasa de peatones graves y muertos?\n",
        "\n",
        "En primer lugar, vamos a analizar la lesividad de los peatones atropellados durante el período 2010-2018:\n"
      ]
    },
    {
      "cell_type": "code",
      "metadata": {
        "id": "3NoHqKPFraVr",
        "outputId": "25462b38-6e07-47cc-db74-11f51015487b",
        "colab": {
          "base_uri": "https://localhost:8080/",
          "height": 483
        }
      },
      "source": [
        "# Creamos dataframe específico con los registros de peatones\n",
        "peatones = atropellos[atropellos['TIPO PERSONA']=='PEATON'].copy()\n",
        "\n",
        "# Calculamos lesividad peatones y graficamos salida\n",
        "peatones['LESIVIDAD'].value_counts()\\\n",
        "  .plot.pie(title='% PEATONES ATROPELLADOS', autopct='%1.1f%%', labels=None,\n",
        "            legend=True, colors=['c','orange','green','red'],\n",
        "            figsize=(12,8))\n",
        "  \n",
        "plt.show()"
      ],
      "execution_count": null,
      "outputs": [
        {
          "output_type": "display_data",
          "data": {
            "image/png": "[encoded data removed]",
            "text/plain": [
              "<Figure size 864x576 with 1 Axes>"
            ]
          },
          "metadata": {
            "tags": []
          }
        }
      ]
    },
    {
      "cell_type": "markdown",
      "metadata": {
        "id": "rTLrXlVMtC7u"
      },
      "source": [
        "La gran parte de accidentes consistentes en atropello a peatones han ocasionado heridos leves, ascendiendo a aproximadamente un 80% del total, mientras que los heridos graves ocupan cerca del 20%.\n",
        "\n",
        "Por otro lado, podemos ver que la mortandad los atropellos es baja, tan sólo el 0,9% (129 fallecidos) de los atropellos terminan provocando víctimas mortales.\n",
        "\n",
        "Si analizamos la evolución de las víctomas por atropello a lo largo del tiempo:"
      ]
    },
    {
      "cell_type": "code",
      "metadata": {
        "id": "3l8r2lQ0V5EZ",
        "outputId": "53536ab8-b9ab-47a2-e4ff-3158b2ec4c55",
        "colab": {
          "base_uri": "https://localhost:8080/",
          "height": 513
        }
      },
      "source": [
        "# Calculamos % peatones atropellados según tipo de lesividad \n",
        "(peatones.groupby('AÑO')['LESIVIDAD'].value_counts(normalize=True)*100).unstack().fillna(0)\\\n",
        "  .plot.bar(title='% PEATONES ATROPELLADOS SEGÚN LESIVIDAD', figsize=(16,8), rot=0,\n",
        "            color=['orange','c','green','red'])\n",
        "  \n",
        "# Desplazamos legenda fuera del gráfico\n",
        "plt.legend(bbox_to_anchor=(1,1))\n",
        "\n",
        "plt.show()"
      ],
      "execution_count": null,
      "outputs": [
        {
          "output_type": "display_data",
          "data": {
            "image/png": "[encoded data removed]",
            "text/plain": [
              "<Figure size 1152x576 with 1 Axes>"
            ]
          },
          "metadata": {
            "tags": [],
            "needs_background": "light"
          }
        }
      ]
    },
    {
      "cell_type": "markdown",
      "metadata": {
        "id": "oNafBT7Dw3YG"
      },
      "source": [
        "Observamos una disminución mantenida de los heridos graves a partir del año 2014 en adelante, así como un aumento de los heridos leves llegando a su máximo en el año 2018."
      ]
    },
    {
      "cell_type": "markdown",
      "metadata": {
        "id": "Hh1BeOQK3dBZ"
      },
      "source": [
        "**¿Cuál es la edad de los peatones heridos o muertos?**"
      ]
    },
    {
      "cell_type": "code",
      "metadata": {
        "id": "QX0Cpd4Yx-xZ",
        "outputId": "eabe26b0-22e7-4129-88f5-019bb208f28e",
        "colab": {
          "base_uri": "https://localhost:8080/",
          "height": 496
        }
      },
      "source": [
        "# Excluimos peatones con edad desconocida\n",
        "tmp_filter = ~(peatones['TRAMO EDAD']=='DESCONOCIDA')\n",
        "\n",
        "# Calculamos % peatones atropellados según edad y lesividad\n",
        "(peatones[tmp_filter].groupby('TRAMO EDAD')['LESIVIDAD'].value_counts(normalize=True)*100)\\\n",
        "  .unstack().fillna(0).sort_values('MT').\\\n",
        "  plot.barh(title='% PEATONES ATROPELLADOS SEGÚN EDAD Y LESIVIDAD', figsize=(16,8),\n",
        "            color=['orange','c','green','red'])\n",
        "\n",
        "plt.show()"
      ],
      "execution_count": null,
      "outputs": [
        {
          "output_type": "display_data",
          "data": {
            "image/png": "[encoded data removed]",
            "text/plain": [
              "<Figure size 1152x576 with 1 Axes>"
            ]
          },
          "metadata": {
            "tags": [],
            "needs_background": "light"
          }
        }
      ]
    },
    {
      "cell_type": "markdown",
      "metadata": {
        "id": "8sgeQu4XL0M_"
      },
      "source": [
        "En cuanto a la relación entre la edad y la lesividad de los sujetos, encontramos la mayor mortalidad y número de heridos graves en individuos de más de 60 años. Este grupo de edad es más propenso a tener problemas de visión o de movilidad, esto podría tener una relación directa con este hecho...\n",
        "\n",
        "Sin embargo, también es interesante prestar atención a que los datos que reflejan mayor gravedad no siempre van acompañados del aumento de la edad, ya que podemos observar cómo la mortalidad entre los 21 y los 29 años es incluso mayor que la de edades superiores como la treintena.\n",
        "\n",
        "Aquí también podrían valorarse otros factores relacionados con la conducción más allá de la edad de los ocupantes como velocidad, consumo de sustancias…\n",
        "\n",
        "Vamos a revisar la hora a la que ocurrieron más atropellos mortales para cada grupo de edad:"
      ]
    },
    {
      "cell_type": "code",
      "metadata": {
        "id": "rJDzhARbmgSp",
        "outputId": "27886974-5841-4d17-a373-de2626fbb857",
        "colab": {
          "base_uri": "https://localhost:8080/",
          "height": 334
        }
      },
      "source": [
        "peatones[peatones['LESIVIDAD'].str.contains('MT')].groupby(['TRAMO EDAD','RANGO HORARIO']).size()\\\n",
        "  .unstack().fillna(0).idxmax(axis=1)"
      ],
      "execution_count": null,
      "outputs": [
        {
          "output_type": "execute_result",
          "data": {
            "text/plain": [
              "TRAMO EDAD\n",
              "DE 0 A 5        DE 13:00 A 13:59\n",
              "DE 10 A 14      DE 14:00 A 14:59\n",
              "DE 15 A 17      DE 21:00 A 21:59\n",
              "DE 21 A 24        DE 2:00 A 2:59\n",
              "DE 25 A 29        DE 6:00 A 6:59\n",
              "DE 30 A 34        DE 6:00 A 6:59\n",
              "DE 35 A 39      DE 10:00 A 10:59\n",
              "DE 40 A 44        DE 3:00 A 3:59\n",
              "DE 45 A 49      DE 23:00 A 23:59\n",
              "DE 50 A 54      DE 20:00 A 20:59\n",
              "DE 55 A 59      DE 00:00 A 00:59\n",
              "DE 6 A 9        DE 14:00 A 14:59\n",
              "DE 60 A 64      DE 00:00 A 00:59\n",
              "DE 65 A 69      DE 15:00 A 15:59\n",
              "DE 70 A 74      DE 19:00 A 19:59\n",
              "DE MAS DE 74    DE 10:00 A 10:59\n",
              "dtype: object"
            ]
          },
          "metadata": {
            "tags": []
          },
          "execution_count": 84
        }
      ]
    },
    {
      "cell_type": "markdown",
      "metadata": {
        "id": "V7ii-WtZr4Ci"
      },
      "source": [
        "Con estos datos podemos confirmar la hipótesis que habíamos realizado anteriormente en la que afirmábamos que la mayoría de los atropellos ocurridos fueran durante la noche. \n",
        "\n",
        "En estos atropellos pueden influir factores como la falta de visibilidad, que las víctimas estuvieran bajos los efectos del alcohol o de otras sustancias, las distracciones de los conductores por cansancio o fatiga, el ocio nocturno, etc...\n",
        "\n",
        "Por otro lado, observamos que los grupos de menor edad (0 a 5 años, 6 a 9 años, 10 a 14 años), vemos una tendencia clara de que los horarios (13:00 a 13:59h, 14:00 a 14:59h, 14:00 a 14:59h, respectivamente) podrían corresponder a las horas de salida de los menores de los centros educativos."
      ]
    },
    {
      "cell_type": "markdown",
      "metadata": {
        "id": "BCdVSbOHcA60"
      },
      "source": [
        "**¿Qué vehículos han ocasionado más víctimas por atropello?**"
      ]
    },
    {
      "cell_type": "code",
      "metadata": {
        "id": "PNMG_A70pTnf",
        "outputId": "1872be8c-469b-4eda-8f27-d57494fb00e3",
        "colab": {
          "base_uri": "https://localhost:8080/",
          "height": 333
        }
      },
      "source": [
        "# Excluimos registros de peatones y acompañantes\n",
        "tmp_filter1 = ~atropellos['TIPO PERSONA'].str.contains('PEATON|VIAJERO')\n",
        "\n",
        "# Creamos dataframe temporal aplicando el primer filtro\n",
        "tmp_df = atropellos[tmp_filter1]\n",
        "\n",
        "# Excluimos nº de partes duplicados\n",
        "tmp_filter2 = ~tmp_df['Nº PARTE'].duplicated()\n",
        "\n",
        "# Aplicamos segundo filtro, agrupamos por tipo de vehículo y calculamos nº de víctimas\n",
        "tmp_df[tmp_filter2].groupby('TIPO VEHICULO')['Nº VICTIMAS'].sum()\\\n",
        "  .sort_values().plot.barh(figsize=(10,5), title='Nº VÍCTIMAS POR TIPO DE VEHÍCULO')\n",
        "\n",
        "plt.show()"
      ],
      "execution_count": null,
      "outputs": [
        {
          "output_type": "display_data",
          "data": {
            "image/png": "[encoded data removed]",
            "text/plain": [
              "<Figure size 720x360 with 1 Axes>"
            ]
          },
          "metadata": {
            "tags": [],
            "needs_background": "light"
          }
        }
      ]
    },
    {
      "cell_type": "markdown",
      "metadata": {
        "id": "pwfrj2B14ssZ"
      },
      "source": [
        "El tipo de vehículo que ha ocasionado más víctimas han sido los **turismos**, superando los 8000 casos y siendo más de cuatro veces superior al segundo tipo de vehículo: las motocicletas."
      ]
    },
    {
      "cell_type": "markdown",
      "metadata": {
        "id": "TLYZUdYp30GZ"
      },
      "source": [
        "**¿En qué barrios y/o calles se producen más atropellos? ¿a qué hora?**"
      ]
    },
    {
      "cell_type": "code",
      "metadata": {
        "id": "EUWj8wkAiWV7",
        "outputId": "46a3b3a2-1b09-4936-96d7-0e3facf0e4ab",
        "colab": {
          "base_uri": "https://localhost:8080/",
          "height": 333
        }
      },
      "source": [
        "# Seleccionamos un único Nº parte por atropello\n",
        "tmp_filter = ~atropellos['Nº PARTE'].duplicated()\n",
        "\n",
        "# Seleccionamos los 10 barrios con más atropellos\n",
        "top10_barrios = atropellos[tmp_filter]['BARRIO'].value_counts()\\\n",
        "  .sort_values(ascending=False).head(10)\n",
        "\n",
        "top10_barrios.sort_values().plot.barh(title='TOP 10 BARRIOS CON MÁS ATROPELLOS',\n",
        "                                      figsize=(10,5))\n",
        "\n",
        "plt.show()"
      ],
      "execution_count": null,
      "outputs": [
        {
          "output_type": "display_data",
          "data": {
            "image/png": "[encoded data removed]",
            "text/plain": [
              "<Figure size 720x360 with 1 Axes>"
            ]
          },
          "metadata": {
            "tags": [],
            "needs_background": "light"
          }
        }
      ]
    },
    {
      "cell_type": "markdown",
      "metadata": {
        "id": "I8cZhvos5KZu"
      },
      "source": [
        "En la gráfica se recogen los 10 barrios con mayor número de atropellos destacando el barrio de **Aluche** en primer lugar, aunque en el resto de barrios, las diferencias no son tan notorias.\n",
        "\n",
        "Para cada uno de estos barrios, vamos a obtener la \"hora punta\" a la que se han producido mayor número de atropellos:"
      ]
    },
    {
      "cell_type": "code",
      "metadata": {
        "id": "A3_8xazj38Xf",
        "outputId": "ef1a7bec-b0d7-4791-d6ef-8d49a4fb1956",
        "colab": {
          "base_uri": "https://localhost:8080/",
          "height": 228
        }
      },
      "source": [
        "# Creamos dataframe temporal excluyendo nº de partes duplicados\n",
        "tmp_df = atropellos[~atropellos['Nº PARTE'].duplicated()]\n",
        "\n",
        "# Filtramos para incluir los 10 barrios con más atropellos\n",
        "mask = tmp_df['BARRIO'].isin(top10_barrios.index)\n",
        "\n",
        "# Agrupamos por barrio y hora y calculamos la hora con más atropellos por barrio\n",
        "tmp_df[mask].groupby(['BARRIO','RANGO HORARIO']).size().unstack().idxmax(axis=1)"
      ],
      "execution_count": null,
      "outputs": [
        {
          "output_type": "execute_result",
          "data": {
            "text/plain": [
              "BARRIO\n",
              "ALUCHE              DE 12:00 A 12:59\n",
              "CASCO H.VALLECAS      DE 8:00 A 8:59\n",
              "CUATRO CAMINOS      DE 14:00 A 14:59\n",
              "EMBAJADORES         DE 13:00 A 13:59\n",
              "NUMANCIA            DE 14:00 A 14:59\n",
              "OPAÑEL              DE 14:00 A 14:59\n",
              "PALACIO             DE 11:00 A 11:59\n",
              "SAN DIEGO           DE 13:00 A 13:59\n",
              "SOL                 DE 20:00 A 20:59\n",
              "UNIVERSIDAD         DE 13:00 A 13:59\n",
              "dtype: object"
            ]
          },
          "metadata": {
            "tags": []
          },
          "execution_count": 87
        }
      ]
    },
    {
      "cell_type": "markdown",
      "metadata": {
        "id": "wGni3GjT6cir"
      },
      "source": [
        "Observamos que las horas que confluyen mayor número de atropellos se encuentran en horario diurno principalmente en las horas centrales del día.\n",
        "\n",
        "Por otro lado, si en lugar de los barrios, nos centramos en las calles con mayor número de atropellos a peatones, tenemos a Mercamadrid en primer lugar, con diferencia, seguido del Aeropuerto de Barajas:"
      ]
    },
    {
      "cell_type": "code",
      "metadata": {
        "id": "wAKrWbfQFp2l",
        "outputId": "757a26a0-5e58-4c0e-9bfa-b8a2e0212d7b",
        "colab": {
          "base_uri": "https://localhost:8080/",
          "height": 210
        }
      },
      "source": [
        "# Excluimos nº de partes duplicados\n",
        "tmp_filter = ~atropellos['Nº PARTE'].duplicated()\n",
        "\n",
        "# Direcciones con mayor número de atropellos\n",
        "atropellos[tmp_filter]['DIRECCION'].value_counts().head(10)"
      ],
      "execution_count": null,
      "outputs": [
        {
          "output_type": "execute_result",
          "data": {
            "text/plain": [
              "MERCADO  MERCAMADRID                                               37\n",
              "COMPLEJO  AEROPUERTO DE BARAJAS                                    22\n",
              "PASEO DE LA CASTELLANA & PLAZA DE LIMA                             18\n",
              "CALLE DE LA FUENTE CARRANTONA & CALLE DE LA HACIENDA DE PAVONES    11\n",
              "PASEO DEL PRADO & PLAZA DE CIBELES                                 11\n",
              "ESTACION DE CHAMARTIN                                              10\n",
              "PARQUE DEL RETIRO                                                  10\n",
              "COMPLEJO DEL DOCE DE OCTUBRE                                       10\n",
              "AVENIDA DE LA REINA VICTORIA & CALLE DEL MARQUES DE LEMA            9\n",
              "GLORIETA DEL VALLE DE ORO 13                                        9\n",
              "Name: DIRECCION, dtype: int64"
            ]
          },
          "metadata": {
            "tags": []
          },
          "execution_count": 88
        }
      ]
    },
    {
      "cell_type": "markdown",
      "metadata": {
        "id": "ufyeCHMQk88P"
      },
      "source": [
        "**¿En qué barrio, día de la semana u hora es superior la tasa de peatones graves y muertos?**"
      ]
    },
    {
      "cell_type": "code",
      "metadata": {
        "id": "LjidJN7EliEP",
        "outputId": "5f2ce37d-4773-4784-9e0a-ef28a56ff404",
        "colab": {
          "base_uri": "https://localhost:8080/",
          "height": 1000
        }
      },
      "source": [
        "campo = ['BARRIO', 'DIA SEMANA', 'RANGO HORARIO']\n",
        "\n",
        "fig, ax = plt.subplots(nrows=3, ncols=1, figsize=(10,20))\n",
        "\n",
        "for c in campo:\n",
        "  pos = campo.index(c)\n",
        "  \n",
        "  # Calculamos nº de peatones atropellados para cada campo\n",
        "  total_peatones = peatones[c].value_counts()\n",
        "\n",
        "  # Calculamos nº de peatones heridos graves y muertos para cada campo\n",
        "  peatones_HG_MT = peatones[peatones['LESIVIDAD'].str.contains('HG|MT')][c].value_counts()\n",
        "\n",
        "  ratio_peatones = ((peatones_HG_MT / total_peatones)*100).fillna(0).sort_values(ascending=False)\n",
        "\n",
        "  ratio_peatones.head(10).sort_values().plot.barh(ax=ax[pos],\n",
        "      title='TOP 10. {} CON MAYOR % DE PEATONES GRAVES Y MUERTOS'.format(c))\n",
        "\n",
        "plt.show()"
      ],
      "execution_count": null,
      "outputs": [
        {
          "output_type": "display_data",
          "data": {
            "image/png": "[encoded data removed]",
            "text/plain": [
              "<Figure size 720x1440 with 3 Axes>"
            ]
          },
          "metadata": {
            "tags": [],
            "needs_background": "light"
          }
        }
      ]
    },
    {
      "cell_type": "markdown",
      "metadata": {
        "id": "ij9Dn6-BvqWK"
      },
      "source": [
        "Con esta clasificación encontramos que el barrio con mayor % de peatones graves y fallecidos es “El Cañaveral”, seguido de “Los Cármenes”.\n",
        "\n",
        "Por otro lado, los días que se encuentran alrededor del fin de semana, jueves, viernes y domingo son los que mayor porcentaje de peatones graves y muertos tienen aunque resulta llamativo que el sábado sea el día que ocupa el último puesto en este ranking.\n",
        "\n",
        "En cuanto al rango horario vemos que durante las 6.00 - 6.59 es el tramo en el que se producen más heridos graves y muertos. \n",
        "\n",
        "Esto puede deberse a que es una hora en la que muchas personas vuelven a sus casas después de una noche de ocio y estén más despreocupadas, además es una hora en la que no se suele encontrar a muchos peatones por la calle por lo que un conductor puede prestar menos atención.\n"
      ]
    },
    {
      "cell_type": "markdown",
      "metadata": {
        "id": "ZHpyhQlBD5cr"
      },
      "source": [
        "## Colisiones dobles"
      ]
    },
    {
      "cell_type": "markdown",
      "metadata": {
        "id": "x1TAiEc9ELgp"
      },
      "source": [
        "Se considera **colisión doble** al accidente ocurrido entre 2 vehículos en movimiento. Recordamos que éste es el principal accidente de tráfico en Madrid y el que más víctimas provoca.\n",
        "\n",
        "A continuación, vamos a responder a preguntas como:\n",
        "\n",
        "* ¿Qué día de la semana encontramos una mayor tasa de víctimas? ¿A qué hora hubo más colisiones?\n",
        "* ¿Qué % de conductores graves y muertos hubo por tipo de vehículo?\n",
        "* ¿En qué barrios se producen más colisiones? ¿Cuál es el que tiene la mayor tasa de heridos graves y muertos?\n",
        "\n",
        "\n",
        "En primer lugar, vamos a analizar la evolución de las colisiones en Madrid durante el período 2010-2018:"
      ]
    },
    {
      "cell_type": "code",
      "metadata": {
        "id": "8r1H1b51FInF",
        "outputId": "94879189-ed1a-4b5b-878e-a410cb252643",
        "colab": {
          "base_uri": "https://localhost:8080/",
          "height": 242
        }
      },
      "source": [
        "# Excluimos nº de partes duplicados\n",
        "unico_parte = (~colisiones['Nº PARTE'].duplicated())\n",
        "\n",
        "fig, ax = plt.subplots(nrows=1, ncols=3, figsize=(20,4))\n",
        "\n",
        "colisiones[unico_parte].groupby('AÑO').size()\\\n",
        "  .plot.bar(title='Nº DE COLISIONES POR AÑO', ax=ax[0], rot=0)\n",
        "\n",
        "colisiones[unico_parte].groupby('MES').size()\\\n",
        "  .plot.bar(title='Nº DE COLISIONES POR MES', ax=ax[1], rot=0)\n",
        "\n",
        "colisiones[unico_parte].groupby('DIA SEMANA').size().sort_values()\\\n",
        "  .plot.barh(title='Nº DE COLISIONES POR DIA DE LA SEMANA', ax=ax[2], rot=0)\n",
        "\n",
        "for ax in ax.flat:\n",
        "    ax.set(xlabel='', ylabel='')\n",
        "\n",
        "plt.show()"
      ],
      "execution_count": null,
      "outputs": [
        {
          "output_type": "display_data",
          "data": {
            "image/png": "[encoded data removed]",
            "text/plain": [
              "<Figure size 1440x288 with 3 Axes>"
            ]
          },
          "metadata": {
            "tags": [],
            "needs_background": "light"
          }
        }
      ]
    },
    {
      "cell_type": "markdown",
      "metadata": {
        "id": "vEoXyKC_-YYR"
      },
      "source": [
        "Si examinamos las anteriores gráficas comprobamos que:\n",
        "\n",
        "1. En los 4 primeros años (2010-2013), el nº de colisiones se mantiene en unas cifras similares entorno a los 4400, sin embargo, a partir de 2014, se produce un incremento gradual (excepto en 2016) que repercutirá en el nº de víctimas.\n",
        "2. Cada año, en Agosto, disminuye el tráfico en la ciudad al ser el principal mes de vacaciones en España, en consecuencia, descienden el número de colisiones.\n",
        "2. El viernes es el día de la semana en el que más colisiones han ocurrido (ocio, salir antes del trabajo...)\n",
        "\n",
        "A raíz de los resultados de las gráficas, nos surgen algunas preguntas:\n",
        "1. El incremento anual de las colisiones a partir de 2014 implica un aumento del nº total de víctimas pero, ¿en qué % aumentaron los heridos graves y fallecidos?\n",
        "2. ¿En qué día de la semana encontramos una mayor tasa de víctimas?\n",
        "3. Para cada día de la semana, ¿a qué hora hubo más colisiones?\n",
        "\n",
        "Comenzamos analizando la primera pregunta:"
      ]
    },
    {
      "cell_type": "code",
      "metadata": {
        "id": "7UIu4P3EJP9V",
        "outputId": "1f39adbb-ebb0-40c2-919b-5e7470995f3b",
        "colab": {
          "base_uri": "https://localhost:8080/",
          "height": 294
        }
      },
      "source": [
        "# Excluimos nº de partes duplicados\n",
        "unico_parte = (~colisiones['Nº PARTE'].duplicated())\n",
        "\n",
        "# Calculamos nº total de víctimas por año\n",
        "total_vict_año = colisiones[unico_parte].groupby('AÑO')['Nº VICTIMAS'].sum()\n",
        "\n",
        "lesividad_vic = ['HL', 'HG', 'MT']\n",
        "\n",
        "fig, ax = plt.subplots(nrows=1, ncols=3, figsize=(20,4))\n",
        "\n",
        "for vic in lesividad_vic:\n",
        "  pos = lesividad_vic.index(vic)\n",
        "  lesividad_filtro = (colisiones['LESIVIDAD']==vic)\n",
        "  df = (colisiones[lesividad_filtro].groupby('AÑO').size()/total_vict_año)*100\n",
        "\n",
        "  print(vic, df.mean(),'%')\n",
        "\n",
        "  df.plot.bar(ax=ax[pos], rot=0, title=vic)\n",
        "  #ax[pos].axhline(df.mean(), c='black')\n",
        "\n",
        "for ax in ax.flat:\n",
        "    ax.set(xlabel='', ylabel='%')\n",
        "\n",
        "plt.show()"
      ],
      "execution_count": null,
      "outputs": [
        {
          "output_type": "stream",
          "text": [
            "HL 93.87215357082798 %\n",
            "HG 6.042423050772572 %\n",
            "MT 0.08542337839944913 %\n"
          ],
          "name": "stdout"
        },
        {
          "output_type": "display_data",
          "data": {
            "image/png": "[encoded data removed]",
            "text/plain": [
              "<Figure size 1440x288 with 3 Axes>"
            ]
          },
          "metadata": {
            "tags": [],
            "needs_background": "light"
          }
        }
      ]
    },
    {
      "cell_type": "markdown",
      "metadata": {
        "id": "gI2w89jAPSvj"
      },
      "source": [
        "Observamos que **los heridos leves (HL) suponen casi el 94% de las víctimas de colisiones de tráfico de cada año**.\n",
        "\n",
        "Desde 2010 a 2013, el % de heridos leves fue disminuyendo cada año mientras que los heridos graves (HG) y muertos (MT) aumentaron.\n",
        "\n",
        "A partir de 2014, hemos visto que el nº colisiones fue aumentando cada año y, por lo tanto, el nº de víctimas. \n",
        "\n",
        "Sin embargo, es buena señal ver que el % de heridos graves ha ido descendiendo a partir de ese año, a excepción del 2017 donde aumentó ligeramente.\n",
        "\n",
        "Por contra, el % de fallecidos no parece seguir esta tendencia, aunque con la reducida tasa existente puede deberse a circunstancias propias del accidente.\n",
        "\n",
        "Continuamos con la siguiente pregunta:\n",
        "\n",
        "**¿Qué día de la semana encontramos una mayor tasa de víctimas?**"
      ]
    },
    {
      "cell_type": "code",
      "metadata": {
        "id": "gKmb2rD73vUH",
        "outputId": "78e1e06e-6289-49ea-92f9-5bad5ff3f0f1",
        "colab": {
          "base_uri": "https://localhost:8080/",
          "height": 251
        }
      },
      "source": [
        "# Excluimos nº de partes duplicados\n",
        "unico_parte = (~colisiones['Nº PARTE'].duplicated())\n",
        "\n",
        "# Calculamos nº total de víctimas por día de la semana\n",
        "total_vict_sem = colisiones[unico_parte].groupby('DIA SEMANA')['Nº VICTIMAS'].sum()\n",
        "\n",
        "lesividad_vic = ['HL', 'HG', 'MT']\n",
        "\n",
        "fig, ax = plt.subplots(nrows=1, ncols=3, figsize=(20,4))\n",
        "\n",
        "for vic in lesividad_vic:\n",
        "  pos = lesividad_vic.index(vic)\n",
        "  lesividad_filtro = (colisiones['LESIVIDAD']==vic)\n",
        "  df = (colisiones[lesividad_filtro].groupby('DIA SEMANA').size()/total_vict_sem)*100\n",
        "\n",
        "  df.sort_values().plot.barh(ax=ax[pos], title=vic)\n",
        "  ax[pos].set(xlabel='%', ylabel='')\n",
        "\n",
        "plt.show()"
      ],
      "execution_count": null,
      "outputs": [
        {
          "output_type": "display_data",
          "data": {
            "image/png": "[encoded data removed]",
            "text/plain": [
              "<Figure size 1440x288 with 3 Axes>"
            ]
          },
          "metadata": {
            "tags": [],
            "needs_background": "light"
          }
        }
      ]
    },
    {
      "cell_type": "markdown",
      "metadata": {
        "id": "yow7gSfv7YVx"
      },
      "source": [
        "En cuanto a los **heridos leves** podemos ver como prácticamente es indiferente el día de la semana ya que el % de víctimas es casi el mismo para cada día.\n",
        "\n",
        "No ocurre lo mismo para los **heridos graves** y en especial para los **muertos**:\n",
        "\n",
        "En el caso de los **heridos graves** podemos ver como el día en el que encontramos el mayor porcentaje de este tipo de víctimas es el **jueves**.\n",
        "\n",
        "Por otro lado, el domingo es el día de la semana en el que encontramos el mayor porcentaje de **muertos**."
      ]
    },
    {
      "cell_type": "markdown",
      "metadata": {
        "id": "ST8JE-AZTFVi"
      },
      "source": [
        "**Para cada día de la semana, ¿a qué hora hubo más colisiones?**"
      ]
    },
    {
      "cell_type": "code",
      "metadata": {
        "id": "asNBPX9roZPu",
        "outputId": "95c6a313-4f7b-4c85-c608-cf6fed45f817",
        "colab": {
          "base_uri": "https://localhost:8080/",
          "height": 254
        }
      },
      "source": [
        "colisiones[unico_parte].groupby(['RANGO HORARIO', 'DIA SEMANA']).size().unstack().idxmax()\\\n",
        "  .sort_values(ascending=False).reset_index().rename(columns={0:'HORA PUNTA'})"
      ],
      "execution_count": null,
      "outputs": [
        {
          "output_type": "execute_result",
          "data": {
            "text/html": [
              "<div>\n",
              "<style scoped>\n",
              "    .dataframe tbody tr th:only-of-type {\n",
              "        vertical-align: middle;\n",
              "    }\n",
              "\n",
              "    .dataframe tbody tr th {\n",
              "        vertical-align: top;\n",
              "    }\n",
              "\n",
              "    .dataframe thead th {\n",
              "        text-align: right;\n",
              "    }\n",
              "</style>\n",
              "<table border=\"1\" class=\"dataframe\">\n",
              "  <thead>\n",
              "    <tr style=\"text-align: right;\">\n",
              "      <th></th>\n",
              "      <th>DIA SEMANA</th>\n",
              "      <th>HORA PUNTA</th>\n",
              "    </tr>\n",
              "  </thead>\n",
              "  <tbody>\n",
              "    <tr>\n",
              "      <th>0</th>\n",
              "      <td>VIERNES</td>\n",
              "      <td>DE 14:00 A 14:59</td>\n",
              "    </tr>\n",
              "    <tr>\n",
              "      <th>1</th>\n",
              "      <td>MIERCOLES</td>\n",
              "      <td>DE 14:00 A 14:59</td>\n",
              "    </tr>\n",
              "    <tr>\n",
              "      <th>2</th>\n",
              "      <td>MARTES</td>\n",
              "      <td>DE 14:00 A 14:59</td>\n",
              "    </tr>\n",
              "    <tr>\n",
              "      <th>3</th>\n",
              "      <td>LUNES</td>\n",
              "      <td>DE 14:00 A 14:59</td>\n",
              "    </tr>\n",
              "    <tr>\n",
              "      <th>4</th>\n",
              "      <td>JUEVES</td>\n",
              "      <td>DE 14:00 A 14:59</td>\n",
              "    </tr>\n",
              "    <tr>\n",
              "      <th>5</th>\n",
              "      <td>DOMINGO</td>\n",
              "      <td>DE 14:00 A 14:59</td>\n",
              "    </tr>\n",
              "    <tr>\n",
              "      <th>6</th>\n",
              "      <td>SABADO</td>\n",
              "      <td>DE 13:00 A 13:59</td>\n",
              "    </tr>\n",
              "  </tbody>\n",
              "</table>\n",
              "</div>"
            ],
            "text/plain": [
              "  DIA SEMANA        HORA PUNTA\n",
              "0    VIERNES  DE 14:00 A 14:59\n",
              "1  MIERCOLES  DE 14:00 A 14:59\n",
              "2     MARTES  DE 14:00 A 14:59\n",
              "3      LUNES  DE 14:00 A 14:59\n",
              "4     JUEVES  DE 14:00 A 14:59\n",
              "5    DOMINGO  DE 14:00 A 14:59\n",
              "6     SABADO  DE 13:00 A 13:59"
            ]
          },
          "metadata": {
            "tags": []
          },
          "execution_count": 93
        }
      ]
    },
    {
      "cell_type": "markdown",
      "metadata": {
        "id": "Go_WcH7Jq7OZ"
      },
      "source": [
        "Para todos los días de la semana, excepto el sábado, la hora en la que se producen más colisiones ocurre entre las 14-15h.\n",
        "\n",
        "Probablemente, se deba a un aumento del volumen de tráfico en la carretera ya que coincide con la hora de salida del trabajo y pueden entrar en juego factores como el estrés, la ansiedad o las ganas de llegar a casa."
      ]
    },
    {
      "cell_type": "markdown",
      "metadata": {
        "id": "TAS1g9EfzWFi"
      },
      "source": [
        "**¿A qué hora fue superior la tasa de heridos graves y muertos por colisiones dobles?**"
      ]
    },
    {
      "cell_type": "code",
      "metadata": {
        "id": "83HFMAtEydfS",
        "outputId": "6bc09ddb-3c4c-47f8-a3f2-488eaa3f6e22",
        "colab": {
          "base_uri": "https://localhost:8080/",
          "height": 333
        }
      },
      "source": [
        "# Calculamos nº de peatones atropellados por rango horario\n",
        "total_colisiones = colisiones['RANGO HORARIO'].value_counts()\n",
        "\n",
        "# Calculamos nº de peatones heridos graves y muertos por rango horario\n",
        "colisiones_HG_MT = colisiones[colisiones['LESIVIDAD'].str.contains('HG|MT')]['RANGO HORARIO'].value_counts()\n",
        "\n",
        "ratio_colisiones = ((colisiones_HG_MT / total_colisiones)*100).fillna(0).sort_values(ascending=False)\n",
        "\n",
        "ratio_colisiones.head(10).sort_values().plot.barh(figsize=(10,5),\n",
        "      title='TOP 10 RANGO HORARIO CON MAYOR % DE HERIDOS GRAVES Y MUERTOS')\n",
        "\n",
        "plt.show()"
      ],
      "execution_count": null,
      "outputs": [
        {
          "output_type": "display_data",
          "data": {
            "image/png": "[encoded data removed]",
            "text/plain": [
              "<Figure size 720x360 with 1 Axes>"
            ]
          },
          "metadata": {
            "tags": [],
            "needs_background": "light"
          }
        }
      ]
    },
    {
      "cell_type": "markdown",
      "metadata": {
        "id": "JL42TsPqlwqq"
      },
      "source": [
        "Aunque en las horas del mediodía es cuando se producen más colisiones, durante la noche es cuando se producen más heridos graves y muertos donde afecta la visibilidad y otros posibles factores (exceso velocidad, ocio, drogas...)"
      ]
    },
    {
      "cell_type": "markdown",
      "metadata": {
        "id": "f6N3Rg0uydIp"
      },
      "source": [
        "**¿Qué % de conductores graves y muertos hubo por tipo de vehículo?**"
      ]
    },
    {
      "cell_type": "code",
      "metadata": {
        "id": "2H4iqRvvU7A5",
        "outputId": "60801fef-da1a-44c4-e520-bc19e878b2bc",
        "colab": {
          "base_uri": "https://localhost:8080/",
          "height": 243
        }
      },
      "source": [
        "fig, ax = plt.subplots(nrows=1, ncols=2, figsize=(20,4))\n",
        "\n",
        "lesividad_vic = ['HG', 'MT']\n",
        "\n",
        "for vic in lesividad_vic:\n",
        "\n",
        "  pos = lesividad_vic.index(vic)\n",
        "\n",
        "  # Excluimos registros de viajeros y peatones y filtramos por tipo de lesividad\n",
        "  tmp_filter = (~colisiones['TIPO PERSONA'].str.contains('VIAJERO|PEATON')) \\\n",
        "  & (colisiones['LESIVIDAD']==vic)\n",
        "\n",
        "  df = (colisiones[tmp_filter]['TIPO VEHICULO'].value_counts(normalize=True))*100\n",
        "\n",
        "  df.sort_values().plot.barh(ax=ax[pos], title=vic)\n",
        "  ax[pos].set(xlabel='%', ylabel='')\n",
        "\n",
        "plt.show()"
      ],
      "execution_count": null,
      "outputs": [
        {
          "output_type": "display_data",
          "data": {
            "image/png": "[encoded data removed]",
            "text/plain": [
              "<Figure size 1440x288 with 2 Axes>"
            ]
          },
          "metadata": {
            "tags": [],
            "needs_background": "light"
          }
        }
      ]
    },
    {
      "cell_type": "markdown",
      "metadata": {
        "id": "Q7Bwn0x3cyKM"
      },
      "source": [
        "Observamos que los motoristas son los principales conductores afectados en las colisiones de tráfico, representando más del 60% de las víctimas graves y muertas. \n",
        "\n",
        "Es un dato bastante esperable ya que la protección que ofrece una motocicleta es bastante inferior a la que ofrecen el resto de vehículos.\n",
        "\n",
        "Nos preguntamos, si la hora, las condiciones ambientales y/o el estado de la vía afectan a la lesividad de este grupo:"
      ]
    },
    {
      "cell_type": "code",
      "metadata": {
        "id": "SO8xxjWxdx80",
        "outputId": "256234ef-56dd-446e-fb6b-d53020b78fc5",
        "colab": {
          "base_uri": "https://localhost:8080/",
          "height": 246
        }
      },
      "source": [
        "fig, ax = plt.subplots(nrows=1, ncols=3, figsize=(20,4))\n",
        "\n",
        "factores = ['RANGO HORARIO', 'ESTADO METEOROLOGICO', 'ESTADO VIA']\n",
        "\n",
        "for f in factores:\n",
        "  pos = factores.index(f)\n",
        "\n",
        "  # Excluimos registros de viajeros y peatones\n",
        "  tmp_filter = (colisiones['TIPO PERSONA']=='MOTORISTA')\\\n",
        "    & (colisiones['LESIVIDAD'].str.contains('HG|MT'))\n",
        "\n",
        "  df = ((colisiones[tmp_filter][f].value_counts(normalize=True))*100)\n",
        "\n",
        "  df.head().sort_values().plot.barh(ax=ax[pos], title=f)\n",
        "  ax[pos].set(xlabel='%', ylabel='')\n",
        "\n",
        "plt.show()"
      ],
      "execution_count": null,
      "outputs": [
        {
          "output_type": "display_data",
          "data": {
            "image/png": "[encoded data removed]",
            "text/plain": [
              "<Figure size 1440x288 with 3 Axes>"
            ]
          },
          "metadata": {
            "tags": [],
            "needs_background": "light"
          }
        }
      ]
    },
    {
      "cell_type": "markdown",
      "metadata": {
        "id": "0tJ7Q9TdmjLv"
      },
      "source": [
        "Contra todo pronóstico nos encontramos que la hora en la que se producen los accidentes en los que están involucrados las motocicletas es a plena luz del día, por lo que, a priori podemos descartar que la falta de luminosidad sea un factor que haya influido en estos accidentes. \n",
        "\n",
        "También es sorprendente que predomina un estado meteorológico “seco”, y por tanto, también un estado de la vía “seca y limpia”."
      ]
    },
    {
      "cell_type": "markdown",
      "metadata": {
        "id": "9LRV3gTJt2jZ"
      },
      "source": [
        "**¿En qué barrios se producen más colisiones? ¿Cuál es el que tiene la mayor tasa de heridos graves y muertos?**"
      ]
    },
    {
      "cell_type": "code",
      "metadata": {
        "id": "LnqN5virtv52",
        "outputId": "aca4485c-fe73-4219-cd87-ffb161c364a0",
        "colab": {
          "base_uri": "https://localhost:8080/",
          "height": 275
        }
      },
      "source": [
        "fig, ax = plt.subplots(nrows=1, ncols=2, figsize=(20,5))\n",
        "\n",
        "# Seleccionamos un único Nº parte por atropello\n",
        "tmp_filter = ~colisiones['Nº PARTE'].duplicated()\n",
        "\n",
        "# Seleccionamos los 10 barrios con más atropellos\n",
        "top10_barrios = colisiones[tmp_filter]['BARRIO'].value_counts()\\\n",
        "  .sort_values(ascending=False).head(10)\n",
        "\n",
        "top10_barrios.sort_values().plot.barh(title='TOP 10 BARRIOS CON MÁS COLISIONES DOBLES', ax=ax[0])\n",
        "\n",
        "# Calculamos nº de peatones atropellados por barrio, día semana o rango horario\n",
        "total_colisiones = colisiones['BARRIO'].value_counts()\n",
        "\n",
        "# Calculamos nº de peatones heridos graves y muertos por barrio, día semana o rango horario\n",
        "colisiones_HG_MT = colisiones[colisiones['LESIVIDAD'].str.contains('HG|MT')]['BARRIO'].value_counts()\n",
        "\n",
        "ratio_colisiones = ((colisiones_HG_MT / total_colisiones)*100).fillna(0).sort_values(ascending=False)\n",
        "\n",
        "ratio_colisiones.head(10).sort_values().plot.barh(ax=ax[1],\n",
        "      title='TOP 10 BARRIOS CON MAYOR % DE HERIDOS GRAVES Y MUERTOS')\n",
        "\n",
        "plt.show()"
      ],
      "execution_count": null,
      "outputs": [
        {
          "output_type": "display_data",
          "data": {
            "image/png": "[encoded data removed]",
            "text/plain": [
              "<Figure size 1440x360 with 2 Axes>"
            ]
          },
          "metadata": {
            "tags": [],
            "needs_background": "light"
          }
        }
      ]
    },
    {
      "cell_type": "markdown",
      "metadata": {
        "id": "PSxA3LgOy19r"
      },
      "source": [
        "**Recoletos** es el barrio que concentra el mayor número de colisiones dobles, superando los 1200 casos. Muy por debajo de este valor , encontramos el resto de barrios que comparten números de colosiones más similares.\n",
        "\n",
        "Por otro lado, la **Marroquina** y **El Goloso** destacan por ser los 2 barrios con mayor tasa de heridos graves y muertos, con un porcentaje cercano al 6%."
      ]
    },
    {
      "cell_type": "markdown",
      "metadata": {
        "id": "DK5c1ascljxY"
      },
      "source": [
        "### Colisiones con ciclistas"
      ]
    },
    {
      "cell_type": "markdown",
      "metadata": {
        "id": "mv4SjS8z1nLU"
      },
      "source": [
        "Dentro de las colisiones dobles vamos a analizar aquellas que ocurren entre vehículos y ciclistas, excluyendo aquellas ocurridas únicamente entre ciclistas: \n",
        "\n",
        "1. ¿En qué barrios se han producido más accidentes? ¿Cuál es el que tiene la mayor tasa de heridos graves y muertos?\n",
        "2. Edad y lesividad de los ciclistas\n",
        "3. ¿Qué vehículos han ocasionado más accidentes con ciclistas?\n",
        "5. ¿Afecta el estado de la vía y las condiciones ambientales a la lesividad de los ciclistas?"
      ]
    },
    {
      "cell_type": "code",
      "metadata": {
        "id": "_BpAlO9Hzkff"
      },
      "source": [
        "# Creamos dataframe temporal con registros de ciclistas\n",
        "tmp_df = colisiones[colisiones['TIPO PERSONA']=='CICLISTA']\n",
        "\n",
        "# Creamos serie con nº partes duplicados que implican colisiones entre ciclistas\n",
        "excluir_partes = tmp_df[tmp_df['Nº PARTE'].duplicated()]['Nº PARTE']\n",
        "\n",
        "# Excluimos colisiones entre ciclistas a través de la serie num_parte\n",
        "# Creamos serie con nº de partes de colisiones entre ciclistas y vehículos\n",
        "incluir_partes = tmp_df[~tmp_df['Nº PARTE'].isin(excluir_partes)]['Nº PARTE']\n",
        "\n",
        "# Creamos dataframe con registros de colisiones entre ciclistas y vehículos \n",
        "col_ciclistas = colisiones[colisiones['Nº PARTE'].isin(incluir_partes)]"
      ],
      "execution_count": null,
      "outputs": []
    },
    {
      "cell_type": "code",
      "metadata": {
        "id": "ny-g8Mwd6pK1",
        "outputId": "fb413588-478b-4b92-e534-fea708953c03",
        "colab": {
          "base_uri": "https://localhost:8080/",
          "height": 70
        }
      },
      "source": [
        "print('Total de registros:', len(col_ciclistas))\n",
        "\n",
        "print('Total de colisiones con ciclistas involucrados:', \n",
        "      len(col_ciclistas['Nº PARTE'].unique()))\n",
        "\n",
        "print('Total de víctimas:',\n",
        "      col_ciclistas.loc[~col_ciclistas['Nº PARTE'].duplicated(), 'Nº VICTIMAS'].sum())"
      ],
      "execution_count": null,
      "outputs": [
        {
          "output_type": "stream",
          "text": [
            "Total de registros: 5150\n",
            "Total de colisiones con ciclistas involucrados: 2331\n",
            "Total de víctimas: 2474\n"
          ],
          "name": "stdout"
        }
      ]
    },
    {
      "cell_type": "markdown",
      "metadata": {
        "id": "3aHvAQB4_wRA"
      },
      "source": [
        "Durante el período 2010-2018, hubo en Madrid 2331 colisiones con ciclistas, con un total de 5150 personas involucradas y 2474 víctimas (heridos leves, graves y muertos)."
      ]
    },
    {
      "cell_type": "code",
      "metadata": {
        "id": "S2xBt0bnB50W",
        "outputId": "cd00d3df-c140-4fd5-af63-9ca38876a43c",
        "colab": {
          "base_uri": "https://localhost:8080/",
          "height": 193
        }
      },
      "source": [
        "# % víctimas por tipo de vehículo\n",
        "col_ciclistas[col_ciclistas['LESIVIDAD'].str.contains('HL|HG|MT')]['TIPO VEHICULO']\\\n",
        "  .value_counts(normalize=True)"
      ],
      "execution_count": null,
      "outputs": [
        {
          "output_type": "execute_result",
          "data": {
            "text/plain": [
              "BICICLETA          0.934115\n",
              "MOTOCICLETA        0.033549\n",
              "TURISMO            0.008488\n",
              "VARIOS             0.008084\n",
              "AUTOBUS-AUTOCAR    0.006063\n",
              "CICLOMOTOR         0.006063\n",
              "AUTO-TAXI          0.002425\n",
              "FURGONETA          0.000808\n",
              "NO ASIGNADO        0.000404\n",
              "Name: TIPO VEHICULO, dtype: float64"
            ]
          },
          "metadata": {
            "tags": []
          },
          "execution_count": 100
        }
      ]
    },
    {
      "cell_type": "markdown",
      "metadata": {
        "id": "rJ8WWHifEb_a"
      },
      "source": [
        "Además, de esas 2474 víctimas, el 93% corresponden a ciclistas (y sus posibles acompañantes):"
      ]
    },
    {
      "cell_type": "code",
      "metadata": {
        "id": "lbZ6guffBWmM",
        "outputId": "0d76285d-d497-4f83-a809-d54f3b134130",
        "colab": {
          "base_uri": "https://localhost:8080/",
          "height": 70
        }
      },
      "source": [
        "# Nº de ciclistas y acompañantes\n",
        "col_ciclistas[col_ciclistas['TIPO VEHICULO']=='BICICLETA']['TIPO PERSONA'].value_counts()"
      ],
      "execution_count": null,
      "outputs": [
        {
          "output_type": "execute_result",
          "data": {
            "text/plain": [
              "CICLISTA    2331\n",
              "VIAJERO       26\n",
              "Name: TIPO PERSONA, dtype: int64"
            ]
          },
          "metadata": {
            "tags": []
          },
          "execution_count": 101
        }
      ]
    },
    {
      "cell_type": "code",
      "metadata": {
        "id": "4KwPa0JM8gZn",
        "outputId": "2eea15cd-53b1-4510-b7be-03528892f9b7",
        "colab": {
          "base_uri": "https://localhost:8080/",
          "height": 140
        }
      },
      "source": [
        "# Filtramos por ciclistas y viajeros con lesividad leve, grave o muerto\n",
        "tmp_filter = (col_ciclistas['LESIVIDAD'].str.contains('HL|HG|MT')) \\\n",
        "  & (col_ciclistas['TIPO VEHICULO']=='BICICLETA') \\\n",
        "  & (col_ciclistas['TIPO PERSONA'].str.contains('VIAJERO|CICLISTA'))\n",
        "\n",
        "# Nº ciclistas y viajeros por lesividad\n",
        "col_ciclistas[tmp_filter].groupby(['TIPO PERSONA', 'LESIVIDAD']).size()"
      ],
      "execution_count": null,
      "outputs": [
        {
          "output_type": "execute_result",
          "data": {
            "text/plain": [
              "TIPO PERSONA  LESIVIDAD\n",
              "CICLISTA      HG            244\n",
              "              HL           2037\n",
              "              MT              7\n",
              "VIAJERO       HG              1\n",
              "              HL             22\n",
              "dtype: int64"
            ]
          },
          "metadata": {
            "tags": []
          },
          "execution_count": 102
        }
      ]
    },
    {
      "cell_type": "markdown",
      "metadata": {
        "id": "oD91jQTlHBT2"
      },
      "source": [
        "Si analizamos la lesividad de los ciclistas por rango de edad:"
      ]
    },
    {
      "cell_type": "code",
      "metadata": {
        "id": "rFfRdh8VHise",
        "outputId": "e787649f-0920-4836-941a-da2153668de4",
        "colab": {
          "base_uri": "https://localhost:8080/",
          "height": 447
        }
      },
      "source": [
        "# Creamos dataframe con registros de ciclistas\n",
        "ciclistas = col_ciclistas[col_ciclistas['TIPO PERSONA']=='CICLISTA'].copy()\n",
        "\n",
        "fig, ax = plt.subplots(nrows=1, ncols=2, figsize=(20,8))\n",
        "\n",
        "fig.suptitle('CICLISTAS ACCIDENTADOS SEGÚN EDAD Y LESIVIDAD', fontsize=20)\n",
        "\n",
        "# Filtramos por ciclistas leves\n",
        "tmp_filter1 = ciclistas['LESIVIDAD'].str.contains('HL')\n",
        "\n",
        "# Agrupamos ciclistas por edad y lesividad leve\n",
        "ciclistas[tmp_filter1].groupby('TRAMO EDAD')['LESIVIDAD'].value_counts()\\\n",
        "  .unstack().fillna(0).sort_values('HL')\\\n",
        "  .plot.barh(ax=ax[0], title='Heridos leves')\n",
        "\n",
        "# Filtramos por ciclistas graves\n",
        "tmp_filter2 = ciclistas['LESIVIDAD'].str.contains('HG|MT')\n",
        "\n",
        "# Agrupamos ciclistas por edad y lesividad grave o muerto\n",
        "ciclistas[tmp_filter2].groupby('TRAMO EDAD')['LESIVIDAD'].value_counts()\\\n",
        "  .unstack().fillna(0).sort_values('MT')\\\n",
        "  .plot.barh(ax=ax[1], title='Heridos graves y muertos')\n",
        "\n",
        "for ax in ax.flat:\n",
        "    ax.set(xlabel='', ylabel='')\n",
        "\n",
        "plt.show()"
      ],
      "execution_count": null,
      "outputs": [
        {
          "output_type": "display_data",
          "data": {
            "image/png": "[encoded data removed]",
            "text/plain": [
              "<Figure size 1440x576 with 2 Axes>"
            ]
          },
          "metadata": {
            "tags": [],
            "needs_background": "light"
          }
        }
      ]
    },
    {
      "cell_type": "markdown",
      "metadata": {
        "id": "LKR1jCPsTOAi"
      },
      "source": [
        "Superando los 300 casos, se aprecia un mayor número de heridos leves en edades jóvenes comprendidas entre los 25 y 34 años mientras que, los grupos de 55-59, 60-64 o 70-74, se encuentran en posiciones bajas de este listado con menos de 100 casos en general.\n",
        "\n",
        "El tramo que más heridos graves recoge es el que se encuentra entre los 30 y los 34 años. Cabe destacar que este tramo es el segundo en el que más heridos leves encontramos. \n",
        "\n",
        "Por otro lado, el tramo de edad en el que encontramos más muertos es el que va desde los 55 a los 59 años. \n",
        "\n",
        "Es coherente que un tramo que recoge víctimas de mayor edad sea uno de los que más mortandad tenga debido a que este tipo de víctimas, por su edad, son más débiles ante un accidente y su capacidad de reacción es menor."
      ]
    },
    {
      "cell_type": "markdown",
      "metadata": {
        "id": "8oCODK4WMybE"
      },
      "source": [
        "**¿Afecta el estado de la vía y las condiciones ambientales a la lesividad de los ciclistas?**"
      ]
    },
    {
      "cell_type": "code",
      "metadata": {
        "id": "HtbqnLh_PG-c",
        "outputId": "c98e3a33-efac-4897-d87c-18b3651549f9",
        "colab": {
          "base_uri": "https://localhost:8080/",
          "height": 427
        }
      },
      "source": [
        "fig, ax = plt.subplots(nrows=1, ncols=2, figsize=(20,8))\n",
        "\n",
        "fig.suptitle('CICLISTAS ACCIDENTADOS SEGÚN ESTADO VÍA y TIEMPO', fontsize=20)\n",
        "\n",
        "tmp_filter = ciclistas['LESIVIDAD'].str.contains('HL|HG|MT')\n",
        "\n",
        "ciclistas[tmp_filter].groupby(['ESTADO VIA','LESIVIDAD']).size().unstack().fillna(0)\\\n",
        "  .plot.barh(ax=ax[0], title='ESTADO VIA')\n",
        "\n",
        "ciclistas[tmp_filter].groupby(['ESTADO METEOROLOGICO','LESIVIDAD']).size().unstack().fillna(0)\\\n",
        "  .plot.barh(ax=ax[1], title='ESTADO METEOROLOGICO')\n",
        "\n",
        "for ax in ax.flat:\n",
        "    ax.set(xlabel='', ylabel='')\n",
        "\n",
        "plt.show()"
      ],
      "execution_count": null,
      "outputs": [
        {
          "output_type": "display_data",
          "data": {
            "image/png": "[encoded data removed]",
            "text/plain": [
              "<Figure size 1440x576 with 2 Axes>"
            ]
          },
          "metadata": {
            "tags": [],
            "needs_background": "light"
          }
        }
      ]
    },
    {
      "cell_type": "markdown",
      "metadata": {
        "id": "Iwj__J5wWJ7R"
      },
      "source": [
        "Al igual que ocurría con las motocicletas, tanto la estado de la vía como el estado meteorológico no han sido dos factores que hayan influido notablemente en este tipo de accidentes, ya que podemos ver que la mayoría de los accidentes se han dado en vías en buen estado (secas y limpias) y con condiciones meteorológicas a priori favorables (seco)."
      ]
    },
    {
      "cell_type": "markdown",
      "metadata": {
        "id": "mQaLxf0qY1ge"
      },
      "source": [
        "**¿Qué vehículos han ocasionado más accidentes con ciclistas?**"
      ]
    },
    {
      "cell_type": "code",
      "metadata": {
        "id": "KvPLI4aAd6OM",
        "outputId": "2c38617c-25e8-4014-f78b-af2a724de54b",
        "colab": {
          "base_uri": "https://localhost:8080/",
          "height": 466
        }
      },
      "source": [
        "tmp_filter = ~(col_ciclistas['TIPO PERSONA'].str.contains('VIAJERO|CICLISTA|PEATON'))\n",
        "\n",
        "col_ciclistas[tmp_filter]['TIPO VEHICULO'].value_counts()\\\n",
        "  .plot.pie(figsize=(16,8), autopct='%1.1f%%', labels=None)\n",
        "\n",
        "labels = col_ciclistas['TIPO VEHICULO'].unique()\n",
        "plt.legend(labels=labels,  bbox_to_anchor=(1,1))\n",
        "plt.show()"
      ],
      "execution_count": null,
      "outputs": [
        {
          "output_type": "display_data",
          "data": {
            "image/png": "[encoded data removed]",
            "text/plain": [
              "<Figure size 1152x576 with 1 Axes>"
            ]
          },
          "metadata": {
            "tags": []
          }
        }
      ]
    },
    {
      "cell_type": "markdown",
      "metadata": {
        "id": "ALL_WNySWQL-"
      },
      "source": [
        "Con gran diferencia, el turismo ha sido el tipo de vehículo que más accidentes ha ocasionada con ciclistas, situándose en el 75% de los casos. A este tipo de vehículo le siguen el auto-taxi y las motocicletas con unos porcentajes muy inferiores."
      ]
    },
    {
      "cell_type": "markdown",
      "metadata": {
        "id": "ynuwUVPwhioH"
      },
      "source": [
        "**¿En qué barrios se han producido más accidentes con ciclistas?**"
      ]
    },
    {
      "cell_type": "code",
      "metadata": {
        "id": "9akCVjJJhq6D",
        "outputId": "c4d439e3-010e-4c68-dc23-e5e720ade7a5",
        "colab": {
          "base_uri": "https://localhost:8080/",
          "height": 274
        }
      },
      "source": [
        "fig, ax = plt.subplots(nrows=1, ncols=2, figsize=(20,5))\n",
        "\n",
        "# Seleccionamos los 10 barrios con más atropellos\n",
        "top10_barrios = ciclistas['BARRIO'].value_counts()\\\n",
        "  .sort_values(ascending=False).head(10)\n",
        "\n",
        "top10_barrios.sort_values().plot.barh(title='TOP 10 BARRIOS CON MÁS COLISIONES CON CICLISTAS',\n",
        "                                      ax=ax[0])\n",
        "\n",
        "# Calculamos nº de peatones atropellados por barrio, día semana o rango horario\n",
        "total_colisiones = ciclistas['BARRIO'].value_counts()\n",
        "\n",
        "# Calculamos nº de peatones heridos graves y muertos por barrio, día semana o rango horario\n",
        "ciclistas_HG_MT = ciclistas[ciclistas['LESIVIDAD'].str.contains('HG|MT')]['BARRIO'].value_counts()\n",
        "\n",
        "ratio_colisiones = ((ciclistas_HG_MT / total_colisiones)*100).fillna(0).sort_values(ascending=False)\n",
        "\n",
        "ratio_colisiones.head(10).sort_values().plot.barh(ax=ax[1],\n",
        "      title='TOP 10 BARRIOS CON MAYOR % DE HERIDOS GRAVES Y MUERTOS')\n",
        "\n",
        "plt.show()"
      ],
      "execution_count": null,
      "outputs": [
        {
          "output_type": "display_data",
          "data": {
            "image/png": "[encoded data removed]",
            "text/plain": [
              "<Figure size 1440x360 with 2 Axes>"
            ]
          },
          "metadata": {
            "tags": [],
            "needs_background": "light"
          }
        }
      ]
    },
    {
      "cell_type": "markdown",
      "metadata": {
        "id": "D5-jpQDtWXNh"
      },
      "source": [
        "**Recoletos**, en el distrito Salamanca, es el barrio que más colisiones con ciclistas ha tenido. A éste le sigue el barrio **Embajadores**, del distrito Centro, con unos datos muy similares, ambos próximos a los 70 atropellos.\n",
        "\n",
        "Podemos ver que tanto el barrio **Rejas** como **Vinateros**, pertenecientes al distrito San Blas-Canillejas y a Moratalaz respectivamente, son los barrios en los que encontramos el mayor % de heridos graves y muertos, aproximándose al 70%. \n",
        "\n",
        "A estos barrios les siguen **Horcajo** con un 60% de heridos graves y muertos y posteriormente Corralejos con menos de un 40%."
      ]
    },
    {
      "cell_type": "markdown",
      "metadata": {
        "id": "WyyzGlGxE9TT"
      },
      "source": [
        "## Conclusiones"
      ]
    },
    {
      "cell_type": "markdown",
      "metadata": {
        "id": "FCjP3P4Bnwwf"
      },
      "source": [
        "Tras explorar el dataset y analizar algunos de sus accidentes más habituales, las conclusiones obtenidas son las siguientes:\n",
        "\n",
        "* Durante el período 2010-2018 se produjeron 74587 accidentes de tráfico en la ciudad de Madrid con 184710 personas implicadas, de las cuales, aproximadamente el 51% fueron víctimas.\n",
        "\n",
        "* Del 51% total de las víctimas, la gran mayoría (91,5%) fueron heridos leves mientras que el 8,3% terminaron gravemente heridas y un 0,2% fallecieron.\n",
        "\n",
        "* Más de la mitad de las víctimas, aproximadamente un 57% del total, estuvieron involucradas en accidentes en los que se produjeron una colisión doble entre vehículos. <br>El segundo tipo de accidente más común, aproximadamente un 15% de los casos, fue el atropello a peatones.\n",
        "\n",
        "* Más de la mitad (78%) de los peatones atropellados son heridos leves y casi un 20% heridos graves, siendo la tendencia de los últimos años creciente para el número de heridos leves y decreciente para heridos graves.\n",
        "\n",
        "* Así también, los atropellos de mayor gravedad se dan en sujetos mayores de 60 años y jóvenes de entre 21 y 29 años. En este aspecto, podrían valorarse también otros factores relacionados con la conducción más allá de la edad como velocidad, consumo de sustancias…\n",
        "\n",
        "* Los atropellos a peatones que revisten mayor gravedad se dan en torno al fin de semana y altas horas de la madrugada o primeras horas del día.\n",
        "\n",
        "* Aluche es el barrio donde más atropellos se han producido mientras que El Cañaveral tiene la mayor tasa de víctimas graves y muertas. \n",
        "\n",
        "* Se ha observado un incremento del número de colisiones dobles en los últimos 4 años donde el mayor volumen de víctimas lo ocupan los heridos leves (cerca del 94%  cada año), cifras que se mantienen a lo largo del tiempo, a diferencia de los heridos graves que han disminuido en los últimos años.\n",
        "\n",
        "* El tramo horario en el que se produjeron más colisiones dobles fue entre las 14-15h, posiblemente relacionado con la hora de salida del centro educativo, del trabajo y/o cambio de turno. <br>Sin embargo, encontramos una tasa de heridos graves y muertos superior en horario nocturno.\n",
        "\n",
        "* En colisiones dobles, el mayor número de heridos graves y fallecidos se atribuyeron a motocicletas, representando más del 60% de las víctimas graves y muertas.<br>\n",
        "Además, encontramos que la hora en la que se producen los accidentes es a plena luz del día, por lo que, a priori podemos descartar que la falta de luminosidad sea un factor que haya influido en estos accidentes. \n",
        "\n",
        "* Recoletos es el barrio que concentra el mayor número de colisiones dobles mientras que la Marroquina y El Goloso tienen la mayor tasa de heridos graves y muertos, con un porcentaje cercano al 6%.\n",
        "\n",
        "* Durante el período 2010-2018, hubo 2331 colisiones con ciclistas en Madrid, con cerca de un 50% de víctimas, de las cuales, el 93% corresponden a ciclistas y sus acompañantes.\n",
        "\n",
        "* Hay un mayor número de heridos leves en edades jóvenes (20-34 años) debido, posiblemente, a su uso más generalizado en esta población. Por otro lado, encontramos más muertos en ciclistas con edades comprendidas entre los 50 y 60 años.\n",
        "\n",
        "* Recoletos y Embajadores son los 2 barrios que más colisiones con ciclistas han tenido, ambos próximos a los 70 atropellos mientras que en el barrio Rejas como Vinateros encontramos el mayor % de heridos graves y muertos, aproximándose al 70%.\n",
        "\n",
        "\n",
        "\n",
        "\n"
      ]
    },
    {
      "cell_type": "markdown",
      "metadata": {
        "id": "f7p6rgPfgx95"
      },
      "source": [
        "# Visualización de accidentes sobre el mapa de Madrid\n",
        "\n",
        "Para facilitar la exploración de los accidentes de tráfico en la ciudad de Madrid se ha desarrollado un [mapa interactivo](https://tabsoft.co/3eL0Jzr) en la plataforma **Tableau** que nos permitirá visualizar la localización de cada tipo de accidente ocurrido en la ciudad durante el período 2010-2018.\n",
        "\n",
        "De esta manera, podemos detectar rápidamente puntos o zonas de riesgo donde poner mayor atención e implementar medidas de control para mejorar la seguridad y prevenir accidentes de tráfico en el futuro.\n",
        "\n",
        "[![mapa](https://drive.google.com/uc?id=1OK8FVTJdCcZjDEsioqczKOJS2HZHB2Zt)](https://tabsoft.co/3eL0Jzr)\n",
        "\n",
        "\n"
      ]
    },
    {
      "cell_type": "markdown",
      "metadata": {
        "id": "4wzM0QTkvLbm"
      },
      "source": [
        "# Actualizaciones e ideas de desarrollo\n",
        "\n",
        "* Subir dataset a Kaggle y/o que se pueda utilizar como PFM en ediciones posteriores del máster.\n",
        "* Mejorar la usabilidad del mapa y añadir más información de cada accidente.\n",
        "* Realizar un análisis correlacional utilizando otros datasets: datos meteorológicos, límites de velocidad de calles, ubicación de cruces con semáforos...\n",
        "* Predecir las colisiones de tráfico utilizando datasets sobre el volumen de tráfico en Madrid."
      ]
    },
    {
      "cell_type": "markdown",
      "metadata": {
        "id": "q09VYptLd8BR"
      },
      "source": [
        "# Fuentes y Referencias"
      ]
    },
    {
      "cell_type": "markdown",
      "metadata": {
        "id": "toqUthXu2E9r"
      },
      "source": [
        "\n",
        "* [Datasets accidentes de tráfico de la Ciudad de Madrid](https://datos.madrid.es/portal/site/egob/menuitem.c05c1f754a33a9fbe4b2e4b284f1a5a0/?vgnextoid=7c2843010d9c3610VgnVCM2000001f4a900aRCRD&vgnextchannel=374512b9ace9f310VgnVCM100000171f5a0aRCRD&vgnextfmt=default)\n",
        "\n",
        "* [Estructura de datos datasets](https://datos.madrid.es/portal/site/egob/menuitem.c05c1f754a33a9fbe4b2e4b284f1a5a0/?vgnextoid=7c2843010d9c3610VgnVCM2000001f4a900aRCRD&vgnextchannel=374512b9ace9f310VgnVCM100000171f5a0aRCRD&vgnextfmt=default)\n",
        "\n",
        "* [Distritos en formato geográfico (spacial file)](https://datos.madrid.es/portal/site/egob/menuitem.c05c1f754a33a9fbe4b2e4b284f1a5a0/?vgnextoid=46b55cde99be2410VgnVCM1000000b205a0aRCRD&)\n",
        "\n",
        "*   [Geocoding](https://towardsdatascience.com/geocode-with-python-161ec1e62b89)\n",
        "*   [Documentación Geopy](https://geopy.readthedocs.io/en/stable/#geopy-2-0)\n",
        "\n",
        "* [Ayuda de Tableau](https://www.tableau.com/es-es/support/help)\n",
        "\n",
        "* [Stack Overflow](https://stackoverflow.com/)\n",
        "\n",
        "* [Documentación Pandas](https://pandas.pydata.org/pandas-docs/stable/index.html)\n",
        "\n",
        "\n",
        "\n"
      ]
    }
  ]
}