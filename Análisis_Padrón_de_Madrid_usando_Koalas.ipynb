{
  "nbformat": 4,
  "nbformat_minor": 0,
  "metadata": {
    "colab": {
      "name": "Análisis Padrón de Madrid usando Koalas.ipynb",
      "provenance": [],
      "collapsed_sections": [
        "BqfnFhlOywvH",
        "iEyWTQGyy4NC",
        "UccJe5inzUEf",
        "m4zaWy1ZzfSm",
        "Du8sPpJjGl-S",
        "pXOWPrhLYJJ2"
      ],
      "toc_visible": true,
      "authorship_tag": "ABX9TyPTZyrcM3oo2hOwIHN86CXT",
      "include_colab_link": true
    },
    "kernelspec": {
      "name": "python3",
      "display_name": "Python 3"
    }
  },
  "cells": [
    {
      "cell_type": "markdown",
      "metadata": {
        "id": "view-in-github",
        "colab_type": "text"
      },
      "source": [
        "<a href=\"https://colab.research.google.com/github/arredocana/data-analysis/blob/main/An%C3%A1lisis_Padr%C3%B3n_de_Madrid_usando_Koalas.ipynb\" target=\"_parent\"><img src=\"https://colab.research.google.com/assets/colab-badge.svg\" alt=\"Open In Colab\"/></a>"
      ]
    },
    {
      "cell_type": "markdown",
      "metadata": {
        "id": "iJK73wAuwid9"
      },
      "source": [
        "## Configuración del entorno"
      ]
    },
    {
      "cell_type": "markdown",
      "metadata": {
        "id": "KktyufCPytV_"
      },
      "source": [
        "Para trabajar con tu notebook en Colaboratory puedes conectarte a un entorno de ejecución **local** o en la **nube**.\r\n",
        "\r\n",
        "En ambos casos, el notebook se guardará en tu cuenta de Google Drive en una carpeta nueva llamada **Colab Notebooks**.\r\n",
        "\r\n",
        "No obstante, puedes descargarte el notebook a tu equipo local en formato .ipynb o .py desde la opción Archivo."
      ]
    },
    {
      "cell_type": "markdown",
      "metadata": {
        "id": "BqfnFhlOywvH"
      },
      "source": [
        "### Local (usando Jupyter)"
      ]
    },
    {
      "cell_type": "markdown",
      "metadata": {
        "id": "Q4pMaHTfyvZU"
      },
      "source": [
        "Si decides trabajar con tu equipo local necesitarás conectarte a un servidor de **Jupyter Notebook**. Los pasos a seguir serían los siguientes:\r\n",
        "\r\n",
        "1. Instalar [Jupyter](http://jupyter.org/install) en tu equipo local.\r\n",
        "\r\n",
        "2. Instala y habilitar la extensión **jupyter_http_over_ws**: \r\n",
        "\r\n",
        "  `pip install jupyter_http_over_ws jupyter serverextension enable --py jupyter_http_over_ws`\r\n",
        "\r\n",
        "3. Inicia el servidor y autenticarse:\r\n",
        "\r\n",
        "  Abrir consola y ejecutar el siguiente comando:\r\n",
        "\r\n",
        "  `jupyter notebook --NotebookApp.allow_origin='https://colab.research.google.com' --port=8888 --NotebookApp.port_retries=0`\r\n",
        "\r\n",
        "  Cuando se inicie el servidor, se mostrará un mensaje con la URL de backend inicial utilizada para la autenticación. Copia esta URL. \r\n",
        "  \r\n",
        "  Ejemplo: http://localhost:8888/?token=b5caf18c5137318b8914e6881d5036e55867ef06490919dd\r\n",
        "\r\n",
        "4. Conéctate al entorno de ejecución local:\r\n",
        "\r\n",
        "  En Colaboratory, haz clic en el botón Conectar y selecciona Conectar a un entorno de ejecución local. \r\n",
        "  \r\n",
        "  Introduce la URL del paso anterior en el cuadro de diálogo que aparece y haz clic en el botón Conectar. Después, debería establecerse la conexión con tu entorno de ejecución local.\r\n",
        "\r\n",
        "Para más información puedes leer la [documentación oficial](https://research.google.com/colaboratory/intl/es/local-runtimes.html)."
      ]
    },
    {
      "cell_type": "code",
      "metadata": {
        "colab": {
          "base_uri": "https://localhost:8080/"
        },
        "id": "4JL8ptB_y139",
        "outputId": "42a311d1-b8c9-4919-f256-7e03e1904c13"
      },
      "source": [
        "# Comprobamos ruta del directorio de trabajo desde donde iniciamos Jupyter\r\n",
        "%pwd"
      ],
      "execution_count": 1,
      "outputs": [
        {
          "output_type": "execute_result",
          "data": {
            "text/plain": [
              "'C:\\\\Users\\\\antonio.arredondo\\\\OneDrive - Bosonit\\\\Spark Training\\\\datasets'"
            ]
          },
          "metadata": {
            "tags": []
          },
          "execution_count": 1
        }
      ]
    },
    {
      "cell_type": "code",
      "metadata": {
        "id": "zZovCEyk0MC8"
      },
      "source": [
        "# Local file path\r\n",
        "file_path = \"padron_madrid_2020.csv\""
      ],
      "execution_count": 2,
      "outputs": []
    },
    {
      "cell_type": "markdown",
      "metadata": {
        "id": "iEyWTQGyy4NC"
      },
      "source": [
        "### Nube"
      ]
    },
    {
      "cell_type": "markdown",
      "metadata": {
        "id": "IvJ5lh-hy8Q0"
      },
      "source": [
        "Si prefieres trabajar en la **nube** aprovechando los recursos de los servidores de Google tendrás que instalar las librerías que no estén disponibles en la configuración por defecto del notebook e importar los ficheros que sean necesarios. \r\n",
        "\r\n",
        "Esta operación es necesaria hacerla siempre que te conectes a la nube o inicies un nuevo notebook."
      ]
    },
    {
      "cell_type": "markdown",
      "metadata": {
        "id": "eKqaYpQty-9o"
      },
      "source": [
        "#### Instalación de librerías"
      ]
    },
    {
      "cell_type": "code",
      "metadata": {
        "id": "EAlfeTNYy6nu"
      },
      "source": [
        "# Install needed libraries\r\n",
        "!pip install -q pyspark\r\n",
        "!pip install -q koalas\r\n",
        "!pip install -q pyarrow==0.15.1 # necesario actualizar\r\n",
        "!pip install -q pyngrok"
      ],
      "execution_count": null,
      "outputs": []
    },
    {
      "cell_type": "markdown",
      "metadata": {
        "id": "YL5-AyeXzNpj"
      },
      "source": [
        "#### Importación de datos"
      ]
    },
    {
      "cell_type": "markdown",
      "metadata": {
        "id": "UccJe5inzUEf"
      },
      "source": [
        "##### Desde Google Drive"
      ]
    },
    {
      "cell_type": "code",
      "metadata": {
        "id": "FXX50o1KzZ6u"
      },
      "source": [
        "# Mount Drive (authentication required)\r\n",
        "from google.colab import drive\r\n",
        "drive.mount('/content/drive')"
      ],
      "execution_count": null,
      "outputs": []
    },
    {
      "cell_type": "code",
      "metadata": {
        "id": "_x3SkRuCzb28"
      },
      "source": [
        "# Viewing the data in the folder present from the drive\r\n",
        "!ls -l \"/content/drive/My Drive/Colab Notebooks/datasets\""
      ],
      "execution_count": null,
      "outputs": []
    },
    {
      "cell_type": "code",
      "metadata": {
        "id": "sWRWvKdzzdhY"
      },
      "source": [
        "# Cloud file path\r\n",
        "file_path = \"drive/MyDrive/Colab\\ Notebooks/datasets/padron_madrid_2020.csv\""
      ],
      "execution_count": null,
      "outputs": []
    },
    {
      "cell_type": "markdown",
      "metadata": {
        "id": "m4zaWy1ZzfSm"
      },
      "source": [
        "##### Desde local"
      ]
    },
    {
      "cell_type": "code",
      "metadata": {
        "id": "tyK5WiQfzkVm"
      },
      "source": [
        "# Importing files method from colab for accessing Local file system\r\n",
        "from google.colab import files\r\n",
        "\r\n",
        "uploaded = files.upload()"
      ],
      "execution_count": null,
      "outputs": []
    },
    {
      "cell_type": "code",
      "metadata": {
        "id": "6D1hr9x5zmqN"
      },
      "source": [
        "uploaded.keys()"
      ],
      "execution_count": null,
      "outputs": []
    },
    {
      "cell_type": "code",
      "metadata": {
        "id": "Qhck4DyLzpTi"
      },
      "source": [
        "# Local file path\r\n",
        "file_path = \"padron_madrid_2020.csv\""
      ],
      "execution_count": null,
      "outputs": []
    },
    {
      "cell_type": "markdown",
      "metadata": {
        "id": "Du8sPpJjGl-S"
      },
      "source": [
        "## Introducción: de Pandas a Koalas"
      ]
    },
    {
      "cell_type": "markdown",
      "metadata": {
        "id": "dYrRfLtj1P4u"
      },
      "source": [
        "Para los usuarios que están familiarizadas con **Pandas**, trabajar con DataFrames en **PySpark** puede ser un poco tedioso de aprender al principio debido a que su sintaxis es más cercana a SQL que al propio Python.\r\n",
        "\r\n",
        "Hasta ahora PySpark tenía la función [`toPandas()`](https://spark.apache.org/docs/latest/api/python/pyspark.sql.html?highlight=topandas#pyspark.sql.DataFrame.toPandas) para convertir un DataFrame a Pandas.\r\n",
        "\r\n",
        "Sin embargo, **esta función únicamente es aconsejable utilizarse cuando se trabaja con datasets pequeños** ya que carga en la memoria del nodo driver todos los datos del dataset almacenados en múltiples nodos y, si el dataset llega a ser muy grande, se producirá un error por falta de memoria.\r\n",
        "\r\n",
        "Para comprenderlo mejor vamos a ver un ejemplo simulando que hemos cargado en Spark un dataset pequeño con 100 mil registros y otro con 100 millones:"
      ]
    },
    {
      "cell_type": "code",
      "metadata": {
        "id": "OPdca0Bzs6UM"
      },
      "source": [
        "# Importamos librerías necesarias\r\n",
        "from pyspark.sql import SparkSession\r\n",
        "import pyspark.sql.functions as F\r\n",
        "import pandas as pd\r\n",
        "\r\n",
        "# Iniciamos la SparkSession\r\n",
        "spark = SparkSession.builder\\\r\n",
        "        .appName(\"Koalas\")\\\r\n",
        "        .enableHiveSupport()\\\r\n",
        "        .getOrCreate()"
      ],
      "execution_count": null,
      "outputs": []
    },
    {
      "cell_type": "code",
      "metadata": {
        "colab": {
          "base_uri": "https://localhost:8080/"
        },
        "id": "kO4Ub1kSWKpa",
        "outputId": "d75094b7-4e3e-4218-ddda-ffc9aaa37740"
      },
      "source": [
        "# Creamos DataFrame en Spark con 100k filas\r\n",
        "small_spark_DF = spark.range(10**5)\r\n",
        "\r\n",
        "# Mostramos primeras filas del DataFrame\r\n",
        "small_spark_DF.show(5)\r\n",
        "\r\n",
        "# Count the number of rows \r\n",
        "print(\"Number of rows:\", small_spark_DF.count())"
      ],
      "execution_count": null,
      "outputs": [
        {
          "output_type": "stream",
          "text": [
            "+---+\n",
            "| id|\n",
            "+---+\n",
            "|  0|\n",
            "|  1|\n",
            "|  2|\n",
            "|  3|\n",
            "|  4|\n",
            "+---+\n",
            "only showing top 5 rows\n",
            "\n",
            "Number of rows: 100000\n"
          ],
          "name": "stdout"
        }
      ]
    },
    {
      "cell_type": "code",
      "metadata": {
        "colab": {
          "base_uri": "https://localhost:8080/",
          "height": 212
        },
        "id": "WcbhmShByKKj",
        "outputId": "f5bd40f7-807c-4269-a7b4-a76671c5ae72"
      },
      "source": [
        "# Convertimos PySpark DataFrame a Pandas DataFrame\r\n",
        "small_pandas_DF = small_spark_DF.toPandas()\r\n",
        "\r\n",
        "print(type(small_pandas_DF))\r\n",
        "\r\n",
        "# Mostramos las 5 primeras filas\r\n",
        "small_pandas_DF.head()"
      ],
      "execution_count": null,
      "outputs": [
        {
          "output_type": "stream",
          "text": [
            "<class 'pandas.core.frame.DataFrame'>\n"
          ],
          "name": "stdout"
        },
        {
          "output_type": "execute_result",
          "data": {
            "text/plain": [
              "   id\n",
              "0   0\n",
              "1   1\n",
              "2   2\n",
              "3   3\n",
              "4   4"
            ],
            "text/html": [
              "<div>\n",
              "<style scoped>\n",
              "    .dataframe tbody tr th:only-of-type {\n",
              "        vertical-align: middle;\n",
              "    }\n",
              "\n",
              "    .dataframe tbody tr th {\n",
              "        vertical-align: top;\n",
              "    }\n",
              "\n",
              "    .dataframe thead th {\n",
              "        text-align: right;\n",
              "    }\n",
              "</style>\n",
              "<table border=\"1\" class=\"dataframe\">\n",
              "  <thead>\n",
              "    <tr style=\"text-align: right;\">\n",
              "      <th></th>\n",
              "      <th>id</th>\n",
              "    </tr>\n",
              "  </thead>\n",
              "  <tbody>\n",
              "    <tr>\n",
              "      <th>0</th>\n",
              "      <td>0</td>\n",
              "    </tr>\n",
              "    <tr>\n",
              "      <th>1</th>\n",
              "      <td>1</td>\n",
              "    </tr>\n",
              "    <tr>\n",
              "      <th>2</th>\n",
              "      <td>2</td>\n",
              "    </tr>\n",
              "    <tr>\n",
              "      <th>3</th>\n",
              "      <td>3</td>\n",
              "    </tr>\n",
              "    <tr>\n",
              "      <th>4</th>\n",
              "      <td>4</td>\n",
              "    </tr>\n",
              "  </tbody>\n",
              "</table>\n",
              "</div>"
            ]
          },
          "metadata": {
            "tags": []
          },
          "execution_count": 3
        }
      ]
    },
    {
      "cell_type": "code",
      "metadata": {
        "id": "IhIXvGkpwksk",
        "colab": {
          "base_uri": "https://localhost:8080/"
        },
        "outputId": "fa8d149c-c056-48d8-e27b-05cc240393c0"
      },
      "source": [
        "# Creamos DataFrame en Spark con 100M filas\r\n",
        "big_spark_DF = spark.range(10**8)\r\n",
        "\r\n",
        "big_spark_DF.show(5)\r\n",
        "\r\n",
        "# Count the number of rows \r\n",
        "print(\"Number of rows:\", big_spark_DF.count())"
      ],
      "execution_count": null,
      "outputs": [
        {
          "output_type": "stream",
          "text": [
            "+---+\n",
            "| id|\n",
            "+---+\n",
            "|  0|\n",
            "|  1|\n",
            "|  2|\n",
            "|  3|\n",
            "|  4|\n",
            "+---+\n",
            "only showing top 5 rows\n",
            "\n",
            "Number of rows: 100000000\n"
          ],
          "name": "stdout"
        }
      ]
    },
    {
      "cell_type": "markdown",
      "metadata": {
        "id": "XVNycfM1z3jZ"
      },
      "source": [
        "En este caso si intentamos convertir nuestro DataFrame `big_spark_DF` a un DataFrame de Pandas mediante la función `toPandas()` se producirá el siguiente error por falta de memoria:\r\n",
        "\r\n",
        "*Py4JJavaError: An error occurred while calling o30.collectToPython.\r\n",
        ": org.apache.spark.SparkException: Job aborted due to stage failure: Task 1 in stage 9.0 failed 1 times, most recent failure: Lost task 1.0 in stage 9.0 (TID 14, 60c377ead6af, executor driver): java.lang.OutOfMemoryError: Java heap space*"
      ]
    },
    {
      "cell_type": "code",
      "metadata": {
        "id": "wRzdaYz60HJv"
      },
      "source": [
        "# Lanzará error por memoria insuficiente\r\n",
        "# pandas_DF = big_spark_DF.toPandas()"
      ],
      "execution_count": null,
      "outputs": []
    },
    {
      "cell_type": "markdown",
      "metadata": {
        "id": "Wzvsrwjy4qdf"
      },
      "source": [
        "Ya hemos visto que usar **Pandas** cuando se requiere trabajar con grandes volúmenes de datos no es eficiente, ya que carga todos los datos en una única máquina para procesarlos en lugar de aprovechar el potencial de la computación distribuida, además puede producirse un error si no hay suficiente memoria en el nodo principal.\r\n",
        "\r\n",
        "Y aquí es donde entra en juego **Koalas**.\r\n",
        "\r\n",
        "**Koalas** se trata de una librería nueva de Python basada en la API de pandas que fue creada por la empresa **Databricks** (creadores de Spark) para ayudar a los usuarios que quieren hacer uso de las capacidades de computación distribuida de Spark sin tener que recurrir a las APIs de PySpark.\r\n",
        "\r\n",
        "Actualmente en la [versión 1.6.0](https://koalas.readthedocs.io/en/latest/whatsnew/v1.6.0.html) de Koalas se tiene implementado cerca del 70% de las APIs de Pandas permitiendo que la curva de aprendizaje sea significativamente fácil para usuarios ya familiarizados con pandas.\r\n",
        "\r\n",
        "No obstante, esto no significa que no se deba aprender PySpark ni tener un conocimiento mínimo de Spark, a pesar de que Koalas tiene prácticamente la misma API que Pandas existen diferencias \"sutiles\" que el usuario debe tener en cuenta cuando se trabaja en un entorno distribuido.\r\n",
        "\r\n",
        "En conclusión, si te estás preguntando si comenzar con PySpark o Koalas en la documentación oficial recomiendan lo siguiente:\r\n",
        "\r\n",
        "*If you are already familiar with pandas and want to leverage Spark for big data, we recommend using Koalas. If you are learning Spark from ground up, we recommend you start with PySpark’s API.*\r\n",
        "\r\n",
        "A continuación, vamos a importar la librería **Koalas** y convertir nuestro DataFrame con 10 millones de filas de PySpark a un DataFrame de Koalas usando el método `to_koalas()`:"
      ]
    },
    {
      "cell_type": "code",
      "metadata": {
        "id": "pHXEETpwaL2a"
      },
      "source": [
        "import os\r\n",
        "os.environ[\"PYARROW_IGNORE_TIMEZONE\"] = \"1\"\r\n",
        "import databricks.koalas as ks"
      ],
      "execution_count": null,
      "outputs": []
    },
    {
      "cell_type": "code",
      "metadata": {
        "id": "EsvSt2pfwlgQ",
        "colab": {
          "base_uri": "https://localhost:8080/"
        },
        "outputId": "69972cc3-bdad-455c-fe84-d5471b5cf735"
      },
      "source": [
        "# Convertimos DataFrame de PySpark a DataFrame de Koalas (ejecutar sólo en la nube)\r\n",
        "#koalas_DF = big_spark_DF.to_koalas()\r\n",
        "\r\n",
        "#print(type(koalas_DF))"
      ],
      "execution_count": null,
      "outputs": [
        {
          "output_type": "stream",
          "text": [
            "<class 'databricks.koalas.frame.DataFrame'>\n"
          ],
          "name": "stdout"
        }
      ]
    },
    {
      "cell_type": "code",
      "metadata": {
        "id": "-JwPZMTnQGr0"
      },
      "source": [
        "# Mostramos las primeras 5 filas\r\n",
        "#koalas_DF.head()"
      ],
      "execution_count": null,
      "outputs": []
    },
    {
      "cell_type": "markdown",
      "metadata": {
        "id": "sLShkz4PZgBl"
      },
      "source": [
        "Gracias a Koalas hemos convertido sin problemas un DataFrame de PySpark con 100 millones de filas a un DataFrame que externamente sigue la misma estructura que Pandas (incluyendo un índice) pero internamente se comporta como un DataFrame en PySpark.\r\n",
        "\r\n",
        "Además, recordamos que los datos están particionados y distribuidos en múltiples nodos en lugar de tenerlos en una misma máquina como en Pandas.\r\n",
        "\r\n",
        "Destacamos algunas ventajas de Koalas:\r\n",
        "\r\n",
        "1. Uso de lazy evaluation como Spark, es decir, sólo se ejecuta cuando es provocado por una acción.\r\n",
        "\r\n",
        "2. No se necesita una sesión de Spark independiente para procesar el DataFrame. Koalas hace uso del SparkSession existente.\r\n",
        "\r\n",
        "3. Koalas soporta la sintaxis SQL estándar que permite ejecutar la consulta SQL de Spark y devuelve el resultado como un DataFrame de Koalas.\r\n",
        "\r\n",
        "4. Configurando Koalas, se puede incluso alternar el cálculo entre Pandas y Spark.\r\n",
        "\r\n",
        "5. Los DataFrames de Koalas pueden derivarse tanto de los de Pandas como de los de PySpark."
      ]
    },
    {
      "cell_type": "code",
      "metadata": {
        "id": "jfpg4IQO3GDm"
      },
      "source": [
        "spark.stop()"
      ],
      "execution_count": null,
      "outputs": []
    },
    {
      "cell_type": "markdown",
      "metadata": {
        "id": "Qc6DiMo1R7-E"
      },
      "source": [
        "## Ejemplo de análisis exploratorio con Koalas"
      ]
    },
    {
      "cell_type": "markdown",
      "metadata": {
        "id": "BboqZ4qBH2i_"
      },
      "source": [
        "A continuación, vamos a ver un ejemplo de uso de Koalas partiendo de un dataset en Spark sobre los datos del padrón municipal de Madrid.\r\n",
        "\r\n",
        "Nuestro objetivo será intentar responder las siguientes preguntas:\r\n",
        "\r\n",
        "* ¿Cuántos barrios tiene cada distrito?\r\n",
        "* ¿Cuál es la edad media de los ciudadadanos en cada barrio?\r\n",
        "* ¿Cuál es el porcentaje de españoles y extranjeros por distrito y barrio?\r\n",
        "\r\n",
        "A lo largo de este análisis iremos comentando las diferencias que encontremos tanto en Pandas, Koalas como en PySpark.\r\n",
        "\r\n",
        "Posteriormente practicaremos con más ejercicios con Koalas para ver las diferencias con PySpark."
      ]
    },
    {
      "cell_type": "code",
      "metadata": {
        "id": "9c9agjd73WuL"
      },
      "source": [
        "# Importamos librerías necesarias\r\n",
        "from pyspark.sql import SparkSession\r\n",
        "import pyspark.sql.functions as F\r\n",
        "import pandas as pd\r\n",
        "import numpy as np\r\n",
        "\r\n",
        "# Si la versión de la librería pyarrow es la 3.0.0 necesitamos configurar \r\n",
        "# la siguiente variable de entorno para trabajar con Koalas\r\n",
        "# Tip: puedes comprobar la versión de una librería con el comando !pip show libreria\r\n",
        "import os\r\n",
        "os.environ[\"PYARROW_IGNORE_TIMEZONE\"] = \"1\"\r\n",
        "import databricks.koalas as ks"
      ],
      "execution_count": 3,
      "outputs": []
    },
    {
      "cell_type": "code",
      "metadata": {
        "id": "ouommkvy6lZ3"
      },
      "source": [
        "# Iniciamos la SparkSession\r\n",
        "spark = SparkSession.builder\\\r\n",
        "        .appName(\"Koalas\")\\\r\n",
        "        .enableHiveSupport()\\\r\n",
        "        .getOrCreate()"
      ],
      "execution_count": 4,
      "outputs": []
    },
    {
      "cell_type": "markdown",
      "metadata": {
        "id": "NvfngT_sGjfc"
      },
      "source": [
        "### Leyendo el dataset"
      ]
    },
    {
      "cell_type": "code",
      "metadata": {
        "id": "VYLG108zFUst"
      },
      "source": [
        "# Local file path\r\n",
        "#file_path = \"./OneDrive - Bosonit/Spark Training/datasets/padron_madrid_2020.csv\""
      ],
      "execution_count": null,
      "outputs": []
    },
    {
      "cell_type": "code",
      "metadata": {
        "id": "WkUsnWIgE4bq"
      },
      "source": [
        "# Cargamos datos en DataFrame de PySpark\r\n",
        "padron_SDF = (spark.read.format('csv')\r\n",
        "            .options(header=True, \r\n",
        "                     delimiter=';',\r\n",
        "                     encoding='ISO-8859-1',\r\n",
        "                     inferSchema=True\r\n",
        "                    )\r\n",
        "            .load(file_path))\r\n",
        "\r\n",
        "# Convertimos DataFrame de PySpark a Koalas\r\n",
        "padron_KDF = padron_SDF.to_koalas()\r\n",
        "\r\n",
        "# Opcional: cargar datos en DataFrame de Koalas\r\n",
        "# ks.read_csv(file_path, sep=\";\", encoding='ISO-8859-1')"
      ],
      "execution_count": 5,
      "outputs": []
    },
    {
      "cell_type": "markdown",
      "metadata": {
        "id": "P7oG-mrsvMkj"
      },
      "source": [
        "### Mostrando filas del DataFrame"
      ]
    },
    {
      "cell_type": "markdown",
      "metadata": {
        "id": "d28gsXyWKpqC"
      },
      "source": [
        "Una de las primeras diferencias que nos encontramos entre PySpark y Koalas es a la hora de mostrar los datos. \r\n",
        "\r\n",
        "En PySpark se utiliza el método `show()` mientras que en Koalas hereda el método `head()` de Pandas (internamente usa `limit()` de PySpark):"
      ]
    },
    {
      "cell_type": "code",
      "metadata": {
        "colab": {
          "base_uri": "https://localhost:8080/"
        },
        "id": "EiJlU0-gL_jg",
        "outputId": "d1f1ddca-abd6-4380-c167-98974aa8a90f"
      },
      "source": [
        "# Muestra las 10 primeras filas en PySpark\r\n",
        "padron_SDF.show(10)"
      ],
      "execution_count": null,
      "outputs": [
        {
          "output_type": "stream",
          "text": [
            "+------------+--------------------+---------------+--------------------+----------+----------------+-----------+------------+----------------+----------------+------------------+------------------+\n",
            "|COD_DISTRITO|       DESC_DISTRITO|COD_DIST_BARRIO|         DESC_BARRIO|COD_BARRIO|COD_DIST_SECCION|COD_SECCION|COD_EDAD_INT|EspanolesHombres|EspanolesMujeres|ExtranjerosHombres|ExtranjerosMujeres|\n",
            "+------------+--------------------+---------------+--------------------+----------+----------------+-----------+------------+----------------+----------------+------------------+------------------+\n",
            "|           1|CENTRO              |            101|PALACIO             |         1|            1006|          6|         103|            null|               1|              null|              null|\n",
            "|           1|CENTRO              |            101|PALACIO             |         1|            1007|          7|           0|               1|               1|              null|                 3|\n",
            "|           1|CENTRO              |            101|PALACIO             |         1|            1007|          7|           1|               2|               3|              null|              null|\n",
            "|           1|CENTRO              |            101|PALACIO             |         1|            1007|          7|           2|               1|               4|              null|              null|\n",
            "|           1|CENTRO              |            101|PALACIO             |         1|            1007|          7|           3|               4|            null|              null|              null|\n",
            "|           1|CENTRO              |            101|PALACIO             |         1|            1007|          7|           4|               1|               2|              null|                 1|\n",
            "|           1|CENTRO              |            101|PALACIO             |         1|            1007|          7|           5|               2|               6|              null|              null|\n",
            "|           1|CENTRO              |            101|PALACIO             |         1|            1007|          7|           6|               1|            null|              null|              null|\n",
            "|           1|CENTRO              |            101|PALACIO             |         1|            1007|          7|           7|               3|               2|              null|              null|\n",
            "|           1|CENTRO              |            101|PALACIO             |         1|            1007|          7|           8|               4|               2|              null|              null|\n",
            "+------------+--------------------+---------------+--------------------+----------+----------------+-----------+------------+----------------+----------------+------------------+------------------+\n",
            "only showing top 10 rows\n",
            "\n"
          ],
          "name": "stdout"
        }
      ]
    },
    {
      "cell_type": "code",
      "metadata": {
        "colab": {
          "base_uri": "https://localhost:8080/",
          "height": 215
        },
        "id": "Eg3pjrvTLzei",
        "outputId": "dc06ce5a-a0b8-4cde-bf05-9c409c8d2417"
      },
      "source": [
        "# Muestra las 5 primeras filas en Koalas/Pandas\r\n",
        "# También se pueden ver las  últimas filas con el método tail()\r\n",
        "padron_KDF.head()"
      ],
      "execution_count": null,
      "outputs": [
        {
          "output_type": "execute_result",
          "data": {
            "text/plain": [
              "   COD_DISTRITO         DESC_DISTRITO  COD_DIST_BARRIO           DESC_BARRIO  COD_BARRIO  COD_DIST_SECCION  COD_SECCION  COD_EDAD_INT  EspanolesHombres  EspanolesMujeres  ExtranjerosHombres  ExtranjerosMujeres\n",
              "0             1  CENTRO                            101  PALACIO                        1              1006            6           103               NaN               1.0                 NaN                 NaN\n",
              "1             1  CENTRO                            101  PALACIO                        1              1007            7             0               1.0               1.0                 NaN                 3.0\n",
              "2             1  CENTRO                            101  PALACIO                        1              1007            7             1               2.0               3.0                 NaN                 NaN\n",
              "3             1  CENTRO                            101  PALACIO                        1              1007            7             2               1.0               4.0                 NaN                 NaN\n",
              "4             1  CENTRO                            101  PALACIO                        1              1007            7             3               4.0               NaN                 NaN                 NaN"
            ],
            "text/html": [
              "<div>\n",
              "<style scoped>\n",
              "    .dataframe tbody tr th:only-of-type {\n",
              "        vertical-align: middle;\n",
              "    }\n",
              "\n",
              "    .dataframe tbody tr th {\n",
              "        vertical-align: top;\n",
              "    }\n",
              "\n",
              "    .dataframe thead th {\n",
              "        text-align: right;\n",
              "    }\n",
              "</style>\n",
              "<table border=\"1\" class=\"dataframe\">\n",
              "  <thead>\n",
              "    <tr style=\"text-align: right;\">\n",
              "      <th></th>\n",
              "      <th>COD_DISTRITO</th>\n",
              "      <th>DESC_DISTRITO</th>\n",
              "      <th>COD_DIST_BARRIO</th>\n",
              "      <th>DESC_BARRIO</th>\n",
              "      <th>COD_BARRIO</th>\n",
              "      <th>COD_DIST_SECCION</th>\n",
              "      <th>COD_SECCION</th>\n",
              "      <th>COD_EDAD_INT</th>\n",
              "      <th>EspanolesHombres</th>\n",
              "      <th>EspanolesMujeres</th>\n",
              "      <th>ExtranjerosHombres</th>\n",
              "      <th>ExtranjerosMujeres</th>\n",
              "    </tr>\n",
              "  </thead>\n",
              "  <tbody>\n",
              "    <tr>\n",
              "      <th>0</th>\n",
              "      <td>1</td>\n",
              "      <td>CENTRO</td>\n",
              "      <td>101</td>\n",
              "      <td>PALACIO</td>\n",
              "      <td>1</td>\n",
              "      <td>1006</td>\n",
              "      <td>6</td>\n",
              "      <td>103</td>\n",
              "      <td>NaN</td>\n",
              "      <td>1.0</td>\n",
              "      <td>NaN</td>\n",
              "      <td>NaN</td>\n",
              "    </tr>\n",
              "    <tr>\n",
              "      <th>1</th>\n",
              "      <td>1</td>\n",
              "      <td>CENTRO</td>\n",
              "      <td>101</td>\n",
              "      <td>PALACIO</td>\n",
              "      <td>1</td>\n",
              "      <td>1007</td>\n",
              "      <td>7</td>\n",
              "      <td>0</td>\n",
              "      <td>1.0</td>\n",
              "      <td>1.0</td>\n",
              "      <td>NaN</td>\n",
              "      <td>3.0</td>\n",
              "    </tr>\n",
              "    <tr>\n",
              "      <th>2</th>\n",
              "      <td>1</td>\n",
              "      <td>CENTRO</td>\n",
              "      <td>101</td>\n",
              "      <td>PALACIO</td>\n",
              "      <td>1</td>\n",
              "      <td>1007</td>\n",
              "      <td>7</td>\n",
              "      <td>1</td>\n",
              "      <td>2.0</td>\n",
              "      <td>3.0</td>\n",
              "      <td>NaN</td>\n",
              "      <td>NaN</td>\n",
              "    </tr>\n",
              "    <tr>\n",
              "      <th>3</th>\n",
              "      <td>1</td>\n",
              "      <td>CENTRO</td>\n",
              "      <td>101</td>\n",
              "      <td>PALACIO</td>\n",
              "      <td>1</td>\n",
              "      <td>1007</td>\n",
              "      <td>7</td>\n",
              "      <td>2</td>\n",
              "      <td>1.0</td>\n",
              "      <td>4.0</td>\n",
              "      <td>NaN</td>\n",
              "      <td>NaN</td>\n",
              "    </tr>\n",
              "    <tr>\n",
              "      <th>4</th>\n",
              "      <td>1</td>\n",
              "      <td>CENTRO</td>\n",
              "      <td>101</td>\n",
              "      <td>PALACIO</td>\n",
              "      <td>1</td>\n",
              "      <td>1007</td>\n",
              "      <td>7</td>\n",
              "      <td>3</td>\n",
              "      <td>4.0</td>\n",
              "      <td>NaN</td>\n",
              "      <td>NaN</td>\n",
              "      <td>NaN</td>\n",
              "    </tr>\n",
              "  </tbody>\n",
              "</table>\n",
              "</div>"
            ]
          },
          "metadata": {
            "tags": []
          },
          "execution_count": 11
        }
      ]
    },
    {
      "cell_type": "markdown",
      "metadata": {
        "id": "ClKXcqrqvert"
      },
      "source": [
        "### Información del dataset"
      ]
    },
    {
      "cell_type": "markdown",
      "metadata": {
        "id": "3AdMRLN7E0Rb"
      },
      "source": [
        "Para mostrar la información sobre el DataFrame podemos usar el método `print_schema()` que es propio de la API de PySpark.\r\n",
        "\r\n",
        "*Nota: Cuando queremos aprovechar funcionalidades existentes de la API de PySpark Koalas proporciona el [spark accessor](https://koalas.readthedocs.io/en/latest/whatsnew/v1.0.0.html?highlight=spark%20accesor#spark-accessor).*"
      ]
    },
    {
      "cell_type": "code",
      "metadata": {
        "colab": {
          "base_uri": "https://localhost:8080/"
        },
        "id": "RBmV-M5NFaNc",
        "outputId": "9e6c85c6-f2d5-48e6-b5fd-4b87341d5a53"
      },
      "source": [
        "# Mostramos esquema como en PySpark\r\n",
        "padron_KDF.spark.print_schema()"
      ],
      "execution_count": null,
      "outputs": [
        {
          "output_type": "stream",
          "text": [
            "root\n",
            " |-- COD_DISTRITO: integer (nullable = true)\n",
            " |-- DESC_DISTRITO: string (nullable = true)\n",
            " |-- COD_DIST_BARRIO: integer (nullable = true)\n",
            " |-- DESC_BARRIO: string (nullable = true)\n",
            " |-- COD_BARRIO: integer (nullable = true)\n",
            " |-- COD_DIST_SECCION: integer (nullable = true)\n",
            " |-- COD_SECCION: integer (nullable = true)\n",
            " |-- COD_EDAD_INT: integer (nullable = true)\n",
            " |-- EspanolesHombres: integer (nullable = true)\n",
            " |-- EspanolesMujeres: integer (nullable = true)\n",
            " |-- ExtranjerosHombres: integer (nullable = true)\n",
            " |-- ExtranjerosMujeres: integer (nullable = true)\n",
            "\n"
          ],
          "name": "stdout"
        }
      ]
    },
    {
      "cell_type": "markdown",
      "metadata": {
        "id": "10Vo0GsVH3FS"
      },
      "source": [
        "El método equivalente en Pandas sería `info()` que, como podéis observar, ofrece mucha más información:"
      ]
    },
    {
      "cell_type": "code",
      "metadata": {
        "colab": {
          "base_uri": "https://localhost:8080/"
        },
        "id": "3_06p7wDHAeZ",
        "outputId": "93c23101-9188-486a-8749-ae52385457e3"
      },
      "source": [
        "# Información del dataframe usando la API de Pandas\r\n",
        "padron_KDF.info()"
      ],
      "execution_count": null,
      "outputs": [
        {
          "output_type": "stream",
          "text": [
            "<class 'databricks.koalas.frame.DataFrame'>\n",
            "Index: 237675 entries, 0 to 237674\n",
            "Data columns (total 12 columns):\n",
            " #   Column              Non-Null Count   Dtype \n",
            "---  ------              --------------   ----- \n",
            " 0   COD_DISTRITO        237675 non-null  int32 \n",
            " 1   DESC_DISTRITO       237675 non-null  object\n",
            " 2   COD_DIST_BARRIO     237675 non-null  int32 \n",
            " 3   DESC_BARRIO         237675 non-null  object\n",
            " 4   COD_BARRIO          237675 non-null  int32 \n",
            " 5   COD_DIST_SECCION    237675 non-null  int32 \n",
            " 6   COD_SECCION         237675 non-null  int32 \n",
            " 7   COD_EDAD_INT        237675 non-null  int32 \n",
            " 8   EspanolesHombres    221328 non-null  int32 \n",
            " 9   EspanolesMujeres    231804 non-null  int32 \n",
            " 10  ExtranjerosHombres  104618 non-null  int32 \n",
            " 11  ExtranjerosMujeres  115649 non-null  int32 \n",
            "dtypes: int32(10), object(2)"
          ],
          "name": "stdout"
        }
      ]
    },
    {
      "cell_type": "markdown",
      "metadata": {
        "id": "kp_XZ9CwvpYV"
      },
      "source": [
        "### Número de columnas"
      ]
    },
    {
      "cell_type": "markdown",
      "metadata": {
        "id": "CnQQfEcGsPo4"
      },
      "source": [
        "Igualmente si queremos comprobar el número de filas que tiene el dataframe se utilizan diferentes métodos:\r\n",
        "\r\n",
        "**PySpark** usa el método `count()` mientras que en **Koalas** puede usarse la función `len()` o el atributo `shape` que devuelve un array con 2 elementos: nº de filas y nº de columnas del DataFrame.\r\n",
        "\r\n",
        "El método `count()` en **Koalas** devuelve el número de filas no nulas de cada columna del DataFrame."
      ]
    },
    {
      "cell_type": "code",
      "metadata": {
        "colab": {
          "base_uri": "https://localhost:8080/"
        },
        "id": "wLdzwxumsV2W",
        "outputId": "55297657-0a26-454a-ad12-4bde38c1ba9b"
      },
      "source": [
        "# Número de filas en PySpark\r\n",
        "#print(f\"Hay {padron_SDF.count()} registros en el dataset del padrón./n\")\r\n",
        "\r\n",
        "# Número de filas en Koalas/Pandas\r\n",
        "print(f\"Hay {len(padron_KDF)} registros en el dataset del padrón.\")"
      ],
      "execution_count": null,
      "outputs": [
        {
          "output_type": "stream",
          "text": [
            "Hay 237675 registros en el dataset del padrón.\n"
          ],
          "name": "stdout"
        }
      ]
    },
    {
      "cell_type": "code",
      "metadata": {
        "colab": {
          "base_uri": "https://localhost:8080/"
        },
        "id": "xsL-qvK3sY2q",
        "outputId": "d8363c8b-67c4-4cb9-dd97-e79ed9b0671c"
      },
      "source": [
        "# En Koalas la función count() devuelve el número de filas no nulas \r\n",
        "padron_KDF.count()"
      ],
      "execution_count": null,
      "outputs": [
        {
          "output_type": "execute_result",
          "data": {
            "text/plain": [
              "COD_DISTRITO          237675\n",
              "DESC_DISTRITO         237675\n",
              "COD_DIST_BARRIO       237675\n",
              "DESC_BARRIO           237675\n",
              "COD_BARRIO            237675\n",
              "COD_DIST_SECCION      237675\n",
              "COD_SECCION           237675\n",
              "COD_EDAD_INT          237675\n",
              "EspanolesHombres      221328\n",
              "EspanolesMujeres      231804\n",
              "ExtranjerosHombres    104618\n",
              "ExtranjerosMujeres    115649\n",
              "dtype: int64"
            ]
          },
          "metadata": {
            "tags": []
          },
          "execution_count": 15
        }
      ]
    },
    {
      "cell_type": "markdown",
      "metadata": {
        "id": "Cc_lWhwDwF5O"
      },
      "source": [
        "### Reemplazando valores nulos"
      ]
    },
    {
      "cell_type": "markdown",
      "metadata": {
        "id": "-a1RkCKrEqZM"
      },
      "source": [
        "Algunas columnas contienen un menor número de filas porque contienen valores nulos. \r\n",
        "\r\n",
        "En Koalas podemos comprobar cuántos valores nulos tiene cada columna usando el método `isnull()` seguido de `sum()`:"
      ]
    },
    {
      "cell_type": "code",
      "metadata": {
        "colab": {
          "base_uri": "https://localhost:8080/"
        },
        "id": "dVBQ-waLa-s-",
        "outputId": "12cf42ae-9524-4649-fd65-16b845d8ee3e"
      },
      "source": [
        "# Contar número de valores nulo en cada columna en Koalas DataFrame\n",
        "padron_KDF.isnull().sum()"
      ],
      "execution_count": null,
      "outputs": [
        {
          "output_type": "execute_result",
          "data": {
            "text/plain": [
              "COD_DISTRITO               0\n",
              "DESC_DISTRITO              0\n",
              "COD_DIST_BARRIO            0\n",
              "DESC_BARRIO                0\n",
              "COD_BARRIO                 0\n",
              "COD_DIST_SECCION           0\n",
              "COD_SECCION                0\n",
              "COD_EDAD_INT               0\n",
              "EspanolesHombres       16347\n",
              "EspanolesMujeres        5871\n",
              "ExtranjerosHombres    133057\n",
              "ExtranjerosMujeres    122026\n",
              "dtype: int64"
            ]
          },
          "metadata": {
            "tags": []
          },
          "execution_count": 16
        }
      ]
    },
    {
      "cell_type": "code",
      "metadata": {
        "colab": {
          "base_uri": "https://localhost:8080/"
        },
        "id": "yorLIllVdrHP",
        "outputId": "d43705d4-7c08-4f1e-a61e-829027ac5293"
      },
      "source": [
        "# Contar número de valores nulo en cada columna en PySpark DataFrame\r\n",
        "padron_SDF.select([F.count(F.when(F.col(c).isNull(), c)).alias(c) \\\r\n",
        "                   for c in padron_SDF.columns]).show()"
      ],
      "execution_count": null,
      "outputs": [
        {
          "output_type": "stream",
          "text": [
            "+------------+-------------+---------------+-----------+----------+----------------+-----------+------------+----------------+----------------+------------------+------------------+\n",
            "|COD_DISTRITO|DESC_DISTRITO|COD_DIST_BARRIO|DESC_BARRIO|COD_BARRIO|COD_DIST_SECCION|COD_SECCION|COD_EDAD_INT|EspanolesHombres|EspanolesMujeres|ExtranjerosHombres|ExtranjerosMujeres|\n",
            "+------------+-------------+---------------+-----------+----------+----------------+-----------+------------+----------------+----------------+------------------+------------------+\n",
            "|           0|            0|              0|          0|         0|               0|          0|           0|           16347|            5871|            133057|            122026|\n",
            "+------------+-------------+---------------+-----------+----------+----------------+-----------+------------+----------------+----------------+------------------+------------------+\n",
            "\n"
          ],
          "name": "stdout"
        }
      ]
    },
    {
      "cell_type": "markdown",
      "metadata": {
        "id": "wkortiDqo5Re"
      },
      "source": [
        "Para reemplazar los valores nulos podemos utilizar el método `fillna()` en PySpark y en Koalas.\r\n",
        "\r\n",
        "Sin embargo, **este método no es recomendable utilizarse en datasets grandes** como advierten en la documentación de Koalas:\r\n",
        "\r\n",
        "*the current implementation of ‘method’ parameter in fillna uses Spark’s Window without specifying partition specification. This leads to move all data into single partition in single machine and could cause serious performance degradation. Avoid this method against very large dataset.*"
      ]
    },
    {
      "cell_type": "code",
      "metadata": {
        "id": "IggokQGMp03z"
      },
      "source": [
        "# Reemplazar valores nulos en DataFrame de PySpark\r\n",
        "padron_SDF = padron_SDF.fillna(0)\r\n",
        "\r\n",
        "# Reemplazar valores nulos en DataFrame de Koalas\r\n",
        "padron_KDF = padron_KDF.fillna(0)"
      ],
      "execution_count": 6,
      "outputs": []
    },
    {
      "cell_type": "markdown",
      "metadata": {
        "id": "kUdW0SQAyLkJ"
      },
      "source": [
        "### Seleccionando y filtrando datos"
      ]
    },
    {
      "cell_type": "markdown",
      "metadata": {
        "id": "kZQ_P5uzyvFl"
      },
      "source": [
        "Si queremos ver los datos de algunas columnas específicas del DataFrame en Spark utilizamos `select()` mientras que en Koalas/Pandas se usan corchetes (más info [aquí](https://pandas.pydata.org/pandas-docs/stable/getting_started/intro_tutorials/03_subset_data.html?highlight=filter#how-do-i-filter-specific-rows-from-a-dataframe)):"
      ]
    },
    {
      "cell_type": "code",
      "metadata": {
        "colab": {
          "base_uri": "https://localhost:8080/"
        },
        "id": "eMD5beMf0dz-",
        "outputId": "26ca49db-ced4-46c0-8269-2fffda1cd03c"
      },
      "source": [
        "padron_SDF.select(\"DESC_DISTRITO\", \"DESC_BARRIO\").show(5)"
      ],
      "execution_count": 7,
      "outputs": [
        {
          "output_type": "stream",
          "text": [
            "+--------------------+--------------------+\n",
            "|       DESC_DISTRITO|         DESC_BARRIO|\n",
            "+--------------------+--------------------+\n",
            "|CENTRO              |PALACIO             |\n",
            "|CENTRO              |PALACIO             |\n",
            "|CENTRO              |PALACIO             |\n",
            "|CENTRO              |PALACIO             |\n",
            "|CENTRO              |PALACIO             |\n",
            "+--------------------+--------------------+\n",
            "only showing top 5 rows\n",
            "\n"
          ],
          "name": "stdout"
        }
      ]
    },
    {
      "cell_type": "code",
      "metadata": {
        "colab": {
          "base_uri": "https://localhost:8080/",
          "height": 195
        },
        "id": "7KS7u3V60-Ah",
        "outputId": "cb0b3739-2108-4de2-9506-36a12a1b90f3"
      },
      "source": [
        "padron_KDF[[\"DESC_DISTRITO\", \"DESC_BARRIO\"]].head()"
      ],
      "execution_count": 8,
      "outputs": [
        {
          "output_type": "execute_result",
          "data": {
            "text/plain": [
              "          DESC_DISTRITO           DESC_BARRIO\n",
              "0  CENTRO                PALACIO             \n",
              "1  CENTRO                PALACIO             \n",
              "2  CENTRO                PALACIO             \n",
              "3  CENTRO                PALACIO             \n",
              "4  CENTRO                PALACIO             "
            ],
            "text/html": [
              "<div>\n",
              "<style scoped>\n",
              "    .dataframe tbody tr th:only-of-type {\n",
              "        vertical-align: middle;\n",
              "    }\n",
              "\n",
              "    .dataframe tbody tr th {\n",
              "        vertical-align: top;\n",
              "    }\n",
              "\n",
              "    .dataframe thead th {\n",
              "        text-align: right;\n",
              "    }\n",
              "</style>\n",
              "<table border=\"1\" class=\"dataframe\">\n",
              "  <thead>\n",
              "    <tr style=\"text-align: right;\">\n",
              "      <th></th>\n",
              "      <th>DESC_DISTRITO</th>\n",
              "      <th>DESC_BARRIO</th>\n",
              "    </tr>\n",
              "  </thead>\n",
              "  <tbody>\n",
              "    <tr>\n",
              "      <th>0</th>\n",
              "      <td>CENTRO</td>\n",
              "      <td>PALACIO</td>\n",
              "    </tr>\n",
              "    <tr>\n",
              "      <th>1</th>\n",
              "      <td>CENTRO</td>\n",
              "      <td>PALACIO</td>\n",
              "    </tr>\n",
              "    <tr>\n",
              "      <th>2</th>\n",
              "      <td>CENTRO</td>\n",
              "      <td>PALACIO</td>\n",
              "    </tr>\n",
              "    <tr>\n",
              "      <th>3</th>\n",
              "      <td>CENTRO</td>\n",
              "      <td>PALACIO</td>\n",
              "    </tr>\n",
              "    <tr>\n",
              "      <th>4</th>\n",
              "      <td>CENTRO</td>\n",
              "      <td>PALACIO</td>\n",
              "    </tr>\n",
              "  </tbody>\n",
              "</table>\n",
              "</div>"
            ]
          },
          "metadata": {
            "tags": []
          },
          "execution_count": 8
        }
      ]
    },
    {
      "cell_type": "markdown",
      "metadata": {
        "id": "eGV8MoDm1z_T"
      },
      "source": [
        "Igualmente en Koalas también usamos corchetes para filtrar filas basadas en una condición mientras que en PySpark usamos el método `filter()`:"
      ]
    },
    {
      "cell_type": "code",
      "metadata": {
        "colab": {
          "base_uri": "https://localhost:8080/"
        },
        "id": "kqPd8diB4tuA",
        "outputId": "9c04d2f1-09bc-4db9-c2e0-75c0374f00bc"
      },
      "source": [
        "padron_SDF.filter(F.col(\"COD_EDAD_INT\") == 50).show(3)"
      ],
      "execution_count": 9,
      "outputs": [
        {
          "output_type": "stream",
          "text": [
            "+------------+--------------------+---------------+--------------------+----------+----------------+-----------+------------+----------------+----------------+------------------+------------------+\n",
            "|COD_DISTRITO|       DESC_DISTRITO|COD_DIST_BARRIO|         DESC_BARRIO|COD_BARRIO|COD_DIST_SECCION|COD_SECCION|COD_EDAD_INT|EspanolesHombres|EspanolesMujeres|ExtranjerosHombres|ExtranjerosMujeres|\n",
            "+------------+--------------------+---------------+--------------------+----------+----------------+-----------+------------+----------------+----------------+------------------+------------------+\n",
            "|           1|CENTRO              |            101|PALACIO             |         1|            1007|          7|          50|               9|               7|                 0|                 0|\n",
            "|           1|CENTRO              |            101|PALACIO             |         1|            1008|          8|          50|               5|               6|                 0|                 1|\n",
            "|           1|CENTRO              |            101|PALACIO             |         1|            1009|          9|          50|              13|               7|                 3|                 1|\n",
            "+------------+--------------------+---------------+--------------------+----------+----------------+-----------+------------+----------------+----------------+------------------+------------------+\n",
            "only showing top 3 rows\n",
            "\n"
          ],
          "name": "stdout"
        }
      ]
    },
    {
      "cell_type": "code",
      "metadata": {
        "colab": {
          "base_uri": "https://localhost:8080/",
          "height": 156
        },
        "id": "WD2nH01c1rm8",
        "outputId": "3f47c138-be5f-4953-a853-95dd4f535395"
      },
      "source": [
        "padron_KDF[padron_KDF[\"COD_EDAD_INT\"] == 50].head(3)"
      ],
      "execution_count": 10,
      "outputs": [
        {
          "output_type": "execute_result",
          "data": {
            "text/plain": [
              "     COD_DISTRITO         DESC_DISTRITO  COD_DIST_BARRIO           DESC_BARRIO  COD_BARRIO  COD_DIST_SECCION  COD_SECCION  COD_EDAD_INT  EspanolesHombres  EspanolesMujeres  ExtranjerosHombres  ExtranjerosMujeres\n",
              "51              1  CENTRO                            101  PALACIO                        1              1007            7            50                 9                 7                   0                   0\n",
              "148             1  CENTRO                            101  PALACIO                        1              1008            8            50                 5                 6                   0                   1\n",
              "245             1  CENTRO                            101  PALACIO                        1              1009            9            50                13                 7                   3                   1"
            ],
            "text/html": [
              "<div>\n",
              "<style scoped>\n",
              "    .dataframe tbody tr th:only-of-type {\n",
              "        vertical-align: middle;\n",
              "    }\n",
              "\n",
              "    .dataframe tbody tr th {\n",
              "        vertical-align: top;\n",
              "    }\n",
              "\n",
              "    .dataframe thead th {\n",
              "        text-align: right;\n",
              "    }\n",
              "</style>\n",
              "<table border=\"1\" class=\"dataframe\">\n",
              "  <thead>\n",
              "    <tr style=\"text-align: right;\">\n",
              "      <th></th>\n",
              "      <th>COD_DISTRITO</th>\n",
              "      <th>DESC_DISTRITO</th>\n",
              "      <th>COD_DIST_BARRIO</th>\n",
              "      <th>DESC_BARRIO</th>\n",
              "      <th>COD_BARRIO</th>\n",
              "      <th>COD_DIST_SECCION</th>\n",
              "      <th>COD_SECCION</th>\n",
              "      <th>COD_EDAD_INT</th>\n",
              "      <th>EspanolesHombres</th>\n",
              "      <th>EspanolesMujeres</th>\n",
              "      <th>ExtranjerosHombres</th>\n",
              "      <th>ExtranjerosMujeres</th>\n",
              "    </tr>\n",
              "  </thead>\n",
              "  <tbody>\n",
              "    <tr>\n",
              "      <th>51</th>\n",
              "      <td>1</td>\n",
              "      <td>CENTRO</td>\n",
              "      <td>101</td>\n",
              "      <td>PALACIO</td>\n",
              "      <td>1</td>\n",
              "      <td>1007</td>\n",
              "      <td>7</td>\n",
              "      <td>50</td>\n",
              "      <td>9</td>\n",
              "      <td>7</td>\n",
              "      <td>0</td>\n",
              "      <td>0</td>\n",
              "    </tr>\n",
              "    <tr>\n",
              "      <th>148</th>\n",
              "      <td>1</td>\n",
              "      <td>CENTRO</td>\n",
              "      <td>101</td>\n",
              "      <td>PALACIO</td>\n",
              "      <td>1</td>\n",
              "      <td>1008</td>\n",
              "      <td>8</td>\n",
              "      <td>50</td>\n",
              "      <td>5</td>\n",
              "      <td>6</td>\n",
              "      <td>0</td>\n",
              "      <td>1</td>\n",
              "    </tr>\n",
              "    <tr>\n",
              "      <th>245</th>\n",
              "      <td>1</td>\n",
              "      <td>CENTRO</td>\n",
              "      <td>101</td>\n",
              "      <td>PALACIO</td>\n",
              "      <td>1</td>\n",
              "      <td>1009</td>\n",
              "      <td>9</td>\n",
              "      <td>50</td>\n",
              "      <td>13</td>\n",
              "      <td>7</td>\n",
              "      <td>3</td>\n",
              "      <td>1</td>\n",
              "    </tr>\n",
              "  </tbody>\n",
              "</table>\n",
              "</div>"
            ]
          },
          "metadata": {
            "tags": []
          },
          "execution_count": 10
        }
      ]
    },
    {
      "cell_type": "markdown",
      "metadata": {
        "id": "s38nu6bfLLfd"
      },
      "source": [
        "Por otro lado, si intentamos filtrar por distritos o barrios veremos que no se muestra ningún resultado.\r\n",
        "\r\n",
        "Esto se debe a que los registros de los campos `DESC_DISTRITO` y `DESC_BARRIO` fueron añadidos con un espacio extra."
      ]
    },
    {
      "cell_type": "code",
      "metadata": {
        "colab": {
          "base_uri": "https://localhost:8080/",
          "height": 67
        },
        "id": "mg6p9g_KOEqM",
        "outputId": "ac0f3f2b-e051-46b0-f553-1c42f824abcd"
      },
      "source": [
        "padron_KDF[padron_KDF['DESC_DISTRITO'] == \"CENTRO\"].head()"
      ],
      "execution_count": 11,
      "outputs": [
        {
          "output_type": "execute_result",
          "data": {
            "text/plain": [
              "Empty DataFrame\n",
              "Columns: [COD_DISTRITO, DESC_DISTRITO, COD_DIST_BARRIO, DESC_BARRIO, COD_BARRIO, COD_DIST_SECCION, COD_SECCION, COD_EDAD_INT, EspanolesHombres, EspanolesMujeres, ExtranjerosHombres, ExtranjerosMujeres]\n",
              "Index: []"
            ],
            "text/html": [
              "<div>\n",
              "<style scoped>\n",
              "    .dataframe tbody tr th:only-of-type {\n",
              "        vertical-align: middle;\n",
              "    }\n",
              "\n",
              "    .dataframe tbody tr th {\n",
              "        vertical-align: top;\n",
              "    }\n",
              "\n",
              "    .dataframe thead th {\n",
              "        text-align: right;\n",
              "    }\n",
              "</style>\n",
              "<table border=\"1\" class=\"dataframe\">\n",
              "  <thead>\n",
              "    <tr style=\"text-align: right;\">\n",
              "      <th></th>\n",
              "      <th>COD_DISTRITO</th>\n",
              "      <th>DESC_DISTRITO</th>\n",
              "      <th>COD_DIST_BARRIO</th>\n",
              "      <th>DESC_BARRIO</th>\n",
              "      <th>COD_BARRIO</th>\n",
              "      <th>COD_DIST_SECCION</th>\n",
              "      <th>COD_SECCION</th>\n",
              "      <th>COD_EDAD_INT</th>\n",
              "      <th>EspanolesHombres</th>\n",
              "      <th>EspanolesMujeres</th>\n",
              "      <th>ExtranjerosHombres</th>\n",
              "      <th>ExtranjerosMujeres</th>\n",
              "    </tr>\n",
              "  </thead>\n",
              "  <tbody>\n",
              "  </tbody>\n",
              "</table>\n",
              "</div>"
            ]
          },
          "metadata": {
            "tags": []
          },
          "execution_count": 11
        }
      ]
    },
    {
      "cell_type": "markdown",
      "metadata": {
        "id": "JbnzvbyUcnFn"
      },
      "source": [
        "### Ordenando datos"
      ]
    },
    {
      "cell_type": "code",
      "metadata": {
        "id": "cdsvWiXhcsx-"
      },
      "source": [
        "# padron_SDF.orderBy(\"esp_hombres\", ascending=False).show(5)"
      ],
      "execution_count": null,
      "outputs": []
    },
    {
      "cell_type": "code",
      "metadata": {
        "id": "knVVUQqwcfnW"
      },
      "source": [
        "#padron_KDF.sort_values(by='esp_hombres', ascending=False).head()"
      ],
      "execution_count": null,
      "outputs": []
    },
    {
      "cell_type": "markdown",
      "metadata": {
        "id": "Gv4h6IVUBGy0"
      },
      "source": [
        "### Eliminando espacios innecesarios"
      ]
    },
    {
      "cell_type": "markdown",
      "metadata": {
        "id": "xK-TYixe65UP"
      },
      "source": [
        "Acabamos de ver que nuestro dataset contiene registros con espacios extras, para solucionarlo usaremos en PySpark la función `trim()` para cada columna mientras que en Koalas/Pandas podemos utilizar [`strip()`](https://koalas.readthedocs.io/en/latest/reference/api/databricks.koalas.Series.str.strip.html?highlight=strip#databricks.koalas.Series.str.strip):"
      ]
    },
    {
      "cell_type": "code",
      "metadata": {
        "id": "rr9315UgBLEw"
      },
      "source": [
        "# Limpiamos DataFrame eliminando espacios extras y seleccionando las columnas necesarias\r\n",
        "padron_SDF = padron_SDF.select(\r\n",
        "    F.trim(F.col(\"desc_distrito\")).alias(\"distrito\"),\r\n",
        "    F.trim(F.col(\"desc_barrio\")).alias(\"barrio\"),\r\n",
        "    \"cod_edad_int\",\"espanoleshombres\", \"espanolesmujeres\",\r\n",
        "    \"extranjeroshombres\", \"extranjerosmujeres\")"
      ],
      "execution_count": 12,
      "outputs": []
    },
    {
      "cell_type": "code",
      "metadata": {
        "colab": {
          "base_uri": "https://localhost:8080/"
        },
        "id": "870mkVvRBWsi",
        "outputId": "9f768a85-790e-4d03-8683-a58330a3115f"
      },
      "source": [
        "padron_SDF.show(3)"
      ],
      "execution_count": 13,
      "outputs": [
        {
          "output_type": "stream",
          "text": [
            "+--------+-------+------------+----------------+----------------+------------------+------------------+\n",
            "|distrito| barrio|cod_edad_int|espanoleshombres|espanolesmujeres|extranjeroshombres|extranjerosmujeres|\n",
            "+--------+-------+------------+----------------+----------------+------------------+------------------+\n",
            "|  CENTRO|PALACIO|         103|               0|               1|                 0|                 0|\n",
            "|  CENTRO|PALACIO|           0|               1|               1|                 0|                 3|\n",
            "|  CENTRO|PALACIO|           1|               2|               3|                 0|                 0|\n",
            "+--------+-------+------------+----------------+----------------+------------------+------------------+\n",
            "only showing top 3 rows\n",
            "\n"
          ],
          "name": "stdout"
        }
      ]
    },
    {
      "cell_type": "code",
      "metadata": {
        "colab": {
          "base_uri": "https://localhost:8080/"
        },
        "id": "rktHeRcNRlqy",
        "outputId": "1367c212-1f23-46e2-bfff-02f4459818ce"
      },
      "source": [
        "padron_KDF[\"DESC_DISTRITO\"].head(5).str.strip()\r\n",
        "\r\n",
        "# padron_KDF[\"DESC_DISTRITO\"] = padron_KDF[\"DESC_DISTRITO\"].str.strip()\r\n",
        "# padron_KDF[\"DESC_BARRIO\"] = padron_KDF[\"DESC_BARRIO\"].str.strip()"
      ],
      "execution_count": 14,
      "outputs": [
        {
          "output_type": "stream",
          "text": [
            "C:\\Users\\antonio.arredondo\\Anaconda3\\lib\\site-packages\\pyspark\\sql\\pandas\\functions.py:383: UserWarning: In Python 3.6+ and Spark 3.0+, it is preferred to specify type hints for pandas UDF instead of specifying pandas UDF type which will be deprecated in the future releases. See SPARK-28264 for more details.\n",
            "  warnings.warn(\n"
          ],
          "name": "stderr"
        },
        {
          "output_type": "execute_result",
          "data": {
            "text/plain": [
              "0    CENTRO\n",
              "1    CENTRO\n",
              "2    CENTRO\n",
              "3    CENTRO\n",
              "4    CENTRO\n",
              "Name: DESC_DISTRITO, dtype: object"
            ]
          },
          "metadata": {
            "tags": []
          },
          "execution_count": 14
        }
      ]
    },
    {
      "cell_type": "markdown",
      "metadata": {
        "id": "q8HfWAXG89h7"
      },
      "source": [
        "Opcionalmente en Koalas también podemos crear una función genérica que seleccione las columnas de tipo string (object) y le aplique el método strip() a cada una:"
      ]
    },
    {
      "cell_type": "code",
      "metadata": {
        "id": "xaGJAqYp6IfY"
      },
      "source": [
        "# Función para eliminar espacios en columnas de texto\r\n",
        "def df_strip(df):\r\n",
        "  ks.set_option('compute.ops_on_diff_frames', True)\r\n",
        "  df_obj = df.select_dtypes(['object'])\r\n",
        "  df[df_obj.columns] = df_obj.apply(lambda x: x.str.strip())\r\n",
        "  ks.set_option('compute.ops_on_diff_frames', False)\r\n",
        "  return df\r\n",
        "\r\n",
        "# Aviso:\r\n",
        "# Por defecto Koalas tiene desactivado las operaciones que combinan series o dataframes diferentes\r\n",
        "# para permitirlas tienes que habilitar la opción compute.ops_on_diff_frames\r\n",
        "# No obstante no se recomienda en datasets grandes\r\n",
        "# https://koalas.readthedocs.io/en/latest/user_guide/options.html#operations-on-different-dataframes\r\n",
        "\r\n",
        "# Probar ejemplo:\r\n",
        "# kdf = ks.DataFrame({'random': np.random.rand(padron_KDF.shape[0])})\r\n",
        "# padronKDF[\"total_random\"] = padronKDF[\"esp_hombres\"] + kdf[\"random\"]"
      ],
      "execution_count": 15,
      "outputs": []
    },
    {
      "cell_type": "code",
      "metadata": {
        "id": "B2J9O4Tt6Jud"
      },
      "source": [
        "# Limpiamos DataFrame de Koalas \r\n",
        "padron_KDF = df_strip(padron_KDF)"
      ],
      "execution_count": 16,
      "outputs": []
    },
    {
      "cell_type": "code",
      "metadata": {
        "colab": {
          "base_uri": "https://localhost:8080/",
          "height": 215
        },
        "id": "Z7MWfuHH7xv6",
        "outputId": "c6f90ab8-5aa1-462c-f434-ea79e1a1c4b3"
      },
      "source": [
        "# Comprobamos que se puede filtrar correctamente\r\n",
        "padron_KDF[padron_KDF['DESC_DISTRITO'] == \"CENTRO\"].head()"
      ],
      "execution_count": 17,
      "outputs": [
        {
          "output_type": "execute_result",
          "data": {
            "text/plain": [
              "   COD_DISTRITO DESC_DISTRITO  COD_DIST_BARRIO DESC_BARRIO  COD_BARRIO  COD_DIST_SECCION  COD_SECCION  COD_EDAD_INT  EspanolesHombres  EspanolesMujeres  ExtranjerosHombres  ExtranjerosMujeres\n",
              "0             1        CENTRO              101     PALACIO           1              1006            6           103                 0                 1                   0                   0\n",
              "1             1        CENTRO              101     PALACIO           1              1007            7             0                 1                 1                   0                   3\n",
              "2             1        CENTRO              101     PALACIO           1              1007            7             1                 2                 3                   0                   0\n",
              "3             1        CENTRO              101     PALACIO           1              1007            7             2                 1                 4                   0                   0\n",
              "4             1        CENTRO              101     PALACIO           1              1007            7             3                 4                 0                   0                   0"
            ],
            "text/html": [
              "<div>\n",
              "<style scoped>\n",
              "    .dataframe tbody tr th:only-of-type {\n",
              "        vertical-align: middle;\n",
              "    }\n",
              "\n",
              "    .dataframe tbody tr th {\n",
              "        vertical-align: top;\n",
              "    }\n",
              "\n",
              "    .dataframe thead th {\n",
              "        text-align: right;\n",
              "    }\n",
              "</style>\n",
              "<table border=\"1\" class=\"dataframe\">\n",
              "  <thead>\n",
              "    <tr style=\"text-align: right;\">\n",
              "      <th></th>\n",
              "      <th>COD_DISTRITO</th>\n",
              "      <th>DESC_DISTRITO</th>\n",
              "      <th>COD_DIST_BARRIO</th>\n",
              "      <th>DESC_BARRIO</th>\n",
              "      <th>COD_BARRIO</th>\n",
              "      <th>COD_DIST_SECCION</th>\n",
              "      <th>COD_SECCION</th>\n",
              "      <th>COD_EDAD_INT</th>\n",
              "      <th>EspanolesHombres</th>\n",
              "      <th>EspanolesMujeres</th>\n",
              "      <th>ExtranjerosHombres</th>\n",
              "      <th>ExtranjerosMujeres</th>\n",
              "    </tr>\n",
              "  </thead>\n",
              "  <tbody>\n",
              "    <tr>\n",
              "      <th>0</th>\n",
              "      <td>1</td>\n",
              "      <td>CENTRO</td>\n",
              "      <td>101</td>\n",
              "      <td>PALACIO</td>\n",
              "      <td>1</td>\n",
              "      <td>1006</td>\n",
              "      <td>6</td>\n",
              "      <td>103</td>\n",
              "      <td>0</td>\n",
              "      <td>1</td>\n",
              "      <td>0</td>\n",
              "      <td>0</td>\n",
              "    </tr>\n",
              "    <tr>\n",
              "      <th>1</th>\n",
              "      <td>1</td>\n",
              "      <td>CENTRO</td>\n",
              "      <td>101</td>\n",
              "      <td>PALACIO</td>\n",
              "      <td>1</td>\n",
              "      <td>1007</td>\n",
              "      <td>7</td>\n",
              "      <td>0</td>\n",
              "      <td>1</td>\n",
              "      <td>1</td>\n",
              "      <td>0</td>\n",
              "      <td>3</td>\n",
              "    </tr>\n",
              "    <tr>\n",
              "      <th>2</th>\n",
              "      <td>1</td>\n",
              "      <td>CENTRO</td>\n",
              "      <td>101</td>\n",
              "      <td>PALACIO</td>\n",
              "      <td>1</td>\n",
              "      <td>1007</td>\n",
              "      <td>7</td>\n",
              "      <td>1</td>\n",
              "      <td>2</td>\n",
              "      <td>3</td>\n",
              "      <td>0</td>\n",
              "      <td>0</td>\n",
              "    </tr>\n",
              "    <tr>\n",
              "      <th>3</th>\n",
              "      <td>1</td>\n",
              "      <td>CENTRO</td>\n",
              "      <td>101</td>\n",
              "      <td>PALACIO</td>\n",
              "      <td>1</td>\n",
              "      <td>1007</td>\n",
              "      <td>7</td>\n",
              "      <td>2</td>\n",
              "      <td>1</td>\n",
              "      <td>4</td>\n",
              "      <td>0</td>\n",
              "      <td>0</td>\n",
              "    </tr>\n",
              "    <tr>\n",
              "      <th>4</th>\n",
              "      <td>1</td>\n",
              "      <td>CENTRO</td>\n",
              "      <td>101</td>\n",
              "      <td>PALACIO</td>\n",
              "      <td>1</td>\n",
              "      <td>1007</td>\n",
              "      <td>7</td>\n",
              "      <td>3</td>\n",
              "      <td>4</td>\n",
              "      <td>0</td>\n",
              "      <td>0</td>\n",
              "      <td>0</td>\n",
              "    </tr>\n",
              "  </tbody>\n",
              "</table>\n",
              "</div>"
            ]
          },
          "metadata": {
            "tags": []
          },
          "execution_count": 17
        }
      ]
    },
    {
      "cell_type": "markdown",
      "metadata": {
        "id": "WtMST1RTFVfO"
      },
      "source": [
        "### Eliminando columnas"
      ]
    },
    {
      "cell_type": "markdown",
      "metadata": {
        "id": "dwQMO1-U_CrD"
      },
      "source": [
        "Finalmente vamos a eliminar algunas columnas del DataFrame que no vamos a utilizar en este análisis. Para ello usaremos el método [`drop()`](https://koalas.readthedocs.io/en/latest/reference/api/databricks.koalas.DataFrame.drop.html?highlight=drop#databricks.koalas.DataFrame.drop). \r\n",
        "\r\n",
        "*Debes saber que actualmente en Koalas solo es válido para eliminar columnas (axis=1) y no filas (axis=0):*"
      ]
    },
    {
      "cell_type": "code",
      "metadata": {
        "id": "vDVPutioFYOR"
      },
      "source": [
        "# Eliminamos columnas del DataFrame de Koalas\r\n",
        "padron_KDF = padron_KDF.drop([\"COD_DISTRITO\", \"COD_BARRIO\", \"COD_DIST_BARRIO\", \"COD_DIST_SECCION\",\r\n",
        "                              \"COD_SECCION\"], axis=1)"
      ],
      "execution_count": 18,
      "outputs": []
    },
    {
      "cell_type": "code",
      "metadata": {
        "colab": {
          "base_uri": "https://localhost:8080/",
          "height": 195
        },
        "id": "Yp1_HRINGd2e",
        "outputId": "db750d53-a46b-4be3-ab93-8238fc07b4ee"
      },
      "source": [
        "padron_KDF.head()"
      ],
      "execution_count": 19,
      "outputs": [
        {
          "output_type": "execute_result",
          "data": {
            "text/plain": [
              "  DESC_DISTRITO DESC_BARRIO  COD_EDAD_INT  EspanolesHombres  EspanolesMujeres  ExtranjerosHombres  ExtranjerosMujeres\n",
              "0        CENTRO     PALACIO           103                 0                 1                   0                   0\n",
              "1        CENTRO     PALACIO             0                 1                 1                   0                   3\n",
              "2        CENTRO     PALACIO             1                 2                 3                   0                   0\n",
              "3        CENTRO     PALACIO             2                 1                 4                   0                   0\n",
              "4        CENTRO     PALACIO             3                 4                 0                   0                   0"
            ],
            "text/html": [
              "<div>\n",
              "<style scoped>\n",
              "    .dataframe tbody tr th:only-of-type {\n",
              "        vertical-align: middle;\n",
              "    }\n",
              "\n",
              "    .dataframe tbody tr th {\n",
              "        vertical-align: top;\n",
              "    }\n",
              "\n",
              "    .dataframe thead th {\n",
              "        text-align: right;\n",
              "    }\n",
              "</style>\n",
              "<table border=\"1\" class=\"dataframe\">\n",
              "  <thead>\n",
              "    <tr style=\"text-align: right;\">\n",
              "      <th></th>\n",
              "      <th>DESC_DISTRITO</th>\n",
              "      <th>DESC_BARRIO</th>\n",
              "      <th>COD_EDAD_INT</th>\n",
              "      <th>EspanolesHombres</th>\n",
              "      <th>EspanolesMujeres</th>\n",
              "      <th>ExtranjerosHombres</th>\n",
              "      <th>ExtranjerosMujeres</th>\n",
              "    </tr>\n",
              "  </thead>\n",
              "  <tbody>\n",
              "    <tr>\n",
              "      <th>0</th>\n",
              "      <td>CENTRO</td>\n",
              "      <td>PALACIO</td>\n",
              "      <td>103</td>\n",
              "      <td>0</td>\n",
              "      <td>1</td>\n",
              "      <td>0</td>\n",
              "      <td>0</td>\n",
              "    </tr>\n",
              "    <tr>\n",
              "      <th>1</th>\n",
              "      <td>CENTRO</td>\n",
              "      <td>PALACIO</td>\n",
              "      <td>0</td>\n",
              "      <td>1</td>\n",
              "      <td>1</td>\n",
              "      <td>0</td>\n",
              "      <td>3</td>\n",
              "    </tr>\n",
              "    <tr>\n",
              "      <th>2</th>\n",
              "      <td>CENTRO</td>\n",
              "      <td>PALACIO</td>\n",
              "      <td>1</td>\n",
              "      <td>2</td>\n",
              "      <td>3</td>\n",
              "      <td>0</td>\n",
              "      <td>0</td>\n",
              "    </tr>\n",
              "    <tr>\n",
              "      <th>3</th>\n",
              "      <td>CENTRO</td>\n",
              "      <td>PALACIO</td>\n",
              "      <td>2</td>\n",
              "      <td>1</td>\n",
              "      <td>4</td>\n",
              "      <td>0</td>\n",
              "      <td>0</td>\n",
              "    </tr>\n",
              "    <tr>\n",
              "      <th>4</th>\n",
              "      <td>CENTRO</td>\n",
              "      <td>PALACIO</td>\n",
              "      <td>3</td>\n",
              "      <td>4</td>\n",
              "      <td>0</td>\n",
              "      <td>0</td>\n",
              "      <td>0</td>\n",
              "    </tr>\n",
              "  </tbody>\n",
              "</table>\n",
              "</div>"
            ]
          },
          "metadata": {
            "tags": []
          },
          "execution_count": 19
        }
      ]
    },
    {
      "cell_type": "markdown",
      "metadata": {
        "id": "pXOWPrhLYJJ2"
      },
      "source": [
        "### Índices por defecto"
      ]
    },
    {
      "cell_type": "markdown",
      "metadata": {
        "id": "0pm79ZnSazqR"
      },
      "source": [
        "Si hasta ahora no te habías dado cuenta, cuando convertimos el DataFrame de PySpark a Koalas se añadió una columna nueva con un índice de la tabla:"
      ]
    },
    {
      "cell_type": "code",
      "metadata": {
        "colab": {
          "base_uri": "https://localhost:8080/",
          "height": 195
        },
        "id": "qf9IZwktqIhs",
        "outputId": "e8ebe33d-d020-4d90-b49c-822a3528c5ae"
      },
      "source": [
        "padron_KDF.head()"
      ],
      "execution_count": null,
      "outputs": [
        {
          "output_type": "execute_result",
          "data": {
            "text/plain": [
              "  DESC_DISTRITO DESC_BARRIO  COD_EDAD_INT  EspanolesHombres  EspanolesMujeres  ExtranjerosHombres  ExtranjerosMujeres\n",
              "0        CENTRO     PALACIO           103                 0                 1                   0                   0\n",
              "1        CENTRO     PALACIO             0                 1                 1                   0                   3\n",
              "2        CENTRO     PALACIO             1                 2                 3                   0                   0\n",
              "3        CENTRO     PALACIO             2                 1                 4                   0                   0\n",
              "4        CENTRO     PALACIO             3                 4                 0                   0                   0"
            ],
            "text/html": [
              "<div>\n",
              "<style scoped>\n",
              "    .dataframe tbody tr th:only-of-type {\n",
              "        vertical-align: middle;\n",
              "    }\n",
              "\n",
              "    .dataframe tbody tr th {\n",
              "        vertical-align: top;\n",
              "    }\n",
              "\n",
              "    .dataframe thead th {\n",
              "        text-align: right;\n",
              "    }\n",
              "</style>\n",
              "<table border=\"1\" class=\"dataframe\">\n",
              "  <thead>\n",
              "    <tr style=\"text-align: right;\">\n",
              "      <th></th>\n",
              "      <th>DESC_DISTRITO</th>\n",
              "      <th>DESC_BARRIO</th>\n",
              "      <th>COD_EDAD_INT</th>\n",
              "      <th>EspanolesHombres</th>\n",
              "      <th>EspanolesMujeres</th>\n",
              "      <th>ExtranjerosHombres</th>\n",
              "      <th>ExtranjerosMujeres</th>\n",
              "    </tr>\n",
              "  </thead>\n",
              "  <tbody>\n",
              "    <tr>\n",
              "      <th>0</th>\n",
              "      <td>CENTRO</td>\n",
              "      <td>PALACIO</td>\n",
              "      <td>103</td>\n",
              "      <td>0</td>\n",
              "      <td>1</td>\n",
              "      <td>0</td>\n",
              "      <td>0</td>\n",
              "    </tr>\n",
              "    <tr>\n",
              "      <th>1</th>\n",
              "      <td>CENTRO</td>\n",
              "      <td>PALACIO</td>\n",
              "      <td>0</td>\n",
              "      <td>1</td>\n",
              "      <td>1</td>\n",
              "      <td>0</td>\n",
              "      <td>3</td>\n",
              "    </tr>\n",
              "    <tr>\n",
              "      <th>2</th>\n",
              "      <td>CENTRO</td>\n",
              "      <td>PALACIO</td>\n",
              "      <td>1</td>\n",
              "      <td>2</td>\n",
              "      <td>3</td>\n",
              "      <td>0</td>\n",
              "      <td>0</td>\n",
              "    </tr>\n",
              "    <tr>\n",
              "      <th>3</th>\n",
              "      <td>CENTRO</td>\n",
              "      <td>PALACIO</td>\n",
              "      <td>2</td>\n",
              "      <td>1</td>\n",
              "      <td>4</td>\n",
              "      <td>0</td>\n",
              "      <td>0</td>\n",
              "    </tr>\n",
              "    <tr>\n",
              "      <th>4</th>\n",
              "      <td>CENTRO</td>\n",
              "      <td>PALACIO</td>\n",
              "      <td>3</td>\n",
              "      <td>4</td>\n",
              "      <td>0</td>\n",
              "      <td>0</td>\n",
              "      <td>0</td>\n",
              "    </tr>\n",
              "  </tbody>\n",
              "</table>\n",
              "</div>"
            ]
          },
          "metadata": {
            "tags": []
          },
          "execution_count": 32
        }
      ]
    },
    {
      "cell_type": "code",
      "metadata": {
        "colab": {
          "base_uri": "https://localhost:8080/"
        },
        "id": "wrJy929jBP8t",
        "outputId": "7e11cefe-435f-444e-ee15-b25697ac8eb6"
      },
      "source": [
        "# Para acceder al index se usa el atributo index\r\n",
        "padron_KDF.index"
      ],
      "execution_count": null,
      "outputs": [
        {
          "output_type": "execute_result",
          "data": {
            "text/plain": [
              "Int64Index([  0,   1,   2,   3,   4,   5,   6,   7,   8,   9,\n",
              "            ...\n",
              "            990, 991, 992, 993, 994, 995, 996, 997, 998, 999],\n",
              "           dtype='int64', length=1000)\n",
              "Showing only the first 1000"
            ]
          },
          "metadata": {
            "tags": []
          },
          "execution_count": 27
        }
      ]
    },
    {
      "cell_type": "markdown",
      "metadata": {
        "id": "BRhD41iDqLDu"
      },
      "source": [
        "Al igual que en Pandas mediante el índice podremos seleccionar especificas filas de nuestro DataFrame mediante los métodos `iloc()` y `loc` (más info [aquí](https://www.geeksforgeeks.org/difference-between-loc-and-iloc-in-pandas-dataframe/)):"
      ]
    },
    {
      "cell_type": "code",
      "metadata": {
        "id": "nKiRvkLipl06",
        "colab": {
          "base_uri": "https://localhost:8080/",
          "height": 166
        },
        "outputId": "8a3e224d-d7e0-45a1-a2cf-3c83c4947eeb"
      },
      "source": [
        "padron_KDF.loc[5:8, [\"DESC_DISTRITO\", \"DESC_BARRIO\"]]"
      ],
      "execution_count": null,
      "outputs": [
        {
          "output_type": "execute_result",
          "data": {
            "text/plain": [
              "  DESC_DISTRITO DESC_BARRIO\n",
              "5        CENTRO     PALACIO\n",
              "6        CENTRO     PALACIO\n",
              "7        CENTRO     PALACIO\n",
              "8        CENTRO     PALACIO"
            ],
            "text/html": [
              "<div>\n",
              "<style scoped>\n",
              "    .dataframe tbody tr th:only-of-type {\n",
              "        vertical-align: middle;\n",
              "    }\n",
              "\n",
              "    .dataframe tbody tr th {\n",
              "        vertical-align: top;\n",
              "    }\n",
              "\n",
              "    .dataframe thead th {\n",
              "        text-align: right;\n",
              "    }\n",
              "</style>\n",
              "<table border=\"1\" class=\"dataframe\">\n",
              "  <thead>\n",
              "    <tr style=\"text-align: right;\">\n",
              "      <th></th>\n",
              "      <th>DESC_DISTRITO</th>\n",
              "      <th>DESC_BARRIO</th>\n",
              "    </tr>\n",
              "  </thead>\n",
              "  <tbody>\n",
              "    <tr>\n",
              "      <th>5</th>\n",
              "      <td>CENTRO</td>\n",
              "      <td>PALACIO</td>\n",
              "    </tr>\n",
              "    <tr>\n",
              "      <th>6</th>\n",
              "      <td>CENTRO</td>\n",
              "      <td>PALACIO</td>\n",
              "    </tr>\n",
              "    <tr>\n",
              "      <th>7</th>\n",
              "      <td>CENTRO</td>\n",
              "      <td>PALACIO</td>\n",
              "    </tr>\n",
              "    <tr>\n",
              "      <th>8</th>\n",
              "      <td>CENTRO</td>\n",
              "      <td>PALACIO</td>\n",
              "    </tr>\n",
              "  </tbody>\n",
              "</table>\n",
              "</div>"
            ]
          },
          "metadata": {
            "tags": []
          },
          "execution_count": 33
        }
      ]
    },
    {
      "cell_type": "code",
      "metadata": {
        "colab": {
          "base_uri": "https://localhost:8080/",
          "height": 136
        },
        "id": "krSmDDbwaKHm",
        "outputId": "c208c397-b46d-4228-e412-027a868174f3"
      },
      "source": [
        "padron_KDF.iloc[5:8]"
      ],
      "execution_count": null,
      "outputs": [
        {
          "output_type": "execute_result",
          "data": {
            "text/plain": [
              "  DESC_DISTRITO DESC_BARRIO  COD_EDAD_INT  EspanolesHombres  EspanolesMujeres  ExtranjerosHombres  ExtranjerosMujeres\n",
              "5        CENTRO     PALACIO             4                 1                 2                   0                   1\n",
              "6        CENTRO     PALACIO             5                 2                 6                   0                   0\n",
              "7        CENTRO     PALACIO             6                 1                 0                   0                   0"
            ],
            "text/html": [
              "<div>\n",
              "<style scoped>\n",
              "    .dataframe tbody tr th:only-of-type {\n",
              "        vertical-align: middle;\n",
              "    }\n",
              "\n",
              "    .dataframe tbody tr th {\n",
              "        vertical-align: top;\n",
              "    }\n",
              "\n",
              "    .dataframe thead th {\n",
              "        text-align: right;\n",
              "    }\n",
              "</style>\n",
              "<table border=\"1\" class=\"dataframe\">\n",
              "  <thead>\n",
              "    <tr style=\"text-align: right;\">\n",
              "      <th></th>\n",
              "      <th>DESC_DISTRITO</th>\n",
              "      <th>DESC_BARRIO</th>\n",
              "      <th>COD_EDAD_INT</th>\n",
              "      <th>EspanolesHombres</th>\n",
              "      <th>EspanolesMujeres</th>\n",
              "      <th>ExtranjerosHombres</th>\n",
              "      <th>ExtranjerosMujeres</th>\n",
              "    </tr>\n",
              "  </thead>\n",
              "  <tbody>\n",
              "    <tr>\n",
              "      <th>5</th>\n",
              "      <td>CENTRO</td>\n",
              "      <td>PALACIO</td>\n",
              "      <td>4</td>\n",
              "      <td>1</td>\n",
              "      <td>2</td>\n",
              "      <td>0</td>\n",
              "      <td>1</td>\n",
              "    </tr>\n",
              "    <tr>\n",
              "      <th>6</th>\n",
              "      <td>CENTRO</td>\n",
              "      <td>PALACIO</td>\n",
              "      <td>5</td>\n",
              "      <td>2</td>\n",
              "      <td>6</td>\n",
              "      <td>0</td>\n",
              "      <td>0</td>\n",
              "    </tr>\n",
              "    <tr>\n",
              "      <th>7</th>\n",
              "      <td>CENTRO</td>\n",
              "      <td>PALACIO</td>\n",
              "      <td>6</td>\n",
              "      <td>1</td>\n",
              "      <td>0</td>\n",
              "      <td>0</td>\n",
              "      <td>0</td>\n",
              "    </tr>\n",
              "  </tbody>\n",
              "</table>\n",
              "</div>"
            ]
          },
          "metadata": {
            "tags": []
          },
          "execution_count": 34
        }
      ]
    },
    {
      "cell_type": "markdown",
      "metadata": {
        "id": "RuWPm_kjNaM5"
      },
      "source": [
        "Este índice se crea por defecto en una nueva columna cuando convertimos un DataFrame de PySpark a Koalas sino se especifica la columna usada como índice con el parámetro `index_col`.\r\n",
        "\r\n",
        "Si el dataset es muy grande la creación de una nueva columna puede afectar al rendimiento, por este motivo, se recomienda especificar el índice al convertir desde un DataFrame de PySpark.\r\n",
        "\r\n",
        "Por ejemplo, podríamos haber indicado que la columna `COD_DISTRITO` fuera el índice del DataFrame en Koala:"
      ]
    },
    {
      "cell_type": "code",
      "metadata": {
        "id": "z-gD_-iMSMvC"
      },
      "source": [
        "#padron_SDF.to_koalas(index_col=\"COD_DISTRITO\").head()"
      ],
      "execution_count": null,
      "outputs": []
    },
    {
      "cell_type": "code",
      "metadata": {
        "id": "IU6HNV14cP4B"
      },
      "source": [
        "# When going back to a PySpark DataFrame, we also use the index_col parameter \r\n",
        "# to preserve the index columns.\r\n",
        "#padron_raw_KDF.to_spark(index_col='index').show(5)"
      ],
      "execution_count": null,
      "outputs": []
    },
    {
      "cell_type": "markdown",
      "metadata": {
        "id": "t8e-2dT9SbeD"
      },
      "source": [
        "En Koalas hay 3 tipos de índice por defecto: **secuencial**, **distribuido-secuencial** y **distribuido**.\r\n",
        "\r\n",
        "Cuando convertimos un DataFrame a Koalas, se utiliza por defecto el índice secuencial pero se puede configurar otro tipo mediante la instrucción:\r\n",
        "\r\n",
        "`ks.set_option('compute.default_index_type', 'sequence')` o `ks.options.compute.default_index_type = 'sequence'`\r\n",
        "\r\n",
        "En este ejemplo se ha utilizado el **índice secuencial** que implementa una secuencia incremental de uno en uno.\r\n",
        "\r\n",
        "Sin embargo, utiliza internamente una función de ventana no particionada de PySpark, lo que significa que todos los datos deben ser recogidos en un solo nodo. \r\n",
        "\r\n",
        "Si el nodo no tiene suficiente memoria, el rendimiento se degradará significativamente o se producirá un error por falta de memoria (OutOfMemoryError).\r\n",
        "\r\n",
        "Por esta razón si trabajamos con datasets de mayor tamaño se recomienda utilizar un índice **secuencial-distribuido** o **distribuido**.\r\n",
        "\r\n",
        "Cada tipo de índice tiene distintas características y limitaciones que pueden afectar al rendimiento por esta razón recomendamos leer la [documentación oficial](https://koalas.readthedocs.io/en/latest/user_guide/options.html#default-index-type) de Koalas para saber cuál escoger en cada situación.\r\n",
        "\r\n",
        "En la siguiente tabla podemos ver una comparativa rápida:\r\n",
        "\r\n",
        "|                      | Distributed computation     | Map-side operation                  | Continuous increment | Performance           |\r\n",
        "|----------------------|-----------------------------|-------------------------------------|----------------------|-----------------------|\r\n",
        "| sequence             | No, in a single worker node | No, requires a shuffle              | Yes                  | Bad for large dataset |\r\n",
        "| distributed-sequence | Yes                         | Yes, but requires another Spark job | Yes, in most cases   | Good enough           |\r\n",
        "| distributed          | Yes                         | Yes                                 | No                   | Good                  |"
      ]
    },
    {
      "cell_type": "code",
      "metadata": {
        "id": "FLm-YTJPliLk"
      },
      "source": [
        "# Creamos DataFrame en Spark con 100M filas\r\n",
        "#big_spark_DF2 = spark.range(10**10)"
      ],
      "execution_count": null,
      "outputs": []
    },
    {
      "cell_type": "code",
      "metadata": {
        "id": "3NhdGxGPosm3"
      },
      "source": [
        "#ks.set_option('compute.default_index_type', 'distributed-sequence')\r\n",
        "#kdf = big_spark_DF2.to_koalas()\r\n",
        "#ks.reset_option('compute.default_index_type')"
      ],
      "execution_count": null,
      "outputs": []
    },
    {
      "cell_type": "markdown",
      "metadata": {
        "id": "okO-Ez3fJDuU"
      },
      "source": [
        "### Respondiendo a las preguntas iniciales"
      ]
    },
    {
      "cell_type": "markdown",
      "metadata": {
        "id": "zC3CvjkXTbeh"
      },
      "source": [
        "#### Número de barrios por distrito"
      ]
    },
    {
      "cell_type": "code",
      "metadata": {
        "colab": {
          "base_uri": "https://localhost:8080/"
        },
        "id": "QpH0sfqkTgHo",
        "outputId": "90ec290a-a55d-4eaf-b7e8-3c7f1e93db5c"
      },
      "source": [
        "# PySpark\r\n",
        "padron_SDF.groupBy(\"distrito\").agg(\r\n",
        "    (F.countDistinct(\"barrio\")).alias(\"total_barrios\"))\\\r\n",
        "    .orderBy(\"total_barrios\", ascending=False)\\\r\n",
        "    .show()"
      ],
      "execution_count": 20,
      "outputs": [
        {
          "output_type": "stream",
          "text": [
            "+-------------------+-------------+\n",
            "|           distrito|total_barrios|\n",
            "+-------------------+-------------+\n",
            "|      CIUDAD LINEAL|            9|\n",
            "|FUENCARRAL-EL PARDO|            8|\n",
            "|             LATINA|            8|\n",
            "|SAN BLAS-CANILLEJAS|            8|\n",
            "|    MONCLOA-ARAVACA|            7|\n",
            "|        CARABANCHEL|            7|\n",
            "|             TETUAN|            7|\n",
            "|              USERA|            7|\n",
            "|         ARGANZUELA|            7|\n",
            "|          SALAMANCA|            6|\n",
            "|             RETIRO|            6|\n",
            "|             CENTRO|            6|\n",
            "| PUENTE DE VALLECAS|            6|\n",
            "|          HORTALEZA|            6|\n",
            "|           CHAMBERI|            6|\n",
            "|          MORATALAZ|            6|\n",
            "|          CHAMARTIN|            6|\n",
            "|            BARAJAS|            5|\n",
            "|         VILLAVERDE|            5|\n",
            "|          VICALVARO|            4|\n",
            "+-------------------+-------------+\n",
            "only showing top 20 rows\n",
            "\n"
          ],
          "name": "stdout"
        }
      ]
    },
    {
      "cell_type": "code",
      "metadata": {
        "colab": {
          "base_uri": "https://localhost:8080/"
        },
        "id": "5KhGWXNrUf-Z",
        "outputId": "6c5d236c-9b93-420e-95f0-42a7b5aca7dc"
      },
      "source": [
        "# Koalas\r\n",
        "padron_KDF.groupby(\"DESC_DISTRITO\")[\"DESC_BARRIO\"].nunique().sort_values(ascending=False)"
      ],
      "execution_count": 21,
      "outputs": [
        {
          "output_type": "execute_result",
          "data": {
            "text/plain": [
              "DESC_DISTRITO\n",
              "CIUDAD LINEAL          9\n",
              "FUENCARRAL-EL PARDO    8\n",
              "LATINA                 8\n",
              "SAN BLAS-CANILLEJAS    8\n",
              "ARGANZUELA             7\n",
              "TETUAN                 7\n",
              "MONCLOA-ARAVACA        7\n",
              "CARABANCHEL            7\n",
              "USERA                  7\n",
              "CENTRO                 6\n",
              "RETIRO                 6\n",
              "SALAMANCA              6\n",
              "CHAMARTIN              6\n",
              "CHAMBERI               6\n",
              "PUENTE DE VALLECAS     6\n",
              "MORATALAZ              6\n",
              "HORTALEZA              6\n",
              "VILLAVERDE             5\n",
              "BARAJAS                5\n",
              "VICALVARO              4\n",
              "VILLA DE VALLECAS      3\n",
              "Name: DESC_BARRIO, dtype: int64"
            ]
          },
          "metadata": {
            "tags": []
          },
          "execution_count": 21
        }
      ]
    },
    {
      "cell_type": "markdown",
      "metadata": {
        "id": "bjnlTFoEXN6g"
      },
      "source": [
        "#### Edad media por barrio"
      ]
    },
    {
      "cell_type": "code",
      "metadata": {
        "colab": {
          "base_uri": "https://localhost:8080/"
        },
        "id": "LRnUeBJcXT93",
        "outputId": "24e2970e-b0c7-4923-c774-7c448d9fe4f0"
      },
      "source": [
        "# PySpark\r\n",
        "(padron_SDF\r\n",
        " .select(\"barrio\", \"cod_edad_int\")\r\n",
        " .groupBy(\"barrio\")\r\n",
        " .agg((F.round(F.avg(\"cod_edad_int\"),2)).alias(\"avg_edad\"))\r\n",
        " .orderBy(\"avg_edad\", ascending=False)\r\n",
        " .show(10)\r\n",
        ")"
      ],
      "execution_count": null,
      "outputs": [
        {
          "output_type": "stream",
          "text": [
            "+--------------+--------+\n",
            "|        barrio|avg_edad|\n",
            "+--------------+--------+\n",
            "|    EL PLANTIO|   50.05|\n",
            "|HISPANOAMERICA|    49.7|\n",
            "|    GAZTAMBIDE|   49.52|\n",
            "|       ALMAGRO|   49.49|\n",
            "|    RIOS ROSAS|   49.45|\n",
            "|  VALLEHERMOSO|   49.42|\n",
            "| CASA DE CAMPO|   49.39|\n",
            "|    CONCEPCION|   49.38|\n",
            "|         IBIZA|    49.3|\n",
            "|     ARGUELLES|    49.2|\n",
            "+--------------+--------+\n",
            "only showing top 10 rows\n",
            "\n"
          ],
          "name": "stdout"
        }
      ]
    },
    {
      "cell_type": "code",
      "metadata": {
        "colab": {
          "base_uri": "https://localhost:8080/",
          "height": 225
        },
        "id": "zMZ8J9-ACwxu",
        "outputId": "4442cba8-e112-43eb-c531-3b6a96af8828"
      },
      "source": [
        "# Koalas\r\n",
        "padron_KDF[[\"DESC_BARRIO\", \"COD_EDAD_INT\"]].groupby(\"DESC_BARRIO\")\\\r\n",
        "  .mean().sort_values(\"COD_EDAD_INT\", ascending=False)\\\r\n",
        "  .head()"
      ],
      "execution_count": 25,
      "outputs": [
        {
          "output_type": "execute_result",
          "data": {
            "text/plain": [
              "                COD_EDAD_INT\n",
              "DESC_BARRIO                 \n",
              "EL PLANTIO         50.049505\n",
              "HISPANOAMERICA     49.702471\n",
              "GAZTAMBIDE         49.522830\n",
              "ALMAGRO            49.486592\n",
              "RIOS ROSAS         49.450068"
            ],
            "text/html": [
              "<div>\n",
              "<style scoped>\n",
              "    .dataframe tbody tr th:only-of-type {\n",
              "        vertical-align: middle;\n",
              "    }\n",
              "\n",
              "    .dataframe tbody tr th {\n",
              "        vertical-align: top;\n",
              "    }\n",
              "\n",
              "    .dataframe thead th {\n",
              "        text-align: right;\n",
              "    }\n",
              "</style>\n",
              "<table border=\"1\" class=\"dataframe\">\n",
              "  <thead>\n",
              "    <tr style=\"text-align: right;\">\n",
              "      <th></th>\n",
              "      <th>COD_EDAD_INT</th>\n",
              "    </tr>\n",
              "    <tr>\n",
              "      <th>DESC_BARRIO</th>\n",
              "      <th></th>\n",
              "    </tr>\n",
              "  </thead>\n",
              "  <tbody>\n",
              "    <tr>\n",
              "      <th>EL PLANTIO</th>\n",
              "      <td>50.049505</td>\n",
              "    </tr>\n",
              "    <tr>\n",
              "      <th>HISPANOAMERICA</th>\n",
              "      <td>49.702471</td>\n",
              "    </tr>\n",
              "    <tr>\n",
              "      <th>GAZTAMBIDE</th>\n",
              "      <td>49.522830</td>\n",
              "    </tr>\n",
              "    <tr>\n",
              "      <th>ALMAGRO</th>\n",
              "      <td>49.486592</td>\n",
              "    </tr>\n",
              "    <tr>\n",
              "      <th>RIOS ROSAS</th>\n",
              "      <td>49.450068</td>\n",
              "    </tr>\n",
              "  </tbody>\n",
              "</table>\n",
              "</div>"
            ]
          },
          "metadata": {
            "tags": []
          },
          "execution_count": 25
        }
      ]
    },
    {
      "cell_type": "markdown",
      "metadata": {
        "id": "dC43FrbTQNSs"
      },
      "source": [
        "#### Porcentaje de habitantes por distrito y barrio (*?)"
      ]
    },
    {
      "cell_type": "code",
      "metadata": {
        "colab": {
          "base_uri": "https://localhost:8080/"
        },
        "id": "gmWZUI0rQVDq",
        "outputId": "c84a7608-508a-485e-abb0-72e4c671ebf3"
      },
      "source": [
        "# PySpark\r\n",
        "padron_SDF = (padron_SDF\r\n",
        "                .withColumn('total_esp', F.col('espanoleshombres') + F.col('espanolesmujeres'))\r\n",
        "                .withColumn('total_ext', F.col('extranjeroshombres') + F.col('extranjerosmujeres'))\r\n",
        "                .withColumn('total', F.col('total_esp') + F.col('total_ext'))\r\n",
        "               )\r\n",
        "\r\n",
        "padronSDF_grouped = padron_SDF.groupby('distrito','barrio')\\\r\n",
        "    .agg(\r\n",
        "            (F.round(100 * F.sum('total_esp') / F.sum('total'), 2)).alias('pct_esp'),\r\n",
        "            (F.round(100 * F.sum('total_ext') / F.sum('total'), 2)).alias('pct_ext')\r\n",
        "    )\\\r\n",
        "    .orderBy('pct_ext', ascending=False)\r\n",
        "\r\n",
        "padronSDF_grouped.show(10)"
      ],
      "execution_count": null,
      "outputs": [
        {
          "output_type": "stream",
          "text": [
            "+------------------+-------------+-------+-------+\n",
            "|          distrito|       barrio|pct_esp|pct_ext|\n",
            "+------------------+-------------+-------+-------+\n",
            "|             USERA|   PRADOLONGO|  62.16|  37.84|\n",
            "|        VILLAVERDE|SAN CRISTOBAL|  63.52|  36.48|\n",
            "|PUENTE DE VALLECAS|    SAN DIEGO|  67.14|  32.86|\n",
            "|            CENTRO|          SOL|  68.02|  31.98|\n",
            "|             USERA|     MOSCARDO|  70.23|  29.77|\n",
            "|            CENTRO|  EMBAJADORES|   70.5|   29.5|\n",
            "|             USERA|  ALMENDRALES|  70.64|  29.36|\n",
            "|             USERA|        ZOFIO|  72.95|  27.05|\n",
            "|            CENTRO|       CORTES|  74.14|  25.86|\n",
            "|       CARABANCHEL|PUERTA BONITA|  74.34|  25.66|\n",
            "+------------------+-------------+-------+-------+\n",
            "only showing top 10 rows\n",
            "\n"
          ],
          "name": "stdout"
        }
      ]
    },
    {
      "cell_type": "code",
      "metadata": {
        "id": "6fxbEAjtJGD2"
      },
      "source": [
        "# Koalas\r\n",
        "#padron_KDF[\"total_esp\"] = padron_KDF[\"EspanolesHombres\"] + padron_KDF[\"EspanolesMujeres\"]\r\n",
        "#padron_KDF[\"total_ext\"] = padron_KDF[\"ExtranjerosHombres\"] + padron_KDF[\"ExtranjerosMujeres\"]\r\n",
        "#padron_KDF[\"total\"] = padron_KDF[\"total_esp\"] + padron_KDF[\"total_ext\"]\r\n",
        "\r\n",
        "# padron_KDF.iloc[:, 3:7].sum(axis=1) investigar (*?)\r\n",
        "\r\n",
        "#padron_KDF.head()"
      ],
      "execution_count": null,
      "outputs": []
    },
    {
      "cell_type": "code",
      "metadata": {
        "id": "lGosnUOAKMJR"
      },
      "source": [
        "#padron_KDF.groupby([\"DESC_DISTRITO\", \"DESC_BARRIO\"]).agg({\"total_esp\":\"sum\"}, {\"total_ext\":\"sum\"})\r\n",
        "#investigar (*')\r\n",
        "\r\n",
        "#https://stackoverflow.com/questions/23377108/pandas-percentage-of-total-with-groupby"
      ],
      "execution_count": null,
      "outputs": []
    },
    {
      "cell_type": "markdown",
      "metadata": {
        "id": "9MwymZAv6Zk1"
      },
      "source": [
        "## Ejercicios usando Koalas"
      ]
    },
    {
      "cell_type": "markdown",
      "metadata": {
        "id": "O519d3mmCAyP"
      },
      "source": [
        "A continuación vamos a realizar una serie de ejercicios utilizando Koalas con nuestro dataset de padrón ya limpio:"
      ]
    },
    {
      "cell_type": "code",
      "metadata": {
        "colab": {
          "base_uri": "https://localhost:8080/",
          "height": 215
        },
        "id": "LCwgwdQHCPcT",
        "outputId": "cbacb14d-d425-4dad-eb9f-2ddd64aaba6a"
      },
      "source": [
        "padron_KDF.head()"
      ],
      "execution_count": null,
      "outputs": [
        {
          "output_type": "execute_result",
          "data": {
            "text/plain": [
              "  DESC_DISTRITO DESC_BARRIO  COD_EDAD_INT  EspanolesHombres  EspanolesMujeres  ExtranjerosHombres  ExtranjerosMujeres  total_esp  total_ext  total\n",
              "0        CENTRO     PALACIO           103                 0                 1                   0                   0          1          0      1\n",
              "1        CENTRO     PALACIO             0                 1                 1                   0                   3          2          3      5\n",
              "2        CENTRO     PALACIO             1                 2                 3                   0                   0          5          0      5\n",
              "3        CENTRO     PALACIO             2                 1                 4                   0                   0          5          0      5\n",
              "4        CENTRO     PALACIO             3                 4                 0                   0                   0          4          0      4"
            ],
            "text/html": [
              "<div>\n",
              "<style scoped>\n",
              "    .dataframe tbody tr th:only-of-type {\n",
              "        vertical-align: middle;\n",
              "    }\n",
              "\n",
              "    .dataframe tbody tr th {\n",
              "        vertical-align: top;\n",
              "    }\n",
              "\n",
              "    .dataframe thead th {\n",
              "        text-align: right;\n",
              "    }\n",
              "</style>\n",
              "<table border=\"1\" class=\"dataframe\">\n",
              "  <thead>\n",
              "    <tr style=\"text-align: right;\">\n",
              "      <th></th>\n",
              "      <th>DESC_DISTRITO</th>\n",
              "      <th>DESC_BARRIO</th>\n",
              "      <th>COD_EDAD_INT</th>\n",
              "      <th>EspanolesHombres</th>\n",
              "      <th>EspanolesMujeres</th>\n",
              "      <th>ExtranjerosHombres</th>\n",
              "      <th>ExtranjerosMujeres</th>\n",
              "      <th>total_esp</th>\n",
              "      <th>total_ext</th>\n",
              "      <th>total</th>\n",
              "    </tr>\n",
              "  </thead>\n",
              "  <tbody>\n",
              "    <tr>\n",
              "      <th>0</th>\n",
              "      <td>CENTRO</td>\n",
              "      <td>PALACIO</td>\n",
              "      <td>103</td>\n",
              "      <td>0</td>\n",
              "      <td>1</td>\n",
              "      <td>0</td>\n",
              "      <td>0</td>\n",
              "      <td>1</td>\n",
              "      <td>0</td>\n",
              "      <td>1</td>\n",
              "    </tr>\n",
              "    <tr>\n",
              "      <th>1</th>\n",
              "      <td>CENTRO</td>\n",
              "      <td>PALACIO</td>\n",
              "      <td>0</td>\n",
              "      <td>1</td>\n",
              "      <td>1</td>\n",
              "      <td>0</td>\n",
              "      <td>3</td>\n",
              "      <td>2</td>\n",
              "      <td>3</td>\n",
              "      <td>5</td>\n",
              "    </tr>\n",
              "    <tr>\n",
              "      <th>2</th>\n",
              "      <td>CENTRO</td>\n",
              "      <td>PALACIO</td>\n",
              "      <td>1</td>\n",
              "      <td>2</td>\n",
              "      <td>3</td>\n",
              "      <td>0</td>\n",
              "      <td>0</td>\n",
              "      <td>5</td>\n",
              "      <td>0</td>\n",
              "      <td>5</td>\n",
              "    </tr>\n",
              "    <tr>\n",
              "      <th>3</th>\n",
              "      <td>CENTRO</td>\n",
              "      <td>PALACIO</td>\n",
              "      <td>2</td>\n",
              "      <td>1</td>\n",
              "      <td>4</td>\n",
              "      <td>0</td>\n",
              "      <td>0</td>\n",
              "      <td>5</td>\n",
              "      <td>0</td>\n",
              "      <td>5</td>\n",
              "    </tr>\n",
              "    <tr>\n",
              "      <th>4</th>\n",
              "      <td>CENTRO</td>\n",
              "      <td>PALACIO</td>\n",
              "      <td>3</td>\n",
              "      <td>4</td>\n",
              "      <td>0</td>\n",
              "      <td>0</td>\n",
              "      <td>0</td>\n",
              "      <td>4</td>\n",
              "      <td>0</td>\n",
              "      <td>4</td>\n",
              "    </tr>\n",
              "  </tbody>\n",
              "</table>\n",
              "</div>"
            ]
          },
          "metadata": {
            "tags": []
          },
          "execution_count": 88
        }
      ]
    },
    {
      "cell_type": "markdown",
      "metadata": {
        "id": "ad8IcYQ-7pWo"
      },
      "source": [
        "Enumera todos los barrios diferentes:\r\n"
      ]
    },
    {
      "cell_type": "code",
      "metadata": {
        "id": "nCpHbYBI97RM"
      },
      "source": [
        "# PySpark\r\n",
        "# padron_SDF.select(\"DESC_BARRIO\").distinct().show()"
      ],
      "execution_count": null,
      "outputs": []
    },
    {
      "cell_type": "code",
      "metadata": {
        "colab": {
          "base_uri": "https://localhost:8080/"
        },
        "id": "xRopLHpw6fyv",
        "outputId": "6eb2aac2-0f8c-49b8-aada-79a97fee2c56"
      },
      "source": [
        "# Número de barrios en Madrid\r\n",
        "padron_KDF[\"DESC_BARRIO\"].unique().count()"
      ],
      "execution_count": null,
      "outputs": [
        {
          "output_type": "execute_result",
          "data": {
            "text/plain": [
              "132"
            ]
          },
          "metadata": {
            "tags": []
          },
          "execution_count": 105
        }
      ]
    },
    {
      "cell_type": "code",
      "metadata": {
        "colab": {
          "base_uri": "https://localhost:8080/"
        },
        "id": "cszvtn6GDFp5",
        "outputId": "504cac4c-8484-4f85-f75d-cd7e80e8618e"
      },
      "source": [
        "# Barrios con más registros\r\n",
        "padron_KDF[\"DESC_BARRIO\"].value_counts(ascending=False).head()"
      ],
      "execution_count": null,
      "outputs": [
        {
          "output_type": "execute_result",
          "data": {
            "text/plain": [
              "ALUCHE           5751\n",
              "PUEBLO NUEVO     4493\n",
              "EL PILAR         4357\n",
              "LAS AGUILAS      4082\n",
              "PINAR DEL REY    4072\n",
              "Name: DESC_BARRIO, dtype: int64"
            ]
          },
          "metadata": {
            "tags": []
          },
          "execution_count": 104
        }
      ]
    },
    {
      "cell_type": "markdown",
      "metadata": {
        "id": "ZtHFdscM-ql5"
      },
      "source": [
        "Crea una vista temporal de nombre \"padron\" y a través de ella cuenta el número de barrios diferentes que hay."
      ]
    },
    {
      "cell_type": "code",
      "metadata": {
        "id": "VX8dN27VQDLt"
      },
      "source": [
        "# Vista temporal creada con PySpark\r\n",
        "padron_SDF.createOrReplaceTempView(\"padron\")"
      ],
      "execution_count": null,
      "outputs": []
    },
    {
      "cell_type": "code",
      "metadata": {
        "id": "2lP96_fa-p4Q"
      },
      "source": [
        "ks.sql(\"SHOW TABLES\")"
      ],
      "execution_count": null,
      "outputs": []
    },
    {
      "cell_type": "code",
      "metadata": {
        "colab": {
          "base_uri": "https://localhost:8080/",
          "height": 195
        },
        "id": "IAw2wrl_Qol5",
        "outputId": "02a2d4ff-b7d0-480e-fed4-41550056a8d8"
      },
      "source": [
        "barrios_madrid = ks.sql(\"SELECT DISTINCT(DESC_BARRIO) AS Barrios_Madrid FROM padron\")\r\n",
        "\r\n",
        "barrios_madrid.head()"
      ],
      "execution_count": null,
      "outputs": [
        {
          "output_type": "execute_result",
          "data": {
            "text/html": [
              "<div>\n",
              "<style scoped>\n",
              "    .dataframe tbody tr th:only-of-type {\n",
              "        vertical-align: middle;\n",
              "    }\n",
              "\n",
              "    .dataframe tbody tr th {\n",
              "        vertical-align: top;\n",
              "    }\n",
              "\n",
              "    .dataframe thead th {\n",
              "        text-align: right;\n",
              "    }\n",
              "</style>\n",
              "<table border=\"1\" class=\"dataframe\">\n",
              "  <thead>\n",
              "    <tr style=\"text-align: right;\">\n",
              "      <th></th>\n",
              "      <th>Barrios_Madrid</th>\n",
              "    </tr>\n",
              "  </thead>\n",
              "  <tbody>\n",
              "    <tr>\n",
              "      <th>0</th>\n",
              "      <td>EMBAJADORES</td>\n",
              "    </tr>\n",
              "    <tr>\n",
              "      <th>1</th>\n",
              "      <td>SANTA EUGENIA</td>\n",
              "    </tr>\n",
              "    <tr>\n",
              "      <th>2</th>\n",
              "      <td>LEGAZPI</td>\n",
              "    </tr>\n",
              "    <tr>\n",
              "      <th>3</th>\n",
              "      <td>DELICIAS</td>\n",
              "    </tr>\n",
              "    <tr>\n",
              "      <th>4</th>\n",
              "      <td>CIUDAD UNIVERSITARIA</td>\n",
              "    </tr>\n",
              "  </tbody>\n",
              "</table>\n",
              "</div>"
            ],
            "text/plain": [
              "         Barrios_Madrid\n",
              "0  EMBAJADORES         \n",
              "1  SANTA EUGENIA       \n",
              "2  LEGAZPI             \n",
              "3  DELICIAS            \n",
              "4  CIUDAD UNIVERSITARIA"
            ]
          },
          "metadata": {
            "tags": []
          },
          "execution_count": 53
        }
      ]
    },
    {
      "cell_type": "markdown",
      "metadata": {
        "id": "1PgGIQEiAGC2"
      },
      "source": [
        "Crea una nueva columna que muestre la longitud de los campos de la columna DESC_DISTRITO y que se llame \"longitud\"."
      ]
    },
    {
      "cell_type": "code",
      "metadata": {
        "id": "9wuaOUIuBuWT"
      },
      "source": [
        "# PySpark\r\n",
        "# padron_SDF.withColumn(\"LONGITUD\", F.length(F.col(\"DISTRITO\")))\r\n",
        "\r\n",
        "# Koalas\r\n",
        "# padron_KDF[\"LONGITUD\"] = padron_KDF[\"DESC_DISTRITO\"].str.len()"
      ],
      "execution_count": null,
      "outputs": []
    },
    {
      "cell_type": "markdown",
      "metadata": {
        "id": "WsdP8cBAElTF"
      },
      "source": [
        "Lanza una consulta contra el DF resultante en la que muestre el número total de \"espanoleshombres\", \"espanolesmujeres\", extranjeroshombres\" y \"extranjerosmujeres\" para cada barrio de cada distrito.\r\n",
        "\r\n",
        "Las columnas distrito y barrio deben ser las primeras en aparecer en el show. Los resultados deben estar ordenados en orden de más a menos según la columna \"extranjerosmujeres\" y desempatarán por la columna \"extranjeroshombres\"."
      ]
    },
    {
      "cell_type": "code",
      "metadata": {
        "colab": {
          "base_uri": "https://localhost:8080/",
          "height": 225
        },
        "id": "xUc2JH7GEmXK",
        "outputId": "72997bd6-ee1c-4eb4-b474-76cfdcc51d7b"
      },
      "source": [
        "padron_KDF.groupby([\"DESC_DISTRITO\", \"DESC_BARRIO\"]).sum()\\\r\n",
        "  .sort_values([\"ExtranjerosMujeres\", \"ExtranjerosHombres\"], ascending=False)\\\r\n",
        "  .head()"
      ],
      "execution_count": null,
      "outputs": [
        {
          "output_type": "execute_result",
          "data": {
            "text/plain": [
              "                                 COD_EDAD_INT  EspanolesHombres  EspanolesMujeres  ExtranjerosHombres  ExtranjerosMujeres\n",
              "DESC_DISTRITO      DESC_BARRIO                                                                                           \n",
              "PUENTE DE VALLECAS SAN DIEGO           139326             13903             15587                7066                7367\n",
              "LATINA             ALUCHE              278014             25257             29932                5592                6609\n",
              "CIUDAD LINEAL      PUEBLO NUEVO        217653             23542             27511                5615                6517\n",
              "CARABANCHEL        VISTA ALEGRE        161468             15998             19492                5589                6291\n",
              "PUENTE DE VALLECAS NUMANCIA            159297             17290             19641                5584                5907"
            ],
            "text/html": [
              "<div>\n",
              "<style scoped>\n",
              "    .dataframe tbody tr th:only-of-type {\n",
              "        vertical-align: middle;\n",
              "    }\n",
              "\n",
              "    .dataframe tbody tr th {\n",
              "        vertical-align: top;\n",
              "    }\n",
              "\n",
              "    .dataframe thead th {\n",
              "        text-align: right;\n",
              "    }\n",
              "</style>\n",
              "<table border=\"1\" class=\"dataframe\">\n",
              "  <thead>\n",
              "    <tr style=\"text-align: right;\">\n",
              "      <th></th>\n",
              "      <th></th>\n",
              "      <th>COD_EDAD_INT</th>\n",
              "      <th>EspanolesHombres</th>\n",
              "      <th>EspanolesMujeres</th>\n",
              "      <th>ExtranjerosHombres</th>\n",
              "      <th>ExtranjerosMujeres</th>\n",
              "    </tr>\n",
              "    <tr>\n",
              "      <th>DESC_DISTRITO</th>\n",
              "      <th>DESC_BARRIO</th>\n",
              "      <th></th>\n",
              "      <th></th>\n",
              "      <th></th>\n",
              "      <th></th>\n",
              "      <th></th>\n",
              "    </tr>\n",
              "  </thead>\n",
              "  <tbody>\n",
              "    <tr>\n",
              "      <th>PUENTE DE VALLECAS</th>\n",
              "      <th>SAN DIEGO</th>\n",
              "      <td>139326</td>\n",
              "      <td>13903</td>\n",
              "      <td>15587</td>\n",
              "      <td>7066</td>\n",
              "      <td>7367</td>\n",
              "    </tr>\n",
              "    <tr>\n",
              "      <th>LATINA</th>\n",
              "      <th>ALUCHE</th>\n",
              "      <td>278014</td>\n",
              "      <td>25257</td>\n",
              "      <td>29932</td>\n",
              "      <td>5592</td>\n",
              "      <td>6609</td>\n",
              "    </tr>\n",
              "    <tr>\n",
              "      <th>CIUDAD LINEAL</th>\n",
              "      <th>PUEBLO NUEVO</th>\n",
              "      <td>217653</td>\n",
              "      <td>23542</td>\n",
              "      <td>27511</td>\n",
              "      <td>5615</td>\n",
              "      <td>6517</td>\n",
              "    </tr>\n",
              "    <tr>\n",
              "      <th>CARABANCHEL</th>\n",
              "      <th>VISTA ALEGRE</th>\n",
              "      <td>161468</td>\n",
              "      <td>15998</td>\n",
              "      <td>19492</td>\n",
              "      <td>5589</td>\n",
              "      <td>6291</td>\n",
              "    </tr>\n",
              "    <tr>\n",
              "      <th>PUENTE DE VALLECAS</th>\n",
              "      <th>NUMANCIA</th>\n",
              "      <td>159297</td>\n",
              "      <td>17290</td>\n",
              "      <td>19641</td>\n",
              "      <td>5584</td>\n",
              "      <td>5907</td>\n",
              "    </tr>\n",
              "  </tbody>\n",
              "</table>\n",
              "</div>"
            ]
          },
          "metadata": {
            "tags": []
          },
          "execution_count": 129
        }
      ]
    },
    {
      "cell_type": "markdown",
      "metadata": {
        "id": "ImLw1KDmJKmT"
      },
      "source": [
        "Crea un nuevo DataFrame a partir del original que muestre únicamente una columna con DESC_BARRIO, otra con DESC_DISTRITO y otra con el número total de \"espanoleshombres\" residentes en cada distrito de cada barrio. \r\n",
        "\r\n",
        "Únelo (con un join) con el DataFrame original a través de las columnas en común."
      ]
    },
    {
      "cell_type": "code",
      "metadata": {
        "colab": {
          "base_uri": "https://localhost:8080/",
          "height": 225
        },
        "id": "PxZGH-AcJm1R",
        "outputId": "0ae5f2c4-7c05-413d-b72b-8ce8d616fe00"
      },
      "source": [
        "aggDF = padron_KDF.groupby([\"DESC_DISTRITO\", \"DESC_BARRIO\"])\\\r\n",
        "  .agg(total_esp_hombres = ks.NamedAgg(\"EspanolesHombres\",\"sum\"))\r\n",
        "\r\n",
        "aggDF.head()"
      ],
      "execution_count": null,
      "outputs": [
        {
          "output_type": "execute_result",
          "data": {
            "text/plain": [
              "                           total_esp_hombres\n",
              "DESC_DISTRITO DESC_BARRIO                   \n",
              "CENTRO        PALACIO                   9380\n",
              "              EMBAJADORES              16694\n",
              "              JUSTICIA                  7099\n",
              "              UNIVERSIDAD              12679\n",
              "ARGANZUELA    ACACIAS                  15438"
            ],
            "text/html": [
              "<div>\n",
              "<style scoped>\n",
              "    .dataframe tbody tr th:only-of-type {\n",
              "        vertical-align: middle;\n",
              "    }\n",
              "\n",
              "    .dataframe tbody tr th {\n",
              "        vertical-align: top;\n",
              "    }\n",
              "\n",
              "    .dataframe thead th {\n",
              "        text-align: right;\n",
              "    }\n",
              "</style>\n",
              "<table border=\"1\" class=\"dataframe\">\n",
              "  <thead>\n",
              "    <tr style=\"text-align: right;\">\n",
              "      <th></th>\n",
              "      <th></th>\n",
              "      <th>total_esp_hombres</th>\n",
              "    </tr>\n",
              "    <tr>\n",
              "      <th>DESC_DISTRITO</th>\n",
              "      <th>DESC_BARRIO</th>\n",
              "      <th></th>\n",
              "    </tr>\n",
              "  </thead>\n",
              "  <tbody>\n",
              "    <tr>\n",
              "      <th rowspan=\"4\" valign=\"top\">CENTRO</th>\n",
              "      <th>PALACIO</th>\n",
              "      <td>9380</td>\n",
              "    </tr>\n",
              "    <tr>\n",
              "      <th>EMBAJADORES</th>\n",
              "      <td>16694</td>\n",
              "    </tr>\n",
              "    <tr>\n",
              "      <th>JUSTICIA</th>\n",
              "      <td>7099</td>\n",
              "    </tr>\n",
              "    <tr>\n",
              "      <th>UNIVERSIDAD</th>\n",
              "      <td>12679</td>\n",
              "    </tr>\n",
              "    <tr>\n",
              "      <th>ARGANZUELA</th>\n",
              "      <th>ACACIAS</th>\n",
              "      <td>15438</td>\n",
              "    </tr>\n",
              "  </tbody>\n",
              "</table>\n",
              "</div>"
            ]
          },
          "metadata": {
            "tags": []
          },
          "execution_count": 145
        }
      ]
    },
    {
      "cell_type": "code",
      "metadata": {
        "colab": {
          "base_uri": "https://localhost:8080/",
          "height": 195
        },
        "id": "WkFs0zjGNUaH",
        "outputId": "404a3c28-3c6a-4bc1-c3cf-f788fbf5c91b"
      },
      "source": [
        "padron_KDF.join(aggDF, [\"DESC_DISTRITO\", \"DESC_BARRIO\"]).head()"
      ],
      "execution_count": null,
      "outputs": [
        {
          "output_type": "execute_result",
          "data": {
            "text/plain": [
              "  DESC_DISTRITO DESC_BARRIO  COD_EDAD_INT  EspanolesHombres  EspanolesMujeres  ExtranjerosHombres  ExtranjerosMujeres  total_esp_hombres\n",
              "0    ARGANZUELA     ACACIAS            57                10                13                   1                   0              15438\n",
              "1    ARGANZUELA     ACACIAS            58                11                15                   0                   1              15438\n",
              "2    ARGANZUELA     ACACIAS            59                 7                17                   0                   0              15438\n",
              "3    ARGANZUELA     ACACIAS            60                14                14                   1                   1              15438\n",
              "4    ARGANZUELA     ACACIAS            61                15                18                   0                   0              15438"
            ],
            "text/html": [
              "<div>\n",
              "<style scoped>\n",
              "    .dataframe tbody tr th:only-of-type {\n",
              "        vertical-align: middle;\n",
              "    }\n",
              "\n",
              "    .dataframe tbody tr th {\n",
              "        vertical-align: top;\n",
              "    }\n",
              "\n",
              "    .dataframe thead th {\n",
              "        text-align: right;\n",
              "    }\n",
              "</style>\n",
              "<table border=\"1\" class=\"dataframe\">\n",
              "  <thead>\n",
              "    <tr style=\"text-align: right;\">\n",
              "      <th></th>\n",
              "      <th>DESC_DISTRITO</th>\n",
              "      <th>DESC_BARRIO</th>\n",
              "      <th>COD_EDAD_INT</th>\n",
              "      <th>EspanolesHombres</th>\n",
              "      <th>EspanolesMujeres</th>\n",
              "      <th>ExtranjerosHombres</th>\n",
              "      <th>ExtranjerosMujeres</th>\n",
              "      <th>total_esp_hombres</th>\n",
              "    </tr>\n",
              "  </thead>\n",
              "  <tbody>\n",
              "    <tr>\n",
              "      <th>0</th>\n",
              "      <td>ARGANZUELA</td>\n",
              "      <td>ACACIAS</td>\n",
              "      <td>57</td>\n",
              "      <td>10</td>\n",
              "      <td>13</td>\n",
              "      <td>1</td>\n",
              "      <td>0</td>\n",
              "      <td>15438</td>\n",
              "    </tr>\n",
              "    <tr>\n",
              "      <th>1</th>\n",
              "      <td>ARGANZUELA</td>\n",
              "      <td>ACACIAS</td>\n",
              "      <td>58</td>\n",
              "      <td>11</td>\n",
              "      <td>15</td>\n",
              "      <td>0</td>\n",
              "      <td>1</td>\n",
              "      <td>15438</td>\n",
              "    </tr>\n",
              "    <tr>\n",
              "      <th>2</th>\n",
              "      <td>ARGANZUELA</td>\n",
              "      <td>ACACIAS</td>\n",
              "      <td>59</td>\n",
              "      <td>7</td>\n",
              "      <td>17</td>\n",
              "      <td>0</td>\n",
              "      <td>0</td>\n",
              "      <td>15438</td>\n",
              "    </tr>\n",
              "    <tr>\n",
              "      <th>3</th>\n",
              "      <td>ARGANZUELA</td>\n",
              "      <td>ACACIAS</td>\n",
              "      <td>60</td>\n",
              "      <td>14</td>\n",
              "      <td>14</td>\n",
              "      <td>1</td>\n",
              "      <td>1</td>\n",
              "      <td>15438</td>\n",
              "    </tr>\n",
              "    <tr>\n",
              "      <th>4</th>\n",
              "      <td>ARGANZUELA</td>\n",
              "      <td>ACACIAS</td>\n",
              "      <td>61</td>\n",
              "      <td>15</td>\n",
              "      <td>18</td>\n",
              "      <td>0</td>\n",
              "      <td>0</td>\n",
              "      <td>15438</td>\n",
              "    </tr>\n",
              "  </tbody>\n",
              "</table>\n",
              "</div>"
            ]
          },
          "metadata": {
            "tags": []
          },
          "execution_count": 146
        }
      ]
    },
    {
      "cell_type": "markdown",
      "metadata": {
        "id": "AWt4oajpNk2g"
      },
      "source": [
        "Repite el ejercicio anterior utilizando funciones de ventana. (pendiente) (*?)"
      ]
    },
    {
      "cell_type": "code",
      "metadata": {
        "id": "VQTxplUgDOqV"
      },
      "source": [
        ""
      ],
      "execution_count": null,
      "outputs": []
    },
    {
      "cell_type": "markdown",
      "metadata": {
        "id": "OBOMEPGzUY7e"
      },
      "source": [
        "Mediante una función Pivot muestra una tabla (que va a ser una tabla de contingencia) que contenga los valores medios de espanolesmujeres para cada barrio y en cada rango de edad (COD_EDAD_INT). \r\n",
        "\r\n",
        "Los barrios incluidos deben ser únicamente CENTRO, BARAJAS y RETIRO y deben figurar como columnas."
      ]
    },
    {
      "cell_type": "code",
      "metadata": {
        "colab": {
          "base_uri": "https://localhost:8080/",
          "height": 373
        },
        "id": "t0Xum31kUySD",
        "outputId": "c90daab4-bfa3-4108-d1fa-9242d4bccdc9"
      },
      "source": [
        "# Sin usar la función pivot\r\n",
        "padron_KDF[padron_KDF[\"DESC_DISTRITO\"].isin([\"CENTRO\", \"BARAJAS\", \"RETIRO\"])]\\\r\n",
        "  .groupby([\"COD_EDAD_INT\", \"DESC_DISTRITO\"])\\\r\n",
        "  .agg({\"EspanolesMujeres\":\"mean\"})\\\r\n",
        "  .sort_index().head(10)"
      ],
      "execution_count": null,
      "outputs": [
        {
          "output_type": "execute_result",
          "data": {
            "text/plain": [
              "                            EspanolesMujeres\n",
              "COD_EDAD_INT DESC_DISTRITO                  \n",
              "0            BARAJAS                5.483871\n",
              "             CENTRO                 2.354545\n",
              "             RETIRO                 3.419355\n",
              "1            BARAJAS                5.774194\n",
              "             CENTRO                 2.342342\n",
              "             RETIRO                 3.936170\n",
              "2            BARAJAS                6.741935\n",
              "             CENTRO                 2.339450\n",
              "             RETIRO                 4.258065\n",
              "3            BARAJAS                7.580645"
            ],
            "text/html": [
              "<div>\n",
              "<style scoped>\n",
              "    .dataframe tbody tr th:only-of-type {\n",
              "        vertical-align: middle;\n",
              "    }\n",
              "\n",
              "    .dataframe tbody tr th {\n",
              "        vertical-align: top;\n",
              "    }\n",
              "\n",
              "    .dataframe thead th {\n",
              "        text-align: right;\n",
              "    }\n",
              "</style>\n",
              "<table border=\"1\" class=\"dataframe\">\n",
              "  <thead>\n",
              "    <tr style=\"text-align: right;\">\n",
              "      <th></th>\n",
              "      <th></th>\n",
              "      <th>EspanolesMujeres</th>\n",
              "    </tr>\n",
              "    <tr>\n",
              "      <th>COD_EDAD_INT</th>\n",
              "      <th>DESC_DISTRITO</th>\n",
              "      <th></th>\n",
              "    </tr>\n",
              "  </thead>\n",
              "  <tbody>\n",
              "    <tr>\n",
              "      <th rowspan=\"3\" valign=\"top\">0</th>\n",
              "      <th>BARAJAS</th>\n",
              "      <td>5.483871</td>\n",
              "    </tr>\n",
              "    <tr>\n",
              "      <th>CENTRO</th>\n",
              "      <td>2.354545</td>\n",
              "    </tr>\n",
              "    <tr>\n",
              "      <th>RETIRO</th>\n",
              "      <td>3.419355</td>\n",
              "    </tr>\n",
              "    <tr>\n",
              "      <th rowspan=\"3\" valign=\"top\">1</th>\n",
              "      <th>BARAJAS</th>\n",
              "      <td>5.774194</td>\n",
              "    </tr>\n",
              "    <tr>\n",
              "      <th>CENTRO</th>\n",
              "      <td>2.342342</td>\n",
              "    </tr>\n",
              "    <tr>\n",
              "      <th>RETIRO</th>\n",
              "      <td>3.936170</td>\n",
              "    </tr>\n",
              "    <tr>\n",
              "      <th rowspan=\"3\" valign=\"top\">2</th>\n",
              "      <th>BARAJAS</th>\n",
              "      <td>6.741935</td>\n",
              "    </tr>\n",
              "    <tr>\n",
              "      <th>CENTRO</th>\n",
              "      <td>2.339450</td>\n",
              "    </tr>\n",
              "    <tr>\n",
              "      <th>RETIRO</th>\n",
              "      <td>4.258065</td>\n",
              "    </tr>\n",
              "    <tr>\n",
              "      <th>3</th>\n",
              "      <th>BARAJAS</th>\n",
              "      <td>7.580645</td>\n",
              "    </tr>\n",
              "  </tbody>\n",
              "</table>\n",
              "</div>"
            ]
          },
          "metadata": {
            "tags": []
          },
          "execution_count": 189
        }
      ]
    },
    {
      "cell_type": "code",
      "metadata": {
        "colab": {
          "base_uri": "https://localhost:8080/",
          "height": 225
        },
        "id": "hzfUDZ6kY4pY",
        "outputId": "cd8c4806-42c5-4a14-d5bf-4e6e426bdd99"
      },
      "source": [
        "# Usando función pivot *?\r\n",
        "padron_KDF_edad = padron_KDF[padron_KDF[\"DESC_DISTRITO\"].isin([\"CENTRO\", \"BARAJAS\", \"RETIRO\"])]\\\r\n",
        "  .pivot_table(index=[\"COD_EDAD_INT\"],\r\n",
        "               columns=\"DESC_DISTRITO\",\r\n",
        "               values=\"EspanolesMujeres\",\r\n",
        "               aggfunc=\"mean\")\\\r\n",
        "              .sort_index()\r\n",
        "               \r\n",
        "padron_KDF_edad.head()"
      ],
      "execution_count": null,
      "outputs": [
        {
          "output_type": "execute_result",
          "data": {
            "text/plain": [
              "DESC_DISTRITO   BARAJAS    CENTRO    RETIRO\n",
              "COD_EDAD_INT                               \n",
              "0              5.483871  2.354545  3.419355\n",
              "1              5.774194  2.342342  3.936170\n",
              "2              6.741935  2.339450  4.258065\n",
              "3              7.580645  2.218182  4.531915\n",
              "4              8.064516  2.238532  4.638298"
            ],
            "text/html": [
              "<div>\n",
              "<style scoped>\n",
              "    .dataframe tbody tr th:only-of-type {\n",
              "        vertical-align: middle;\n",
              "    }\n",
              "\n",
              "    .dataframe tbody tr th {\n",
              "        vertical-align: top;\n",
              "    }\n",
              "\n",
              "    .dataframe thead th {\n",
              "        text-align: right;\n",
              "    }\n",
              "</style>\n",
              "<table border=\"1\" class=\"dataframe\">\n",
              "  <thead>\n",
              "    <tr style=\"text-align: right;\">\n",
              "      <th>DESC_DISTRITO</th>\n",
              "      <th>BARAJAS</th>\n",
              "      <th>CENTRO</th>\n",
              "      <th>RETIRO</th>\n",
              "    </tr>\n",
              "    <tr>\n",
              "      <th>COD_EDAD_INT</th>\n",
              "      <th></th>\n",
              "      <th></th>\n",
              "      <th></th>\n",
              "    </tr>\n",
              "  </thead>\n",
              "  <tbody>\n",
              "    <tr>\n",
              "      <th>0</th>\n",
              "      <td>5.483871</td>\n",
              "      <td>2.354545</td>\n",
              "      <td>3.419355</td>\n",
              "    </tr>\n",
              "    <tr>\n",
              "      <th>1</th>\n",
              "      <td>5.774194</td>\n",
              "      <td>2.342342</td>\n",
              "      <td>3.936170</td>\n",
              "    </tr>\n",
              "    <tr>\n",
              "      <th>2</th>\n",
              "      <td>6.741935</td>\n",
              "      <td>2.339450</td>\n",
              "      <td>4.258065</td>\n",
              "    </tr>\n",
              "    <tr>\n",
              "      <th>3</th>\n",
              "      <td>7.580645</td>\n",
              "      <td>2.218182</td>\n",
              "      <td>4.531915</td>\n",
              "    </tr>\n",
              "    <tr>\n",
              "      <th>4</th>\n",
              "      <td>8.064516</td>\n",
              "      <td>2.238532</td>\n",
              "      <td>4.638298</td>\n",
              "    </tr>\n",
              "  </tbody>\n",
              "</table>\n",
              "</div>"
            ]
          },
          "metadata": {
            "tags": []
          },
          "execution_count": 271
        }
      ]
    },
    {
      "cell_type": "markdown",
      "metadata": {
        "id": "aTvHRJjDiFRP"
      },
      "source": [
        "Utilizando este nuevo DF, crea 3 columnas nuevas que hagan referencia a qué porcentaje de la población total de \"espanolesmujeres\" de cada rango de edad representa cada uno de los tres distritos. (*?)\r\n",
        "\r\n",
        "Debe estar redondeada a 2 decimales. Puedes imponerte la condición extra de no apoyarte en ninguna columna auxiliar creada para el caso."
      ]
    },
    {
      "cell_type": "code",
      "metadata": {
        "colab": {
          "base_uri": "https://localhost:8080/",
          "height": 225
        },
        "id": "YjX-s0GJipBx",
        "outputId": "bfd0bdd0-0010-4006-bd7c-160e20a03397"
      },
      "source": [
        "padron_KDF_edad.head()"
      ],
      "execution_count": null,
      "outputs": [
        {
          "output_type": "execute_result",
          "data": {
            "text/plain": [
              "DESC_DISTRITO   BARAJAS    CENTRO    RETIRO\n",
              "COD_EDAD_INT                               \n",
              "0              5.483871  2.354545  3.419355\n",
              "1              5.774194  2.342342  3.936170\n",
              "2              6.741935  2.339450  4.258065\n",
              "3              7.580645  2.218182  4.531915\n",
              "4              8.064516  2.238532  4.638298"
            ],
            "text/html": [
              "<div>\n",
              "<style scoped>\n",
              "    .dataframe tbody tr th:only-of-type {\n",
              "        vertical-align: middle;\n",
              "    }\n",
              "\n",
              "    .dataframe tbody tr th {\n",
              "        vertical-align: top;\n",
              "    }\n",
              "\n",
              "    .dataframe thead th {\n",
              "        text-align: right;\n",
              "    }\n",
              "</style>\n",
              "<table border=\"1\" class=\"dataframe\">\n",
              "  <thead>\n",
              "    <tr style=\"text-align: right;\">\n",
              "      <th>DESC_DISTRITO</th>\n",
              "      <th>BARAJAS</th>\n",
              "      <th>CENTRO</th>\n",
              "      <th>RETIRO</th>\n",
              "    </tr>\n",
              "    <tr>\n",
              "      <th>COD_EDAD_INT</th>\n",
              "      <th></th>\n",
              "      <th></th>\n",
              "      <th></th>\n",
              "    </tr>\n",
              "  </thead>\n",
              "  <tbody>\n",
              "    <tr>\n",
              "      <th>0</th>\n",
              "      <td>5.483871</td>\n",
              "      <td>2.354545</td>\n",
              "      <td>3.419355</td>\n",
              "    </tr>\n",
              "    <tr>\n",
              "      <th>1</th>\n",
              "      <td>5.774194</td>\n",
              "      <td>2.342342</td>\n",
              "      <td>3.936170</td>\n",
              "    </tr>\n",
              "    <tr>\n",
              "      <th>2</th>\n",
              "      <td>6.741935</td>\n",
              "      <td>2.339450</td>\n",
              "      <td>4.258065</td>\n",
              "    </tr>\n",
              "    <tr>\n",
              "      <th>3</th>\n",
              "      <td>7.580645</td>\n",
              "      <td>2.218182</td>\n",
              "      <td>4.531915</td>\n",
              "    </tr>\n",
              "    <tr>\n",
              "      <th>4</th>\n",
              "      <td>8.064516</td>\n",
              "      <td>2.238532</td>\n",
              "      <td>4.638298</td>\n",
              "    </tr>\n",
              "  </tbody>\n",
              "</table>\n",
              "</div>"
            ]
          },
          "metadata": {
            "tags": []
          },
          "execution_count": 256
        }
      ]
    },
    {
      "cell_type": "code",
      "metadata": {
        "colab": {
          "base_uri": "https://localhost:8080/",
          "height": 225
        },
        "id": "c9hEyVkztKim",
        "outputId": "44e7bad9-bc93-448a-e258-4d0696fba61b"
      },
      "source": [
        "total = padron_KDF_edad[\"BARAJAS\"] + padron_KDF_edad[\"CENTRO\"] + padron_KDF_edad[\"RETIRO\"]\r\n",
        "\r\n",
        "# Forma no eficiente, valores nulos división por 0... *?\r\n",
        "padron_KDF_edad[\"pct_BARAJAS\"] = (100 * (padron_KDF_edad[\"BARAJAS\"] / total)).round(2)\r\n",
        "padron_KDF_edad[\"pct_CENTRO\"] = (100 * (padron_KDF_edad[\"BARAJAS\"] / total)).round(2)\r\n",
        "padron_KDF_edad[\"pct_RETIRO\"] = (100 * (padron_KDF_edad[\"BARAJAS\"] / total)).round(2)\r\n",
        "\r\n",
        "padron_KDF_edad.head()"
      ],
      "execution_count": null,
      "outputs": [
        {
          "output_type": "execute_result",
          "data": {
            "text/plain": [
              "DESC_DISTRITO   BARAJAS    CENTRO    RETIRO  pct_BARAJAS  pct_CENTRO  pct_RETIRO\n",
              "COD_EDAD_INT                                                                    \n",
              "0              5.483871  2.354545  3.419355        48.71       48.71       48.71\n",
              "1              5.774194  2.342342  3.936170        47.91       47.91       47.91\n",
              "2              6.741935  2.339450  4.258065        50.54       50.54       50.54\n",
              "3              7.580645  2.218182  4.531915        52.90       52.90       52.90\n",
              "4              8.064516  2.238532  4.638298        53.97       53.97       53.97"
            ],
            "text/html": [
              "<div>\n",
              "<style scoped>\n",
              "    .dataframe tbody tr th:only-of-type {\n",
              "        vertical-align: middle;\n",
              "    }\n",
              "\n",
              "    .dataframe tbody tr th {\n",
              "        vertical-align: top;\n",
              "    }\n",
              "\n",
              "    .dataframe thead th {\n",
              "        text-align: right;\n",
              "    }\n",
              "</style>\n",
              "<table border=\"1\" class=\"dataframe\">\n",
              "  <thead>\n",
              "    <tr style=\"text-align: right;\">\n",
              "      <th>DESC_DISTRITO</th>\n",
              "      <th>BARAJAS</th>\n",
              "      <th>CENTRO</th>\n",
              "      <th>RETIRO</th>\n",
              "      <th>pct_BARAJAS</th>\n",
              "      <th>pct_CENTRO</th>\n",
              "      <th>pct_RETIRO</th>\n",
              "    </tr>\n",
              "    <tr>\n",
              "      <th>COD_EDAD_INT</th>\n",
              "      <th></th>\n",
              "      <th></th>\n",
              "      <th></th>\n",
              "      <th></th>\n",
              "      <th></th>\n",
              "      <th></th>\n",
              "    </tr>\n",
              "  </thead>\n",
              "  <tbody>\n",
              "    <tr>\n",
              "      <th>0</th>\n",
              "      <td>5.483871</td>\n",
              "      <td>2.354545</td>\n",
              "      <td>3.419355</td>\n",
              "      <td>48.71</td>\n",
              "      <td>48.71</td>\n",
              "      <td>48.71</td>\n",
              "    </tr>\n",
              "    <tr>\n",
              "      <th>1</th>\n",
              "      <td>5.774194</td>\n",
              "      <td>2.342342</td>\n",
              "      <td>3.936170</td>\n",
              "      <td>47.91</td>\n",
              "      <td>47.91</td>\n",
              "      <td>47.91</td>\n",
              "    </tr>\n",
              "    <tr>\n",
              "      <th>2</th>\n",
              "      <td>6.741935</td>\n",
              "      <td>2.339450</td>\n",
              "      <td>4.258065</td>\n",
              "      <td>50.54</td>\n",
              "      <td>50.54</td>\n",
              "      <td>50.54</td>\n",
              "    </tr>\n",
              "    <tr>\n",
              "      <th>3</th>\n",
              "      <td>7.580645</td>\n",
              "      <td>2.218182</td>\n",
              "      <td>4.531915</td>\n",
              "      <td>52.90</td>\n",
              "      <td>52.90</td>\n",
              "      <td>52.90</td>\n",
              "    </tr>\n",
              "    <tr>\n",
              "      <th>4</th>\n",
              "      <td>8.064516</td>\n",
              "      <td>2.238532</td>\n",
              "      <td>4.638298</td>\n",
              "      <td>53.97</td>\n",
              "      <td>53.97</td>\n",
              "      <td>53.97</td>\n",
              "    </tr>\n",
              "  </tbody>\n",
              "</table>\n",
              "</div>"
            ]
          },
          "metadata": {
            "tags": []
          },
          "execution_count": 264
        }
      ]
    },
    {
      "cell_type": "code",
      "metadata": {
        "id": "06Ic1vph0GJw"
      },
      "source": [
        "#total = padron_KDF_edad[\"BARAJAS\"] + padron_KDF_edad[\"CENTRO\"] + padron_KDF_edad[\"RETIRO\"]\r\n",
        "#new_cols = [\"pct_BARAJAS\", \"pct_CENTRO\", \"pct_RETIRO\"]\r\n",
        "\r\n",
        "#padron_KDF_edad[[\"BARAJAS\", \"CENTRO\", \"RETIRO\"]].div(total)\r\n",
        "#ValueError: truediv with a sequence is currently not supported; however, got Series."
      ],
      "execution_count": null,
      "outputs": []
    },
    {
      "cell_type": "code",
      "metadata": {
        "colab": {
          "base_uri": "https://localhost:8080/",
          "height": 431
        },
        "id": "gDzXIyBbvjZ9",
        "outputId": "e6365d89-18c5-48d4-ddea-39206db27a6f"
      },
      "source": [
        "padron_PDF_edad = padron_KDF_edad.to_pandas()\r\n",
        "\r\n",
        "total = padron_PDF_edad[\"BARAJAS\"] + padron_PDF_edad[\"CENTRO\"] + padron_PDF_edad[\"RETIRO\"]\r\n",
        "new_cols = [\"pct_BARAJAS\", \"pct_CENTRO\", \"pct_RETIRO\"]\r\n",
        "\r\n",
        "padron_PDF_edad[new_cols] = 100 * round(padron_PDF_edad[[\"BARAJAS\", \"CENTRO\", \"RETIRO\"]]\\\r\n",
        "                                        .div(total, axis=0), 2)\r\n",
        "padron_PDF_edad"
      ],
      "execution_count": null,
      "outputs": [
        {
          "output_type": "execute_result",
          "data": {
            "text/plain": [
              "DESC_DISTRITO   BARAJAS    CENTRO    RETIRO  pct_BARAJAS  pct_CENTRO  \\\n",
              "COD_EDAD_INT                                                           \n",
              "0              5.483871  2.354545  3.419355         49.0        21.0   \n",
              "1              5.774194  2.342342  3.936170         48.0        19.0   \n",
              "2              6.741935  2.339450  4.258065         51.0        18.0   \n",
              "3              7.580645  2.218182  4.531915         53.0        15.0   \n",
              "4              8.064516  2.238532  4.638298         54.0        15.0   \n",
              "...                 ...       ...       ...          ...         ...   \n",
              "107                 NaN  0.500000  1.000000          NaN         NaN   \n",
              "108            1.000000  0.000000  1.000000         50.0         0.0   \n",
              "109                 NaN       NaN  1.000000          NaN         NaN   \n",
              "110                 NaN  1.000000       NaN          NaN         NaN   \n",
              "111                 NaN       NaN  1.000000          NaN         NaN   \n",
              "\n",
              "DESC_DISTRITO  pct_RETIRO  \n",
              "COD_EDAD_INT               \n",
              "0                    30.0  \n",
              "1                    33.0  \n",
              "2                    32.0  \n",
              "3                    32.0  \n",
              "4                    31.0  \n",
              "...                   ...  \n",
              "107                   NaN  \n",
              "108                  50.0  \n",
              "109                   NaN  \n",
              "110                   NaN  \n",
              "111                   NaN  \n",
              "\n",
              "[112 rows x 6 columns]"
            ],
            "text/html": [
              "<div>\n",
              "<style scoped>\n",
              "    .dataframe tbody tr th:only-of-type {\n",
              "        vertical-align: middle;\n",
              "    }\n",
              "\n",
              "    .dataframe tbody tr th {\n",
              "        vertical-align: top;\n",
              "    }\n",
              "\n",
              "    .dataframe thead th {\n",
              "        text-align: right;\n",
              "    }\n",
              "</style>\n",
              "<table border=\"1\" class=\"dataframe\">\n",
              "  <thead>\n",
              "    <tr style=\"text-align: right;\">\n",
              "      <th>DESC_DISTRITO</th>\n",
              "      <th>BARAJAS</th>\n",
              "      <th>CENTRO</th>\n",
              "      <th>RETIRO</th>\n",
              "      <th>pct_BARAJAS</th>\n",
              "      <th>pct_CENTRO</th>\n",
              "      <th>pct_RETIRO</th>\n",
              "    </tr>\n",
              "    <tr>\n",
              "      <th>COD_EDAD_INT</th>\n",
              "      <th></th>\n",
              "      <th></th>\n",
              "      <th></th>\n",
              "      <th></th>\n",
              "      <th></th>\n",
              "      <th></th>\n",
              "    </tr>\n",
              "  </thead>\n",
              "  <tbody>\n",
              "    <tr>\n",
              "      <th>0</th>\n",
              "      <td>5.483871</td>\n",
              "      <td>2.354545</td>\n",
              "      <td>3.419355</td>\n",
              "      <td>49.0</td>\n",
              "      <td>21.0</td>\n",
              "      <td>30.0</td>\n",
              "    </tr>\n",
              "    <tr>\n",
              "      <th>1</th>\n",
              "      <td>5.774194</td>\n",
              "      <td>2.342342</td>\n",
              "      <td>3.936170</td>\n",
              "      <td>48.0</td>\n",
              "      <td>19.0</td>\n",
              "      <td>33.0</td>\n",
              "    </tr>\n",
              "    <tr>\n",
              "      <th>2</th>\n",
              "      <td>6.741935</td>\n",
              "      <td>2.339450</td>\n",
              "      <td>4.258065</td>\n",
              "      <td>51.0</td>\n",
              "      <td>18.0</td>\n",
              "      <td>32.0</td>\n",
              "    </tr>\n",
              "    <tr>\n",
              "      <th>3</th>\n",
              "      <td>7.580645</td>\n",
              "      <td>2.218182</td>\n",
              "      <td>4.531915</td>\n",
              "      <td>53.0</td>\n",
              "      <td>15.0</td>\n",
              "      <td>32.0</td>\n",
              "    </tr>\n",
              "    <tr>\n",
              "      <th>4</th>\n",
              "      <td>8.064516</td>\n",
              "      <td>2.238532</td>\n",
              "      <td>4.638298</td>\n",
              "      <td>54.0</td>\n",
              "      <td>15.0</td>\n",
              "      <td>31.0</td>\n",
              "    </tr>\n",
              "    <tr>\n",
              "      <th>...</th>\n",
              "      <td>...</td>\n",
              "      <td>...</td>\n",
              "      <td>...</td>\n",
              "      <td>...</td>\n",
              "      <td>...</td>\n",
              "      <td>...</td>\n",
              "    </tr>\n",
              "    <tr>\n",
              "      <th>107</th>\n",
              "      <td>NaN</td>\n",
              "      <td>0.500000</td>\n",
              "      <td>1.000000</td>\n",
              "      <td>NaN</td>\n",
              "      <td>NaN</td>\n",
              "      <td>NaN</td>\n",
              "    </tr>\n",
              "    <tr>\n",
              "      <th>108</th>\n",
              "      <td>1.000000</td>\n",
              "      <td>0.000000</td>\n",
              "      <td>1.000000</td>\n",
              "      <td>50.0</td>\n",
              "      <td>0.0</td>\n",
              "      <td>50.0</td>\n",
              "    </tr>\n",
              "    <tr>\n",
              "      <th>109</th>\n",
              "      <td>NaN</td>\n",
              "      <td>NaN</td>\n",
              "      <td>1.000000</td>\n",
              "      <td>NaN</td>\n",
              "      <td>NaN</td>\n",
              "      <td>NaN</td>\n",
              "    </tr>\n",
              "    <tr>\n",
              "      <th>110</th>\n",
              "      <td>NaN</td>\n",
              "      <td>1.000000</td>\n",
              "      <td>NaN</td>\n",
              "      <td>NaN</td>\n",
              "      <td>NaN</td>\n",
              "      <td>NaN</td>\n",
              "    </tr>\n",
              "    <tr>\n",
              "      <th>111</th>\n",
              "      <td>NaN</td>\n",
              "      <td>NaN</td>\n",
              "      <td>1.000000</td>\n",
              "      <td>NaN</td>\n",
              "      <td>NaN</td>\n",
              "      <td>NaN</td>\n",
              "    </tr>\n",
              "  </tbody>\n",
              "</table>\n",
              "<p>112 rows × 6 columns</p>\n",
              "</div>"
            ]
          },
          "metadata": {
            "tags": []
          },
          "execution_count": 282
        }
      ]
    },
    {
      "cell_type": "markdown",
      "metadata": {
        "id": "S_qAOfqaEazk"
      },
      "source": [
        "Guarda el archivo CSV particionado por distrito y por barrio (en ese orden) en un directorio local. Consulta el directorio para ver la estructura de los ficheros y comprueba que es la esperada."
      ]
    },
    {
      "cell_type": "code",
      "metadata": {
        "colab": {
          "base_uri": "https://localhost:8080/",
          "height": 195
        },
        "id": "iUI1XXF8FCbr",
        "outputId": "a8c77f16-db28-46cd-feaa-31c68b5bb7f2"
      },
      "source": [
        "padron_KDF.head()"
      ],
      "execution_count": null,
      "outputs": [
        {
          "output_type": "execute_result",
          "data": {
            "text/plain": [
              "  DESC_DISTRITO DESC_BARRIO  COD_EDAD_INT  EspanolesHombres  EspanolesMujeres  ExtranjerosHombres  ExtranjerosMujeres\n",
              "0        CENTRO     PALACIO           103                 0                 1                   0                   0\n",
              "1        CENTRO     PALACIO             0                 1                 1                   0                   3\n",
              "2        CENTRO     PALACIO             1                 2                 3                   0                   0\n",
              "3        CENTRO     PALACIO             2                 1                 4                   0                   0\n",
              "4        CENTRO     PALACIO             3                 4                 0                   0                   0"
            ],
            "text/html": [
              "<div>\n",
              "<style scoped>\n",
              "    .dataframe tbody tr th:only-of-type {\n",
              "        vertical-align: middle;\n",
              "    }\n",
              "\n",
              "    .dataframe tbody tr th {\n",
              "        vertical-align: top;\n",
              "    }\n",
              "\n",
              "    .dataframe thead th {\n",
              "        text-align: right;\n",
              "    }\n",
              "</style>\n",
              "<table border=\"1\" class=\"dataframe\">\n",
              "  <thead>\n",
              "    <tr style=\"text-align: right;\">\n",
              "      <th></th>\n",
              "      <th>DESC_DISTRITO</th>\n",
              "      <th>DESC_BARRIO</th>\n",
              "      <th>COD_EDAD_INT</th>\n",
              "      <th>EspanolesHombres</th>\n",
              "      <th>EspanolesMujeres</th>\n",
              "      <th>ExtranjerosHombres</th>\n",
              "      <th>ExtranjerosMujeres</th>\n",
              "    </tr>\n",
              "  </thead>\n",
              "  <tbody>\n",
              "    <tr>\n",
              "      <th>0</th>\n",
              "      <td>CENTRO</td>\n",
              "      <td>PALACIO</td>\n",
              "      <td>103</td>\n",
              "      <td>0</td>\n",
              "      <td>1</td>\n",
              "      <td>0</td>\n",
              "      <td>0</td>\n",
              "    </tr>\n",
              "    <tr>\n",
              "      <th>1</th>\n",
              "      <td>CENTRO</td>\n",
              "      <td>PALACIO</td>\n",
              "      <td>0</td>\n",
              "      <td>1</td>\n",
              "      <td>1</td>\n",
              "      <td>0</td>\n",
              "      <td>3</td>\n",
              "    </tr>\n",
              "    <tr>\n",
              "      <th>2</th>\n",
              "      <td>CENTRO</td>\n",
              "      <td>PALACIO</td>\n",
              "      <td>1</td>\n",
              "      <td>2</td>\n",
              "      <td>3</td>\n",
              "      <td>0</td>\n",
              "      <td>0</td>\n",
              "    </tr>\n",
              "    <tr>\n",
              "      <th>3</th>\n",
              "      <td>CENTRO</td>\n",
              "      <td>PALACIO</td>\n",
              "      <td>2</td>\n",
              "      <td>1</td>\n",
              "      <td>4</td>\n",
              "      <td>0</td>\n",
              "      <td>0</td>\n",
              "    </tr>\n",
              "    <tr>\n",
              "      <th>4</th>\n",
              "      <td>CENTRO</td>\n",
              "      <td>PALACIO</td>\n",
              "      <td>3</td>\n",
              "      <td>4</td>\n",
              "      <td>0</td>\n",
              "      <td>0</td>\n",
              "      <td>0</td>\n",
              "    </tr>\n",
              "  </tbody>\n",
              "</table>\n",
              "</div>"
            ]
          },
          "metadata": {
            "tags": []
          },
          "execution_count": 31
        }
      ]
    },
    {
      "cell_type": "code",
      "metadata": {
        "id": "ub9K_SJ3Fpe9"
      },
      "source": [
        "padron_KDF.to_csv(\"./padron.csv\", partition_cols=[\"DESC_DISTRITO\", \"DESC_BARRIO\"])"
      ],
      "execution_count": null,
      "outputs": []
    },
    {
      "cell_type": "code",
      "metadata": {
        "id": "H3NuVrYUGcN_"
      },
      "source": [
        "# Comprobamos directorio creado\r\n",
        "#%ls padron.csv"
      ],
      "execution_count": null,
      "outputs": []
    },
    {
      "cell_type": "markdown",
      "metadata": {
        "id": "zOE43IdcG5_M"
      },
      "source": [
        "Haz el mismo guardado pero en formato parquet. Compara el peso del archivo con el resultado anterior."
      ]
    },
    {
      "cell_type": "code",
      "metadata": {
        "id": "DxRMHe8THaIZ"
      },
      "source": [
        "padron_KDF.to_parquet(\"./padron.parquet\", partition_cols=[\"DESC_DISTRITO\", \"DESC_BARRIO\"])"
      ],
      "execution_count": null,
      "outputs": []
    },
    {
      "cell_type": "code",
      "metadata": {
        "id": "QgLX7gocIYaH"
      },
      "source": [
        "#%ls"
      ],
      "execution_count": null,
      "outputs": []
    },
    {
      "cell_type": "markdown",
      "metadata": {
        "id": "kU6do4m7SaaP"
      },
      "source": [
        "## Referencias"
      ]
    },
    {
      "cell_type": "markdown",
      "metadata": {
        "id": "mC7bLUqSJ7J2"
      },
      "source": [
        "* https://koalas.readthedocs.io/en/latest/index.html\r\n",
        "* https://spark.apache.org/docs/latest/sql-pyspark-pandas-with-arrow.html\r\n",
        "* https://towardsdatascience.com/the-jungle-of-koalas-pandas-optimus-and-spark-dd486f873aa4\r\n",
        "* https://www.tigeranalytics.com/blog/koalas-bridge-pandas-pyspark/\r\n",
        "* https://lytix.be/pandas-koalas-and-pyspark-in-python/"
      ]
    }
  ]
}