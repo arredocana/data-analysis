{
  "nbformat": 4,
  "nbformat_minor": 0,
  "metadata": {
    "kernelspec": {
      "display_name": "Python 3",
      "language": "python",
      "name": "python3"
    },
    "language_info": {
      "mimetype": "text/x-python",
      "name": "python",
      "pygments_lexer": "ipython3",
      "codemirror_mode": {
        "name": "ipython",
        "version": 3
      },
      "version": "3.8.5",
      "nbconvert_exporter": "python",
      "file_extension": ".py"
    },
    "application/vnd.databricks.v1+notebook": {
      "notebookName": "Padrón Madrid 2020",
      "dashboards": [],
      "language": "python",
      "widgets": {},
      "notebookOrigID": 2869965637198084
    },
    "colab": {
      "name": "Padrón Madrid 2020.ipynb",
      "provenance": [],
      "collapsed_sections": [
        "7AF1e7_YH-13",
        "XMXvw4QKvf6w",
        "K7nPAK2bvpxy",
        "ZfPAsuy19tj-",
        "oGlb1CzR9tkD",
        "62md-p919tkD"
      ]
    }
  },
  "cells": [
    {
      "cell_type": "markdown",
      "metadata": {
        "application/vnd.databricks.v1+cell": {
          "title": "",
          "showTitle": false,
          "inputWidgets": {},
          "nuid": "c1e608bd-1f41-4f86-9db6-2441d28e34f3"
        },
        "id": "ObgUqcZO9tjv"
      },
      "source": [
        "# Análisis del Padrón Municipal de Madrid\n",
        "\n",
        "La población de un municipio se define como el conjunto de personas inscritas en su Padrón municipal.\n",
        "\n",
        "Toda persona que viva en España está obligada a inscribirse en el Padrón del municipio en el que resida habitualmente, inscribiéndose en el que habite durante más tiempo al año si vive en varios municipios. \n",
        "\n",
        "El Padrón Municipal de Habitantes es el registro administrativo donde constan los habitantes de un municipio, siendo sus datos prueba de la residencia en el municipio y del domicilio habitual.\n",
        "\n",
        "En el [Portal de datos abiertos del Ayuntamiento de Madrid](https://datos.madrid.es/portal/site/egob/menuitem.c05c1f754a33a9fbe4b2e4b284f1a5a0/?vgnextoid=1d755cde99be2410VgnVCM1000000b205a0aRCRD&vgnextchannel=374512b9ace9f310VgnVCM100000171f5a0aRCRD&vgnextfmt=default) podemos encontrar información del Padrón municipal, detallado a nivel de distrito, barrio y sección censal, y agregado por sexo y edad.\n",
        "\n",
        "Con esta información, vamos a tratar de responder a las siguientes cuestiones:\n",
        "\n",
        "1. ¿Cuál es el porcentaje de españoles y extranjeros que hay por distrito y barrio?\n",
        "2. ¿Cuál es la edad media de los ciudadanos por distrito y barrio?"
      ]
    },
    {
      "cell_type": "markdown",
      "metadata": {
        "id": "7AF1e7_YH-13"
      },
      "source": [
        "### Instalación de Spark en Google Colab"
      ]
    },
    {
      "cell_type": "code",
      "metadata": {
        "id": "X7WMgzmHSmCa"
      },
      "source": [
        "# Get the latest Spark version\r\n",
        "from bs4 import BeautifulSoup\r\n",
        "import requests\r\n",
        "\r\n",
        "url = 'https://downloads.apache.org/spark/' \r\n",
        "r = requests.get(url)\r\n",
        "html_doc = r.text\r\n",
        "soup = BeautifulSoup(html_doc)\r\n",
        "\r\n",
        "link_files = []\r\n",
        "for link in soup.find_all('a'):\r\n",
        "  link_files.append(link.get('href'))\r\n",
        "spark_link = [x for x in link_files if 'spark' in x]  \r\n",
        "spark_version = spark_link[1][:-1]"
      ],
      "execution_count": 1,
      "outputs": []
    },
    {
      "cell_type": "code",
      "metadata": {
        "colab": {
          "base_uri": "https://localhost:8080/"
        },
        "id": "mFpscSlnH6al",
        "outputId": "66dcd7e2-ce3a-4034-de93-c7e6c469912b"
      },
      "source": [
        "# Install Java\r\n",
        "!apt-get install openjdk-8-jdk-headless -qq > /dev/null\r\n",
        "\r\n",
        "# Install needed libraries\r\n",
        "!pip install -q findspark\r\n",
        "!pip install -q pyspark\r\n",
        "!pip install -q koalas\r\n",
        "#!pip install -q pyarrow\r\n",
        "!pip install --upgrade pyarrow\r\n",
        "!pip install -q pyngrok\r\n",
        "\r\n",
        "# Download Spark package\r\n",
        "import os\r\n",
        "dl_link = f\"https://www-us.apache.org/dist/spark/{spark_version}/{spark_version}-bin-hadoop2.7.tgz\"\r\n",
        "os.system(f\"wget -q {dl_link}\")\r\n",
        "\r\n",
        "# Unzip the spark file to the current folder\r\n",
        "os.system(f\"tar xf {spark_version}-bin-hadoop2.7.tgz\")\r\n",
        "\r\n",
        "# Download package to create a public url to view the Spark UI page\r\n",
        "#!wget -q https://bin.equinox.io/c/4VmDzA7iaHb/ngrok-stable-linux-amd64.zip\r\n",
        "#!unzip ngrok-stable-linux-amd64.zip"
      ],
      "execution_count": 2,
      "outputs": [
        {
          "output_type": "stream",
          "text": [
            "\u001b[K     |████████████████████████████████| 204.8MB 62kB/s \n",
            "\u001b[K     |████████████████████████████████| 204kB 47.9MB/s \n",
            "\u001b[?25h  Building wheel for pyspark (setup.py) ... \u001b[?25l\u001b[?25hdone\n",
            "\u001b[K     |████████████████████████████████| 675kB 5.5MB/s \n",
            "\u001b[?25hCollecting pyarrow\n",
            "\u001b[?25l  Downloading https://files.pythonhosted.org/packages/33/67/2f4fcce1b41bcc7e88a6bfdb42046597ae72e5bc95c2789b7c5ac893c433/pyarrow-3.0.0-cp36-cp36m-manylinux2014_x86_64.whl (20.7MB)\n",
            "\u001b[K     |████████████████████████████████| 20.7MB 1.2MB/s \n",
            "\u001b[?25hRequirement already satisfied, skipping upgrade: numpy>=1.16.6 in /usr/local/lib/python3.6/dist-packages (from pyarrow) (1.19.5)\n",
            "Installing collected packages: pyarrow\n",
            "  Found existing installation: pyarrow 0.14.1\n",
            "    Uninstalling pyarrow-0.14.1:\n",
            "      Successfully uninstalled pyarrow-0.14.1\n",
            "Successfully installed pyarrow-3.0.0\n",
            "\u001b[K     |████████████████████████████████| 737kB 4.3MB/s \n",
            "\u001b[?25h  Building wheel for pyngrok (setup.py) ... \u001b[?25l\u001b[?25hdone\n"
          ],
          "name": "stdout"
        },
        {
          "output_type": "execute_result",
          "data": {
            "text/plain": [
              "0"
            ]
          },
          "metadata": {
            "tags": []
          },
          "execution_count": 2
        }
      ]
    },
    {
      "cell_type": "code",
      "metadata": {
        "id": "lLNgcc1bS2rh"
      },
      "source": [
        "# Set your spark folder to your system path environment\r\n",
        "import os\r\n",
        "os.environ[\"JAVA_HOME\"] = \"/usr/lib/jvm/java-8-openjdk-amd64\"\r\n",
        "os.environ[\"SPARK_HOME\"] = f\"/content/{spark_version}-bin-hadoop2.7\"\r\n",
        "os.environ[\"PYARROW_IGNORE_TIMEZONE\"] = \"1\"\r\n",
        "\r\n",
        "# Locate Spark in the system\r\n",
        "import findspark\r\n",
        "findspark.init()"
      ],
      "execution_count": 3,
      "outputs": []
    },
    {
      "cell_type": "markdown",
      "metadata": {
        "id": "XMXvw4QKvf6w"
      },
      "source": [
        "### Importar datos desde Google Drive"
      ]
    },
    {
      "cell_type": "code",
      "metadata": {
        "colab": {
          "base_uri": "https://localhost:8080/"
        },
        "id": "lYngByZNQE3D",
        "outputId": "6bcaf3b8-dcd1-4838-c388-8e907f47a2d9"
      },
      "source": [
        "# Mount Drive (authentication required)\n",
        "from google.colab import drive\n",
        "drive.mount('/content/drive')"
      ],
      "execution_count": 8,
      "outputs": [
        {
          "output_type": "stream",
          "text": [
            "Mounted at /content/drive\n"
          ],
          "name": "stdout"
        }
      ]
    },
    {
      "cell_type": "code",
      "metadata": {
        "id": "uQd9lalpQT89"
      },
      "source": [
        "# Viewing the data in the folder present from the drive\r\n",
        "!ls -l \"/content/drive/My Drive/Colab Notebooks/datasets\""
      ],
      "execution_count": null,
      "outputs": []
    },
    {
      "cell_type": "code",
      "metadata": {
        "id": "QAJbzW7PdP8w"
      },
      "source": [
        "# Cloud file path\r\n",
        "file_path = \"drive/MyDrive/Colab\\ Notebooks/datasets/padron_madrid_2020.csv\""
      ],
      "execution_count": 29,
      "outputs": []
    },
    {
      "cell_type": "markdown",
      "metadata": {
        "id": "K7nPAK2bvpxy"
      },
      "source": [
        "### Importar datos desde local"
      ]
    },
    {
      "cell_type": "code",
      "metadata": {
        "id": "JWraNz-LvsmA"
      },
      "source": [
        "# Importing files method from colab for accessing Local file system\r\n",
        "from google.colab import files\r\n",
        "\r\n",
        "uploaded = files.upload()\r\n",
        "\r\n",
        "print(uploaded.keys())"
      ],
      "execution_count": null,
      "outputs": []
    },
    {
      "cell_type": "code",
      "metadata": {
        "id": "an-CUajEvz8E"
      },
      "source": [
        "# Local file path\r\n",
        "file_path = './Documents/Learning Spark/datasets/padron_madrid_2020.csv'"
      ],
      "execution_count": 2,
      "outputs": []
    },
    {
      "cell_type": "markdown",
      "metadata": {
        "application/vnd.databricks.v1+cell": {
          "title": "",
          "showTitle": false,
          "inputWidgets": {},
          "nuid": "6dadd2cb-f7bd-4707-93ed-f3e8581885f7"
        },
        "id": "y5o0rKEf9tj2"
      },
      "source": [
        "## Análisis usando PySpark"
      ]
    },
    {
      "cell_type": "code",
      "metadata": {
        "application/vnd.databricks.v1+cell": {
          "title": "",
          "showTitle": false,
          "inputWidgets": {},
          "nuid": "0c4616e4-fb98-4bb2-ad19-053a2ed697bd"
        },
        "id": "RcxPaJp49tj3"
      },
      "source": [
        "# Import PySpark and libraries\n",
        "import pyspark\n",
        "from pyspark.sql import SparkSession\n",
        "import pyspark.sql.functions as F\n",
        "from pyspark.sql.types import StructType, StructField, StringType, IntegerType\n",
        "#from pyspark.sql.types import *\n",
        "from pyngrok import ngrok"
      ],
      "execution_count": 4,
      "outputs": []
    },
    {
      "cell_type": "code",
      "metadata": {
        "id": "UvrOpVNq_MOA"
      },
      "source": [
        "# Build a SparkSession\r\n",
        "spark = SparkSession.builder\\\r\n",
        "        .master(\"local[*]\")\\\r\n",
        "        .appName(\"Padrón\")\\\r\n",
        "        .config(\"spark.sql.execution.arrow.enabled\", \"true\")\\\r\n",
        "        .config('spark.ui.port', '4050')\\\r\n",
        "        .getOrCreate()\r\n",
        "\r\n",
        "# Open tunnel on the port 4050 to get a public URL\r\n",
        "ngrok.connect(4050)"
      ],
      "execution_count": 5,
      "outputs": []
    },
    {
      "cell_type": "code",
      "metadata": {
        "colab": {
          "base_uri": "https://localhost:8080/",
          "height": 214
        },
        "id": "07oZ0WYnLN7f",
        "outputId": "e2b8e9ef-b657-4b53-9c48-5a3eed64c1f5"
      },
      "source": [
        "# Print the SparkSession\r\n",
        "spark"
      ],
      "execution_count": 6,
      "outputs": [
        {
          "output_type": "execute_result",
          "data": {
            "text/plain": [
              "<pyspark.sql.session.SparkSession at 0x24a0ccfb610>"
            ],
            "text/html": [
              "\n",
              "            <div>\n",
              "                <p><b>SparkSession - in-memory</b></p>\n",
              "                \n",
              "        <div>\n",
              "            <p><b>SparkContext</b></p>\n",
              "\n",
              "            <p><a href=\"http://EM2020002559.bosonit.local:4050\">Spark UI</a></p>\n",
              "\n",
              "            <dl>\n",
              "              <dt>Version</dt>\n",
              "                <dd><code>v3.0.1</code></dd>\n",
              "              <dt>Master</dt>\n",
              "                <dd><code>local[*]</code></dd>\n",
              "              <dt>AppName</dt>\n",
              "                <dd><code>Padrón</code></dd>\n",
              "            </dl>\n",
              "        </div>\n",
              "        \n",
              "            </div>\n",
              "        "
            ]
          },
          "metadata": {
            "tags": []
          },
          "execution_count": 6
        }
      ]
    },
    {
      "cell_type": "code",
      "metadata": {
        "id": "r8DbqhROwiNk"
      },
      "source": [
        "# Define schema for our data using the StructType method\r\n",
        "schema = StructType([\r\n",
        "  # Define a StructField for each field\r\n",
        "    StructField('cod_distrito', StringType(), False),\r\n",
        "    StructField('desc_distrito', StringType(), False),\r\n",
        "    StructField('cod_dist_barrio', StringType(), False),\r\n",
        "    StructField('desc_barrio', StringType(), False),\r\n",
        "    StructField('cod_barrio', StringType(), False),\r\n",
        "    StructField('cod_dist_seccion', StringType(), False),\r\n",
        "    StructField('cod_seccion', StringType(), False),\r\n",
        "    StructField('cod_edad', IntegerType(), False),\r\n",
        "    StructField('esp_hombres', IntegerType(), True),\r\n",
        "    StructField('esp_mujeres', IntegerType(), True),\r\n",
        "    StructField('ext_hombres', IntegerType(), True),\r\n",
        "    StructField('ext_mujeres', IntegerType(), True)\r\n",
        "])\r\n",
        "\r\n",
        "# Define schema for our data using DDL (Data Definition Language)\r\n",
        "schema_ddl = \"\"\"\r\n",
        "  cod_distrito STRING, \r\n",
        "  desc_distrito STRING, \r\n",
        "  cod_dist_barrio STRING, \r\n",
        "  desc_barrio STRING,\r\n",
        "  cod_barrio STRING, \r\n",
        "  cod_dist_seccion STRING, \r\n",
        "  cod_seccion STRING, \r\n",
        "  cod_edad INT, \r\n",
        "  esp_hombres INT, \r\n",
        "  esp_mujeres INT, \r\n",
        "  ext_hombres INT, \r\n",
        "  ext_mujeres INT\r\n",
        "\"\"\""
      ],
      "execution_count": 7,
      "outputs": []
    },
    {
      "cell_type": "code",
      "metadata": {
        "application/vnd.databricks.v1+cell": {
          "title": "",
          "showTitle": false,
          "inputWidgets": {},
          "nuid": "ede31021-4cc8-4f1d-add4-c998ddbcd10b"
        },
        "id": "J3uzEU-b9tj6"
      },
      "source": [
        "padron_raw = (spark.read.format('csv')\n",
        "            .options(header=True, delimiter=';',\n",
        "                     encoding='ISO-8859-1',\n",
        "                     emptyValue=0,\n",
        "                     ignoreLeadingWhiteSpace=True,\n",
        "                     ignoreTrailingWhiteSpace=True\n",
        "                    )\n",
        "            .schema(schema)\n",
        "            .load(file_path))"
      ],
      "execution_count": 8,
      "outputs": []
    },
    {
      "cell_type": "code",
      "metadata": {
        "application/vnd.databricks.v1+cell": {
          "title": "",
          "showTitle": false,
          "inputWidgets": {},
          "nuid": "12c0d064-da1c-4e81-95e4-4e9f33fae647"
        },
        "colab": {
          "base_uri": "https://localhost:8080/"
        },
        "id": "c7O6ehEY9tj7",
        "outputId": "94a46291-540b-452b-9bca-0b77c206d6ee"
      },
      "source": [
        "padron_raw.printSchema()\r\n",
        "\r\n",
        "# Count the number of rows \r\n",
        "print(\"There are {} rows in the DataFrame. \\n\".format(padron_raw.count()))"
      ],
      "execution_count": 38,
      "outputs": [
        {
          "output_type": "stream",
          "text": [
            "root\n",
            " |-- cod_distrito: string (nullable = true)\n",
            " |-- desc_distrito: string (nullable = true)\n",
            " |-- cod_dist_barrio: string (nullable = true)\n",
            " |-- desc_barrio: string (nullable = true)\n",
            " |-- cod_barrio: string (nullable = true)\n",
            " |-- cod_dist_seccion: string (nullable = true)\n",
            " |-- cod_seccion: string (nullable = true)\n",
            " |-- cod_edad: integer (nullable = true)\n",
            " |-- esp_hombres: integer (nullable = true)\n",
            " |-- esp_mujeres: integer (nullable = true)\n",
            " |-- ext_hombres: integer (nullable = true)\n",
            " |-- ext_mujeres: integer (nullable = true)\n",
            "\n",
            "There are 237675 rows in the DataFrame. \n",
            "\n"
          ],
          "name": "stdout"
        }
      ]
    },
    {
      "cell_type": "code",
      "metadata": {
        "application/vnd.databricks.v1+cell": {
          "title": "",
          "showTitle": false,
          "inputWidgets": {},
          "nuid": "15534a4f-da89-487f-ac5a-835a24c08491"
        },
        "colab": {
          "base_uri": "https://localhost:8080/"
        },
        "id": "4znWnFzs9tj7",
        "outputId": "92b9bc23-9e8f-46a2-af54-360a9fe5031d"
      },
      "source": [
        "# Show the 10 first rows\r\n",
        "padron_raw.show(10)"
      ],
      "execution_count": 37,
      "outputs": [
        {
          "output_type": "stream",
          "text": [
            "+------------+--------------------+---------------+--------------------+----------+----------------+-----------+--------+-----------+-----------+-----------+-----------+\n",
            "|cod_distrito|       desc_distrito|cod_dist_barrio|         desc_barrio|cod_barrio|cod_dist_seccion|cod_seccion|cod_edad|esp_hombres|esp_mujeres|ext_hombres|ext_mujeres|\n",
            "+------------+--------------------+---------------+--------------------+----------+----------------+-----------+--------+-----------+-----------+-----------+-----------+\n",
            "|           1|CENTRO              |            101|PALACIO             |         1|            1006|          6|     103|          0|          1|          0|          0|\n",
            "|           1|CENTRO              |            101|PALACIO             |         1|            1007|          7|       0|          1|          1|          0|          3|\n",
            "|           1|CENTRO              |            101|PALACIO             |         1|            1007|          7|       1|          2|          3|          0|          0|\n",
            "|           1|CENTRO              |            101|PALACIO             |         1|            1007|          7|       2|          1|          4|          0|          0|\n",
            "|           1|CENTRO              |            101|PALACIO             |         1|            1007|          7|       3|          4|          0|          0|          0|\n",
            "|           1|CENTRO              |            101|PALACIO             |         1|            1007|          7|       4|          1|          2|          0|          1|\n",
            "|           1|CENTRO              |            101|PALACIO             |         1|            1007|          7|       5|          2|          6|          0|          0|\n",
            "|           1|CENTRO              |            101|PALACIO             |         1|            1007|          7|       6|          1|          0|          0|          0|\n",
            "|           1|CENTRO              |            101|PALACIO             |         1|            1007|          7|       7|          3|          2|          0|          0|\n",
            "|           1|CENTRO              |            101|PALACIO             |         1|            1007|          7|       8|          4|          2|          0|          0|\n",
            "+------------+--------------------+---------------+--------------------+----------+----------------+-----------+--------+-----------+-----------+-----------+-----------+\n",
            "only showing top 10 rows\n",
            "\n",
            "There are 237675 rows in the DataFrame. \n",
            "\n"
          ],
          "name": "stdout"
        }
      ]
    },
    {
      "cell_type": "code",
      "metadata": {
        "colab": {
          "base_uri": "https://localhost:8080/"
        },
        "id": "ompGFb2hFHUN",
        "outputId": "c95d97b8-9cca-4d24-f338-db0be369ca07"
      },
      "source": [
        "# Get count of null values in Pyspark\r\n",
        "padron_raw.select([F.count(F.when(F.col(c).isNull(), c)).alias(c) for c in padron_raw.columns[:8]]).show()\r\n",
        "\r\n",
        "padron_raw.select([F.count(F.when(F.col(c).isNull(), c)).alias(c) for c in padron_raw.columns[8:]]).show()"
      ],
      "execution_count": 39,
      "outputs": [
        {
          "output_type": "stream",
          "text": [
            "+------------+-------------+---------------+-----------+----------+----------------+-----------+--------+\n",
            "|cod_distrito|desc_distrito|cod_dist_barrio|desc_barrio|cod_barrio|cod_dist_seccion|cod_seccion|cod_edad|\n",
            "+------------+-------------+---------------+-----------+----------+----------------+-----------+--------+\n",
            "|           0|            0|              0|          0|         0|               0|          0|       0|\n",
            "+------------+-------------+---------------+-----------+----------+----------------+-----------+--------+\n",
            "\n",
            "+-----------+-----------+-----------+-----------+\n",
            "|esp_hombres|esp_mujeres|ext_hombres|ext_mujeres|\n",
            "+-----------+-----------+-----------+-----------+\n",
            "|          0|          0|          0|          0|\n",
            "+-----------+-----------+-----------+-----------+\n",
            "\n"
          ],
          "name": "stdout"
        }
      ]
    },
    {
      "cell_type": "code",
      "metadata": {
        "application/vnd.databricks.v1+cell": {
          "title": "",
          "showTitle": false,
          "inputWidgets": {},
          "nuid": "87cfd6e5-fdd8-4f7d-8836-ff14fbcad51e"
        },
        "id": "qpWoouz99tj7"
      },
      "source": [
        "#[f.name for f in padron_raw.schema.fields if isinstance(f.dataType, StringType)]"
      ],
      "execution_count": null,
      "outputs": []
    },
    {
      "cell_type": "code",
      "metadata": {
        "application/vnd.databricks.v1+cell": {
          "title": "",
          "showTitle": false,
          "inputWidgets": {},
          "nuid": "117d03df-7300-47ce-b821-d1fc23940afe"
        },
        "id": "Wj1YY2BI9tj7"
      },
      "source": [
        "#map(padronDF.schema.fields)"
      ],
      "execution_count": null,
      "outputs": []
    },
    {
      "cell_type": "code",
      "metadata": {
        "application/vnd.databricks.v1+cell": {
          "title": "",
          "showTitle": false,
          "inputWidgets": {},
          "nuid": "3b870fce-0b15-4b49-b716-f0fc3a9e656a"
        },
        "id": "_FY2RmZA9tj8"
      },
      "source": [
        "#padronDF.select(map()\n",
        "#for f in padronDF.schema.fields:\n",
        "#  if(f.dataType == StringType()):\n",
        "#    F.trim(F.col(f.name))"
      ],
      "execution_count": null,
      "outputs": []
    },
    {
      "cell_type": "code",
      "metadata": {
        "application/vnd.databricks.v1+cell": {
          "title": "",
          "showTitle": false,
          "inputWidgets": {},
          "nuid": "7547d080-23c9-4c53-80b8-15687c1b6998"
        },
        "colab": {
          "base_uri": "https://localhost:8080/"
        },
        "id": "bu3HBIkD9tj8",
        "outputId": "c6dc7ab7-54ca-47dc-e1a8-996b5e450a55"
      },
      "source": [
        "padron_raw.filter(F.col(\"desc_distrito\") == \"CENTRO\").show(3)"
      ],
      "execution_count": 40,
      "outputs": [
        {
          "output_type": "stream",
          "text": [
            "+------------+-------------+---------------+-----------+----------+----------------+-----------+--------+-----------+-----------+-----------+-----------+\n",
            "|cod_distrito|desc_distrito|cod_dist_barrio|desc_barrio|cod_barrio|cod_dist_seccion|cod_seccion|cod_edad|esp_hombres|esp_mujeres|ext_hombres|ext_mujeres|\n",
            "+------------+-------------+---------------+-----------+----------+----------------+-----------+--------+-----------+-----------+-----------+-----------+\n",
            "+------------+-------------+---------------+-----------+----------+----------------+-----------+--------+-----------+-----------+-----------+-----------+\n",
            "\n"
          ],
          "name": "stdout"
        }
      ]
    },
    {
      "cell_type": "code",
      "metadata": {
        "application/vnd.databricks.v1+cell": {
          "title": "",
          "showTitle": false,
          "inputWidgets": {},
          "nuid": "62ff5276-2137-45cc-8786-05dde16263c5"
        },
        "id": "tRG3lMy79tj8"
      },
      "source": [
        "padronDF = padron_raw.select(\n",
        "  F.trim(F.col(\"desc_distrito\")).alias(\"distrito\"),\n",
        "  F.trim(F.col(\"desc_barrio\")).alias(\"barrio\"),\n",
        "  \"cod_edad\",\"esp_hombres\", \"esp_mujeres\", \"ext_hombres\", \"ext_mujeres\")"
      ],
      "execution_count": 41,
      "outputs": []
    },
    {
      "cell_type": "code",
      "metadata": {
        "application/vnd.databricks.v1+cell": {
          "title": "",
          "showTitle": false,
          "inputWidgets": {},
          "nuid": "d1c8c9af-3c8c-43aa-a4fe-a5295f684f88"
        },
        "colab": {
          "base_uri": "https://localhost:8080/"
        },
        "id": "rpaZ7fF19tj8",
        "outputId": "7f588d72-6373-4c08-ed8c-9688b419273f"
      },
      "source": [
        "padronDF.show(10)"
      ],
      "execution_count": 42,
      "outputs": [
        {
          "output_type": "stream",
          "text": [
            "+--------+-------+--------+-----------+-----------+-----------+-----------+\n",
            "|distrito| barrio|cod_edad|esp_hombres|esp_mujeres|ext_hombres|ext_mujeres|\n",
            "+--------+-------+--------+-----------+-----------+-----------+-----------+\n",
            "|  CENTRO|PALACIO|     103|          0|          1|          0|          0|\n",
            "|  CENTRO|PALACIO|       0|          1|          1|          0|          3|\n",
            "|  CENTRO|PALACIO|       1|          2|          3|          0|          0|\n",
            "|  CENTRO|PALACIO|       2|          1|          4|          0|          0|\n",
            "|  CENTRO|PALACIO|       3|          4|          0|          0|          0|\n",
            "|  CENTRO|PALACIO|       4|          1|          2|          0|          1|\n",
            "|  CENTRO|PALACIO|       5|          2|          6|          0|          0|\n",
            "|  CENTRO|PALACIO|       6|          1|          0|          0|          0|\n",
            "|  CENTRO|PALACIO|       7|          3|          2|          0|          0|\n",
            "|  CENTRO|PALACIO|       8|          4|          2|          0|          0|\n",
            "+--------+-------+--------+-----------+-----------+-----------+-----------+\n",
            "only showing top 10 rows\n",
            "\n"
          ],
          "name": "stdout"
        }
      ]
    },
    {
      "cell_type": "code",
      "metadata": {
        "application/vnd.databricks.v1+cell": {
          "title": "",
          "showTitle": false,
          "inputWidgets": {},
          "nuid": "72400fec-6f70-47bb-aa9a-fc091b8cbe5b"
        },
        "colab": {
          "base_uri": "https://localhost:8080/"
        },
        "id": "dx_GTl-J9tj8",
        "outputId": "3f628bcb-fb49-40bd-e1dd-b590a4dff96b"
      },
      "source": [
        "padronDF.filter(F.col(\"distrito\") == \"CENTRO\").show(3)"
      ],
      "execution_count": 43,
      "outputs": [
        {
          "output_type": "stream",
          "text": [
            "+--------+-------+--------+-----------+-----------+-----------+-----------+\n",
            "|distrito| barrio|cod_edad|esp_hombres|esp_mujeres|ext_hombres|ext_mujeres|\n",
            "+--------+-------+--------+-----------+-----------+-----------+-----------+\n",
            "|  CENTRO|PALACIO|     103|          0|          1|          0|          0|\n",
            "|  CENTRO|PALACIO|       0|          1|          1|          0|          3|\n",
            "|  CENTRO|PALACIO|       1|          2|          3|          0|          0|\n",
            "+--------+-------+--------+-----------+-----------+-----------+-----------+\n",
            "only showing top 3 rows\n",
            "\n"
          ],
          "name": "stdout"
        }
      ]
    },
    {
      "cell_type": "markdown",
      "metadata": {
        "application/vnd.databricks.v1+cell": {
          "title": "",
          "showTitle": false,
          "inputWidgets": {},
          "nuid": "d422d703-82e8-4f4f-9185-6830fa7d1154"
        },
        "id": "bVIHn1hu9tj8"
      },
      "source": [
        "### ¿Qué porcentaje de españoles y extranjeros hay por distrito y barrio?"
      ]
    },
    {
      "cell_type": "code",
      "metadata": {
        "application/vnd.databricks.v1+cell": {
          "title": "",
          "showTitle": false,
          "inputWidgets": {},
          "nuid": "00ca254d-4c88-45e8-b8af-76db4609342a"
        },
        "colab": {
          "base_uri": "https://localhost:8080/"
        },
        "id": "_MR8uDV29tj9",
        "outputId": "07a98a30-ebca-44eb-e817-a03c621a1391"
      },
      "source": [
        "padronDF = (padronDF\n",
        "                .withColumn('total_esp', F.col('esp_hombres') + F.col('esp_mujeres'))\n",
        "                .withColumn('total_ext', F.col('ext_hombres') + F.col('ext_mujeres'))\n",
        "                .withColumn('total', F.col('total_esp') + F.col('total_ext'))\n",
        "               )\n",
        "\n",
        "padronDF.show(10)"
      ],
      "execution_count": 44,
      "outputs": [
        {
          "output_type": "stream",
          "text": [
            "+--------+-------+--------+-----------+-----------+-----------+-----------+---------+---------+-----+\n",
            "|distrito| barrio|cod_edad|esp_hombres|esp_mujeres|ext_hombres|ext_mujeres|total_esp|total_ext|total|\n",
            "+--------+-------+--------+-----------+-----------+-----------+-----------+---------+---------+-----+\n",
            "|  CENTRO|PALACIO|     103|          0|          1|          0|          0|        1|        0|    1|\n",
            "|  CENTRO|PALACIO|       0|          1|          1|          0|          3|        2|        3|    5|\n",
            "|  CENTRO|PALACIO|       1|          2|          3|          0|          0|        5|        0|    5|\n",
            "|  CENTRO|PALACIO|       2|          1|          4|          0|          0|        5|        0|    5|\n",
            "|  CENTRO|PALACIO|       3|          4|          0|          0|          0|        4|        0|    4|\n",
            "|  CENTRO|PALACIO|       4|          1|          2|          0|          1|        3|        1|    4|\n",
            "|  CENTRO|PALACIO|       5|          2|          6|          0|          0|        8|        0|    8|\n",
            "|  CENTRO|PALACIO|       6|          1|          0|          0|          0|        1|        0|    1|\n",
            "|  CENTRO|PALACIO|       7|          3|          2|          0|          0|        5|        0|    5|\n",
            "|  CENTRO|PALACIO|       8|          4|          2|          0|          0|        6|        0|    6|\n",
            "+--------+-------+--------+-----------+-----------+-----------+-----------+---------+---------+-----+\n",
            "only showing top 10 rows\n",
            "\n"
          ],
          "name": "stdout"
        }
      ]
    },
    {
      "cell_type": "code",
      "metadata": {
        "application/vnd.databricks.v1+cell": {
          "title": "",
          "showTitle": false,
          "inputWidgets": {},
          "nuid": "8fd8d662-edb7-41c8-ae1b-22593c6530b0"
        },
        "colab": {
          "base_uri": "https://localhost:8080/"
        },
        "id": "6OoqDEsV9tj9",
        "outputId": "4ba54f15-c29b-4ab1-c0cc-ce2186b55214"
      },
      "source": [
        "padronDF_grouped = padronDF.groupby('distrito','barrio')\\\n",
        "    .agg(\n",
        "            (F.round(100 * F.sum('total_esp') / F.sum('total'), 2)).alias('pct_esp'),\n",
        "            (F.round(100 * F.sum('total_ext') / F.sum('total'), 2)).alias('pct_ext')\n",
        "    )\\\n",
        "    .orderBy('pct_ext', ascending=False)\n",
        "\n",
        "padronDF_grouped.show(10)"
      ],
      "execution_count": 45,
      "outputs": [
        {
          "output_type": "stream",
          "text": [
            "+------------------+-------------+-------+-------+\n",
            "|          distrito|       barrio|pct_esp|pct_ext|\n",
            "+------------------+-------------+-------+-------+\n",
            "|             USERA|   PRADOLONGO|  62.16|  37.84|\n",
            "|        VILLAVERDE|SAN CRISTOBAL|  63.52|  36.48|\n",
            "|PUENTE DE VALLECAS|    SAN DIEGO|  67.14|  32.86|\n",
            "|            CENTRO|          SOL|  68.02|  31.98|\n",
            "|             USERA|     MOSCARDO|  70.23|  29.77|\n",
            "|            CENTRO|  EMBAJADORES|   70.5|   29.5|\n",
            "|             USERA|  ALMENDRALES|  70.64|  29.36|\n",
            "|             USERA|        ZOFIO|  72.95|  27.05|\n",
            "|            CENTRO|       CORTES|  74.14|  25.86|\n",
            "|       CARABANCHEL|PUERTA BONITA|  74.34|  25.66|\n",
            "+------------------+-------------+-------+-------+\n",
            "only showing top 10 rows\n",
            "\n"
          ],
          "name": "stdout"
        }
      ]
    },
    {
      "cell_type": "markdown",
      "metadata": {
        "application/vnd.databricks.v1+cell": {
          "title": "",
          "showTitle": false,
          "inputWidgets": {},
          "nuid": "e6b3a85f-6856-4b2d-8a1f-0a10c169b405"
        },
        "id": "9M-Zi1as9tj9"
      },
      "source": [
        "### ¿Cuál es la edad media de los ciudadanos por barrio?"
      ]
    },
    {
      "cell_type": "code",
      "metadata": {
        "application/vnd.databricks.v1+cell": {
          "title": "",
          "showTitle": false,
          "inputWidgets": {},
          "nuid": "00b6cad4-15ed-4f62-bcdd-798fbba39b65"
        },
        "id": "KQlQj4ip9tj9",
        "colab": {
          "base_uri": "https://localhost:8080/"
        },
        "outputId": "e4b85616-246e-414b-d3c4-370e9d2326f4"
      },
      "source": [
        "(padronDF\n",
        " .select(\"barrio\", \"cod_edad\")\n",
        " .groupBy(\"barrio\")\n",
        " .agg((F.round(F.avg(\"cod_edad\"),2)).alias(\"avg_edad\"))\n",
        " .orderBy(\"avg_edad\", ascending=False)\n",
        " .show(10)\n",
        ")"
      ],
      "execution_count": 47,
      "outputs": [
        {
          "output_type": "stream",
          "text": [
            "+--------------+--------+\n",
            "|        barrio|avg_edad|\n",
            "+--------------+--------+\n",
            "|    EL PLANTIO|   50.05|\n",
            "|HISPANOAMERICA|    49.7|\n",
            "|    GAZTAMBIDE|   49.52|\n",
            "|       ALMAGRO|   49.49|\n",
            "|    RIOS ROSAS|   49.45|\n",
            "|  VALLEHERMOSO|   49.42|\n",
            "| CASA DE CAMPO|   49.39|\n",
            "|    CONCEPCION|   49.38|\n",
            "|         IBIZA|    49.3|\n",
            "|     ARGUELLES|    49.2|\n",
            "+--------------+--------+\n",
            "only showing top 10 rows\n",
            "\n"
          ],
          "name": "stdout"
        }
      ]
    },
    {
      "cell_type": "markdown",
      "metadata": {
        "application/vnd.databricks.v1+cell": {
          "title": "",
          "showTitle": false,
          "inputWidgets": {},
          "nuid": "c429401c-9c58-4c91-b01f-3207d90c2d5b"
        },
        "id": "7Puun_2g9tj-"
      },
      "source": [
        "### Otros ejercicios"
      ]
    },
    {
      "cell_type": "markdown",
      "metadata": {
        "application/vnd.databricks.v1+cell": {
          "title": "",
          "showTitle": false,
          "inputWidgets": {},
          "nuid": "5d316082-7382-44e7-941e-913a5e613268"
        },
        "id": "ZfPAsuy19tj-"
      },
      "source": [
        "#### 6.10\n",
        "Lanza una consulta contra el DF resultante en la que muestre el número total de \"espanoleshombres\", \"espanolesmujeres\", extranjeroshombres\" y \"extranjerosmujeres\" para cada barrio de cada distrito. Las columnas distrito y barrio deben ser las primeras en aparecer en el show. Los resultados deben estar ordenados en orden de más a menos según la columna \"extranjerosmujeres\" y desempatarán por la columna \"extranjeroshombres\"."
      ]
    },
    {
      "cell_type": "code",
      "metadata": {
        "application/vnd.databricks.v1+cell": {
          "title": "",
          "showTitle": false,
          "inputWidgets": {},
          "nuid": "4f6c74ad-a040-44db-a3eb-243b9b8c52bf"
        },
        "id": "v34LC0-Y9tj-"
      },
      "source": [
        "padronDF.groupBy('distrito','barrio')\\\n",
        "    .agg(\n",
        "         (F.sum(\"esp_hombres\")).alias(\"esp_hombres\"), \n",
        "         (F.sum(\"esp_mujeres\")).alias(\"esp_mujeres\"),\n",
        "         (F.sum(\"ext_hombres\")).alias(\"ext_hombres\"),\n",
        "         (F.sum(\"ext_mujeres\")).alias(\"ext_mujeres\")\n",
        "     )\\\n",
        "    .orderBy(\"ext_mujeres\", \"ext_hombres\", ascending=False)\\\n",
        "    .show()"
      ],
      "execution_count": null,
      "outputs": []
    },
    {
      "cell_type": "markdown",
      "metadata": {
        "application/vnd.databricks.v1+cell": {
          "title": "",
          "showTitle": false,
          "inputWidgets": {},
          "nuid": "cff58c05-54b1-45ce-84ed-1771efa5cfbf"
        },
        "id": "TXemcLf59tj_"
      },
      "source": [
        "#### 6.12\n",
        "\n",
        "Crea un nuevo DataFrame a partir del original que muestre únicamente una columna con DESC_BARRIO, otra con DESC_DISTRITO y otra con el número total de \"espanoleshombres\" residentes en cada distrito de cada barrio. Únelo (con un join) con el DataFrame original a través de las columnas en común."
      ]
    },
    {
      "cell_type": "code",
      "metadata": {
        "application/vnd.databricks.v1+cell": {
          "title": "",
          "showTitle": false,
          "inputWidgets": {},
          "nuid": "7a8aeddc-4140-420c-8987-9ce675bf7f09"
        },
        "id": "kO4CzaDV9tj_",
        "outputId": "5ec1712f-3677-4ed6-eedf-597050eb92ed"
      },
      "source": [
        "df1 = padronDF.groupby(\"distrito\", \"barrio\")\\\n",
        "  .agg(F.sum(\"esp_hombres\").alias(\"total_esp_hombres\"))\n",
        "\n",
        "padronDF.join(df1, [\"distrito\",\"barrio\"]).show(10)\n",
        "\n",
        "#https://stackoverflow.com/questions/46944493/removing-duplicate-columns-after-a-df-join-in-spark"
      ],
      "execution_count": null,
      "outputs": [
        {
          "output_type": "display_data",
          "data": {
            "text/html": [
              "<style scoped>\n",
              "  .ansiout {\n",
              "    display: block;\n",
              "    unicode-bidi: embed;\n",
              "    white-space: pre-wrap;\n",
              "    word-wrap: break-word;\n",
              "    word-break: break-all;\n",
              "    font-family: \"Source Code Pro\", \"Menlo\", monospace;;\n",
              "    font-size: 13px;\n",
              "    color: #555;\n",
              "    margin-left: 4px;\n",
              "    line-height: 19px;\n",
              "  }\n",
              "</style>\n",
              "<div class=\"ansiout\">+--------+-------+--------+-----------+-----------+-----------+-----------+-----------------+\n",
              "distrito| barrio|cod_edad|esp_hombres|esp_mujeres|ext_hombres|ext_mujeres|total_esp_hombres|\n",
              "+--------+-------+--------+-----------+-----------+-----------+-----------+-----------------+\n",
              "  CENTRO|PALACIO|     103|          0|          1|          0|          0|             9380|\n",
              "  CENTRO|PALACIO|       0|          1|          1|          0|          3|             9380|\n",
              "  CENTRO|PALACIO|       1|          2|          3|          0|          0|             9380|\n",
              "  CENTRO|PALACIO|       2|          1|          4|          0|          0|             9380|\n",
              "  CENTRO|PALACIO|       3|          4|          0|          0|          0|             9380|\n",
              "  CENTRO|PALACIO|       4|          1|          2|          0|          1|             9380|\n",
              "  CENTRO|PALACIO|       5|          2|          6|          0|          0|             9380|\n",
              "  CENTRO|PALACIO|       6|          1|          0|          0|          0|             9380|\n",
              "  CENTRO|PALACIO|       7|          3|          2|          0|          0|             9380|\n",
              "  CENTRO|PALACIO|       8|          4|          2|          0|          0|             9380|\n",
              "+--------+-------+--------+-----------+-----------+-----------+-----------+-----------------+\n",
              "only showing top 10 rows\n",
              "\n",
              "</div>"
            ]
          },
          "metadata": {
            "tags": [],
            "application/vnd.databricks.v1+output": {
              "datasetInfos": [],
              "data": "<div class=\"ansiout\">+--------+-------+--------+-----------+-----------+-----------+-----------+-----------------+\n|distrito| barrio|cod_edad|esp_hombres|esp_mujeres|ext_hombres|ext_mujeres|total_esp_hombres|\n+--------+-------+--------+-----------+-----------+-----------+-----------+-----------------+\n|  CENTRO|PALACIO|     103|          0|          1|          0|          0|             9380|\n|  CENTRO|PALACIO|       0|          1|          1|          0|          3|             9380|\n|  CENTRO|PALACIO|       1|          2|          3|          0|          0|             9380|\n|  CENTRO|PALACIO|       2|          1|          4|          0|          0|             9380|\n|  CENTRO|PALACIO|       3|          4|          0|          0|          0|             9380|\n|  CENTRO|PALACIO|       4|          1|          2|          0|          1|             9380|\n|  CENTRO|PALACIO|       5|          2|          6|          0|          0|             9380|\n|  CENTRO|PALACIO|       6|          1|          0|          0|          0|             9380|\n|  CENTRO|PALACIO|       7|          3|          2|          0|          0|             9380|\n|  CENTRO|PALACIO|       8|          4|          2|          0|          0|             9380|\n+--------+-------+--------+-----------+-----------+-----------+-----------+-----------------+\nonly showing top 10 rows\n\n</div>",
              "removedWidgets": [],
              "addedWidgets": {},
              "type": "html",
              "arguments": {}
            }
          }
        }
      ]
    },
    {
      "cell_type": "markdown",
      "metadata": {
        "application/vnd.databricks.v1+cell": {
          "title": "",
          "showTitle": false,
          "inputWidgets": {},
          "nuid": "54395748-ac1e-426c-b39d-4babbf070168"
        },
        "id": "ODe3KVP29tj_"
      },
      "source": [
        "#### 6.13 (pending)\n",
        "Repite la función anterior utilizando funciones de ventana. (over(Window.partitionBy.....))."
      ]
    },
    {
      "cell_type": "markdown",
      "metadata": {
        "application/vnd.databricks.v1+cell": {
          "title": "",
          "showTitle": false,
          "inputWidgets": {},
          "nuid": "ace4562c-1efb-4753-9211-cfad5dab049f"
        },
        "id": "X3oV51I79tj_"
      },
      "source": [
        "from pyspark.sql.window import Window\n",
        "Defines partitioning specification and ordering specification.\n",
        "windowSpec = \\\n",
        "  Window \\\n",
        "    .partitionBy(padronDF.distrito, padronDF.barrio) \\\n",
        "    .orderBy(...)"
      ]
    },
    {
      "cell_type": "markdown",
      "metadata": {
        "application/vnd.databricks.v1+cell": {
          "title": "",
          "showTitle": false,
          "inputWidgets": {},
          "nuid": "466a91cf-3615-4a1e-a45f-b0c473127d09"
        },
        "id": "7GJStHA99tj_"
      },
      "source": [
        "#### 6.14\n",
        "Mediante una función Pivot muestra una tabla (que va a ser una tabla de contingencia) que contenga los valores medios de `espanolesmujeres` para cada barrio y en cada rango de edad (COD_EDAD_INT). Los barrios incluidos deben ser únicamente CENTRO, BARAJAS y RETIRO y deben figurar como columnas."
      ]
    },
    {
      "cell_type": "code",
      "metadata": {
        "application/vnd.databricks.v1+cell": {
          "title": "",
          "showTitle": false,
          "inputWidgets": {},
          "nuid": "df69e5c1-b538-4b5b-afe0-8c5a467e57f8"
        },
        "id": "TaZweGhv9tj_",
        "colab": {
          "base_uri": "https://localhost:8080/"
        },
        "outputId": "dfe17bfa-b7d6-46c8-f7a0-9e3c41315ce9"
      },
      "source": [
        "padronDF.filter(\"\"\"distrito in (\"CENTRO\", \"BARAJAS\", \"RETIRO\")\"\"\")\\\n",
        "  .groupBy(\"cod_edad\", \"distrito\")\\\n",
        "  .mean(\"esp_mujeres\")\\\n",
        "  .orderBy(\"cod_edad\")\\\n",
        "  .show(10)"
      ],
      "execution_count": 48,
      "outputs": [
        {
          "output_type": "stream",
          "text": [
            "+--------+--------+------------------+\n",
            "|cod_edad|distrito|  avg(esp_mujeres)|\n",
            "+--------+--------+------------------+\n",
            "|       0|  RETIRO|3.4193548387096775|\n",
            "|       0|  CENTRO|2.3545454545454545|\n",
            "|       0| BARAJAS| 5.483870967741935|\n",
            "|       1|  CENTRO|2.3423423423423424|\n",
            "|       1| BARAJAS| 5.774193548387097|\n",
            "|       1|  RETIRO|3.9361702127659575|\n",
            "|       2|  CENTRO|2.3394495412844036|\n",
            "|       2|  RETIRO| 4.258064516129032|\n",
            "|       2| BARAJAS| 6.741935483870968|\n",
            "|       3|  CENTRO|2.2181818181818183|\n",
            "+--------+--------+------------------+\n",
            "only showing top 10 rows\n",
            "\n"
          ],
          "name": "stdout"
        }
      ]
    },
    {
      "cell_type": "code",
      "metadata": {
        "application/vnd.databricks.v1+cell": {
          "title": "",
          "showTitle": false,
          "inputWidgets": {},
          "nuid": "268de426-90c9-4aae-8c42-6a6468f4f7ec"
        },
        "id": "AL_QVOMH9tj_"
      },
      "source": [
        "padronDF.groupBy(\"cod_edad\")\\\n",
        "  .pivot(\"distrito\", [\"BARAJAS\", \"CENTRO\", \"RETIRO\"])\\\n",
        "  .agg(F.round(F.mean(\"esp_mujeres\"),2))\\\n",
        "  .orderBy(\"cod_edad\")\\\n",
        "  .show(10)"
      ],
      "execution_count": null,
      "outputs": []
    },
    {
      "cell_type": "markdown",
      "metadata": {
        "application/vnd.databricks.v1+cell": {
          "title": "",
          "showTitle": false,
          "inputWidgets": {},
          "nuid": "3f7af394-c900-46c0-ba05-bbd0c34e78e4"
        },
        "id": "AOnljTBw9tkA"
      },
      "source": [
        "#### 6.15 \n",
        "Utilizando este nuevo DF, crea 3 columnas nuevas que hagan referencia a qué porcentaje de la población total de \"espanolesmujeres\" de cada rango de edad representa cada uno delos tres distritos. Debe estar redondeada a 2 decimales. Puedes imponerte la condición extra de no apoyarte en ninguna columna auxiliar creada para el caso."
      ]
    },
    {
      "cell_type": "code",
      "metadata": {
        "application/vnd.databricks.v1+cell": {
          "title": "",
          "showTitle": false,
          "inputWidgets": {},
          "nuid": "f4e9fa6a-32d2-46a0-8c03-91e274b385e5"
        },
        "id": "ms0yJwIl9tkA"
      },
      "source": [
        "padronDF_edad = padronDF.groupBy(\"cod_edad\")\\\n",
        "  .pivot(\"distrito\", [\"BARAJAS\", \"CENTRO\", \"RETIRO\"])\\\n",
        "  .sum(\"esp_mujeres\")\\\n",
        "  .orderBy(\"cod_edad\")\n",
        "\n",
        "padronDF_edad.show(5)"
      ],
      "execution_count": null,
      "outputs": []
    },
    {
      "cell_type": "code",
      "metadata": {
        "application/vnd.databricks.v1+cell": {
          "title": "",
          "showTitle": false,
          "inputWidgets": {},
          "nuid": "cb568944-4145-4d62-9daa-7756f6f176de"
        },
        "id": "EPh0Rlmg9tkA"
      },
      "source": [
        "padronDF_edad.select(\"*\",\n",
        "                     (F.round(100 * (F.col(\"BARAJAS\") / (F.col(\"BARAJAS\") + F.col(\"CENTRO\") + F.col(\"RETIRO\"))),2)).alias(\"% BARAJAS\"),\n",
        "                     (F.round(100* (F.col(\"CENTRO\") / (F.col(\"BARAJAS\") + F.col(\"CENTRO\") + F.col(\"RETIRO\"))),2)).alias(\"% CENTRO\"),\n",
        "                     (F.round(100* (F.col(\"RETIRO\") / (F.col(\"BARAJAS\") + F.col(\"CENTRO\") + F.col(\"RETIRO\"))),2)).alias(\"% RETIRO\")).show(10)"
      ],
      "execution_count": null,
      "outputs": []
    },
    {
      "cell_type": "markdown",
      "metadata": {
        "application/vnd.databricks.v1+cell": {
          "title": "",
          "showTitle": false,
          "inputWidgets": {},
          "nuid": "af9ed083-aeb4-4e36-9a9a-27e798bc87eb"
        },
        "id": "-W95WB359tkA"
      },
      "source": [
        "#### 6.16\n",
        "\n",
        "Guarda el archivo CSV particionado por distrito y por barrio (en ese orden) en un directorio local. Consulta el directorio para ver la estructura de los ficheros y comprueba que es la esperada."
      ]
    },
    {
      "cell_type": "code",
      "metadata": {
        "application/vnd.databricks.v1+cell": {
          "title": "",
          "showTitle": false,
          "inputWidgets": {},
          "nuid": "43985b44-002f-4fdc-8aec-614052dcbc73"
        },
        "id": "AzPez18n9tkB",
        "colab": {
          "base_uri": "https://localhost:8080/"
        },
        "outputId": "18368000-3176-4846-913d-1392559c3f1a"
      },
      "source": [
        "%fs\n",
        "ls /FileStore/datasets"
      ],
      "execution_count": 56,
      "outputs": [
        {
          "output_type": "stream",
          "text": [
            "/content\n"
          ],
          "name": "stdout"
        }
      ]
    },
    {
      "cell_type": "code",
      "metadata": {
        "application/vnd.databricks.v1+cell": {
          "title": "",
          "showTitle": false,
          "inputWidgets": {},
          "nuid": "241e78d2-8d3e-464f-8055-4e19b2136863"
        },
        "id": "D4oOyEc59tkB"
      },
      "source": [
        "padronDF.write.partitionBy(\"distrito\",\"barrio\").mode(\"overwrite\").csv(\"/FileStore/datasets/padron.csv\", header=True)"
      ],
      "execution_count": 57,
      "outputs": []
    },
    {
      "cell_type": "code",
      "metadata": {
        "application/vnd.databricks.v1+cell": {
          "title": "",
          "showTitle": false,
          "inputWidgets": {},
          "nuid": "bf52ec9b-b987-4812-9cbf-64f7e569148a"
        },
        "id": "FUUVLBRv9tkB"
      },
      "source": [
        "%fs \n",
        "ls /FileStore/datasets/padron.csv"
      ],
      "execution_count": null,
      "outputs": []
    },
    {
      "cell_type": "code",
      "metadata": {
        "application/vnd.databricks.v1+cell": {
          "title": "",
          "showTitle": false,
          "inputWidgets": {},
          "nuid": "17ccdd5f-a41d-41d7-af69-fd04aa61f63b"
        },
        "id": "exAHn_t29tkB"
      },
      "source": [
        "spark.read.csv(\"/FileStore/datasets/padron.csv/distrito=ARGANZUELA/barrio=ACACIAS\", header=True).show(5)"
      ],
      "execution_count": null,
      "outputs": []
    },
    {
      "cell_type": "markdown",
      "metadata": {
        "application/vnd.databricks.v1+cell": {
          "title": "",
          "showTitle": false,
          "inputWidgets": {},
          "nuid": "6ed96c6b-a1fa-45e4-931b-15ee1e8f42cd"
        },
        "id": "SjneJBVk9tkB"
      },
      "source": [
        "## Análisis usando Koalas"
      ]
    },
    {
      "cell_type": "code",
      "metadata": {
        "application/vnd.databricks.v1+cell": {
          "title": "",
          "showTitle": false,
          "inputWidgets": {},
          "nuid": "ff7644eb-f3d3-424b-9b5f-1ee42debdd37"
        },
        "id": "-IOuKc859tkB"
      },
      "source": [
        "import databricks.koalas as ks"
      ],
      "execution_count": 50,
      "outputs": []
    },
    {
      "cell_type": "code",
      "metadata": {
        "application/vnd.databricks.v1+cell": {
          "title": "",
          "showTitle": false,
          "inputWidgets": {},
          "nuid": "9e18e3c4-df2f-490f-8de6-73fa16e4885c"
        },
        "colab": {
          "base_uri": "https://localhost:8080/"
        },
        "id": "_olPg7589tkC",
        "outputId": "d56c9bb7-c468-43e2-ee56-1203cb8bbf5b"
      },
      "source": [
        "padron_raw_KDF = padron_raw.to_koalas()\n",
        "\n",
        "print(type(padron_raw_KDF))"
      ],
      "execution_count": null,
      "outputs": [
        {
          "output_type": "stream",
          "text": [
            "databricks.koalas.frame.DataFrame\n"
          ],
          "name": "stdout"
        }
      ]
    },
    {
      "cell_type": "code",
      "metadata": {
        "application/vnd.databricks.v1+cell": {
          "title": "",
          "showTitle": false,
          "inputWidgets": {},
          "nuid": "9ba3b041-1224-480a-992e-4b426495d72f"
        },
        "id": "MCyXQOFf9tkC"
      },
      "source": [
        "# Creamos una función para eliminar espacios en columnas de texto\n",
        "def df_strip(df):\n",
        "  ks.set_option('compute.ops_on_diff_frames', True)\n",
        "  df_obj = df.select_dtypes(['object'])\n",
        "  df[df_obj.columns] = df_obj.apply(lambda x: x.str.strip())\n",
        "  ks.set_option('compute.ops_on_diff_frames', False)\n",
        "  return df\n",
        "#https://koalas.readthedocs.io/en/latest/user_guide/options.html#operations-on-different-dataframes"
      ],
      "execution_count": null,
      "outputs": []
    },
    {
      "cell_type": "code",
      "metadata": {
        "application/vnd.databricks.v1+cell": {
          "title": "",
          "showTitle": false,
          "inputWidgets": {},
          "nuid": "45604e65-6478-414b-80ef-f48a02b7a8a7"
        },
        "colab": {
          "base_uri": "https://localhost:8080/",
          "height": 215
        },
        "id": "rdawktQ49tkC",
        "outputId": "5f045da1-c689-429c-a587-1dce8e296355"
      },
      "source": [
        "padron_raw_KDF.head()"
      ],
      "execution_count": null,
      "outputs": [
        {
          "output_type": "execute_result",
          "data": {
            "text/html": [
              "<div>\n",
              "<style scoped>\n",
              "    .dataframe tbody tr th:only-of-type {\n",
              "        vertical-align: middle;\n",
              "    }\n",
              "\n",
              "    .dataframe tbody tr th {\n",
              "        vertical-align: top;\n",
              "    }\n",
              "\n",
              "    .dataframe thead th {\n",
              "        text-align: right;\n",
              "    }\n",
              "</style>\n",
              "<table border=\"1\" class=\"dataframe\">\n",
              "  <thead>\n",
              "    <tr style=\"text-align: right;\">\n",
              "      <th></th>\n",
              "      <th>cod_distrito</th>\n",
              "      <th>desc_distrito</th>\n",
              "      <th>cod_dist_barrio</th>\n",
              "      <th>desc_barrio</th>\n",
              "      <th>cod_barrio</th>\n",
              "      <th>cod_dist_seccion</th>\n",
              "      <th>cod_seccion</th>\n",
              "      <th>cod_edad</th>\n",
              "      <th>esp_hombres</th>\n",
              "      <th>esp_mujeres</th>\n",
              "      <th>ext_hombres</th>\n",
              "      <th>ext_mujeres</th>\n",
              "    </tr>\n",
              "  </thead>\n",
              "  <tbody>\n",
              "    <tr>\n",
              "      <th>0</th>\n",
              "      <td>1</td>\n",
              "      <td>CENTRO</td>\n",
              "      <td>101</td>\n",
              "      <td>PALACIO</td>\n",
              "      <td>1</td>\n",
              "      <td>1006</td>\n",
              "      <td>6</td>\n",
              "      <td>103</td>\n",
              "      <td>0</td>\n",
              "      <td>1</td>\n",
              "      <td>0</td>\n",
              "      <td>0</td>\n",
              "    </tr>\n",
              "    <tr>\n",
              "      <th>1</th>\n",
              "      <td>1</td>\n",
              "      <td>CENTRO</td>\n",
              "      <td>101</td>\n",
              "      <td>PALACIO</td>\n",
              "      <td>1</td>\n",
              "      <td>1007</td>\n",
              "      <td>7</td>\n",
              "      <td>0</td>\n",
              "      <td>1</td>\n",
              "      <td>1</td>\n",
              "      <td>0</td>\n",
              "      <td>3</td>\n",
              "    </tr>\n",
              "    <tr>\n",
              "      <th>2</th>\n",
              "      <td>1</td>\n",
              "      <td>CENTRO</td>\n",
              "      <td>101</td>\n",
              "      <td>PALACIO</td>\n",
              "      <td>1</td>\n",
              "      <td>1007</td>\n",
              "      <td>7</td>\n",
              "      <td>1</td>\n",
              "      <td>2</td>\n",
              "      <td>3</td>\n",
              "      <td>0</td>\n",
              "      <td>0</td>\n",
              "    </tr>\n",
              "    <tr>\n",
              "      <th>3</th>\n",
              "      <td>1</td>\n",
              "      <td>CENTRO</td>\n",
              "      <td>101</td>\n",
              "      <td>PALACIO</td>\n",
              "      <td>1</td>\n",
              "      <td>1007</td>\n",
              "      <td>7</td>\n",
              "      <td>2</td>\n",
              "      <td>1</td>\n",
              "      <td>4</td>\n",
              "      <td>0</td>\n",
              "      <td>0</td>\n",
              "    </tr>\n",
              "    <tr>\n",
              "      <th>4</th>\n",
              "      <td>1</td>\n",
              "      <td>CENTRO</td>\n",
              "      <td>101</td>\n",
              "      <td>PALACIO</td>\n",
              "      <td>1</td>\n",
              "      <td>1007</td>\n",
              "      <td>7</td>\n",
              "      <td>3</td>\n",
              "      <td>4</td>\n",
              "      <td>0</td>\n",
              "      <td>0</td>\n",
              "      <td>0</td>\n",
              "    </tr>\n",
              "  </tbody>\n",
              "</table>\n",
              "</div>"
            ],
            "text/plain": [
              "  cod_distrito         desc_distrito cod_dist_barrio           desc_barrio cod_barrio cod_dist_seccion cod_seccion  cod_edad  esp_hombres  esp_mujeres  ext_hombres  ext_mujeres\n",
              "0            1  CENTRO                           101  PALACIO                       1             1006           6       103            0            1            0            0\n",
              "1            1  CENTRO                           101  PALACIO                       1             1007           7         0            1            1            0            3\n",
              "2            1  CENTRO                           101  PALACIO                       1             1007           7         1            2            3            0            0\n",
              "3            1  CENTRO                           101  PALACIO                       1             1007           7         2            1            4            0            0\n",
              "4            1  CENTRO                           101  PALACIO                       1             1007           7         3            4            0            0            0"
            ]
          },
          "metadata": {
            "tags": []
          },
          "execution_count": 30
        }
      ]
    },
    {
      "cell_type": "code",
      "metadata": {
        "application/vnd.databricks.v1+cell": {
          "title": "",
          "showTitle": false,
          "inputWidgets": {},
          "nuid": "17c9a7e2-e3e3-42f3-b687-b7e56fc86d43"
        },
        "id": "PhIgmqdp9tkC"
      },
      "source": [
        "padronKDF = df_strip(padron_raw_KDF)"
      ],
      "execution_count": null,
      "outputs": []
    },
    {
      "cell_type": "code",
      "metadata": {
        "application/vnd.databricks.v1+cell": {
          "title": "",
          "showTitle": false,
          "inputWidgets": {},
          "nuid": "1d047dd7-41a1-496d-986b-5d00d0293e3c"
        },
        "colab": {
          "base_uri": "https://localhost:8080/",
          "height": 195
        },
        "id": "cIeETiyo9tkC",
        "outputId": "c6dc340b-a750-48e4-8064-018a3a844177"
      },
      "source": [
        "padronKDF[padronKDF['desc_distrito'] == \"CENTRO\"].head()"
      ],
      "execution_count": null,
      "outputs": [
        {
          "output_type": "execute_result",
          "data": {
            "text/plain": [
              "  cod_distrito desc_distrito cod_dist_barrio desc_barrio cod_barrio cod_dist_seccion cod_seccion  cod_edad  esp_hombres  esp_mujeres  ext_hombres  ext_mujeres\n",
              "0            1        CENTRO             101     PALACIO          1             1006           6       103            0            1            0            0\n",
              "1            1        CENTRO             101     PALACIO          1             1007           7         0            1            1            0            3\n",
              "2            1        CENTRO             101     PALACIO          1             1007           7         1            2            3            0            0\n",
              "3            1        CENTRO             101     PALACIO          1             1007           7         2            1            4            0            0\n",
              "4            1        CENTRO             101     PALACIO          1             1007           7         3            4            0            0            0"
            ],
            "text/html": [
              "<div>\n",
              "<style scoped>\n",
              "    .dataframe tbody tr th:only-of-type {\n",
              "        vertical-align: middle;\n",
              "    }\n",
              "\n",
              "    .dataframe tbody tr th {\n",
              "        vertical-align: top;\n",
              "    }\n",
              "\n",
              "    .dataframe thead th {\n",
              "        text-align: right;\n",
              "    }\n",
              "</style>\n",
              "<table border=\"1\" class=\"dataframe\">\n",
              "  <thead>\n",
              "    <tr style=\"text-align: right;\">\n",
              "      <th></th>\n",
              "      <th>cod_distrito</th>\n",
              "      <th>desc_distrito</th>\n",
              "      <th>cod_dist_barrio</th>\n",
              "      <th>desc_barrio</th>\n",
              "      <th>cod_barrio</th>\n",
              "      <th>cod_dist_seccion</th>\n",
              "      <th>cod_seccion</th>\n",
              "      <th>cod_edad</th>\n",
              "      <th>esp_hombres</th>\n",
              "      <th>esp_mujeres</th>\n",
              "      <th>ext_hombres</th>\n",
              "      <th>ext_mujeres</th>\n",
              "    </tr>\n",
              "  </thead>\n",
              "  <tbody>\n",
              "    <tr>\n",
              "      <th>0</th>\n",
              "      <td>1</td>\n",
              "      <td>CENTRO</td>\n",
              "      <td>101</td>\n",
              "      <td>PALACIO</td>\n",
              "      <td>1</td>\n",
              "      <td>1006</td>\n",
              "      <td>6</td>\n",
              "      <td>103</td>\n",
              "      <td>0</td>\n",
              "      <td>1</td>\n",
              "      <td>0</td>\n",
              "      <td>0</td>\n",
              "    </tr>\n",
              "    <tr>\n",
              "      <th>1</th>\n",
              "      <td>1</td>\n",
              "      <td>CENTRO</td>\n",
              "      <td>101</td>\n",
              "      <td>PALACIO</td>\n",
              "      <td>1</td>\n",
              "      <td>1007</td>\n",
              "      <td>7</td>\n",
              "      <td>0</td>\n",
              "      <td>1</td>\n",
              "      <td>1</td>\n",
              "      <td>0</td>\n",
              "      <td>3</td>\n",
              "    </tr>\n",
              "    <tr>\n",
              "      <th>2</th>\n",
              "      <td>1</td>\n",
              "      <td>CENTRO</td>\n",
              "      <td>101</td>\n",
              "      <td>PALACIO</td>\n",
              "      <td>1</td>\n",
              "      <td>1007</td>\n",
              "      <td>7</td>\n",
              "      <td>1</td>\n",
              "      <td>2</td>\n",
              "      <td>3</td>\n",
              "      <td>0</td>\n",
              "      <td>0</td>\n",
              "    </tr>\n",
              "    <tr>\n",
              "      <th>3</th>\n",
              "      <td>1</td>\n",
              "      <td>CENTRO</td>\n",
              "      <td>101</td>\n",
              "      <td>PALACIO</td>\n",
              "      <td>1</td>\n",
              "      <td>1007</td>\n",
              "      <td>7</td>\n",
              "      <td>2</td>\n",
              "      <td>1</td>\n",
              "      <td>4</td>\n",
              "      <td>0</td>\n",
              "      <td>0</td>\n",
              "    </tr>\n",
              "    <tr>\n",
              "      <th>4</th>\n",
              "      <td>1</td>\n",
              "      <td>CENTRO</td>\n",
              "      <td>101</td>\n",
              "      <td>PALACIO</td>\n",
              "      <td>1</td>\n",
              "      <td>1007</td>\n",
              "      <td>7</td>\n",
              "      <td>3</td>\n",
              "      <td>4</td>\n",
              "      <td>0</td>\n",
              "      <td>0</td>\n",
              "      <td>0</td>\n",
              "    </tr>\n",
              "  </tbody>\n",
              "</table>\n",
              "</div>"
            ]
          },
          "metadata": {
            "tags": []
          },
          "execution_count": 56
        }
      ]
    },
    {
      "cell_type": "code",
      "metadata": {
        "application/vnd.databricks.v1+cell": {
          "title": "",
          "showTitle": false,
          "inputWidgets": {},
          "nuid": "16d1d421-7654-40bc-b0b3-13f3ab476962"
        },
        "id": "ytZD4GeV9tkC"
      },
      "source": [
        "padronKDF = padronKDF.drop([\"cod_distrito\", \"cod_dist_barrio\"])\n",
        "# no permite borrar filas axis = 0"
      ],
      "execution_count": null,
      "outputs": []
    },
    {
      "cell_type": "code",
      "metadata": {
        "application/vnd.databricks.v1+cell": {
          "title": "",
          "showTitle": false,
          "inputWidgets": {},
          "nuid": "7784d4cc-9b8d-4daf-b153-c712b732bc88"
        },
        "colab": {
          "base_uri": "https://localhost:8080/",
          "height": 215
        },
        "id": "hg4n_xGS9tkD",
        "outputId": "65331169-1287-4dad-edca-afa1527594ba"
      },
      "source": [
        "padronKDF[\"total_esp\"] = padronKDF[\"esp_hombres\"] + padronKDF[\"esp_mujeres\"]\n",
        "padronKDF[\"total_ext\"] = padronKDF[\"ext_hombres\"] + padronKDF[\"ext_mujeres\"]\n",
        "\n",
        "padronKDF.head()"
      ],
      "execution_count": null,
      "outputs": [
        {
          "output_type": "execute_result",
          "data": {
            "text/plain": [
              "  desc_distrito desc_barrio cod_barrio cod_dist_seccion cod_seccion  cod_edad  esp_hombres  esp_mujeres  ext_hombres  ext_mujeres  total_esp  total_ext\n",
              "0        CENTRO     PALACIO          1             1006           6       103            0            1            0            0          1          0\n",
              "1        CENTRO     PALACIO          1             1007           7         0            1            1            0            3          2          3\n",
              "2        CENTRO     PALACIO          1             1007           7         1            2            3            0            0          5          0\n",
              "3        CENTRO     PALACIO          1             1007           7         2            1            4            0            0          5          0\n",
              "4        CENTRO     PALACIO          1             1007           7         3            4            0            0            0          4          0"
            ],
            "text/html": [
              "<div>\n",
              "<style scoped>\n",
              "    .dataframe tbody tr th:only-of-type {\n",
              "        vertical-align: middle;\n",
              "    }\n",
              "\n",
              "    .dataframe tbody tr th {\n",
              "        vertical-align: top;\n",
              "    }\n",
              "\n",
              "    .dataframe thead th {\n",
              "        text-align: right;\n",
              "    }\n",
              "</style>\n",
              "<table border=\"1\" class=\"dataframe\">\n",
              "  <thead>\n",
              "    <tr style=\"text-align: right;\">\n",
              "      <th></th>\n",
              "      <th>desc_distrito</th>\n",
              "      <th>desc_barrio</th>\n",
              "      <th>cod_barrio</th>\n",
              "      <th>cod_dist_seccion</th>\n",
              "      <th>cod_seccion</th>\n",
              "      <th>cod_edad</th>\n",
              "      <th>esp_hombres</th>\n",
              "      <th>esp_mujeres</th>\n",
              "      <th>ext_hombres</th>\n",
              "      <th>ext_mujeres</th>\n",
              "      <th>total_esp</th>\n",
              "      <th>total_ext</th>\n",
              "    </tr>\n",
              "  </thead>\n",
              "  <tbody>\n",
              "    <tr>\n",
              "      <th>0</th>\n",
              "      <td>CENTRO</td>\n",
              "      <td>PALACIO</td>\n",
              "      <td>1</td>\n",
              "      <td>1006</td>\n",
              "      <td>6</td>\n",
              "      <td>103</td>\n",
              "      <td>0</td>\n",
              "      <td>1</td>\n",
              "      <td>0</td>\n",
              "      <td>0</td>\n",
              "      <td>1</td>\n",
              "      <td>0</td>\n",
              "    </tr>\n",
              "    <tr>\n",
              "      <th>1</th>\n",
              "      <td>CENTRO</td>\n",
              "      <td>PALACIO</td>\n",
              "      <td>1</td>\n",
              "      <td>1007</td>\n",
              "      <td>7</td>\n",
              "      <td>0</td>\n",
              "      <td>1</td>\n",
              "      <td>1</td>\n",
              "      <td>0</td>\n",
              "      <td>3</td>\n",
              "      <td>2</td>\n",
              "      <td>3</td>\n",
              "    </tr>\n",
              "    <tr>\n",
              "      <th>2</th>\n",
              "      <td>CENTRO</td>\n",
              "      <td>PALACIO</td>\n",
              "      <td>1</td>\n",
              "      <td>1007</td>\n",
              "      <td>7</td>\n",
              "      <td>1</td>\n",
              "      <td>2</td>\n",
              "      <td>3</td>\n",
              "      <td>0</td>\n",
              "      <td>0</td>\n",
              "      <td>5</td>\n",
              "      <td>0</td>\n",
              "    </tr>\n",
              "    <tr>\n",
              "      <th>3</th>\n",
              "      <td>CENTRO</td>\n",
              "      <td>PALACIO</td>\n",
              "      <td>1</td>\n",
              "      <td>1007</td>\n",
              "      <td>7</td>\n",
              "      <td>2</td>\n",
              "      <td>1</td>\n",
              "      <td>4</td>\n",
              "      <td>0</td>\n",
              "      <td>0</td>\n",
              "      <td>5</td>\n",
              "      <td>0</td>\n",
              "    </tr>\n",
              "    <tr>\n",
              "      <th>4</th>\n",
              "      <td>CENTRO</td>\n",
              "      <td>PALACIO</td>\n",
              "      <td>1</td>\n",
              "      <td>1007</td>\n",
              "      <td>7</td>\n",
              "      <td>3</td>\n",
              "      <td>4</td>\n",
              "      <td>0</td>\n",
              "      <td>0</td>\n",
              "      <td>0</td>\n",
              "      <td>4</td>\n",
              "      <td>0</td>\n",
              "    </tr>\n",
              "  </tbody>\n",
              "</table>\n",
              "</div>"
            ]
          },
          "metadata": {
            "tags": []
          },
          "execution_count": 58
        }
      ]
    },
    {
      "cell_type": "markdown",
      "metadata": {
        "application/vnd.databricks.v1+cell": {
          "title": "",
          "showTitle": false,
          "inputWidgets": {},
          "nuid": "6be86695-1d19-4a6c-beca-93e373d5dc1c"
        },
        "id": "oGlb1CzR9tkD"
      },
      "source": [
        "## Análisis usando SQL"
      ]
    },
    {
      "cell_type": "code",
      "metadata": {
        "application/vnd.databricks.v1+cell": {
          "title": "",
          "showTitle": false,
          "inputWidgets": {},
          "nuid": "14633964-524f-4246-8545-279cf9db3422"
        },
        "id": "jgvWA3DB9tkD"
      },
      "source": [
        "# Create a temporal table from DataFrame\n",
        "padronDF.createOrReplaceTempView('padron_ltv')\n",
        "\n",
        "# Print the tables in the catalog\n",
        "#print(spark.catalog.listTables())"
      ],
      "execution_count": null,
      "outputs": []
    },
    {
      "cell_type": "code",
      "metadata": {
        "application/vnd.databricks.v1+cell": {
          "title": "",
          "showTitle": false,
          "inputWidgets": {},
          "nuid": "7efc1a84-801b-4371-8bde-1231e5394d40"
        },
        "colab": {
          "base_uri": "https://localhost:8080/"
        },
        "id": "9pCFGEKd9tkD",
        "outputId": "0b33a8c8-2847-49e0-ea81-6323b021e0a1"
      },
      "source": [
        "query = \"\"\"\n",
        "SELECT\n",
        "  distrito AS DISTRITO,\n",
        "  barrio AS BARRIO,\n",
        "  ROUND(100 * SUM(total_esp)/SUM(total), 2) AS PCT_ESP,\n",
        "  ROUND(100 * SUM(total_ext)/SUM(total), 2) AS PCT_EXT\n",
        "  FROM padron_ltv\n",
        "  GROUP BY distrito, barrio\n",
        "  ORDER BY pct_ext DESC\n",
        "  LIMIT 10\n",
        "\"\"\"\n",
        "spark.sql(query).show()"
      ],
      "execution_count": null,
      "outputs": [
        {
          "output_type": "stream",
          "text": [
            "+------------------+-------------+-------+-------+\n",
            "|          DISTRITO|       BARRIO|PCT_ESP|PCT_EXT|\n",
            "+------------------+-------------+-------+-------+\n",
            "|             USERA|   PRADOLONGO|  62.16|  37.84|\n",
            "|        VILLAVERDE|SAN CRISTOBAL|  63.52|  36.48|\n",
            "|PUENTE DE VALLECAS|    SAN DIEGO|  67.14|  32.86|\n",
            "|            CENTRO|          SOL|  68.02|  31.98|\n",
            "|             USERA|     MOSCARDO|  70.23|  29.77|\n",
            "|            CENTRO|  EMBAJADORES|   70.5|   29.5|\n",
            "|             USERA|  ALMENDRALES|  70.64|  29.36|\n",
            "|             USERA|        ZOFIO|  72.95|  27.05|\n",
            "|            CENTRO|       CORTES|  74.14|  25.86|\n",
            "|       CARABANCHEL|PUERTA BONITA|  74.34|  25.66|\n",
            "+------------------+-------------+-------+-------+\n",
            "\n"
          ],
          "name": "stdout"
        }
      ]
    },
    {
      "cell_type": "markdown",
      "metadata": {
        "application/vnd.databricks.v1+cell": {
          "title": "",
          "showTitle": false,
          "inputWidgets": {},
          "nuid": "fdffe283-123b-4dbb-8d24-337e4f15d947"
        },
        "id": "62md-p919tkD"
      },
      "source": [
        "### Hive"
      ]
    },
    {
      "cell_type": "code",
      "metadata": {
        "application/vnd.databricks.v1+cell": {
          "title": "",
          "showTitle": false,
          "inputWidgets": {},
          "nuid": "cbc485ce-d50e-4502-8534-fababdf09e88"
        },
        "id": "HlBXzIJ39tkD"
      },
      "source": [
        "%sql\n",
        "CREATE DATABASE IF NOT EXISTS datos_padron;\n",
        "USE datos_padron;\n",
        "SHOW DATABASES;"
      ],
      "execution_count": null,
      "outputs": []
    },
    {
      "cell_type": "code",
      "metadata": {
        "application/vnd.databricks.v1+cell": {
          "title": "",
          "showTitle": false,
          "inputWidgets": {},
          "nuid": "b324dc9d-01c1-4db5-95b0-e3cd841a5574"
        },
        "id": "CMpBcLH79tkD"
      },
      "source": [
        "%sql\n",
        "SHOW TABLES;"
      ],
      "execution_count": null,
      "outputs": []
    },
    {
      "cell_type": "code",
      "metadata": {
        "application/vnd.databricks.v1+cell": {
          "title": "",
          "showTitle": false,
          "inputWidgets": {},
          "nuid": "957b8824-3d02-402d-a5e9-edb7ecdaf18b"
        },
        "id": "F9lykd3s9tkD"
      },
      "source": [
        "%sql\n",
        "DROP TABLE IF EXISTS padron_raw;\n",
        "CREATE EXTERNAL TABLE datos_padron.padron_raw\n",
        "(\n",
        "\tcod_distrito STRING,\n",
        "\tdesc_distrito STRING,\n",
        "\tcod_dist_barrio STRING,\n",
        "\tdesc_barrio STRING,\n",
        "\tcod_barrio STRING,\n",
        "\tcod_dist_seccion STRING,\n",
        "\tcod_seccion STRING,\n",
        "\tcod_edad INT,\n",
        "\tespanoles_hombres INT,\n",
        "\tespanoles_mujeres INT,\n",
        "\textranjeros_hombres INT,\n",
        "\textranjeros_mujeres INT\n",
        ")\n",
        "ROW FORMAT SERDE 'org.apache.hadoop.hive.serde2.RegexSerDe'\n",
        "WITH SERDEPROPERTIES ('input.regex'='\"(\\\\d*)\";\"(.*?)\\\\s*\";\"(\\\\d*)\";\"(.*?)\\\\s*\";\"(\\\\d*)\";\"(\\\\d*)\";\"(\\\\d*)\";\"(\\\\d*)\";\"(\\\\d*)\";\"(\\\\d*)\";\"(\\\\d*)\";\"(\\\\d*)\"')\n",
        "TBLPROPERTIES (\n",
        "    \"skip.header.line.count\"=\"1\",\n",
        "    \"seriealization.null.format\"=\"0\"\n",
        ")\n",
        "LOCATION '/FileStore/datasets/padron_madrid_2020.csv';"
      ],
      "execution_count": null,
      "outputs": []
    },
    {
      "cell_type": "code",
      "metadata": {
        "application/vnd.databricks.v1+cell": {
          "title": "",
          "showTitle": false,
          "inputWidgets": {},
          "nuid": "29ee2931-bb0a-4a6b-852a-30d5ad14ce98"
        },
        "id": "JeldY-AA9tkE"
      },
      "source": [
        "%sql\n",
        "SELECT * FROM padron_raw LIMIT 5;"
      ],
      "execution_count": null,
      "outputs": []
    },
    {
      "cell_type": "code",
      "metadata": {
        "application/vnd.databricks.v1+cell": {
          "title": "",
          "showTitle": false,
          "inputWidgets": {},
          "nuid": "08fc0b19-e9e2-428d-8b2d-53001bbbfd71"
        },
        "id": "Ffr4hz0L9tkE"
      },
      "source": [
        "%sql\n",
        "-- Check the number of rows\n",
        "SELECT COUNT(*) AS total_rows FROM padron_raw;"
      ],
      "execution_count": null,
      "outputs": []
    },
    {
      "cell_type": "code",
      "metadata": {
        "application/vnd.databricks.v1+cell": {
          "title": "",
          "showTitle": false,
          "inputWidgets": {},
          "nuid": "f4ea0e2b-1965-4923-a117-22c475c7be43"
        },
        "id": "qtuedSM09tkE"
      },
      "source": [
        "%sql\n",
        "DROP TABLE IF EXISTS padron_clean;\n",
        "CREATE TABLE datos_padron.padron_clean\n",
        "AS \n",
        "SELECT\n",
        "  cod_distrito,\n",
        "  TRIM(desc_distrito) AS distrito,\n",
        "  cod_dist_barrio,\n",
        "  TRIM(desc_barrio) AS barrio,\n",
        "  cod_barrio,\n",
        "  cod_dist_seccion,\n",
        "  cod_seccion,\n",
        "  CAST(cod_edad AS INT),\n",
        "  CAST(espanoles_hombres AS INT),\n",
        "  CAST(espanoles_mujeres AS INT),\n",
        "  CAST(extranjeros_hombres AS INT),\n",
        "  CAST(extranjeros_mujeres AS INT)\n",
        "FROM datos_padron.padron_raw\n",
        "WHERE (cod_distrito IS NOT NULL) AND (cod_barrio IS NOT NULL);"
      ],
      "execution_count": null,
      "outputs": []
    },
    {
      "cell_type": "code",
      "metadata": {
        "application/vnd.databricks.v1+cell": {
          "title": "",
          "showTitle": false,
          "inputWidgets": {},
          "nuid": "da231b4e-ab89-4e9a-8fb1-1d0485a3a065"
        },
        "id": "nE87_tf-9tkE"
      },
      "source": [
        "%sql\n",
        "-- Check the number of rows\n",
        "SELECT COUNT(*) AS total_rows FROM padron_clean;"
      ],
      "execution_count": null,
      "outputs": []
    },
    {
      "cell_type": "code",
      "metadata": {
        "application/vnd.databricks.v1+cell": {
          "title": "",
          "showTitle": false,
          "inputWidgets": {},
          "nuid": "dea2c01c-b2c5-470c-a4a7-1a17c1bfe0a5"
        },
        "id": "x2tE3ZjS9tkE"
      },
      "source": [
        "%sql\n",
        "SHOW TABLES;"
      ],
      "execution_count": null,
      "outputs": []
    },
    {
      "cell_type": "code",
      "metadata": {
        "application/vnd.databricks.v1+cell": {
          "title": "",
          "showTitle": false,
          "inputWidgets": {},
          "nuid": "12695ffc-cdf2-4054-a00d-020fb4553e84"
        },
        "id": "h7kI33kf9tkE"
      },
      "source": [
        "%sql\n",
        "SELECT * FROM padron_clean LIMIT 5;"
      ],
      "execution_count": null,
      "outputs": []
    },
    {
      "cell_type": "code",
      "metadata": {
        "application/vnd.databricks.v1+cell": {
          "title": "",
          "showTitle": false,
          "inputWidgets": {},
          "nuid": "6ce4c2cd-3d54-4bdb-8efc-89c5a448925b"
        },
        "id": "pgPHCsj_9tkE"
      },
      "source": [
        "%sql\n",
        "SELECT COUNT(*) FROM padron_clean\n",
        "WHERE espanoles_hombres IS NULL"
      ],
      "execution_count": null,
      "outputs": []
    },
    {
      "cell_type": "code",
      "metadata": {
        "application/vnd.databricks.v1+cell": {
          "title": "",
          "showTitle": false,
          "inputWidgets": {},
          "nuid": "1b9cd3d1-0ed6-4298-8392-78e7e101b286"
        },
        "id": "7fQw9ewz9tkE"
      },
      "source": [
        "%sql\n",
        "WITH total AS (\n",
        "SELECT\n",
        "    distrito,\n",
        "    barrio,\n",
        "    nvl(espanoles_hombres,0) + nvl(espanoles_mujeres,0) AS total_espanoles,\n",
        "    nvl(extranjeros_hombres,0) + nvl(extranjeros_mujeres,0) AS total_extranjeros\n",
        "FROM padron_clean\n",
        ")\n",
        "\n",
        "SELECT\n",
        "  distrito AS DISTRITO,\n",
        "  barrio AS BARRIO,\n",
        "  ROUND(100 * SUM(total_espanoles)/SUM(total_espanoles + total_extranjeros), 2) AS PCT_ESP,\n",
        "  ROUND(100 * SUM(total_extranjeros)/SUM(total_espanoles + total_extranjeros), 2) AS PCT_EXT\n",
        "  FROM total\n",
        "  GROUP BY distrito, barrio\n",
        "  ORDER BY pct_ext DESC\n",
        "  LIMIT 10"
      ],
      "execution_count": null,
      "outputs": []
    },
    {
      "cell_type": "markdown",
      "metadata": {
        "application/vnd.databricks.v1+cell": {
          "title": "",
          "showTitle": false,
          "inputWidgets": {},
          "nuid": "4290469c-3cbc-42d0-bb2e-28af43923543"
        },
        "id": "SIbBZoVe9tkF"
      },
      "source": [
        "## Referencias\n",
        "\n",
        "* https://www.datasciencemadesimple.com/pyspark-tutorial/\n",
        "* https://sparkbyexamples.com/pyspark/\n",
        "* https://mungingdata.com/pyspark/"
      ]
    }
  ]
}