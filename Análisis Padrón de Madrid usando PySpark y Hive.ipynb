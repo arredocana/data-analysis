{
  "nbformat": 4,
  "nbformat_minor": 0,
  "metadata": {
    "kernelspec": {
      "display_name": "Python 3",
      "language": "python",
      "name": "python3"
    },
    "language_info": {
      "mimetype": "text/x-python",
      "name": "python",
      "pygments_lexer": "ipython3",
      "codemirror_mode": {
        "name": "ipython",
        "version": 3
      },
      "version": "3.8.5",
      "nbconvert_exporter": "python",
      "file_extension": ".py"
    },
    "application/vnd.databricks.v1+notebook": {
      "notebookName": "Padrón Madrid 2020",
      "dashboards": [],
      "language": "python",
      "widgets": {},
      "notebookOrigID": 2869965637198084
    },
    "colab": {
      "name": "Análisis Padrón de Madrid usando PySpark y Hive.ipynb",
      "provenance": [],
      "collapsed_sections": [
        "ip_twbwNaeI3",
        "bVIHn1hu9tj8",
        "9M-Zi1as9tj9"
      ],
      "toc_visible": true,
      "include_colab_link": true
    }
  },
  "cells": [
    {
      "cell_type": "markdown",
      "metadata": {
        "id": "view-in-github",
        "colab_type": "text"
      },
      "source": [
        "<a href=\"https://colab.research.google.com/github/arredocana/data-analysis/blob/main/An%C3%A1lisis_Padr%C3%B3n_Madrid_usando_PySpark_y_Hive.ipynb\" target=\"_parent\"><img src=\"https://colab.research.google.com/assets/colab-badge.svg\" alt=\"Open In Colab\"/></a>"
      ]
    },
    {
      "cell_type": "markdown",
      "metadata": {
        "application/vnd.databricks.v1+cell": {
          "title": "",
          "showTitle": false,
          "inputWidgets": {},
          "nuid": "c1e608bd-1f41-4f86-9db6-2441d28e34f3"
        },
        "id": "ObgUqcZO9tjv"
      },
      "source": [
        "# Análisis del Padrón Municipal de Madrid\n",
        "\n",
        "La población de un municipio se define como el conjunto de personas inscritas en su Padrón municipal.\n",
        "\n",
        "Toda persona que viva en España está obligada a inscribirse en el Padrón del municipio en el que resida habitualmente, inscribiéndose en el que habite durante más tiempo al año si vive en varios municipios. \n",
        "\n",
        "El Padrón Municipal de Habitantes es el registro administrativo donde constan los habitantes de un municipio, siendo sus datos prueba de la residencia en el municipio y del domicilio habitual.\n",
        "\n",
        "En el [Portal de datos abiertos del Ayuntamiento de Madrid](https://datos.madrid.es/portal/site/egob/menuitem.c05c1f754a33a9fbe4b2e4b284f1a5a0/?vgnextoid=1d755cde99be2410VgnVCM1000000b205a0aRCRD&vgnextchannel=374512b9ace9f310VgnVCM100000171f5a0aRCRD&vgnextfmt=default) podemos encontrar información del Padrón municipal, detallado a nivel de distrito, barrio y sección censal, y agregado por sexo y edad.\n",
        "\n",
        "Con esta información, vamos a tratar de responder a las siguientes cuestiones:\n",
        "\n",
        "1. ¿Cuántos barrios tiene cada distrito?\n",
        "2. ¿Cuál es el porcentaje de españoles y extranjeros por distrito y barrio?\n",
        "3. ¿Cuál es la edad media de los ciudadadanos en cada barrio?\n",
        "\n",
        "Posteriormente practicaremos PySpark realizando más ejercicios."
      ]
    },
    {
      "cell_type": "markdown",
      "metadata": {
        "id": "aw8qJ5B1YHCG"
      },
      "source": [
        "## Configuración del entorno"
      ]
    },
    {
      "cell_type": "markdown",
      "metadata": {
        "id": "uuk7yD6ajpzG"
      },
      "source": [
        "Para trabajar con tu notebook en Colaboratory puedes conectarte a un entorno de ejecución **local** o en la **nube**.\r\n",
        "\r\n",
        "En ambos casos, el notebook se guardará en tu cuenta de Google Drive en una carpeta nueva llamada **Colab Notebooks**.\r\n",
        "\r\n",
        "No obstante, puedes descargarte el notebook a tu equipo local en formato .ipynb o .py desde la opción Archivo."
      ]
    },
    {
      "cell_type": "markdown",
      "metadata": {
        "id": "31lMS5yQj3Rk"
      },
      "source": [
        "### Local"
      ]
    },
    {
      "cell_type": "markdown",
      "metadata": {
        "id": "1EKsjuTrYNp3"
      },
      "source": [
        "Si decides trabajar con tu equipo local necesitarás conectarte a un servidor de **Jupyter Notebook**. Los pasos a seguir serían los siguientes:\r\n",
        "\r\n",
        "1. Instalar [Jupyter](http://jupyter.org/install) en tu equipo local.\r\n",
        "\r\n",
        "2. Instala y habilitar la extensión **jupyter_http_over_ws**: \r\n",
        "\r\n",
        "  `pip install jupyter_http_over_ws jupyter serverextension enable --py jupyter_http_over_ws`\r\n",
        "\r\n",
        "3. Inicia el servidor y autenticarse:\r\n",
        "\r\n",
        "  Abrir consola y ejecutar el siguiente comando:\r\n",
        "\r\n",
        "  `jupyter notebook --NotebookApp.allow_origin='https://colab.research.google.com'--port=8888 --NotebookApp.port_retries=0 `\r\n",
        "\r\n",
        "  Cuando se inicie el servidor, se mostrará un mensaje con la URL de backend inicial utilizada para la autenticación. Copia esta URL. \r\n",
        "  \r\n",
        "  Ejemplo: http://localhost:8888/?token=b5caf18c5137318b8914e6881d5036e55867ef06490919dd\r\n",
        "\r\n",
        "4. Conéctate al entorno de ejecución local:\r\n",
        "\r\n",
        "  En Colaboratory, haz clic en el botón Conectar y selecciona Conectar a un entorno de ejecución local. \r\n",
        "  \r\n",
        "  Introduce la URL del paso anterior en el cuadro de diálogo que aparece y haz clic en el botón Conectar. Después, debería establecerse la conexión con tu entorno de ejecución local.\r\n",
        "\r\n",
        "Para más información puedes leer la [documentación oficial](https://research.google.com/colaboratory/intl/es/local-runtimes.html)."
      ]
    },
    {
      "cell_type": "code",
      "metadata": {
        "colab": {
          "base_uri": "https://localhost:8080/"
        },
        "id": "lAf965Fcq95w",
        "outputId": "35040fc2-9f6a-4826-f980-c9d24e510206"
      },
      "source": [
        "# Comprobamos ruta del directorio de trabajo \r\n",
        "%pwd"
      ],
      "execution_count": null,
      "outputs": [
        {
          "output_type": "execute_result",
          "data": {
            "text/plain": [
              "'C:\\\\Users\\\\antonio.arredondo\\\\OneDrive - Bosonit\\\\Spark Training\\\\datasets'"
            ]
          },
          "metadata": {
            "tags": []
          },
          "execution_count": 2
        }
      ]
    },
    {
      "cell_type": "code",
      "metadata": {
        "id": "bmeMxK4eeZCL"
      },
      "source": [
        "file_path = \"padron_madrid_2020.csv\""
      ],
      "execution_count": null,
      "outputs": []
    },
    {
      "cell_type": "markdown",
      "metadata": {
        "id": "MmdEORBXlvM9"
      },
      "source": [
        "### Nube"
      ]
    },
    {
      "cell_type": "markdown",
      "metadata": {
        "id": "DQz0QcO3ngUV"
      },
      "source": [
        "Si prefieres trabajar en la **nube** aprovechando los recursos de los servidores de Google tendrás que instalar las librerías que no estén disponibles en la configuración por defecto del notebook e importar los ficheros que sean necesarios. \r\n",
        "\r\n",
        "Esta operación es necesaria hacerla siempre que te conectes a la nube o inicies un nuevo notebook."
      ]
    },
    {
      "cell_type": "markdown",
      "metadata": {
        "id": "7AF1e7_YH-13"
      },
      "source": [
        "#### Instalación librerías"
      ]
    },
    {
      "cell_type": "code",
      "metadata": {
        "id": "lLNgcc1bS2rh",
        "colab": {
          "base_uri": "https://localhost:8080/"
        },
        "outputId": "efc4e662-a802-4e52-897f-0788ece9ec57"
      },
      "source": [
        "# Install needed libraries\r\n",
        "!pip install -q pyspark\r\n",
        "!pip install -q koalas\r\n",
        "!pip install -q pyarrow==0.15.1\r\n",
        "!pip install -q pyngrok"
      ],
      "execution_count": null,
      "outputs": [
        {
          "output_type": "stream",
          "text": [
            "\u001b[K     |████████████████████████████████| 204.8MB 67kB/s \n",
            "\u001b[K     |████████████████████████████████| 204kB 17.7MB/s \n",
            "\u001b[?25h  Building wheel for pyspark (setup.py) ... \u001b[?25l\u001b[?25hdone\n",
            "\u001b[K     |████████████████████████████████| 675kB 12.8MB/s \n",
            "\u001b[K     |████████████████████████████████| 59.2MB 69kB/s \n",
            "\u001b[K     |████████████████████████████████| 737kB 12.6MB/s \n",
            "\u001b[?25h  Building wheel for pyngrok (setup.py) ... \u001b[?25l\u001b[?25hdone\n"
          ],
          "name": "stdout"
        }
      ]
    },
    {
      "cell_type": "markdown",
      "metadata": {
        "id": "qrnwYoz2d1Cr"
      },
      "source": [
        "#### Importación de datos"
      ]
    },
    {
      "cell_type": "markdown",
      "metadata": {
        "id": "XMXvw4QKvf6w"
      },
      "source": [
        "##### Desde Google Drive"
      ]
    },
    {
      "cell_type": "code",
      "metadata": {
        "colab": {
          "base_uri": "https://localhost:8080/"
        },
        "id": "lYngByZNQE3D",
        "outputId": "9386ca06-1dd6-4285-a04b-fafa9fbf9ecf"
      },
      "source": [
        "# Mount Drive (authentication required)\n",
        "from google.colab import drive\n",
        "drive.mount('/content/drive')"
      ],
      "execution_count": null,
      "outputs": [
        {
          "output_type": "stream",
          "text": [
            "Mounted at /content/drive\n"
          ],
          "name": "stdout"
        }
      ]
    },
    {
      "cell_type": "code",
      "metadata": {
        "id": "uQd9lalpQT89"
      },
      "source": [
        "# Viewing the data in the folder present from the drive\r\n",
        "!ls -l \"/content/drive/My Drive/Colab Notebooks/datasets\""
      ],
      "execution_count": null,
      "outputs": []
    },
    {
      "cell_type": "code",
      "metadata": {
        "id": "QAJbzW7PdP8w"
      },
      "source": [
        "# Cloud file path\r\n",
        "file_path = \"drive/MyDrive/Colab\\ Notebooks/datasets/padron_madrid_2020.csv\""
      ],
      "execution_count": null,
      "outputs": []
    },
    {
      "cell_type": "markdown",
      "metadata": {
        "id": "K7nPAK2bvpxy"
      },
      "source": [
        "##### Desde local"
      ]
    },
    {
      "cell_type": "code",
      "metadata": {
        "id": "JWraNz-LvsmA"
      },
      "source": [
        "# Importing files method from colab for accessing Local file system\r\n",
        "from google.colab import files\r\n",
        "\r\n",
        "uploaded = files.upload()"
      ],
      "execution_count": null,
      "outputs": []
    },
    {
      "cell_type": "code",
      "metadata": {
        "colab": {
          "base_uri": "https://localhost:8080/"
        },
        "id": "kBJ3JRYQ3UFy",
        "outputId": "c2c0ab89-da0d-4d5b-8ad4-c1515a6df841"
      },
      "source": [
        "uploaded.keys()"
      ],
      "execution_count": null,
      "outputs": [
        {
          "output_type": "execute_result",
          "data": {
            "text/plain": [
              "dict_keys(['padron_madrid_2020.csv'])"
            ]
          },
          "metadata": {
            "tags": []
          },
          "execution_count": 18
        }
      ]
    },
    {
      "cell_type": "code",
      "metadata": {
        "id": "an-CUajEvz8E"
      },
      "source": [
        "# Local file path\r\n",
        "file_path = \"padron_madrid_2020.csv\"\r\n",
        "\r\n",
        "# Local file path\r\n",
        "file_path = \"./OneDrive - Bosonit/Spark Training/datasets/padron_madrid_2020.csv\""
      ],
      "execution_count": null,
      "outputs": []
    },
    {
      "cell_type": "markdown",
      "metadata": {
        "application/vnd.databricks.v1+cell": {
          "title": "",
          "showTitle": false,
          "inputWidgets": {},
          "nuid": "6dadd2cb-f7bd-4707-93ed-f3e8581885f7"
        },
        "id": "y5o0rKEf9tj2"
      },
      "source": [
        "## Análisis exploratorio usando PySpark"
      ]
    },
    {
      "cell_type": "code",
      "metadata": {
        "application/vnd.databricks.v1+cell": {
          "title": "",
          "showTitle": false,
          "inputWidgets": {},
          "nuid": "0c4616e4-fb98-4bb2-ad19-053a2ed697bd"
        },
        "id": "RcxPaJp49tj3"
      },
      "source": [
        "# Import PySpark and libraries\n",
        "from pyspark.sql import SparkSession\n",
        "import pyspark.sql.functions as F\n",
        "from pyspark.sql.types import StructType, StructField, StringType, IntegerType\n",
        "#from pyngrok import ngrok"
      ],
      "execution_count": null,
      "outputs": []
    },
    {
      "cell_type": "code",
      "metadata": {
        "id": "UvrOpVNq_MOA"
      },
      "source": [
        "# Build a SparkSession\r\n",
        "spark = SparkSession.builder\\\r\n",
        "        .master(\"local[*]\")\\\r\n",
        "        .appName(\"Padrón\")\\\r\n",
        "        .config(\"spark.sql.execution.arrow.enabled\", \"false\")\\\r\n",
        "        .config('spark.ui.port', '4050')\\\r\n",
        "        .enableHiveSupport()\\\r\n",
        "        .getOrCreate()"
      ],
      "execution_count": null,
      "outputs": []
    },
    {
      "cell_type": "code",
      "metadata": {
        "colab": {
          "base_uri": "https://localhost:8080/",
          "height": 214
        },
        "id": "07oZ0WYnLN7f",
        "outputId": "b5e10d5d-65ce-4ff0-e786-0ebf752df873"
      },
      "source": [
        "# Print the SparkSession\r\n",
        "spark"
      ],
      "execution_count": null,
      "outputs": [
        {
          "output_type": "execute_result",
          "data": {
            "text/plain": [
              "<pyspark.sql.session.SparkSession at 0x171f00f14c0>"
            ],
            "text/html": [
              "\n",
              "            <div>\n",
              "                <p><b>SparkSession - hive</b></p>\n",
              "                \n",
              "        <div>\n",
              "            <p><b>SparkContext</b></p>\n",
              "\n",
              "            <p><a href=\"http://EM2020002559.bosonit.local:4050\">Spark UI</a></p>\n",
              "\n",
              "            <dl>\n",
              "              <dt>Version</dt>\n",
              "                <dd><code>v3.0.1</code></dd>\n",
              "              <dt>Master</dt>\n",
              "                <dd><code>local[*]</code></dd>\n",
              "              <dt>AppName</dt>\n",
              "                <dd><code>Padrón</code></dd>\n",
              "            </dl>\n",
              "        </div>\n",
              "        \n",
              "            </div>\n",
              "        "
            ]
          },
          "metadata": {
            "tags": []
          },
          "execution_count": 6
        }
      ]
    },
    {
      "cell_type": "code",
      "metadata": {
        "colab": {
          "base_uri": "https://localhost:8080/"
        },
        "id": "z3tHYXMzDJoS",
        "outputId": "36e0f341-1e79-4bba-bb39-5878bf57be7f"
      },
      "source": [
        "# Open tunnel on the port 4050 to get a public URL\r\n",
        "ngrok.connect(4050)"
      ],
      "execution_count": null,
      "outputs": [
        {
          "output_type": "stream",
          "text": [
            ""
          ],
          "name": "stdout"
        },
        {
          "output_type": "execute_result",
          "data": {
            "text/plain": [
              "<NgrokTunnel: \"http://1b6f8e3bd89b.ngrok.io\" -> \"http://localhost:4050\">"
            ]
          },
          "metadata": {
            "tags": []
          },
          "execution_count": 8
        }
      ]
    },
    {
      "cell_type": "code",
      "metadata": {
        "id": "xr4-gZUYAc6C"
      },
      "source": [
        "# Define schema for our data using the StructType method\r\n",
        "schema = StructType([\r\n",
        "  # Define a StructField for each field\r\n",
        "    StructField('cod_distrito', StringType(), False),\r\n",
        "    StructField('desc_distrito', StringType(), False),\r\n",
        "    StructField('cod_dist_barrio', StringType(), False),\r\n",
        "    StructField('desc_barrio', StringType(), False),\r\n",
        "    StructField('cod_barrio', StringType(), False),\r\n",
        "    StructField('cod_dist_seccion', StringType(), False),\r\n",
        "    StructField('cod_seccion', StringType(), False),\r\n",
        "    StructField('cod_edad', IntegerType(), False),\r\n",
        "    StructField('esp_hombres', IntegerType(), True),\r\n",
        "    StructField('esp_mujeres', IntegerType(), True),\r\n",
        "    StructField('ext_hombres', IntegerType(), True),\r\n",
        "    StructField('ext_mujeres', IntegerType(), True)\r\n",
        "])"
      ],
      "execution_count": null,
      "outputs": []
    },
    {
      "cell_type": "code",
      "metadata": {
        "application/vnd.databricks.v1+cell": {
          "title": "",
          "showTitle": false,
          "inputWidgets": {},
          "nuid": "ede31021-4cc8-4f1d-add4-c998ddbcd10b"
        },
        "id": "J3uzEU-b9tj6"
      },
      "source": [
        "# Load data into a dataframe\n",
        "padron_raw = (spark.read.format('csv')\n",
        "            .options(header=True, \n",
        "                     delimiter=';',\n",
        "                     encoding='ISO-8859-1',\n",
        "                     emptyValue=0,\n",
        "                     ignoreLeadingWhiteSpace=True,\n",
        "                     ignoreTrailingWhiteSpace=True\n",
        "                    )\n",
        "            .schema(schema)\n",
        "            .load(file_path))"
      ],
      "execution_count": null,
      "outputs": []
    },
    {
      "cell_type": "code",
      "metadata": {
        "application/vnd.databricks.v1+cell": {
          "title": "",
          "showTitle": false,
          "inputWidgets": {},
          "nuid": "12c0d064-da1c-4e81-95e4-4e9f33fae647"
        },
        "colab": {
          "base_uri": "https://localhost:8080/"
        },
        "id": "c7O6ehEY9tj7",
        "outputId": "24fc4a92-d1e4-41d8-eeeb-5d033df1239f"
      },
      "source": [
        "# Print the schema of the dataframe\r\n",
        "padron_raw.printSchema()\r\n",
        "\r\n",
        "# Count the number of rows \r\n",
        "print(\"There are {} rows in the DataFrame. \\n\".format(padron_raw.count()))"
      ],
      "execution_count": null,
      "outputs": [
        {
          "output_type": "stream",
          "text": [
            "root\n",
            " |-- cod_distrito: string (nullable = true)\n",
            " |-- desc_distrito: string (nullable = true)\n",
            " |-- cod_dist_barrio: string (nullable = true)\n",
            " |-- desc_barrio: string (nullable = true)\n",
            " |-- cod_barrio: string (nullable = true)\n",
            " |-- cod_dist_seccion: string (nullable = true)\n",
            " |-- cod_seccion: string (nullable = true)\n",
            " |-- cod_edad: integer (nullable = true)\n",
            " |-- esp_hombres: integer (nullable = true)\n",
            " |-- esp_mujeres: integer (nullable = true)\n",
            " |-- ext_hombres: integer (nullable = true)\n",
            " |-- ext_mujeres: integer (nullable = true)\n",
            "\n",
            "There are 237675 rows in the DataFrame. \n",
            "\n"
          ],
          "name": "stdout"
        }
      ]
    },
    {
      "cell_type": "code",
      "metadata": {
        "colab": {
          "base_uri": "https://localhost:8080/"
        },
        "id": "ompGFb2hFHUN",
        "outputId": "4a10471c-f863-469c-c164-c37722b4cdc5"
      },
      "source": [
        "# Get count of null values in Pyspark\r\n",
        "padron_raw.select([F.count(F.when(F.col(c).isNull(), c)).alias(c) \\\r\n",
        "                   for c in padron_raw.columns[:8]]).show()\r\n",
        "\r\n",
        "padron_raw.select([F.count(F.when(F.col(c).isNull(), c)).alias(c) \\\r\n",
        "                   for c in padron_raw.columns[8:]]).show()"
      ],
      "execution_count": null,
      "outputs": [
        {
          "output_type": "stream",
          "text": [
            "+------------+-------------+---------------+-----------+----------+----------------+-----------+--------+\n",
            "|cod_distrito|desc_distrito|cod_dist_barrio|desc_barrio|cod_barrio|cod_dist_seccion|cod_seccion|cod_edad|\n",
            "+------------+-------------+---------------+-----------+----------+----------------+-----------+--------+\n",
            "|           0|            0|              0|          0|         0|               0|          0|       0|\n",
            "+------------+-------------+---------------+-----------+----------+----------------+-----------+--------+\n",
            "\n",
            "+-----------+-----------+-----------+-----------+\n",
            "|esp_hombres|esp_mujeres|ext_hombres|ext_mujeres|\n",
            "+-----------+-----------+-----------+-----------+\n",
            "|          0|          0|          0|          0|\n",
            "+-----------+-----------+-----------+-----------+\n",
            "\n"
          ],
          "name": "stdout"
        }
      ]
    },
    {
      "cell_type": "code",
      "metadata": {
        "application/vnd.databricks.v1+cell": {
          "title": "",
          "showTitle": false,
          "inputWidgets": {},
          "nuid": "15534a4f-da89-487f-ac5a-835a24c08491"
        },
        "colab": {
          "base_uri": "https://localhost:8080/"
        },
        "id": "4znWnFzs9tj7",
        "outputId": "9ed1e75c-0d7f-430c-b543-5ab0c8006b3e"
      },
      "source": [
        "# Show the first 10 rows of the dataframe\r\n",
        "padron_raw.show(10)"
      ],
      "execution_count": null,
      "outputs": [
        {
          "output_type": "stream",
          "text": [
            "+------------+--------------------+---------------+--------------------+----------+----------------+-----------+--------+-----------+-----------+-----------+-----------+\n",
            "|cod_distrito|       desc_distrito|cod_dist_barrio|         desc_barrio|cod_barrio|cod_dist_seccion|cod_seccion|cod_edad|esp_hombres|esp_mujeres|ext_hombres|ext_mujeres|\n",
            "+------------+--------------------+---------------+--------------------+----------+----------------+-----------+--------+-----------+-----------+-----------+-----------+\n",
            "|           1|CENTRO              |            101|PALACIO             |         1|            1006|          6|     103|          0|          1|          0|          0|\n",
            "|           1|CENTRO              |            101|PALACIO             |         1|            1007|          7|       0|          1|          1|          0|          3|\n",
            "|           1|CENTRO              |            101|PALACIO             |         1|            1007|          7|       1|          2|          3|          0|          0|\n",
            "|           1|CENTRO              |            101|PALACIO             |         1|            1007|          7|       2|          1|          4|          0|          0|\n",
            "|           1|CENTRO              |            101|PALACIO             |         1|            1007|          7|       3|          4|          0|          0|          0|\n",
            "|           1|CENTRO              |            101|PALACIO             |         1|            1007|          7|       4|          1|          2|          0|          1|\n",
            "|           1|CENTRO              |            101|PALACIO             |         1|            1007|          7|       5|          2|          6|          0|          0|\n",
            "|           1|CENTRO              |            101|PALACIO             |         1|            1007|          7|       6|          1|          0|          0|          0|\n",
            "|           1|CENTRO              |            101|PALACIO             |         1|            1007|          7|       7|          3|          2|          0|          0|\n",
            "|           1|CENTRO              |            101|PALACIO             |         1|            1007|          7|       8|          4|          2|          0|          0|\n",
            "+------------+--------------------+---------------+--------------------+----------+----------------+-----------+--------+-----------+-----------+-----------+-----------+\n",
            "only showing top 10 rows\n",
            "\n"
          ],
          "name": "stdout"
        }
      ]
    },
    {
      "cell_type": "code",
      "metadata": {
        "application/vnd.databricks.v1+cell": {
          "title": "",
          "showTitle": false,
          "inputWidgets": {},
          "nuid": "7547d080-23c9-4c53-80b8-15687c1b6998"
        },
        "colab": {
          "base_uri": "https://localhost:8080/"
        },
        "id": "bu3HBIkD9tj8",
        "outputId": "e0585918-edba-4a8c-c200-963706bf0585"
      },
      "source": [
        "padron_raw.filter(F.col(\"desc_distrito\") == \"CENTRO\").show(3)"
      ],
      "execution_count": null,
      "outputs": [
        {
          "output_type": "stream",
          "text": [
            "+------------+-------------+---------------+-----------+----------+----------------+-----------+--------+-----------+-----------+-----------+-----------+\n",
            "|cod_distrito|desc_distrito|cod_dist_barrio|desc_barrio|cod_barrio|cod_dist_seccion|cod_seccion|cod_edad|esp_hombres|esp_mujeres|ext_hombres|ext_mujeres|\n",
            "+------------+-------------+---------------+-----------+----------+----------------+-----------+--------+-----------+-----------+-----------+-----------+\n",
            "+------------+-------------+---------------+-----------+----------+----------------+-----------+--------+-----------+-----------+-----------+-----------+\n",
            "\n"
          ],
          "name": "stdout"
        }
      ]
    },
    {
      "cell_type": "code",
      "metadata": {
        "application/vnd.databricks.v1+cell": {
          "title": "",
          "showTitle": false,
          "inputWidgets": {},
          "nuid": "62ff5276-2137-45cc-8786-05dde16263c5"
        },
        "id": "tRG3lMy79tj8",
        "colab": {
          "base_uri": "https://localhost:8080/"
        },
        "outputId": "cc01bc9a-2bf4-425d-ceb6-fcda4d104831"
      },
      "source": [
        "# Limpiamos DataFrame eliminando espacios y columnas innecesarias\n",
        "padronDF = padron_raw.select(\n",
        "  F.trim(F.col(\"desc_distrito\")).alias(\"distrito\"),\n",
        "  F.trim(F.col(\"desc_barrio\")).alias(\"barrio\"),\n",
        "  \"cod_edad\",\"esp_hombres\", \"esp_mujeres\", \"ext_hombres\", \"ext_mujeres\")\n",
        "\n",
        "# Alternative:\n",
        "# padron_raw.select([(F.trim(col[0])).alias(col[0]) if col[1] == \"string\" else col[0] \\\n",
        "#                 for col in padron_raw.select(\"*\").dtypes])\n",
        "\n",
        "padronDF.show(10)"
      ],
      "execution_count": null,
      "outputs": [
        {
          "output_type": "stream",
          "text": [
            "+--------+-------+--------+-----------+-----------+-----------+-----------+\n",
            "|distrito| barrio|cod_edad|esp_hombres|esp_mujeres|ext_hombres|ext_mujeres|\n",
            "+--------+-------+--------+-----------+-----------+-----------+-----------+\n",
            "|  CENTRO|PALACIO|     103|          0|          1|          0|          0|\n",
            "|  CENTRO|PALACIO|       0|          1|          1|          0|          3|\n",
            "|  CENTRO|PALACIO|       1|          2|          3|          0|          0|\n",
            "|  CENTRO|PALACIO|       2|          1|          4|          0|          0|\n",
            "|  CENTRO|PALACIO|       3|          4|          0|          0|          0|\n",
            "|  CENTRO|PALACIO|       4|          1|          2|          0|          1|\n",
            "|  CENTRO|PALACIO|       5|          2|          6|          0|          0|\n",
            "|  CENTRO|PALACIO|       6|          1|          0|          0|          0|\n",
            "|  CENTRO|PALACIO|       7|          3|          2|          0|          0|\n",
            "|  CENTRO|PALACIO|       8|          4|          2|          0|          0|\n",
            "+--------+-------+--------+-----------+-----------+-----------+-----------+\n",
            "only showing top 10 rows\n",
            "\n"
          ],
          "name": "stdout"
        }
      ]
    },
    {
      "cell_type": "code",
      "metadata": {
        "application/vnd.databricks.v1+cell": {
          "title": "",
          "showTitle": false,
          "inputWidgets": {},
          "nuid": "72400fec-6f70-47bb-aa9a-fc091b8cbe5b"
        },
        "colab": {
          "base_uri": "https://localhost:8080/"
        },
        "id": "dx_GTl-J9tj8",
        "outputId": "6b87d9b8-f570-4364-e4a6-7c48a9aec14a"
      },
      "source": [
        "padronDF.filter(F.col(\"distrito\") == \"CENTRO\").show(3)"
      ],
      "execution_count": null,
      "outputs": [
        {
          "output_type": "stream",
          "text": [
            "+--------+-------+--------+-----------+-----------+-----------+-----------+\n",
            "|distrito| barrio|cod_edad|esp_hombres|esp_mujeres|ext_hombres|ext_mujeres|\n",
            "+--------+-------+--------+-----------+-----------+-----------+-----------+\n",
            "|  CENTRO|PALACIO|     103|          0|          1|          0|          0|\n",
            "|  CENTRO|PALACIO|       0|          1|          1|          0|          3|\n",
            "|  CENTRO|PALACIO|       1|          2|          3|          0|          0|\n",
            "+--------+-------+--------+-----------+-----------+-----------+-----------+\n",
            "only showing top 3 rows\n",
            "\n"
          ],
          "name": "stdout"
        }
      ]
    },
    {
      "cell_type": "markdown",
      "metadata": {
        "id": "ip_twbwNaeI3"
      },
      "source": [
        "#### Número de barrios por distrito"
      ]
    },
    {
      "cell_type": "code",
      "metadata": {
        "colab": {
          "base_uri": "https://localhost:8080/"
        },
        "id": "M6yYsq9Ya4eX",
        "outputId": "2a46a06c-d110-41f1-de1d-aa6ab15cd344"
      },
      "source": [
        "padronDF.groupBy(\"distrito\").agg(\r\n",
        "    (F.countDistinct(\"barrio\")).alias(\"total_barrios\"))\\\r\n",
        "    .orderBy(\"total_barrios\", ascending=False)\\\r\n",
        "    .show()"
      ],
      "execution_count": null,
      "outputs": [
        {
          "output_type": "stream",
          "text": [
            "+-------------------+-------------+\n",
            "|           distrito|total_barrios|\n",
            "+-------------------+-------------+\n",
            "|      CIUDAD LINEAL|            9|\n",
            "|SAN BLAS-CANILLEJAS|            8|\n",
            "|             LATINA|            8|\n",
            "|FUENCARRAL-EL PARDO|            8|\n",
            "|    MONCLOA-ARAVACA|            7|\n",
            "|        CARABANCHEL|            7|\n",
            "|             TETUAN|            7|\n",
            "|              USERA|            7|\n",
            "|         ARGANZUELA|            7|\n",
            "|          SALAMANCA|            6|\n",
            "|             CENTRO|            6|\n",
            "|             RETIRO|            6|\n",
            "|          HORTALEZA|            6|\n",
            "| PUENTE DE VALLECAS|            6|\n",
            "|           CHAMBERI|            6|\n",
            "|          MORATALAZ|            6|\n",
            "|          CHAMARTIN|            6|\n",
            "|            BARAJAS|            5|\n",
            "|         VILLAVERDE|            5|\n",
            "|          VICALVARO|            4|\n",
            "+-------------------+-------------+\n",
            "only showing top 20 rows\n",
            "\n"
          ],
          "name": "stdout"
        }
      ]
    },
    {
      "cell_type": "markdown",
      "metadata": {
        "application/vnd.databricks.v1+cell": {
          "title": "",
          "showTitle": false,
          "inputWidgets": {},
          "nuid": "d422d703-82e8-4f4f-9185-6830fa7d1154"
        },
        "id": "bVIHn1hu9tj8"
      },
      "source": [
        "### ¿Qué porcentaje de españoles y extranjeros hay por distrito y barrio?"
      ]
    },
    {
      "cell_type": "code",
      "metadata": {
        "application/vnd.databricks.v1+cell": {
          "title": "",
          "showTitle": false,
          "inputWidgets": {},
          "nuid": "00ca254d-4c88-45e8-b8af-76db4609342a"
        },
        "colab": {
          "base_uri": "https://localhost:8080/"
        },
        "id": "_MR8uDV29tj9",
        "outputId": "d50a8ca9-99ff-4eaf-d217-d9baaf61eb4f"
      },
      "source": [
        "padronDF = (padronDF\n",
        "                .withColumn('total_esp', F.col('esp_hombres') + F.col('esp_mujeres'))\n",
        "                .withColumn('total_ext', F.col('ext_hombres') + F.col('ext_mujeres'))\n",
        "                .withColumn('total', F.col('total_esp') + F.col('total_ext'))\n",
        "               )\n",
        "\n",
        "padronDF.show(10)"
      ],
      "execution_count": null,
      "outputs": [
        {
          "output_type": "stream",
          "text": [
            "+--------+-------+--------+-----------+-----------+-----------+-----------+---------+---------+-----+\n",
            "|distrito| barrio|cod_edad|esp_hombres|esp_mujeres|ext_hombres|ext_mujeres|total_esp|total_ext|total|\n",
            "+--------+-------+--------+-----------+-----------+-----------+-----------+---------+---------+-----+\n",
            "|  CENTRO|PALACIO|     103|          0|          1|          0|          0|        1|        0|    1|\n",
            "|  CENTRO|PALACIO|       0|          1|          1|          0|          3|        2|        3|    5|\n",
            "|  CENTRO|PALACIO|       1|          2|          3|          0|          0|        5|        0|    5|\n",
            "|  CENTRO|PALACIO|       2|          1|          4|          0|          0|        5|        0|    5|\n",
            "|  CENTRO|PALACIO|       3|          4|          0|          0|          0|        4|        0|    4|\n",
            "|  CENTRO|PALACIO|       4|          1|          2|          0|          1|        3|        1|    4|\n",
            "|  CENTRO|PALACIO|       5|          2|          6|          0|          0|        8|        0|    8|\n",
            "|  CENTRO|PALACIO|       6|          1|          0|          0|          0|        1|        0|    1|\n",
            "|  CENTRO|PALACIO|       7|          3|          2|          0|          0|        5|        0|    5|\n",
            "|  CENTRO|PALACIO|       8|          4|          2|          0|          0|        6|        0|    6|\n",
            "+--------+-------+--------+-----------+-----------+-----------+-----------+---------+---------+-----+\n",
            "only showing top 10 rows\n",
            "\n"
          ],
          "name": "stdout"
        }
      ]
    },
    {
      "cell_type": "code",
      "metadata": {
        "application/vnd.databricks.v1+cell": {
          "title": "",
          "showTitle": false,
          "inputWidgets": {},
          "nuid": "8fd8d662-edb7-41c8-ae1b-22593c6530b0"
        },
        "colab": {
          "base_uri": "https://localhost:8080/"
        },
        "id": "6OoqDEsV9tj9",
        "outputId": "d26d6143-d85b-4c7a-acfb-b012c260ca14"
      },
      "source": [
        "padronDF_grouped = padronDF.groupby('distrito','barrio')\\\n",
        "    .agg(\n",
        "            (F.round(100 * F.sum('total_esp') / F.sum('total'), 2)).alias('pct_esp'),\n",
        "            (F.round(100 * F.sum('total_ext') / F.sum('total'), 2)).alias('pct_ext')\n",
        "    )\\\n",
        "    .orderBy('pct_ext', ascending=False)\n",
        "\n",
        "padronDF_grouped.show(10)"
      ],
      "execution_count": null,
      "outputs": [
        {
          "output_type": "stream",
          "text": [
            "+------------------+-------------+-------+-------+\n",
            "|          distrito|       barrio|pct_esp|pct_ext|\n",
            "+------------------+-------------+-------+-------+\n",
            "|             USERA|   PRADOLONGO|  62.16|  37.84|\n",
            "|        VILLAVERDE|SAN CRISTOBAL|  63.52|  36.48|\n",
            "|PUENTE DE VALLECAS|    SAN DIEGO|  67.14|  32.86|\n",
            "|            CENTRO|          SOL|  68.02|  31.98|\n",
            "|             USERA|     MOSCARDO|  70.23|  29.77|\n",
            "|            CENTRO|  EMBAJADORES|   70.5|   29.5|\n",
            "|             USERA|  ALMENDRALES|  70.64|  29.36|\n",
            "|             USERA|        ZOFIO|  72.95|  27.05|\n",
            "|            CENTRO|       CORTES|  74.14|  25.86|\n",
            "|       CARABANCHEL|PUERTA BONITA|  74.34|  25.66|\n",
            "+------------------+-------------+-------+-------+\n",
            "only showing top 10 rows\n",
            "\n"
          ],
          "name": "stdout"
        }
      ]
    },
    {
      "cell_type": "markdown",
      "metadata": {
        "application/vnd.databricks.v1+cell": {
          "title": "",
          "showTitle": false,
          "inputWidgets": {},
          "nuid": "e6b3a85f-6856-4b2d-8a1f-0a10c169b405"
        },
        "id": "9M-Zi1as9tj9"
      },
      "source": [
        "### ¿Cuál es la edad media de los ciudadanos por barrio?"
      ]
    },
    {
      "cell_type": "code",
      "metadata": {
        "application/vnd.databricks.v1+cell": {
          "title": "",
          "showTitle": false,
          "inputWidgets": {},
          "nuid": "00b6cad4-15ed-4f62-bcdd-798fbba39b65"
        },
        "id": "KQlQj4ip9tj9",
        "colab": {
          "base_uri": "https://localhost:8080/"
        },
        "outputId": "9d8d7693-2fb2-475e-d74c-425baa199e56"
      },
      "source": [
        "(padronDF\n",
        " .select(\"barrio\", \"cod_edad\")\n",
        " .groupBy(\"barrio\")\n",
        " .agg((F.round(F.avg(\"cod_edad\"),2)).alias(\"avg_edad\"))\n",
        " .orderBy(\"avg_edad\", ascending=False)\n",
        " .show(10)\n",
        ")"
      ],
      "execution_count": null,
      "outputs": [
        {
          "output_type": "stream",
          "text": [
            "+--------------+--------+\n",
            "|        barrio|avg_edad|\n",
            "+--------------+--------+\n",
            "|    EL PLANTIO|   50.05|\n",
            "|HISPANOAMERICA|    49.7|\n",
            "|    GAZTAMBIDE|   49.52|\n",
            "|       ALMAGRO|   49.49|\n",
            "|    RIOS ROSAS|   49.45|\n",
            "|  VALLEHERMOSO|   49.42|\n",
            "| CASA DE CAMPO|   49.39|\n",
            "|    CONCEPCION|   49.38|\n",
            "|         IBIZA|    49.3|\n",
            "|     ARGUELLES|    49.2|\n",
            "+--------------+--------+\n",
            "only showing top 10 rows\n",
            "\n"
          ],
          "name": "stdout"
        }
      ]
    },
    {
      "cell_type": "markdown",
      "metadata": {
        "application/vnd.databricks.v1+cell": {
          "title": "",
          "showTitle": false,
          "inputWidgets": {},
          "nuid": "c429401c-9c58-4c91-b01f-3207d90c2d5b"
        },
        "id": "7Puun_2g9tj-"
      },
      "source": [
        "### Ejercicios"
      ]
    },
    {
      "cell_type": "markdown",
      "metadata": {
        "application/vnd.databricks.v1+cell": {
          "title": "",
          "showTitle": false,
          "inputWidgets": {},
          "nuid": "5d316082-7382-44e7-941e-913a5e613268"
        },
        "id": "ZfPAsuy19tj-"
      },
      "source": [
        "#### 6.10 Uso de groupBy\n",
        "Lanza una consulta contra el DF resultante en la que muestre el número total de \"espanoleshombres\", \"espanolesmujeres\", extranjeroshombres\" y \"extranjerosmujeres\" para cada barrio de cada distrito. \n",
        "\n",
        "Las columnas distrito y barrio deben ser las primeras en aparecer en el show. Los resultados deben estar ordenados en orden de más a menos según la columna \"extranjerosmujeres\" y desempatarán por la columna \"extranjeroshombres\"."
      ]
    },
    {
      "cell_type": "code",
      "metadata": {
        "application/vnd.databricks.v1+cell": {
          "title": "",
          "showTitle": false,
          "inputWidgets": {},
          "nuid": "4f6c74ad-a040-44db-a3eb-243b9b8c52bf"
        },
        "id": "v34LC0-Y9tj-",
        "colab": {
          "base_uri": "https://localhost:8080/"
        },
        "outputId": "590e7933-4721-4b58-d569-e75f8230574c"
      },
      "source": [
        "padronDF.groupBy('distrito','barrio')\\\n",
        "    .agg(\n",
        "         (F.sum(\"esp_hombres\")).alias(\"esp_hombres\"), \n",
        "         (F.sum(\"esp_mujeres\")).alias(\"esp_mujeres\"),\n",
        "         (F.sum(\"ext_hombres\")).alias(\"ext_hombres\"),\n",
        "         (F.sum(\"ext_mujeres\")).alias(\"ext_mujeres\")\n",
        "     )\\\n",
        "    .orderBy(\"ext_mujeres\", \"ext_hombres\", ascending=False)\\\n",
        "    .show()"
      ],
      "execution_count": null,
      "outputs": [
        {
          "output_type": "stream",
          "text": [
            "+-------------------+--------------------+-----------+-----------+-----------+-----------+\n",
            "|           distrito|              barrio|esp_hombres|esp_mujeres|ext_hombres|ext_mujeres|\n",
            "+-------------------+--------------------+-----------+-----------+-----------+-----------+\n",
            "| PUENTE DE VALLECAS|           SAN DIEGO|      13903|      15587|       7066|       7367|\n",
            "|             LATINA|              ALUCHE|      25257|      29932|       5592|       6609|\n",
            "|      CIUDAD LINEAL|        PUEBLO NUEVO|      23542|      27511|       5615|       6517|\n",
            "|        CARABANCHEL|        VISTA ALEGRE|      15998|      19492|       5589|       6291|\n",
            "| PUENTE DE VALLECAS|            NUMANCIA|      17290|      19641|       5584|       5907|\n",
            "|             CENTRO|         EMBAJADORES|      16694|      16809|       8230|       5787|\n",
            "|         VILLAVERDE|VILLAVERDE ALTO C.H.|      17102|      19110|       5182|       5470|\n",
            "|             LATINA|    PUERTA DEL ANGEL|      15250|      17837|       4211|       4930|\n",
            "|      CIUDAD LINEAL|              VENTAS|      17752|      21912|       4069|       4913|\n",
            "|        CARABANCHEL|       PUERTA BONITA|      12557|      14283|       4364|       4899|\n",
            "|        CARABANCHEL|          SAN ISIDRO|      14493|      16681|       4192|       4592|\n",
            "|FUENCARRAL-EL PARDO|            VALVERDE|      26976|      29226|       3730|       4515|\n",
            "|        CARABANCHEL|              OPAÑEL|      11760|      14209|       3737|       4212|\n",
            "|             CENTRO|         UNIVERSIDAD|      12679|      12755|       4083|       4078|\n",
            "|         VILLAVERDE|         LOS ROSALES|      14320|      15724|       3930|       4061|\n",
            "|             TETUAN|       BELLAS VISTAS|      10268|      12092|       3240|       4011|\n",
            "|              USERA|            MOSCARDO|       8544|      10284|       3974|       4008|\n",
            "|  VILLA DE VALLECAS|    CASCO H.VALLECAS|      15801|      17203|       3610|       3877|\n",
            "|          VICALVARO|   CASCO H.VICALVARO|      13438|      14623|       3793|       3870|\n",
            "|        CARABANCHEL|            ABRANTES|      11320|      13183|       3442|       3758|\n",
            "+-------------------+--------------------+-----------+-----------+-----------+-----------+\n",
            "only showing top 20 rows\n",
            "\n"
          ],
          "name": "stdout"
        }
      ]
    },
    {
      "cell_type": "markdown",
      "metadata": {
        "application/vnd.databricks.v1+cell": {
          "title": "",
          "showTitle": false,
          "inputWidgets": {},
          "nuid": "cff58c05-54b1-45ce-84ed-1771efa5cfbf"
        },
        "id": "TXemcLf59tj_"
      },
      "source": [
        "#### 6.12 Uso de join\n",
        "\n",
        "Crea un nuevo DataFrame a partir del original que muestre únicamente una columna con DESC_BARRIO, otra con DESC_DISTRITO y otra con el número total de \"espanoleshombres\" residentes en cada distrito de cada barrio. Únelo (con un join) con el DataFrame original a través de las columnas en común."
      ]
    },
    {
      "cell_type": "code",
      "metadata": {
        "application/vnd.databricks.v1+cell": {
          "title": "",
          "showTitle": false,
          "inputWidgets": {},
          "nuid": "7a8aeddc-4140-420c-8987-9ce675bf7f09"
        },
        "id": "kO4CzaDV9tj_",
        "colab": {
          "base_uri": "https://localhost:8080/"
        },
        "outputId": "e14b82e2-f6d1-42b2-a2d9-a945f3378777"
      },
      "source": [
        "aggDF = padronDF.groupby(\"distrito\", \"barrio\")\\\n",
        "  .agg(F.sum(\"esp_hombres\").alias(\"total_esp_hombres\"))\n",
        "\n",
        "padronDF.join(aggDF, [\"distrito\",\"barrio\"]).show(10)\n",
        "\n",
        "#https://stackoverflow.com/questions/46944493/removing-duplicate-columns-after-a-df-join-in-spark"
      ],
      "execution_count": null,
      "outputs": [
        {
          "output_type": "stream",
          "text": [
            "+--------+-------+--------+-----------+-----------+-----------+-----------+---------+---------+-----+-----------------+\n",
            "|distrito| barrio|cod_edad|esp_hombres|esp_mujeres|ext_hombres|ext_mujeres|total_esp|total_ext|total|total_esp_hombres|\n",
            "+--------+-------+--------+-----------+-----------+-----------+-----------+---------+---------+-----+-----------------+\n",
            "|  CENTRO|PALACIO|     103|          0|          1|          0|          0|        1|        0|    1|             9380|\n",
            "|  CENTRO|PALACIO|       0|          1|          1|          0|          3|        2|        3|    5|             9380|\n",
            "|  CENTRO|PALACIO|       1|          2|          3|          0|          0|        5|        0|    5|             9380|\n",
            "|  CENTRO|PALACIO|       2|          1|          4|          0|          0|        5|        0|    5|             9380|\n",
            "|  CENTRO|PALACIO|       3|          4|          0|          0|          0|        4|        0|    4|             9380|\n",
            "|  CENTRO|PALACIO|       4|          1|          2|          0|          1|        3|        1|    4|             9380|\n",
            "|  CENTRO|PALACIO|       5|          2|          6|          0|          0|        8|        0|    8|             9380|\n",
            "|  CENTRO|PALACIO|       6|          1|          0|          0|          0|        1|        0|    1|             9380|\n",
            "|  CENTRO|PALACIO|       7|          3|          2|          0|          0|        5|        0|    5|             9380|\n",
            "|  CENTRO|PALACIO|       8|          4|          2|          0|          0|        6|        0|    6|             9380|\n",
            "+--------+-------+--------+-----------+-----------+-----------+-----------+---------+---------+-----+-----------------+\n",
            "only showing top 10 rows\n",
            "\n"
          ],
          "name": "stdout"
        }
      ]
    },
    {
      "cell_type": "markdown",
      "metadata": {
        "application/vnd.databricks.v1+cell": {
          "title": "",
          "showTitle": false,
          "inputWidgets": {},
          "nuid": "54395748-ac1e-426c-b39d-4babbf070168"
        },
        "id": "ODe3KVP29tj_"
      },
      "source": [
        "#### 6.13 Uso de funciones de ventana\n",
        "Repite el ejercicio anterior utilizando funciones de ventana. (over(Window.partitionBy.....)).\n",
        "\n",
        "Información interesante:\n",
        "* https://medium.com/expedia-group-tech/deep-dive-into-apache-spark-window-functions-7b4e39ad3c86\n",
        "* https://databricks.com/blog/2015/07/15/introducing-window-functions-in-spark-sql.html\n",
        "* https://sparkbyexamples.com/spark/spark-sql-window-functions/"
      ]
    },
    {
      "cell_type": "code",
      "metadata": {
        "colab": {
          "base_uri": "https://localhost:8080/"
        },
        "id": "O96NqKqY9bEf",
        "outputId": "19d8a47a-0d69-45f8-ecb3-491c60dd3421"
      },
      "source": [
        "from pyspark.sql.window import Window\r\n",
        "\r\n",
        "windowSpecAgg = Window.partitionBy(\"distrito\", \"barrio\")\r\n",
        "\r\n",
        "padronDF.withColumn(\"total_esp_hombres\",\r\n",
        "                    F.sum(F.col(\"esp_hombres\")).over(windowSpecAgg))\\\r\n",
        "                    .filter(F.col(\"barrio\") == \"PALACIO\")\\\r\n",
        "                    .show(10)"
      ],
      "execution_count": null,
      "outputs": [
        {
          "output_type": "stream",
          "text": [
            "+--------+-------+--------+-----------+-----------+-----------+-----------+---------+---------+-----+-----------------+\n",
            "|distrito| barrio|cod_edad|esp_hombres|esp_mujeres|ext_hombres|ext_mujeres|total_esp|total_ext|total|total_esp_hombres|\n",
            "+--------+-------+--------+-----------+-----------+-----------+-----------+---------+---------+-----+-----------------+\n",
            "|  CENTRO|PALACIO|     103|          0|          1|          0|          0|        1|        0|    1|             9380|\n",
            "|  CENTRO|PALACIO|       0|          1|          1|          0|          3|        2|        3|    5|             9380|\n",
            "|  CENTRO|PALACIO|       1|          2|          3|          0|          0|        5|        0|    5|             9380|\n",
            "|  CENTRO|PALACIO|       2|          1|          4|          0|          0|        5|        0|    5|             9380|\n",
            "|  CENTRO|PALACIO|       3|          4|          0|          0|          0|        4|        0|    4|             9380|\n",
            "|  CENTRO|PALACIO|       4|          1|          2|          0|          1|        3|        1|    4|             9380|\n",
            "|  CENTRO|PALACIO|       5|          2|          6|          0|          0|        8|        0|    8|             9380|\n",
            "|  CENTRO|PALACIO|       6|          1|          0|          0|          0|        1|        0|    1|             9380|\n",
            "|  CENTRO|PALACIO|       7|          3|          2|          0|          0|        5|        0|    5|             9380|\n",
            "|  CENTRO|PALACIO|       8|          4|          2|          0|          0|        6|        0|    6|             9380|\n",
            "+--------+-------+--------+-----------+-----------+-----------+-----------+---------+---------+-----+-----------------+\n",
            "only showing top 10 rows\n",
            "\n"
          ],
          "name": "stdout"
        }
      ]
    },
    {
      "cell_type": "markdown",
      "metadata": {
        "application/vnd.databricks.v1+cell": {
          "title": "",
          "showTitle": false,
          "inputWidgets": {},
          "nuid": "466a91cf-3615-4a1e-a45f-b0c473127d09"
        },
        "id": "7GJStHA99tj_"
      },
      "source": [
        "#### 6.14 Uso de tablas Pivot\n",
        "Mediante una función Pivot muestra una tabla (que va a ser una tabla de contingencia) que contenga los valores medios de `espanolesmujeres` para cada barrio y en cada rango de edad (COD_EDAD_INT). Los barrios incluidos deben ser únicamente CENTRO, BARAJAS y RETIRO y deben figurar como columnas."
      ]
    },
    {
      "cell_type": "code",
      "metadata": {
        "application/vnd.databricks.v1+cell": {
          "title": "",
          "showTitle": false,
          "inputWidgets": {},
          "nuid": "df69e5c1-b538-4b5b-afe0-8c5a467e57f8"
        },
        "id": "TaZweGhv9tj_",
        "colab": {
          "base_uri": "https://localhost:8080/"
        },
        "outputId": "fc875937-6a55-4c5a-893d-895f52c5cbbd"
      },
      "source": [
        "# Sin usar la función pivot\n",
        "padronDF.filter(\"\"\"distrito in (\"CENTRO\", \"BARAJAS\", \"RETIRO\")\"\"\")\\\n",
        "  .groupBy(\"cod_edad\", \"distrito\")\\\n",
        "  .mean(\"esp_mujeres\")\\\n",
        "  .orderBy(\"cod_edad\")\\\n",
        "  .show(10)"
      ],
      "execution_count": null,
      "outputs": [
        {
          "output_type": "stream",
          "text": [
            "+--------+--------+------------------+\n",
            "|cod_edad|distrito|  avg(esp_mujeres)|\n",
            "+--------+--------+------------------+\n",
            "|       0|  CENTRO|2.3545454545454545|\n",
            "|       0|  RETIRO|3.4193548387096775|\n",
            "|       0| BARAJAS| 5.483870967741935|\n",
            "|       1| BARAJAS| 5.774193548387097|\n",
            "|       1|  RETIRO|3.9361702127659575|\n",
            "|       1|  CENTRO|2.3423423423423424|\n",
            "|       2| BARAJAS| 6.741935483870968|\n",
            "|       2|  CENTRO|2.3394495412844036|\n",
            "|       2|  RETIRO| 4.258064516129032|\n",
            "|       3|  CENTRO|2.2181818181818183|\n",
            "+--------+--------+------------------+\n",
            "only showing top 10 rows\n",
            "\n"
          ],
          "name": "stdout"
        }
      ]
    },
    {
      "cell_type": "code",
      "metadata": {
        "application/vnd.databricks.v1+cell": {
          "title": "",
          "showTitle": false,
          "inputWidgets": {},
          "nuid": "268de426-90c9-4aae-8c42-6a6468f4f7ec"
        },
        "id": "AL_QVOMH9tj_",
        "colab": {
          "base_uri": "https://localhost:8080/"
        },
        "outputId": "2a7103fd-0f0b-41f7-8720-6bb8ce22076e"
      },
      "source": [
        "# Usando la función pivot\n",
        "padronDF.groupBy(\"cod_edad\")\\\n",
        "  .pivot(\"distrito\", [\"BARAJAS\", \"CENTRO\", \"RETIRO\"])\\\n",
        "  .agg(F.round(F.mean(\"esp_mujeres\"),2))\\\n",
        "  .orderBy(\"cod_edad\")\\\n",
        "  .show(10)"
      ],
      "execution_count": null,
      "outputs": [
        {
          "output_type": "stream",
          "text": [
            "+--------+-------+------+------+\n",
            "|cod_edad|BARAJAS|CENTRO|RETIRO|\n",
            "+--------+-------+------+------+\n",
            "|       0|   5.48|  2.35|  3.42|\n",
            "|       1|   5.77|  2.34|  3.94|\n",
            "|       2|   6.74|  2.34|  4.26|\n",
            "|       3|   7.58|  2.22|  4.53|\n",
            "|       4|   8.06|  2.24|  4.64|\n",
            "|       5|   8.23|  2.27|  4.59|\n",
            "|       6|   7.84|  2.28|  4.77|\n",
            "|       7|   8.71|  2.13|  4.59|\n",
            "|       8|   8.13|  2.39|  4.66|\n",
            "|       9|   8.58|  2.41|  4.54|\n",
            "+--------+-------+------+------+\n",
            "only showing top 10 rows\n",
            "\n"
          ],
          "name": "stdout"
        }
      ]
    },
    {
      "cell_type": "markdown",
      "metadata": {
        "application/vnd.databricks.v1+cell": {
          "title": "",
          "showTitle": false,
          "inputWidgets": {},
          "nuid": "3f7af394-c900-46c0-ba05-bbd0c34e78e4"
        },
        "id": "AOnljTBw9tkA"
      },
      "source": [
        "#### 6.15 Uso de operaciones vectoriales\n",
        "Utilizando este nuevo DF, crea 3 columnas nuevas que hagan referencia a qué porcentaje de la población total de \"espanolesmujeres\" de cada rango de edad representa cada uno de los tres distritos. \n",
        "\n",
        "Debe estar redondeada a 2 decimales. Puedes imponerte la condición extra de no apoyarte en ninguna columna auxiliar creada para el caso."
      ]
    },
    {
      "cell_type": "code",
      "metadata": {
        "application/vnd.databricks.v1+cell": {
          "title": "",
          "showTitle": false,
          "inputWidgets": {},
          "nuid": "f4e9fa6a-32d2-46a0-8c03-91e274b385e5"
        },
        "id": "ms0yJwIl9tkA",
        "colab": {
          "base_uri": "https://localhost:8080/"
        },
        "outputId": "9dfe650b-78df-4078-aa48-5746146c6454"
      },
      "source": [
        "padronDF_edad = padronDF.groupBy(\"cod_edad\")\\\n",
        "  .pivot(\"distrito\", [\"BARAJAS\", \"CENTRO\", \"RETIRO\"])\\\n",
        "  .sum(\"esp_mujeres\")\\\n",
        "  .orderBy(\"cod_edad\")\n",
        "\n",
        "padronDF_edad.show(5)"
      ],
      "execution_count": null,
      "outputs": [
        {
          "output_type": "stream",
          "text": [
            "+--------+-------+------+------+\n",
            "|cod_edad|BARAJAS|CENTRO|RETIRO|\n",
            "+--------+-------+------+------+\n",
            "|       0|    170|   259|   318|\n",
            "|       1|    179|   260|   370|\n",
            "|       2|    209|   255|   396|\n",
            "|       3|    235|   244|   426|\n",
            "|       4|    250|   244|   436|\n",
            "+--------+-------+------+------+\n",
            "only showing top 5 rows\n",
            "\n"
          ],
          "name": "stdout"
        }
      ]
    },
    {
      "cell_type": "code",
      "metadata": {
        "application/vnd.databricks.v1+cell": {
          "title": "",
          "showTitle": false,
          "inputWidgets": {},
          "nuid": "cb568944-4145-4d62-9daa-7756f6f176de"
        },
        "id": "EPh0Rlmg9tkA",
        "colab": {
          "base_uri": "https://localhost:8080/"
        },
        "outputId": "73fd1d02-48e7-409e-e89f-d8ceeca83d06"
      },
      "source": [
        "padronDF_edad.select(\"*\",\n",
        "                     (F.round(100 * (F.col(\"BARAJAS\") / (F.col(\"BARAJAS\") + F.col(\"CENTRO\") + F.col(\"RETIRO\"))),2)).alias(\"% BARAJAS\"),\n",
        "                     (F.round(100 * (F.col(\"CENTRO\") / (F.col(\"BARAJAS\") + F.col(\"CENTRO\") + F.col(\"RETIRO\"))),2)).alias(\"% CENTRO\"),\n",
        "                     (F.round(100 * (F.col(\"RETIRO\") / (F.col(\"BARAJAS\") + F.col(\"CENTRO\") + F.col(\"RETIRO\"))),2)).alias(\"% RETIRO\")).show(10)"
      ],
      "execution_count": null,
      "outputs": [
        {
          "output_type": "stream",
          "text": [
            "+--------+-------+------+------+---------+--------+--------+\n",
            "|cod_edad|BARAJAS|CENTRO|RETIRO|% BARAJAS|% CENTRO|% RETIRO|\n",
            "+--------+-------+------+------+---------+--------+--------+\n",
            "|       0|    170|   259|   318|    22.76|   34.67|   42.57|\n",
            "|       1|    179|   260|   370|    22.13|   32.14|   45.74|\n",
            "|       2|    209|   255|   396|     24.3|   29.65|   46.05|\n",
            "|       3|    235|   244|   426|    25.97|   26.96|   47.07|\n",
            "|       4|    250|   244|   436|    26.88|   26.24|   46.88|\n",
            "|       5|    255|   250|   431|    27.24|   26.71|   46.05|\n",
            "|       6|    243|   251|   448|     25.8|   26.65|   47.56|\n",
            "|       7|    270|   232|   431|    28.94|   24.87|    46.2|\n",
            "|       8|    252|   263|   438|    26.44|    27.6|   45.96|\n",
            "|       9|    266|   265|   422|    27.91|   27.81|   44.28|\n",
            "+--------+-------+------+------+---------+--------+--------+\n",
            "only showing top 10 rows\n",
            "\n"
          ],
          "name": "stdout"
        }
      ]
    },
    {
      "cell_type": "markdown",
      "metadata": {
        "application/vnd.databricks.v1+cell": {
          "title": "",
          "showTitle": false,
          "inputWidgets": {},
          "nuid": "af9ed083-aeb4-4e36-9a9a-27e798bc87eb"
        },
        "id": "-W95WB359tkA"
      },
      "source": [
        "#### 6.16 Uso de particionado\n",
        "\n",
        "Guarda el archivo CSV particionado por distrito y por barrio (en ese orden) en un directorio local. Consulta el directorio para ver la estructura de los ficheros y comprueba que es la esperada."
      ]
    },
    {
      "cell_type": "code",
      "metadata": {
        "application/vnd.databricks.v1+cell": {
          "title": "",
          "showTitle": false,
          "inputWidgets": {},
          "nuid": "43985b44-002f-4fdc-8aec-614052dcbc73"
        },
        "id": "AzPez18n9tkB",
        "colab": {
          "base_uri": "https://localhost:8080/"
        },
        "outputId": "18368000-3176-4846-913d-1392559c3f1a"
      },
      "source": [
        "%fs\n",
        "ls /FileStore/datasets"
      ],
      "execution_count": null,
      "outputs": [
        {
          "output_type": "stream",
          "text": [
            "/content\n"
          ],
          "name": "stdout"
        }
      ]
    },
    {
      "cell_type": "code",
      "metadata": {
        "application/vnd.databricks.v1+cell": {
          "title": "",
          "showTitle": false,
          "inputWidgets": {},
          "nuid": "241e78d2-8d3e-464f-8055-4e19b2136863"
        },
        "id": "D4oOyEc59tkB"
      },
      "source": [
        "padronDF.write.partitionBy(\"distrito\",\"barrio\").mode(\"overwrite\").csv(\"/FileStore/datasets/padron.csv\", header=True)"
      ],
      "execution_count": null,
      "outputs": []
    },
    {
      "cell_type": "code",
      "metadata": {
        "application/vnd.databricks.v1+cell": {
          "title": "",
          "showTitle": false,
          "inputWidgets": {},
          "nuid": "bf52ec9b-b987-4812-9cbf-64f7e569148a"
        },
        "id": "FUUVLBRv9tkB"
      },
      "source": [
        "%fs \n",
        "ls /FileStore/datasets/padron.csv"
      ],
      "execution_count": null,
      "outputs": []
    },
    {
      "cell_type": "code",
      "metadata": {
        "application/vnd.databricks.v1+cell": {
          "title": "",
          "showTitle": false,
          "inputWidgets": {},
          "nuid": "17ccdd5f-a41d-41d7-af69-fd04aa61f63b"
        },
        "id": "exAHn_t29tkB"
      },
      "source": [
        "spark.read.csv(\"/FileStore/datasets/padron.csv/distrito=ARGANZUELA/barrio=ACACIAS\", header=True).show(5)"
      ],
      "execution_count": null,
      "outputs": []
    },
    {
      "cell_type": "markdown",
      "metadata": {
        "application/vnd.databricks.v1+cell": {
          "title": "",
          "showTitle": false,
          "inputWidgets": {},
          "nuid": "6be86695-1d19-4a6c-beca-93e373d5dc1c"
        },
        "id": "oGlb1CzR9tkD"
      },
      "source": [
        "## Análisis usando SQL"
      ]
    },
    {
      "cell_type": "code",
      "metadata": {
        "application/vnd.databricks.v1+cell": {
          "title": "",
          "showTitle": false,
          "inputWidgets": {},
          "nuid": "14633964-524f-4246-8545-279cf9db3422"
        },
        "id": "jgvWA3DB9tkD",
        "colab": {
          "base_uri": "https://localhost:8080/"
        },
        "outputId": "c418e2cc-1b25-46a2-efd4-5e4a62a01dc0"
      },
      "source": [
        "# Create a local temporal table from DataFrame\n",
        "padronDF.createOrReplaceTempView('padron_ltv')\n",
        "\n",
        "# Print the tables in the catalog\n",
        "print(spark.catalog.listTables())"
      ],
      "execution_count": null,
      "outputs": [
        {
          "output_type": "stream",
          "text": [
            "[Table(name='padron_ltv', database=None, description=None, tableType='TEMPORARY', isTemporary=True)]\n"
          ],
          "name": "stdout"
        }
      ]
    },
    {
      "cell_type": "code",
      "metadata": {
        "application/vnd.databricks.v1+cell": {
          "title": "",
          "showTitle": false,
          "inputWidgets": {},
          "nuid": "7efc1a84-801b-4371-8bde-1231e5394d40"
        },
        "colab": {
          "base_uri": "https://localhost:8080/"
        },
        "id": "9pCFGEKd9tkD",
        "outputId": "fda9c255-b6a1-4867-d4ee-453feac67bde"
      },
      "source": [
        "query = \"\"\"\n",
        "SELECT\n",
        "  distrito AS DISTRITO,\n",
        "  barrio AS BARRIO,\n",
        "  ROUND(100 * SUM(total_esp)/SUM(total), 2) AS PCT_ESP,\n",
        "  ROUND(100 * SUM(total_ext)/SUM(total), 2) AS PCT_EXT\n",
        "  FROM padron_ltv\n",
        "  GROUP BY distrito, barrio\n",
        "  ORDER BY pct_ext DESC\n",
        "  LIMIT 10\n",
        "\"\"\"\n",
        "spark.sql(query).show()"
      ],
      "execution_count": null,
      "outputs": [
        {
          "output_type": "stream",
          "text": [
            "+------------------+-------------+-------+-------+\n",
            "|          DISTRITO|       BARRIO|PCT_ESP|PCT_EXT|\n",
            "+------------------+-------------+-------+-------+\n",
            "|             USERA|   PRADOLONGO|  62.16|  37.84|\n",
            "|        VILLAVERDE|SAN CRISTOBAL|  63.52|  36.48|\n",
            "|PUENTE DE VALLECAS|    SAN DIEGO|  67.14|  32.86|\n",
            "|            CENTRO|          SOL|  68.02|  31.98|\n",
            "|             USERA|     MOSCARDO|  70.23|  29.77|\n",
            "|            CENTRO|  EMBAJADORES|   70.5|   29.5|\n",
            "|             USERA|  ALMENDRALES|  70.64|  29.36|\n",
            "|             USERA|        ZOFIO|  72.95|  27.05|\n",
            "|            CENTRO|       CORTES|  74.14|  25.86|\n",
            "|       CARABANCHEL|PUERTA BONITA|  74.34|  25.66|\n",
            "+------------------+-------------+-------+-------+\n",
            "\n"
          ],
          "name": "stdout"
        }
      ]
    },
    {
      "cell_type": "markdown",
      "metadata": {
        "application/vnd.databricks.v1+cell": {
          "title": "",
          "showTitle": false,
          "inputWidgets": {},
          "nuid": "fdffe283-123b-4dbb-8d24-337e4f15d947"
        },
        "id": "62md-p919tkD"
      },
      "source": [
        "### Hive"
      ]
    },
    {
      "cell_type": "code",
      "metadata": {
        "application/vnd.databricks.v1+cell": {
          "title": "",
          "showTitle": false,
          "inputWidgets": {},
          "nuid": "cbc485ce-d50e-4502-8534-fababdf09e88"
        },
        "id": "HlBXzIJ39tkD",
        "colab": {
          "base_uri": "https://localhost:8080/"
        },
        "outputId": "0cfa3f78-2ef1-4c2b-e282-d1490e0f47d0"
      },
      "source": [
        "spark.sql(\"CREATE DATABASE IF NOT EXISTS datos_padron\")\n",
        "spark.sql(\"USE datos_padron\")\n",
        "spark.sql(\"SHOW DATABASES\").show()"
      ],
      "execution_count": null,
      "outputs": [
        {
          "output_type": "stream",
          "text": [
            "+------------+\n",
            "|   namespace|\n",
            "+------------+\n",
            "|datos_padron|\n",
            "|     default|\n",
            "+------------+\n",
            "\n"
          ],
          "name": "stdout"
        }
      ]
    },
    {
      "cell_type": "code",
      "metadata": {
        "application/vnd.databricks.v1+cell": {
          "title": "",
          "showTitle": false,
          "inputWidgets": {},
          "nuid": "b324dc9d-01c1-4db5-95b0-e3cd841a5574"
        },
        "id": "CMpBcLH79tkD",
        "colab": {
          "base_uri": "https://localhost:8080/"
        },
        "outputId": "fc626f29-ee68-4ad3-9e72-444730a02bad"
      },
      "source": [
        "spark.sql(\"SHOW TABLES\").show()"
      ],
      "execution_count": null,
      "outputs": [
        {
          "output_type": "stream",
          "text": [
            "+------------+----------+-----------+\n",
            "|    database| tableName|isTemporary|\n",
            "+------------+----------+-----------+\n",
            "|datos_padron|padron_raw|      false|\n",
            "+------------+----------+-----------+\n",
            "\n"
          ],
          "name": "stdout"
        }
      ]
    },
    {
      "cell_type": "code",
      "metadata": {
        "application/vnd.databricks.v1+cell": {
          "title": "",
          "showTitle": false,
          "inputWidgets": {},
          "nuid": "957b8824-3d02-402d-a5e9-edb7ecdaf18b"
        },
        "id": "F9lykd3s9tkD",
        "colab": {
          "base_uri": "https://localhost:8080/"
        },
        "outputId": "9d10f4d0-867d-47f7-99dc-7c8e024cffe5"
      },
      "source": [
        "spark.sql(\"DROP TABLE IF EXISTS padron_raw;\")\n",
        "\n",
        "query = \"\"\"\n",
        "CREATE TABLE datos_padron.padron_raw\n",
        "(\n",
        "\tcod_distrito STRING,\n",
        "\tdesc_distrito STRING,\n",
        "\tcod_dist_barrio STRING,\n",
        "\tdesc_barrio STRING,\n",
        "\tcod_barrio STRING,\n",
        "\tcod_dist_seccion STRING,\n",
        "\tcod_seccion STRING,\n",
        "\tcod_edad INT,\n",
        "\tespanoles_hombres INT,\n",
        "\tespanoles_mujeres INT,\n",
        "\textranjeros_hombres INT,\n",
        "\textranjeros_mujeres INT\n",
        ")\n",
        "ROW FORMAT SERDE 'org.apache.hadoop.hive.serde2.OpenCSVSerde' \n",
        "WITH SERDEPROPERTIES\n",
        "(\n",
        "    \"separatorChar\" = \";\",\n",
        "    \"quoteChar\" = '\\\"'\n",
        ")\n",
        "TBLPROPERTIES (\n",
        "    \"skip.header.line.count\"=\"1\",\n",
        "    \"seriealization.null.format\"=\"\"\n",
        ");\n",
        "\"\"\"\n",
        "spark.sql(query)\n",
        "\n",
        "spark.sql(\"LOAD DATA LOCAL INPATH '/content/padron_madrid_2020.csv' INTO TABLE padron_raw\")"
      ],
      "execution_count": null,
      "outputs": [
        {
          "output_type": "execute_result",
          "data": {
            "text/plain": [
              "DataFrame[]"
            ]
          },
          "metadata": {
            "tags": []
          },
          "execution_count": 88
        }
      ]
    },
    {
      "cell_type": "code",
      "metadata": {
        "application/vnd.databricks.v1+cell": {
          "title": "",
          "showTitle": false,
          "inputWidgets": {},
          "nuid": "29ee2931-bb0a-4a6b-852a-30d5ad14ce98"
        },
        "id": "JeldY-AA9tkE",
        "colab": {
          "base_uri": "https://localhost:8080/"
        },
        "outputId": "c10f0dbe-1798-4ed4-8031-5e2e05eba212"
      },
      "source": [
        "spark.sql(\"SELECT * FROM padron_raw LIMIT 5\").show()"
      ],
      "execution_count": null,
      "outputs": [
        {
          "output_type": "stream",
          "text": [
            "+------------+--------------------+---------------+--------------------+----------+----------------+-----------+------------+-----------------+-----------------+-------------------+-------------------+\n",
            "|cod_distrito|       desc_distrito|cod_dist_barrio|         desc_barrio|cod_barrio|cod_dist_seccion|cod_seccion|    cod_edad|espanoles_hombres|espanoles_mujeres|extranjeros_hombres|extranjeros_mujeres|\n",
            "+------------+--------------------+---------------+--------------------+----------+----------------+-----------+------------+-----------------+-----------------+-------------------+-------------------+\n",
            "|COD_DISTRITO|       DESC_DISTRITO|COD_DIST_BARRIO|         DESC_BARRIO|COD_BARRIO|COD_DIST_SECCION|COD_SECCION|COD_EDAD_INT| EspanolesHombres| EspanolesMujeres| ExtranjerosHombres| ExtranjerosMujeres|\n",
            "|           1|CENTRO              |            101|PALACIO             |         1|            1006|          6|         103|                 |                1|                   |                   |\n",
            "|           1|CENTRO              |            101|PALACIO             |         1|            1007|          7|           0|                1|                1|                   |                  3|\n",
            "|           1|CENTRO              |            101|PALACIO             |         1|            1007|          7|           1|                2|                3|                   |                   |\n",
            "|           1|CENTRO              |            101|PALACIO             |         1|            1007|          7|           2|                1|                4|                   |                   |\n",
            "+------------+--------------------+---------------+--------------------+----------+----------------+-----------+------------+-----------------+-----------------+-------------------+-------------------+\n",
            "\n"
          ],
          "name": "stdout"
        }
      ]
    },
    {
      "cell_type": "code",
      "metadata": {
        "application/vnd.databricks.v1+cell": {
          "title": "",
          "showTitle": false,
          "inputWidgets": {},
          "nuid": "08fc0b19-e9e2-428d-8b2d-53001bbbfd71"
        },
        "id": "Ffr4hz0L9tkE",
        "colab": {
          "base_uri": "https://localhost:8080/"
        },
        "outputId": "42c1a89e-68e7-4c9c-e857-b547e546c5c5"
      },
      "source": [
        "# Check the number of rows\n",
        "spark.sql(\"SELECT COUNT(*) AS total_rows FROM padron_raw\").show()"
      ],
      "execution_count": null,
      "outputs": [
        {
          "output_type": "stream",
          "text": [
            "+----------+\n",
            "|total_rows|\n",
            "+----------+\n",
            "|    237676|\n",
            "+----------+\n",
            "\n"
          ],
          "name": "stdout"
        }
      ]
    },
    {
      "cell_type": "code",
      "metadata": {
        "application/vnd.databricks.v1+cell": {
          "title": "",
          "showTitle": false,
          "inputWidgets": {},
          "nuid": "f4ea0e2b-1965-4923-a117-22c475c7be43"
        },
        "id": "qtuedSM09tkE",
        "colab": {
          "base_uri": "https://localhost:8080/"
        },
        "outputId": "0b704b55-8af2-4b7c-f495-9a213fd6d11e"
      },
      "source": [
        "spark.sql(\"DROP TABLE IF EXISTS padron_clean\")\n",
        "\n",
        "query = \"\"\"\n",
        "CREATE TABLE datos_padron.padron_clean\n",
        "AS \n",
        "SELECT\n",
        "  cod_distrito,\n",
        "  TRIM(desc_distrito) AS distrito,\n",
        "  cod_dist_barrio,\n",
        "  TRIM(desc_barrio) AS barrio,\n",
        "  cod_barrio,\n",
        "  cod_dist_seccion,\n",
        "  cod_seccion,\n",
        "  CAST(cod_edad AS INT),\n",
        "  CAST(espanoles_hombres AS INT),\n",
        "  CAST(espanoles_mujeres AS INT),\n",
        "  CAST(extranjeros_hombres AS INT),\n",
        "  CAST(extranjeros_mujeres AS INT)\n",
        "FROM datos_padron.padron_raw\n",
        "WHERE cod_distrito != \"COD_DISTRITO\"\n",
        "\"\"\"\n",
        "spark.sql(query)"
      ],
      "execution_count": null,
      "outputs": [
        {
          "output_type": "execute_result",
          "data": {
            "text/plain": [
              "DataFrame[]"
            ]
          },
          "metadata": {
            "tags": []
          },
          "execution_count": 94
        }
      ]
    },
    {
      "cell_type": "code",
      "metadata": {
        "colab": {
          "base_uri": "https://localhost:8080/"
        },
        "id": "OlMtP2DJTDGc",
        "outputId": "1e042e4c-249d-4f04-a2ac-ae1108739c18"
      },
      "source": [
        "spark.sql(\"SELECT * FROM padron_clean LIMIT 5\").show()"
      ],
      "execution_count": null,
      "outputs": [
        {
          "output_type": "stream",
          "text": [
            "+------------+--------+---------------+-------+----------+----------------+-----------+--------+-----------------+-----------------+-------------------+-------------------+\n",
            "|cod_distrito|distrito|cod_dist_barrio| barrio|cod_barrio|cod_dist_seccion|cod_seccion|cod_edad|espanoles_hombres|espanoles_mujeres|extranjeros_hombres|extranjeros_mujeres|\n",
            "+------------+--------+---------------+-------+----------+----------------+-----------+--------+-----------------+-----------------+-------------------+-------------------+\n",
            "|           1|  CENTRO|            101|PALACIO|         1|            1006|          6|     103|             null|                1|               null|               null|\n",
            "|           1|  CENTRO|            101|PALACIO|         1|            1007|          7|       0|                1|                1|               null|                  3|\n",
            "|           1|  CENTRO|            101|PALACIO|         1|            1007|          7|       1|                2|                3|               null|               null|\n",
            "|           1|  CENTRO|            101|PALACIO|         1|            1007|          7|       2|                1|                4|               null|               null|\n",
            "|           1|  CENTRO|            101|PALACIO|         1|            1007|          7|       3|                4|             null|               null|               null|\n",
            "+------------+--------+---------------+-------+----------+----------------+-----------+--------+-----------------+-----------------+-------------------+-------------------+\n",
            "\n"
          ],
          "name": "stdout"
        }
      ]
    },
    {
      "cell_type": "code",
      "metadata": {
        "application/vnd.databricks.v1+cell": {
          "title": "",
          "showTitle": false,
          "inputWidgets": {},
          "nuid": "da231b4e-ab89-4e9a-8fb1-1d0485a3a065"
        },
        "id": "nE87_tf-9tkE",
        "colab": {
          "base_uri": "https://localhost:8080/"
        },
        "outputId": "19684035-640b-42cf-82ba-52dca271cc9a"
      },
      "source": [
        "# Check the number of rows\n",
        "spark.sql(\"SELECT COUNT(*) AS total_rows FROM padron_clean\").show()"
      ],
      "execution_count": null,
      "outputs": [
        {
          "output_type": "stream",
          "text": [
            "+----------+\n",
            "|total_rows|\n",
            "+----------+\n",
            "|    237675|\n",
            "+----------+\n",
            "\n"
          ],
          "name": "stdout"
        }
      ]
    },
    {
      "cell_type": "code",
      "metadata": {
        "application/vnd.databricks.v1+cell": {
          "title": "",
          "showTitle": false,
          "inputWidgets": {},
          "nuid": "dea2c01c-b2c5-470c-a4a7-1a17c1bfe0a5"
        },
        "id": "x2tE3ZjS9tkE",
        "colab": {
          "base_uri": "https://localhost:8080/"
        },
        "outputId": "feea2f16-a14f-449a-a664-0bde716dc765"
      },
      "source": [
        "spark.sql(\"SHOW TABLES\").show()"
      ],
      "execution_count": null,
      "outputs": [
        {
          "output_type": "stream",
          "text": [
            "+------------+------------+-----------+\n",
            "|    database|   tableName|isTemporary|\n",
            "+------------+------------+-----------+\n",
            "|datos_padron|padron_clean|      false|\n",
            "|datos_padron|  padron_raw|      false|\n",
            "+------------+------------+-----------+\n",
            "\n"
          ],
          "name": "stdout"
        }
      ]
    },
    {
      "cell_type": "code",
      "metadata": {
        "application/vnd.databricks.v1+cell": {
          "title": "",
          "showTitle": false,
          "inputWidgets": {},
          "nuid": "1b9cd3d1-0ed6-4298-8392-78e7e101b286"
        },
        "id": "7fQw9ewz9tkE",
        "colab": {
          "base_uri": "https://localhost:8080/"
        },
        "outputId": "508ebf75-0ed7-4a6c-ad86-cfdd867f2e69"
      },
      "source": [
        "query = \"\"\"\n",
        "WITH total AS (\n",
        "SELECT\n",
        "    distrito,\n",
        "    barrio,\n",
        "    nvl(espanoles_hombres,0) + nvl(espanoles_mujeres,0) AS total_espanoles,\n",
        "    nvl(extranjeros_hombres,0) + nvl(extranjeros_mujeres,0) AS total_extranjeros\n",
        "FROM padron_clean\n",
        ")\n",
        "\n",
        "SELECT\n",
        "  distrito AS DISTRITO,\n",
        "  barrio AS BARRIO,\n",
        "  ROUND(100 * SUM(total_espanoles)/SUM(total_espanoles + total_extranjeros), 2) AS PCT_ESP,\n",
        "  ROUND(100 * SUM(total_extranjeros)/SUM(total_espanoles + total_extranjeros), 2) AS PCT_EXT\n",
        "  FROM total\n",
        "  GROUP BY distrito, barrio\n",
        "  ORDER BY pct_ext DESC\n",
        "  LIMIT 10\n",
        "\"\"\"\n",
        "spark.sql(query).show()"
      ],
      "execution_count": null,
      "outputs": [
        {
          "output_type": "stream",
          "text": [
            "+------------------+-------------+-------+-------+\n",
            "|          DISTRITO|       BARRIO|PCT_ESP|PCT_EXT|\n",
            "+------------------+-------------+-------+-------+\n",
            "|             USERA|   PRADOLONGO|  62.16|  37.84|\n",
            "|        VILLAVERDE|SAN CRISTOBAL|  63.52|  36.48|\n",
            "|PUENTE DE VALLECAS|    SAN DIEGO|  67.14|  32.86|\n",
            "|            CENTRO|          SOL|  68.02|  31.98|\n",
            "|             USERA|     MOSCARDO|  70.23|  29.77|\n",
            "|            CENTRO|  EMBAJADORES|   70.5|   29.5|\n",
            "|             USERA|  ALMENDRALES|  70.64|  29.36|\n",
            "|             USERA|        ZOFIO|  72.95|  27.05|\n",
            "|            CENTRO|       CORTES|  74.14|  25.86|\n",
            "|       CARABANCHEL|PUERTA BONITA|  74.34|  25.66|\n",
            "+------------------+-------------+-------+-------+\n",
            "\n"
          ],
          "name": "stdout"
        }
      ]
    },
    {
      "cell_type": "markdown",
      "metadata": {
        "application/vnd.databricks.v1+cell": {
          "title": "",
          "showTitle": false,
          "inputWidgets": {},
          "nuid": "4290469c-3cbc-42d0-bb2e-28af43923543"
        },
        "id": "SIbBZoVe9tkF"
      },
      "source": [
        "## Referencias\n",
        "\n",
        "* https://www.datasciencemadesimple.com/pyspark-tutorial/\n",
        "* https://sparkbyexamples.com/pyspark/\n",
        "* https://mungingdata.com/pyspark/"
      ]
    }
  ]
}