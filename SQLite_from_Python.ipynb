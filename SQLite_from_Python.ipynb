{
  "nbformat": 4,
  "nbformat_minor": 0,
  "metadata": {
    "colab": {
      "name": "SQLite from Python.ipynb",
      "provenance": [],
      "authorship_tag": "ABX9TyOkG9okIjNWae+lqTa4fbKC"
    },
    "kernelspec": {
      "name": "python3",
      "display_name": "Python 3"
    }
  },
  "cells": [
    {
      "cell_type": "markdown",
      "metadata": {
        "id": "kECc4vmVwJDE"
      },
      "source": [
        "# Quering SQLite from Python"
      ]
    },
    {
      "cell_type": "markdown",
      "metadata": {
        "id": "nSJsE-sKwBn1"
      },
      "source": [
        "Python 2.5 and up come with the sqlite module, which means we don't need to install any separate libraries to get started. \n",
        "\n",
        "Specifically, we'll work with the sqlite3 Python module, which was developed to work with SQLite version 3."
      ]
    },
    {
      "cell_type": "code",
      "metadata": {
        "id": "8HASx9F-Q9j_"
      },
      "source": [
        "import pandas as pd\n",
        "import sqlite3\n",
        "import requests\n",
        "import matplotlib.pyplot as plt"
      ],
      "execution_count": 63,
      "outputs": []
    },
    {
      "cell_type": "code",
      "metadata": {
        "id": "P_pF57RZV-Bt"
      },
      "source": [
        "url = 'https://dsserver-prod-resources-1.s3.amazonaws.com/462/jobs.db'\n",
        "r = requests.get(url)\n",
        "\n",
        "with open('/content/jobs.db', 'wb') as f:\n",
        "    f.write(r.content)"
      ],
      "execution_count": 16,
      "outputs": []
    },
    {
      "cell_type": "markdown",
      "metadata": {
        "id": "ERo0tAaccf11"
      },
      "source": [
        "Once we import the module, we connect to the database we want to query using the `connect()` function. \n",
        "\n",
        "This function requires a single parameter, which is the database we want to connect to. Because the database we're working with exists as a file on disk, we need to pass in the file name.\n",
        "\n",
        "The `connect()` function returns a Connection instance, which maintains the connection to the database we want to work with. When we're connected to a database, SQLite locks the database file and prevents any other processes from connecting to the database simultaneously."
      ]
    },
    {
      "cell_type": "code",
      "metadata": {
        "id": "87mlkZZgb6Qk"
      },
      "source": [
        "conn = sqlite3.connect('/content/jobs.db')"
      ],
      "execution_count": 21,
      "outputs": []
    },
    {
      "cell_type": "markdown",
      "metadata": {
        "id": "I9wf6KBAfTxM"
      },
      "source": [
        "Before we can execute a query, **we need to express our SQL query as a string**. \n",
        "\n",
        "While we use the `Connection class` to represent the database we're working with, we use the `Cursor class` to:\n",
        "\n",
        "* Run a query against the database\n",
        "* Parse the results from the database\n",
        "* Convert the results to native Python objects\n",
        "* Store the results within the Cursor instance as a local variable\n",
        "\n",
        "After running a query and converting the results to a list of tuples, the Cursor instance stores the list as a local variable."
      ]
    },
    {
      "cell_type": "code",
      "metadata": {
        "id": "VmiRqxelgCcZ",
        "outputId": "435746ff-d488-4901-c0bc-531bdde696ec",
        "colab": {
          "base_uri": "https://localhost:8080/",
          "height": 54
        }
      },
      "source": [
        "# Create a Cursor instance\n",
        "cursor = conn.cursor()\n",
        "# SQL Query as a string\n",
        "query = \"select * from recent_grads;\"\n",
        "# Execute the query, convert the results to tuples, and store as a local variable\n",
        "cursor.execute(query)\n",
        "# Fetch the full results set as a list of tuples\n",
        "results = cursor.fetchall()\n",
        "# Display the first three results\n",
        "print(results[0:3])"
      ],
      "execution_count": 22,
      "outputs": [
        {
          "output_type": "stream",
          "text": [
            "[(0, 1, 2419, 'PETROLEUM ENGINEERING', 'Engineering', 2339, 36, 2057, 282, 0.120564344, 1976, 1849, 270, 1207, 37, 0.018380527, 110000, 95000, 125000, 1534, 364, 193), (1, 2, 2416, 'MINING AND MINERAL ENGINEERING', 'Engineering', 756, 7, 679, 77, 0.10185185199999999, 640, 556, 170, 388, 85, 0.117241379, 75000, 55000, 90000, 350, 257, 50), (2, 3, 2415, 'METALLURGICAL ENGINEERING', 'Engineering', 856, 3, 725, 131, 0.153037383, 648, 558, 133, 340, 16, 0.024096386, 73000, 50000, 105000, 456, 176, 0)]\n"
          ],
          "name": "stdout"
        }
      ]
    },
    {
      "cell_type": "markdown",
      "metadata": {
        "id": "b2agBW7ChYQs"
      },
      "source": [
        "So far, we've run queries by creating a `Cursor instance`, and then calling the execute method on the instance. \n",
        "\n",
        "The SQLite library actually allows us to skip creating a Cursor altogether by using the execute method within the Connection object itself. SQLite will create a Cursor instance for us under the hood and run our query against the database, allowing us to skip a step"
      ]
    },
    {
      "cell_type": "code",
      "metadata": {
        "id": "nWX3FkfChk6I",
        "outputId": "f6a8ff05-d15b-40e7-9631-d049e83cde58",
        "colab": {
          "base_uri": "https://localhost:8080/",
          "height": 404
        }
      },
      "source": [
        "conn = sqlite3.connect(\"jobs.db\")\n",
        "query = \"select * from recent_grads;\"\n",
        "conn.execute(query).fetchone()"
      ],
      "execution_count": 26,
      "outputs": [
        {
          "output_type": "execute_result",
          "data": {
            "text/plain": [
              "(0,\n",
              " 1,\n",
              " 2419,\n",
              " 'PETROLEUM ENGINEERING',\n",
              " 'Engineering',\n",
              " 2339,\n",
              " 36,\n",
              " 2057,\n",
              " 282,\n",
              " 0.120564344,\n",
              " 1976,\n",
              " 1849,\n",
              " 270,\n",
              " 1207,\n",
              " 37,\n",
              " 0.018380527,\n",
              " 110000,\n",
              " 95000,\n",
              " 125000,\n",
              " 1534,\n",
              " 364,\n",
              " 193)"
            ]
          },
          "metadata": {
            "tags": []
          },
          "execution_count": 26
        }
      ]
    },
    {
      "cell_type": "markdown",
      "metadata": {
        "id": "LiQ8n9Y0ib4a"
      },
      "source": [
        "To make it easier to work with large results sets, the Cursor class allows us to control the number of results we want to retrieve at any given time.\n",
        "\n",
        "* To return a single result (as a tuple), we use the Cursor method `fetchone()`. \n",
        "* To return n results, we use the Cursor method `fetchmany()`.\n",
        "\n",
        "Because SQLite restricts access to the database file when we're connected to a database, we need to close the connection when we're done working with it. \n",
        "\n",
        "Closing the connection allows other processes to access the database, which is important when you're in a production environment and working with other team members.\n",
        "\n",
        "To close a connection to a database, use the Connection instance method `close()`."
      ]
    },
    {
      "cell_type": "markdown",
      "metadata": {
        "id": "1IgXtTsMj-R8"
      },
      "source": [
        "# Analyzing CIA Factbook Data using SQL"
      ]
    },
    {
      "cell_type": "code",
      "metadata": {
        "id": "CT9VGYgrkCW8"
      },
      "source": [
        "# Download database file\n",
        "url = 'https://dsserver-prod-resources-1.s3.amazonaws.com/257/factbook.db'\n",
        "r = requests.get(url)\n",
        "# Save the file with name\n",
        "open('/content/factbook.db', 'wb').write(r.content)"
      ],
      "execution_count": 38,
      "outputs": []
    },
    {
      "cell_type": "code",
      "metadata": {
        "id": "9cQsztXnluHb",
        "outputId": "9f2a8850-8d09-44b1-d23f-89bb00d63cf7",
        "colab": {
          "base_uri": "https://localhost:8080/",
          "height": 213
        }
      },
      "source": [
        "# Connect to the database\n",
        "conn = sqlite3.connect('/content/factbook.db')\n",
        "q1 = \"SELECT * FROM sqlite_master WHERE type='table';\"\n",
        "conn.execute(q1).fetchall()"
      ],
      "execution_count": 39,
      "outputs": [
        {
          "output_type": "execute_result",
          "data": {
            "text/plain": [
              "[('table',\n",
              "  'sqlite_sequence',\n",
              "  'sqlite_sequence',\n",
              "  3,\n",
              "  'CREATE TABLE sqlite_sequence(name,seq)'),\n",
              " ('table',\n",
              "  'facts',\n",
              "  'facts',\n",
              "  47,\n",
              "  'CREATE TABLE \"facts\" (\"id\" INTEGER PRIMARY KEY AUTOINCREMENT NOT NULL, \"code\" varchar(255) NOT NULL, \"name\" varchar(255) NOT NULL, \"area\" integer, \"area_land\" integer, \"area_water\" integer, \"population\" integer, \"population_growth\" float, \"birth_rate\" float, \"death_rate\" float, \"migration_rate\" float)')]"
            ]
          },
          "metadata": {
            "tags": []
          },
          "execution_count": 39
        }
      ]
    },
    {
      "cell_type": "code",
      "metadata": {
        "id": "qTbdk7UwmaR4",
        "outputId": "323d27be-8b92-44e7-ac2d-89d7b6dcdd02",
        "colab": {
          "base_uri": "https://localhost:8080/",
          "height": 106
        }
      },
      "source": [
        "pd.read_sql_query(q1,conn)"
      ],
      "execution_count": 41,
      "outputs": [
        {
          "output_type": "execute_result",
          "data": {
            "text/html": [
              "<div>\n",
              "<style scoped>\n",
              "    .dataframe tbody tr th:only-of-type {\n",
              "        vertical-align: middle;\n",
              "    }\n",
              "\n",
              "    .dataframe tbody tr th {\n",
              "        vertical-align: top;\n",
              "    }\n",
              "\n",
              "    .dataframe thead th {\n",
              "        text-align: right;\n",
              "    }\n",
              "</style>\n",
              "<table border=\"1\" class=\"dataframe\">\n",
              "  <thead>\n",
              "    <tr style=\"text-align: right;\">\n",
              "      <th></th>\n",
              "      <th>type</th>\n",
              "      <th>name</th>\n",
              "      <th>tbl_name</th>\n",
              "      <th>rootpage</th>\n",
              "      <th>sql</th>\n",
              "    </tr>\n",
              "  </thead>\n",
              "  <tbody>\n",
              "    <tr>\n",
              "      <th>0</th>\n",
              "      <td>table</td>\n",
              "      <td>sqlite_sequence</td>\n",
              "      <td>sqlite_sequence</td>\n",
              "      <td>3</td>\n",
              "      <td>CREATE TABLE sqlite_sequence(name,seq)</td>\n",
              "    </tr>\n",
              "    <tr>\n",
              "      <th>1</th>\n",
              "      <td>table</td>\n",
              "      <td>facts</td>\n",
              "      <td>facts</td>\n",
              "      <td>47</td>\n",
              "      <td>CREATE TABLE \"facts\" (\"id\" INTEGER PRIMARY KEY...</td>\n",
              "    </tr>\n",
              "  </tbody>\n",
              "</table>\n",
              "</div>"
            ],
            "text/plain": [
              "    type  ...                                                sql\n",
              "0  table  ...             CREATE TABLE sqlite_sequence(name,seq)\n",
              "1  table  ...  CREATE TABLE \"facts\" (\"id\" INTEGER PRIMARY KEY...\n",
              "\n",
              "[2 rows x 5 columns]"
            ]
          },
          "metadata": {
            "tags": []
          },
          "execution_count": 41
        }
      ]
    },
    {
      "cell_type": "code",
      "metadata": {
        "id": "q2N9soY8m32d",
        "outputId": "ad87bcbc-ece6-42ba-dcb4-4427094bfbc0",
        "colab": {
          "base_uri": "https://localhost:8080/",
          "height": 195
        }
      },
      "source": [
        "q2 = \"SELECT * FROM facts\"\n",
        "pd.read_sql_query(q2,conn).head()"
      ],
      "execution_count": 43,
      "outputs": [
        {
          "output_type": "execute_result",
          "data": {
            "text/html": [
              "<div>\n",
              "<style scoped>\n",
              "    .dataframe tbody tr th:only-of-type {\n",
              "        vertical-align: middle;\n",
              "    }\n",
              "\n",
              "    .dataframe tbody tr th {\n",
              "        vertical-align: top;\n",
              "    }\n",
              "\n",
              "    .dataframe thead th {\n",
              "        text-align: right;\n",
              "    }\n",
              "</style>\n",
              "<table border=\"1\" class=\"dataframe\">\n",
              "  <thead>\n",
              "    <tr style=\"text-align: right;\">\n",
              "      <th></th>\n",
              "      <th>id</th>\n",
              "      <th>code</th>\n",
              "      <th>name</th>\n",
              "      <th>area</th>\n",
              "      <th>area_land</th>\n",
              "      <th>area_water</th>\n",
              "      <th>population</th>\n",
              "      <th>population_growth</th>\n",
              "      <th>birth_rate</th>\n",
              "      <th>death_rate</th>\n",
              "      <th>migration_rate</th>\n",
              "    </tr>\n",
              "  </thead>\n",
              "  <tbody>\n",
              "    <tr>\n",
              "      <th>0</th>\n",
              "      <td>1</td>\n",
              "      <td>af</td>\n",
              "      <td>Afghanistan</td>\n",
              "      <td>652230.0</td>\n",
              "      <td>652230.0</td>\n",
              "      <td>0.0</td>\n",
              "      <td>32564342.0</td>\n",
              "      <td>2.32</td>\n",
              "      <td>38.57</td>\n",
              "      <td>13.89</td>\n",
              "      <td>1.51</td>\n",
              "    </tr>\n",
              "    <tr>\n",
              "      <th>1</th>\n",
              "      <td>2</td>\n",
              "      <td>al</td>\n",
              "      <td>Albania</td>\n",
              "      <td>28748.0</td>\n",
              "      <td>27398.0</td>\n",
              "      <td>1350.0</td>\n",
              "      <td>3029278.0</td>\n",
              "      <td>0.30</td>\n",
              "      <td>12.92</td>\n",
              "      <td>6.58</td>\n",
              "      <td>3.30</td>\n",
              "    </tr>\n",
              "    <tr>\n",
              "      <th>2</th>\n",
              "      <td>3</td>\n",
              "      <td>ag</td>\n",
              "      <td>Algeria</td>\n",
              "      <td>2381741.0</td>\n",
              "      <td>2381741.0</td>\n",
              "      <td>0.0</td>\n",
              "      <td>39542166.0</td>\n",
              "      <td>1.84</td>\n",
              "      <td>23.67</td>\n",
              "      <td>4.31</td>\n",
              "      <td>0.92</td>\n",
              "    </tr>\n",
              "    <tr>\n",
              "      <th>3</th>\n",
              "      <td>4</td>\n",
              "      <td>an</td>\n",
              "      <td>Andorra</td>\n",
              "      <td>468.0</td>\n",
              "      <td>468.0</td>\n",
              "      <td>0.0</td>\n",
              "      <td>85580.0</td>\n",
              "      <td>0.12</td>\n",
              "      <td>8.13</td>\n",
              "      <td>6.96</td>\n",
              "      <td>0.00</td>\n",
              "    </tr>\n",
              "    <tr>\n",
              "      <th>4</th>\n",
              "      <td>5</td>\n",
              "      <td>ao</td>\n",
              "      <td>Angola</td>\n",
              "      <td>1246700.0</td>\n",
              "      <td>1246700.0</td>\n",
              "      <td>0.0</td>\n",
              "      <td>19625353.0</td>\n",
              "      <td>2.78</td>\n",
              "      <td>38.78</td>\n",
              "      <td>11.49</td>\n",
              "      <td>0.46</td>\n",
              "    </tr>\n",
              "  </tbody>\n",
              "</table>\n",
              "</div>"
            ],
            "text/plain": [
              "   id code         name  ...  birth_rate  death_rate  migration_rate\n",
              "0   1   af  Afghanistan  ...       38.57       13.89            1.51\n",
              "1   2   al      Albania  ...       12.92        6.58            3.30\n",
              "2   3   ag      Algeria  ...       23.67        4.31            0.92\n",
              "3   4   an      Andorra  ...        8.13        6.96            0.00\n",
              "4   5   ao       Angola  ...       38.78       11.49            0.46\n",
              "\n",
              "[5 rows x 11 columns]"
            ]
          },
          "metadata": {
            "tags": []
          },
          "execution_count": 43
        }
      ]
    },
    {
      "cell_type": "markdown",
      "metadata": {
        "id": "lOLCgpEjpmUQ"
      },
      "source": [
        "Write a single query that returns the:\n",
        "* Minimum population\n",
        "* Maximum population\n",
        "* Minimum population growth\n",
        "* Maximum population growth"
      ]
    },
    {
      "cell_type": "code",
      "metadata": {
        "id": "FovJGooVnFMe",
        "outputId": "2cc699b3-1247-43e3-8ae6-33f900f9f6ef",
        "colab": {
          "base_uri": "https://localhost:8080/",
          "height": 77
        }
      },
      "source": [
        "q3 = '''SELECT MIN(population), \n",
        "               MAX(population),\n",
        "               MIN(population_growth),\n",
        "               MAX(population_growth) \n",
        "        FROM facts'''\n",
        "\n",
        "pd.read_sql_query(q3,conn)"
      ],
      "execution_count": 44,
      "outputs": [
        {
          "output_type": "execute_result",
          "data": {
            "text/html": [
              "<div>\n",
              "<style scoped>\n",
              "    .dataframe tbody tr th:only-of-type {\n",
              "        vertical-align: middle;\n",
              "    }\n",
              "\n",
              "    .dataframe tbody tr th {\n",
              "        vertical-align: top;\n",
              "    }\n",
              "\n",
              "    .dataframe thead th {\n",
              "        text-align: right;\n",
              "    }\n",
              "</style>\n",
              "<table border=\"1\" class=\"dataframe\">\n",
              "  <thead>\n",
              "    <tr style=\"text-align: right;\">\n",
              "      <th></th>\n",
              "      <th>MIN(population)</th>\n",
              "      <th>MAX(population)</th>\n",
              "      <th>MIN(population_growth)</th>\n",
              "      <th>MAX(population_growth)</th>\n",
              "    </tr>\n",
              "  </thead>\n",
              "  <tbody>\n",
              "    <tr>\n",
              "      <th>0</th>\n",
              "      <td>0</td>\n",
              "      <td>7256490011</td>\n",
              "      <td>0.0</td>\n",
              "      <td>4.02</td>\n",
              "    </tr>\n",
              "  </tbody>\n",
              "</table>\n",
              "</div>"
            ],
            "text/plain": [
              "   MIN(population)  ...  MAX(population_growth)\n",
              "0                0  ...                    4.02\n",
              "\n",
              "[1 rows x 4 columns]"
            ]
          },
          "metadata": {
            "tags": []
          },
          "execution_count": 44
        }
      ]
    },
    {
      "cell_type": "markdown",
      "metadata": {
        "id": "-aglQVkOpF5A"
      },
      "source": [
        "1.  Write a query that returns the countrie(s) with the minimum population.\n",
        "2.  Write a query that returns the countrie(s) with the maximum population."
      ]
    },
    {
      "cell_type": "code",
      "metadata": {
        "id": "yr12mmavn9KY",
        "outputId": "d827a4a4-f5d7-44d0-e93f-50d2dc3b57f6",
        "colab": {
          "base_uri": "https://localhost:8080/",
          "height": 77
        }
      },
      "source": [
        "q4 = ''' SELECT *\n",
        "          FROM facts\n",
        "          WHERE population = (SELECT MIN(population) \n",
        "                              FROM facts)\n",
        "    '''\n",
        "pd.read_sql_query(q4,conn)          "
      ],
      "execution_count": 47,
      "outputs": [
        {
          "output_type": "execute_result",
          "data": {
            "text/html": [
              "<div>\n",
              "<style scoped>\n",
              "    .dataframe tbody tr th:only-of-type {\n",
              "        vertical-align: middle;\n",
              "    }\n",
              "\n",
              "    .dataframe tbody tr th {\n",
              "        vertical-align: top;\n",
              "    }\n",
              "\n",
              "    .dataframe thead th {\n",
              "        text-align: right;\n",
              "    }\n",
              "</style>\n",
              "<table border=\"1\" class=\"dataframe\">\n",
              "  <thead>\n",
              "    <tr style=\"text-align: right;\">\n",
              "      <th></th>\n",
              "      <th>id</th>\n",
              "      <th>code</th>\n",
              "      <th>name</th>\n",
              "      <th>area</th>\n",
              "      <th>area_land</th>\n",
              "      <th>area_water</th>\n",
              "      <th>population</th>\n",
              "      <th>population_growth</th>\n",
              "      <th>birth_rate</th>\n",
              "      <th>death_rate</th>\n",
              "      <th>migration_rate</th>\n",
              "    </tr>\n",
              "  </thead>\n",
              "  <tbody>\n",
              "    <tr>\n",
              "      <th>0</th>\n",
              "      <td>250</td>\n",
              "      <td>ay</td>\n",
              "      <td>Antarctica</td>\n",
              "      <td>None</td>\n",
              "      <td>280000</td>\n",
              "      <td>None</td>\n",
              "      <td>0</td>\n",
              "      <td>None</td>\n",
              "      <td>None</td>\n",
              "      <td>None</td>\n",
              "      <td>None</td>\n",
              "    </tr>\n",
              "  </tbody>\n",
              "</table>\n",
              "</div>"
            ],
            "text/plain": [
              "    id code        name  ... birth_rate  death_rate migration_rate\n",
              "0  250   ay  Antarctica  ...       None        None           None\n",
              "\n",
              "[1 rows x 11 columns]"
            ]
          },
          "metadata": {
            "tags": []
          },
          "execution_count": 47
        }
      ]
    },
    {
      "cell_type": "code",
      "metadata": {
        "id": "YHwIOYgRojTg",
        "outputId": "9e3d3d6e-53c6-49ed-fa97-facd152a4729",
        "colab": {
          "base_uri": "https://localhost:8080/",
          "height": 77
        }
      },
      "source": [
        "q5 = ''' SELECT * \n",
        "          FROM FACTS \n",
        "        WHERE population==(SELECT MAX(population) \n",
        "                              FROM facts);\n",
        "      '''\n",
        "pd.read_sql_query(q5,conn)"
      ],
      "execution_count": 48,
      "outputs": [
        {
          "output_type": "execute_result",
          "data": {
            "text/html": [
              "<div>\n",
              "<style scoped>\n",
              "    .dataframe tbody tr th:only-of-type {\n",
              "        vertical-align: middle;\n",
              "    }\n",
              "\n",
              "    .dataframe tbody tr th {\n",
              "        vertical-align: top;\n",
              "    }\n",
              "\n",
              "    .dataframe thead th {\n",
              "        text-align: right;\n",
              "    }\n",
              "</style>\n",
              "<table border=\"1\" class=\"dataframe\">\n",
              "  <thead>\n",
              "    <tr style=\"text-align: right;\">\n",
              "      <th></th>\n",
              "      <th>id</th>\n",
              "      <th>code</th>\n",
              "      <th>name</th>\n",
              "      <th>area</th>\n",
              "      <th>area_land</th>\n",
              "      <th>area_water</th>\n",
              "      <th>population</th>\n",
              "      <th>population_growth</th>\n",
              "      <th>birth_rate</th>\n",
              "      <th>death_rate</th>\n",
              "      <th>migration_rate</th>\n",
              "    </tr>\n",
              "  </thead>\n",
              "  <tbody>\n",
              "    <tr>\n",
              "      <th>0</th>\n",
              "      <td>261</td>\n",
              "      <td>xx</td>\n",
              "      <td>World</td>\n",
              "      <td>None</td>\n",
              "      <td>None</td>\n",
              "      <td>None</td>\n",
              "      <td>7256490011</td>\n",
              "      <td>1.08</td>\n",
              "      <td>18.6</td>\n",
              "      <td>7.8</td>\n",
              "      <td>None</td>\n",
              "    </tr>\n",
              "  </tbody>\n",
              "</table>\n",
              "</div>"
            ],
            "text/plain": [
              "    id code   name  ... birth_rate death_rate migration_rate\n",
              "0  261   xx  World  ...       18.6        7.8           None\n",
              "\n",
              "[1 rows x 11 columns]"
            ]
          },
          "metadata": {
            "tags": []
          },
          "execution_count": 48
        }
      ]
    },
    {
      "cell_type": "code",
      "metadata": {
        "id": "93CCCU_1p8gG",
        "outputId": "9c22c472-61b1-4bff-b986-2aac10df3d23",
        "colab": {
          "base_uri": "https://localhost:8080/",
          "height": 77
        }
      },
      "source": [
        "q6 = '''SELECT MIN(population), \n",
        "               MAX(population),\n",
        "               MIN(population_growth),\n",
        "               MAX(population_growth) \n",
        "        FROM facts\n",
        "        WHERE name != 'World';\n",
        "        '''\n",
        "\n",
        "pd.read_sql_query(q6,conn)"
      ],
      "execution_count": 49,
      "outputs": [
        {
          "output_type": "execute_result",
          "data": {
            "text/html": [
              "<div>\n",
              "<style scoped>\n",
              "    .dataframe tbody tr th:only-of-type {\n",
              "        vertical-align: middle;\n",
              "    }\n",
              "\n",
              "    .dataframe tbody tr th {\n",
              "        vertical-align: top;\n",
              "    }\n",
              "\n",
              "    .dataframe thead th {\n",
              "        text-align: right;\n",
              "    }\n",
              "</style>\n",
              "<table border=\"1\" class=\"dataframe\">\n",
              "  <thead>\n",
              "    <tr style=\"text-align: right;\">\n",
              "      <th></th>\n",
              "      <th>MIN(population)</th>\n",
              "      <th>MAX(population)</th>\n",
              "      <th>MIN(population_growth)</th>\n",
              "      <th>MAX(population_growth)</th>\n",
              "    </tr>\n",
              "  </thead>\n",
              "  <tbody>\n",
              "    <tr>\n",
              "      <th>0</th>\n",
              "      <td>0</td>\n",
              "      <td>1367485388</td>\n",
              "      <td>0.0</td>\n",
              "      <td>4.02</td>\n",
              "    </tr>\n",
              "  </tbody>\n",
              "</table>\n",
              "</div>"
            ],
            "text/plain": [
              "   MIN(population)  ...  MAX(population_growth)\n",
              "0                0  ...                    4.02\n",
              "\n",
              "[1 rows x 4 columns]"
            ]
          },
          "metadata": {
            "tags": []
          },
          "execution_count": 49
        }
      ]
    },
    {
      "cell_type": "markdown",
      "metadata": {
        "id": "0f48NM1lrXBI"
      },
      "source": [
        "There's a country whose population closes in on 1.4 billion! Let's see what country it is:"
      ]
    },
    {
      "cell_type": "code",
      "metadata": {
        "id": "8wlQ9ha1raVh",
        "outputId": "68691d8d-eede-4742-eb8f-b29e28d1dc90",
        "colab": {
          "base_uri": "https://localhost:8080/",
          "height": 77
        }
      },
      "source": [
        "q7 = ''' SELECT * \n",
        "            FROM facts\n",
        "            WHERE name <> 'World'\n",
        "            ORDER BY population DESC\n",
        "            LIMIT 1;\n",
        "      '''\n",
        "pd.read_sql_query(q7,conn)"
      ],
      "execution_count": 52,
      "outputs": [
        {
          "output_type": "execute_result",
          "data": {
            "text/html": [
              "<div>\n",
              "<style scoped>\n",
              "    .dataframe tbody tr th:only-of-type {\n",
              "        vertical-align: middle;\n",
              "    }\n",
              "\n",
              "    .dataframe tbody tr th {\n",
              "        vertical-align: top;\n",
              "    }\n",
              "\n",
              "    .dataframe thead th {\n",
              "        text-align: right;\n",
              "    }\n",
              "</style>\n",
              "<table border=\"1\" class=\"dataframe\">\n",
              "  <thead>\n",
              "    <tr style=\"text-align: right;\">\n",
              "      <th></th>\n",
              "      <th>id</th>\n",
              "      <th>code</th>\n",
              "      <th>name</th>\n",
              "      <th>area</th>\n",
              "      <th>area_land</th>\n",
              "      <th>area_water</th>\n",
              "      <th>population</th>\n",
              "      <th>population_growth</th>\n",
              "      <th>birth_rate</th>\n",
              "      <th>death_rate</th>\n",
              "      <th>migration_rate</th>\n",
              "    </tr>\n",
              "  </thead>\n",
              "  <tbody>\n",
              "    <tr>\n",
              "      <th>0</th>\n",
              "      <td>37</td>\n",
              "      <td>ch</td>\n",
              "      <td>China</td>\n",
              "      <td>9596960</td>\n",
              "      <td>9326410</td>\n",
              "      <td>270550</td>\n",
              "      <td>1367485388</td>\n",
              "      <td>0.45</td>\n",
              "      <td>12.49</td>\n",
              "      <td>7.53</td>\n",
              "      <td>0.44</td>\n",
              "    </tr>\n",
              "  </tbody>\n",
              "</table>\n",
              "</div>"
            ],
            "text/plain": [
              "   id code   name  ...  birth_rate  death_rate  migration_rate\n",
              "0  37   ch  China  ...       12.49        7.53            0.44\n",
              "\n",
              "[1 rows x 11 columns]"
            ]
          },
          "metadata": {
            "tags": []
          },
          "execution_count": 52
        }
      ]
    },
    {
      "cell_type": "markdown",
      "metadata": {
        "id": "i7zoBIsbrOg0"
      },
      "source": [
        "\n",
        "Let's explore density. Density depends on the population and the country's area. Let's look at the average values for these two columns.\n",
        "\n",
        "We should take care of discarding the row for the whole planet.\n"
      ]
    },
    {
      "cell_type": "code",
      "metadata": {
        "id": "UDXkFoPhqjJi",
        "outputId": "d2f6e059-b628-47ef-b580-643984dbd2b4",
        "colab": {
          "base_uri": "https://localhost:8080/",
          "height": 77
        }
      },
      "source": [
        "q8 = '''SELECT AVG(population) AS avg_population,\n",
        "              AVG(area) as avg_area\n",
        "        FROM facts\n",
        "        WHERE name <> 'World';\n",
        "    '''\n",
        "\n",
        "pd.read_sql_query(q8,conn)"
      ],
      "execution_count": 51,
      "outputs": [
        {
          "output_type": "execute_result",
          "data": {
            "text/html": [
              "<div>\n",
              "<style scoped>\n",
              "    .dataframe tbody tr th:only-of-type {\n",
              "        vertical-align: middle;\n",
              "    }\n",
              "\n",
              "    .dataframe tbody tr th {\n",
              "        vertical-align: top;\n",
              "    }\n",
              "\n",
              "    .dataframe thead th {\n",
              "        text-align: right;\n",
              "    }\n",
              "</style>\n",
              "<table border=\"1\" class=\"dataframe\">\n",
              "  <thead>\n",
              "    <tr style=\"text-align: right;\">\n",
              "      <th></th>\n",
              "      <th>avg_population</th>\n",
              "      <th>avg_area</th>\n",
              "    </tr>\n",
              "  </thead>\n",
              "  <tbody>\n",
              "    <tr>\n",
              "      <th>0</th>\n",
              "      <td>3.224267e+07</td>\n",
              "      <td>555093.546185</td>\n",
              "    </tr>\n",
              "  </tbody>\n",
              "</table>\n",
              "</div>"
            ],
            "text/plain": [
              "   avg_population       avg_area\n",
              "0    3.224267e+07  555093.546185"
            ]
          },
          "metadata": {
            "tags": []
          },
          "execution_count": 51
        }
      ]
    },
    {
      "cell_type": "markdown",
      "metadata": {
        "id": "cKFDsuBSrSbA"
      },
      "source": [
        "We see that the average population is around 32 million and the average area is 555 thousand square kilometers.\n",
        "\n",
        "Next, we'll build on the query to find countries that are densely populated. We'll identify countries that have:\n",
        "\n",
        "* Above average values for population.\n",
        "* Below average values for area."
      ]
    },
    {
      "cell_type": "code",
      "metadata": {
        "id": "KCUnvYT4sSPm",
        "outputId": "bee50873-43f2-41ea-f5d3-f554056b5b9b",
        "colab": {
          "base_uri": "https://localhost:8080/",
          "height": 462
        }
      },
      "source": [
        "q9 = ''' SELECT * \n",
        "          FROM facts\n",
        "          WHERE (\n",
        "            population > (SELECT AVG(population) \n",
        "                                  FROM facts\n",
        "                                  WHERE name <> 'World')\n",
        "           AND \n",
        "           area < (SELECT AVG(area)\n",
        "                       FROM facts\n",
        "                      WHERE name <> 'World')\n",
        "           );\n",
        "      '''\n",
        "pd.read_sql_query(q9,conn)"
      ],
      "execution_count": 59,
      "outputs": [
        {
          "output_type": "execute_result",
          "data": {
            "text/html": [
              "<div>\n",
              "<style scoped>\n",
              "    .dataframe tbody tr th:only-of-type {\n",
              "        vertical-align: middle;\n",
              "    }\n",
              "\n",
              "    .dataframe tbody tr th {\n",
              "        vertical-align: top;\n",
              "    }\n",
              "\n",
              "    .dataframe thead th {\n",
              "        text-align: right;\n",
              "    }\n",
              "</style>\n",
              "<table border=\"1\" class=\"dataframe\">\n",
              "  <thead>\n",
              "    <tr style=\"text-align: right;\">\n",
              "      <th></th>\n",
              "      <th>id</th>\n",
              "      <th>code</th>\n",
              "      <th>name</th>\n",
              "      <th>area</th>\n",
              "      <th>area_land</th>\n",
              "      <th>area_water</th>\n",
              "      <th>population</th>\n",
              "      <th>population_growth</th>\n",
              "      <th>birth_rate</th>\n",
              "      <th>death_rate</th>\n",
              "      <th>migration_rate</th>\n",
              "    </tr>\n",
              "  </thead>\n",
              "  <tbody>\n",
              "    <tr>\n",
              "      <th>0</th>\n",
              "      <td>14</td>\n",
              "      <td>bg</td>\n",
              "      <td>Bangladesh</td>\n",
              "      <td>148460</td>\n",
              "      <td>130170</td>\n",
              "      <td>18290</td>\n",
              "      <td>168957745</td>\n",
              "      <td>1.60</td>\n",
              "      <td>21.14</td>\n",
              "      <td>5.61</td>\n",
              "      <td>0.46</td>\n",
              "    </tr>\n",
              "    <tr>\n",
              "      <th>1</th>\n",
              "      <td>65</td>\n",
              "      <td>gm</td>\n",
              "      <td>Germany</td>\n",
              "      <td>357022</td>\n",
              "      <td>348672</td>\n",
              "      <td>8350</td>\n",
              "      <td>80854408</td>\n",
              "      <td>0.17</td>\n",
              "      <td>8.47</td>\n",
              "      <td>11.42</td>\n",
              "      <td>1.24</td>\n",
              "    </tr>\n",
              "    <tr>\n",
              "      <th>2</th>\n",
              "      <td>80</td>\n",
              "      <td>iz</td>\n",
              "      <td>Iraq</td>\n",
              "      <td>438317</td>\n",
              "      <td>437367</td>\n",
              "      <td>950</td>\n",
              "      <td>37056169</td>\n",
              "      <td>2.93</td>\n",
              "      <td>31.45</td>\n",
              "      <td>3.77</td>\n",
              "      <td>1.62</td>\n",
              "    </tr>\n",
              "    <tr>\n",
              "      <th>3</th>\n",
              "      <td>83</td>\n",
              "      <td>it</td>\n",
              "      <td>Italy</td>\n",
              "      <td>301340</td>\n",
              "      <td>294140</td>\n",
              "      <td>7200</td>\n",
              "      <td>61855120</td>\n",
              "      <td>0.27</td>\n",
              "      <td>8.74</td>\n",
              "      <td>10.19</td>\n",
              "      <td>4.10</td>\n",
              "    </tr>\n",
              "    <tr>\n",
              "      <th>4</th>\n",
              "      <td>85</td>\n",
              "      <td>ja</td>\n",
              "      <td>Japan</td>\n",
              "      <td>377915</td>\n",
              "      <td>364485</td>\n",
              "      <td>13430</td>\n",
              "      <td>126919659</td>\n",
              "      <td>0.16</td>\n",
              "      <td>7.93</td>\n",
              "      <td>9.51</td>\n",
              "      <td>0.00</td>\n",
              "    </tr>\n",
              "    <tr>\n",
              "      <th>5</th>\n",
              "      <td>91</td>\n",
              "      <td>ks</td>\n",
              "      <td>Korea, South</td>\n",
              "      <td>99720</td>\n",
              "      <td>96920</td>\n",
              "      <td>2800</td>\n",
              "      <td>49115196</td>\n",
              "      <td>0.14</td>\n",
              "      <td>8.19</td>\n",
              "      <td>6.75</td>\n",
              "      <td>0.00</td>\n",
              "    </tr>\n",
              "    <tr>\n",
              "      <th>6</th>\n",
              "      <td>120</td>\n",
              "      <td>mo</td>\n",
              "      <td>Morocco</td>\n",
              "      <td>446550</td>\n",
              "      <td>446300</td>\n",
              "      <td>250</td>\n",
              "      <td>33322699</td>\n",
              "      <td>1.00</td>\n",
              "      <td>18.20</td>\n",
              "      <td>4.81</td>\n",
              "      <td>3.36</td>\n",
              "    </tr>\n",
              "    <tr>\n",
              "      <th>7</th>\n",
              "      <td>138</td>\n",
              "      <td>rp</td>\n",
              "      <td>Philippines</td>\n",
              "      <td>300000</td>\n",
              "      <td>298170</td>\n",
              "      <td>1830</td>\n",
              "      <td>100998376</td>\n",
              "      <td>1.61</td>\n",
              "      <td>24.27</td>\n",
              "      <td>6.11</td>\n",
              "      <td>2.09</td>\n",
              "    </tr>\n",
              "    <tr>\n",
              "      <th>8</th>\n",
              "      <td>139</td>\n",
              "      <td>pl</td>\n",
              "      <td>Poland</td>\n",
              "      <td>312685</td>\n",
              "      <td>304255</td>\n",
              "      <td>8430</td>\n",
              "      <td>38562189</td>\n",
              "      <td>0.09</td>\n",
              "      <td>9.74</td>\n",
              "      <td>10.19</td>\n",
              "      <td>0.46</td>\n",
              "    </tr>\n",
              "    <tr>\n",
              "      <th>9</th>\n",
              "      <td>163</td>\n",
              "      <td>sp</td>\n",
              "      <td>Spain</td>\n",
              "      <td>505370</td>\n",
              "      <td>498980</td>\n",
              "      <td>6390</td>\n",
              "      <td>48146134</td>\n",
              "      <td>0.89</td>\n",
              "      <td>9.64</td>\n",
              "      <td>9.04</td>\n",
              "      <td>8.31</td>\n",
              "    </tr>\n",
              "    <tr>\n",
              "      <th>10</th>\n",
              "      <td>173</td>\n",
              "      <td>th</td>\n",
              "      <td>Thailand</td>\n",
              "      <td>513120</td>\n",
              "      <td>510890</td>\n",
              "      <td>2230</td>\n",
              "      <td>67976405</td>\n",
              "      <td>0.34</td>\n",
              "      <td>11.19</td>\n",
              "      <td>7.80</td>\n",
              "      <td>0.00</td>\n",
              "    </tr>\n",
              "    <tr>\n",
              "      <th>11</th>\n",
              "      <td>182</td>\n",
              "      <td>ug</td>\n",
              "      <td>Uganda</td>\n",
              "      <td>241038</td>\n",
              "      <td>197100</td>\n",
              "      <td>43938</td>\n",
              "      <td>37101745</td>\n",
              "      <td>3.24</td>\n",
              "      <td>43.79</td>\n",
              "      <td>10.69</td>\n",
              "      <td>0.74</td>\n",
              "    </tr>\n",
              "    <tr>\n",
              "      <th>12</th>\n",
              "      <td>185</td>\n",
              "      <td>uk</td>\n",
              "      <td>United Kingdom</td>\n",
              "      <td>243610</td>\n",
              "      <td>241930</td>\n",
              "      <td>1680</td>\n",
              "      <td>64088222</td>\n",
              "      <td>0.54</td>\n",
              "      <td>12.17</td>\n",
              "      <td>9.35</td>\n",
              "      <td>2.54</td>\n",
              "    </tr>\n",
              "    <tr>\n",
              "      <th>13</th>\n",
              "      <td>192</td>\n",
              "      <td>vm</td>\n",
              "      <td>Vietnam</td>\n",
              "      <td>331210</td>\n",
              "      <td>310070</td>\n",
              "      <td>21140</td>\n",
              "      <td>94348835</td>\n",
              "      <td>0.97</td>\n",
              "      <td>15.96</td>\n",
              "      <td>5.93</td>\n",
              "      <td>0.30</td>\n",
              "    </tr>\n",
              "  </tbody>\n",
              "</table>\n",
              "</div>"
            ],
            "text/plain": [
              "     id code            name  ...  birth_rate  death_rate  migration_rate\n",
              "0    14   bg      Bangladesh  ...       21.14        5.61            0.46\n",
              "1    65   gm         Germany  ...        8.47       11.42            1.24\n",
              "2    80   iz            Iraq  ...       31.45        3.77            1.62\n",
              "3    83   it           Italy  ...        8.74       10.19            4.10\n",
              "4    85   ja           Japan  ...        7.93        9.51            0.00\n",
              "5    91   ks    Korea, South  ...        8.19        6.75            0.00\n",
              "6   120   mo         Morocco  ...       18.20        4.81            3.36\n",
              "7   138   rp     Philippines  ...       24.27        6.11            2.09\n",
              "8   139   pl          Poland  ...        9.74       10.19            0.46\n",
              "9   163   sp           Spain  ...        9.64        9.04            8.31\n",
              "10  173   th        Thailand  ...       11.19        7.80            0.00\n",
              "11  182   ug          Uganda  ...       43.79       10.69            0.74\n",
              "12  185   uk  United Kingdom  ...       12.17        9.35            2.54\n",
              "13  192   vm         Vietnam  ...       15.96        5.93            0.30\n",
              "\n",
              "[14 rows x 11 columns]"
            ]
          },
          "metadata": {
            "tags": []
          },
          "execution_count": 59
        }
      ]
    },
    {
      "cell_type": "code",
      "metadata": {
        "id": "uRtTnC6-uFPJ",
        "outputId": "65397648-a824-493b-fe4f-9c5a74dd7cfe",
        "colab": {
          "base_uri": "https://localhost:8080/",
          "height": 343
        }
      },
      "source": [
        "# Which countries have the highest population density?\n",
        "q10 = '''SELECT name AS country, \n",
        "                CAST(population AS float)/CAST(area AS float) AS density \n",
        "                FROM facts\n",
        "                ORDER BY density DESC\n",
        "                LIMIT 10\n",
        "        '''\n",
        "pd.read_sql_query(q10, conn)"
      ],
      "execution_count": 62,
      "outputs": [
        {
          "output_type": "execute_result",
          "data": {
            "text/html": [
              "<div>\n",
              "<style scoped>\n",
              "    .dataframe tbody tr th:only-of-type {\n",
              "        vertical-align: middle;\n",
              "    }\n",
              "\n",
              "    .dataframe tbody tr th {\n",
              "        vertical-align: top;\n",
              "    }\n",
              "\n",
              "    .dataframe thead th {\n",
              "        text-align: right;\n",
              "    }\n",
              "</style>\n",
              "<table border=\"1\" class=\"dataframe\">\n",
              "  <thead>\n",
              "    <tr style=\"text-align: right;\">\n",
              "      <th></th>\n",
              "      <th>country</th>\n",
              "      <th>density</th>\n",
              "    </tr>\n",
              "  </thead>\n",
              "  <tbody>\n",
              "    <tr>\n",
              "      <th>0</th>\n",
              "      <td>Macau</td>\n",
              "      <td>21168.964286</td>\n",
              "    </tr>\n",
              "    <tr>\n",
              "      <th>1</th>\n",
              "      <td>Monaco</td>\n",
              "      <td>15267.500000</td>\n",
              "    </tr>\n",
              "    <tr>\n",
              "      <th>2</th>\n",
              "      <td>Singapore</td>\n",
              "      <td>8141.279770</td>\n",
              "    </tr>\n",
              "    <tr>\n",
              "      <th>3</th>\n",
              "      <td>Hong Kong</td>\n",
              "      <td>6445.041516</td>\n",
              "    </tr>\n",
              "    <tr>\n",
              "      <th>4</th>\n",
              "      <td>Gaza Strip</td>\n",
              "      <td>5191.819444</td>\n",
              "    </tr>\n",
              "    <tr>\n",
              "      <th>5</th>\n",
              "      <td>Gibraltar</td>\n",
              "      <td>4876.333333</td>\n",
              "    </tr>\n",
              "    <tr>\n",
              "      <th>6</th>\n",
              "      <td>Bahrain</td>\n",
              "      <td>1771.859211</td>\n",
              "    </tr>\n",
              "    <tr>\n",
              "      <th>7</th>\n",
              "      <td>Maldives</td>\n",
              "      <td>1319.640940</td>\n",
              "    </tr>\n",
              "    <tr>\n",
              "      <th>8</th>\n",
              "      <td>Malta</td>\n",
              "      <td>1310.015823</td>\n",
              "    </tr>\n",
              "    <tr>\n",
              "      <th>9</th>\n",
              "      <td>Bermuda</td>\n",
              "      <td>1299.925926</td>\n",
              "    </tr>\n",
              "  </tbody>\n",
              "</table>\n",
              "</div>"
            ],
            "text/plain": [
              "      country       density\n",
              "0       Macau  21168.964286\n",
              "1      Monaco  15267.500000\n",
              "2   Singapore   8141.279770\n",
              "3   Hong Kong   6445.041516\n",
              "4  Gaza Strip   5191.819444\n",
              "5   Gibraltar   4876.333333\n",
              "6     Bahrain   1771.859211\n",
              "7    Maldives   1319.640940\n",
              "8       Malta   1310.015823\n",
              "9     Bermuda   1299.925926"
            ]
          },
          "metadata": {
            "tags": []
          },
          "execution_count": 62
        }
      ]
    },
    {
      "cell_type": "code",
      "metadata": {
        "id": "LrWCg9pAup8H",
        "outputId": "e60c85fa-bafd-4b4d-d7c9-a8145909bd1d",
        "colab": {
          "base_uri": "https://localhost:8080/",
          "height": 626
        }
      },
      "source": [
        "q11=''' SELECT population,\n",
        "               population_growth,\n",
        "               birth_rate,\n",
        "               death_rate \n",
        "          FROM facts\n",
        "          WHERE (\n",
        "            population != (SELECT MAX(population) \n",
        "                            FROM facts)\n",
        "          AND \n",
        "            population != (SELECT MIN(population) \n",
        "                              FROM facts)\n",
        "                );\n",
        "    '''\n",
        "\n",
        "pd.read_sql_query(q11,conn).hist(figsize=(10,10))\n",
        "plt.plot()"
      ],
      "execution_count": 71,
      "outputs": [
        {
          "output_type": "execute_result",
          "data": {
            "text/plain": [
              "[]"
            ]
          },
          "metadata": {
            "tags": []
          },
          "execution_count": 71
        },
        {
          "output_type": "display_data",
          "data": {
            "image/png": "[encoded data removed]",
            "text/plain": [
              "<Figure size 720x720 with 4 Axes>"
            ]
          },
          "metadata": {
            "tags": [],
            "needs_background": "light"
          }
        }
      ]
    },
    {
      "cell_type": "markdown",
      "metadata": {
        "id": "Vh7mX-lTwZqj"
      },
      "source": [
        "# References\n",
        "* https://www.dataquest.io/course/sql-joins-relations-de\n"
      ]
    }
  ]
}